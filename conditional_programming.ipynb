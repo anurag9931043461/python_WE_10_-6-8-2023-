{
 "cells": [
  {
   "cell_type": "markdown",
   "id": "e7f9812b-fda7-4c28-9b58-f8323149a8f6",
   "metadata": {},
   "source": [
    "# conditional programming:\n",
    "\n",
    "> if else\n",
    "\n",
    "> nested if else\n",
    "\n",
    "> if elif else\n",
    "\n",
    "> nested if elif else\n",
    "    \n",
    "> ternary operator"
   ]
  },
  {
   "cell_type": "code",
   "execution_count": 4,
   "id": "8d9047e9-64d2-4738-9ca7-1742052b27c5",
   "metadata": {},
   "outputs": [
    {
     "ename": "IndentationError",
     "evalue": "unexpected indent (2300667674.py, line 3)",
     "output_type": "error",
     "traceback": [
      "\u001b[1;36m  Cell \u001b[1;32mIn[4], line 3\u001b[1;36m\u001b[0m\n\u001b[1;33m    print(\"hello world\")\u001b[0m\n\u001b[1;37m    ^\u001b[0m\n\u001b[1;31mIndentationError\u001b[0m\u001b[1;31m:\u001b[0m unexpected indent\n"
     ]
    }
   ],
   "source": [
    "print(\"hello world\")\n",
    "print(\"hello world\")\n",
    "    print(\"hello world\")\n",
    "print(\"hello world\")\n",
    "print(\"hello world\")"
   ]
  },
  {
   "cell_type": "code",
   "execution_count": 2,
   "id": "97727e69-2ac2-40d7-9285-66a59a671411",
   "metadata": {},
   "outputs": [
    {
     "name": "stdin",
     "output_type": "stream",
     "text": [
      "Choose you path : goa\n"
     ]
    }
   ],
   "source": [
    "user=input(\"Choose you path :\")"
   ]
  },
  {
   "cell_type": "code",
   "execution_count": 3,
   "id": "bf982ae3-4f6d-461b-ac83-eeb2a07f2fa2",
   "metadata": {},
   "outputs": [
    {
     "name": "stdout",
     "output_type": "stream",
     "text": [
      "goa\n"
     ]
    }
   ],
   "source": [
    "print(user)"
   ]
  },
  {
   "cell_type": "code",
   "execution_count": 4,
   "id": "a411002c-dc44-40b2-908c-c271ad408cbe",
   "metadata": {},
   "outputs": [
    {
     "name": "stdout",
     "output_type": "stream",
     "text": [
      "I am going to goa\n",
      "I will buy a water bottle\n"
     ]
    }
   ],
   "source": [
    "if (user==\"goa\"):\n",
    "    print(\"I am going to goa\")\n",
    "    print(\"I will buy a water bottle\")\n"
   ]
  },
  {
   "cell_type": "code",
   "execution_count": 11,
   "id": "87dcc27f-b71a-4be6-8d8c-e1a6e8e8c500",
   "metadata": {},
   "outputs": [
    {
     "name": "stdout",
     "output_type": "stream",
     "text": [
      "I am going to goa\n",
      "I will buy a water bottle\n"
     ]
    }
   ],
   "source": [
    "if user==\"goa\":\n",
    "    print(\"I am going to goa\")\n",
    "    print(\"I will buy a water bottle\")\n",
    "else:\n",
    "    print(\"I am going back home\")"
   ]
  },
  {
   "cell_type": "code",
   "execution_count": 12,
   "id": "8dc6ef64-b2be-48ee-9eed-fff4046cc094",
   "metadata": {},
   "outputs": [
    {
     "name": "stdin",
     "output_type": "stream",
     "text": [
      "Choose you path : goa\n"
     ]
    },
    {
     "name": "stdout",
     "output_type": "stream",
     "text": [
      "I am going to goa\n",
      "I will buy a water bottle\n"
     ]
    }
   ],
   "source": [
    "user=input(\"Choose you path :\")\n",
    "if user==\"goa\":\n",
    "    print(\"I am going to goa\")\n",
    "    print(\"I will buy a water bottle\")\n",
    "else:\n",
    "    print(\"I am going back home\")"
   ]
  },
  {
   "cell_type": "code",
   "execution_count": 14,
   "id": "d417bda2-60be-47cc-884e-ea29d862d028",
   "metadata": {},
   "outputs": [
    {
     "name": "stdin",
     "output_type": "stream",
     "text": [
      "Choose you path : kailash\n"
     ]
    },
    {
     "name": "stdout",
     "output_type": "stream",
     "text": [
      "I am going back home\n",
      "Guys I am back now\n"
     ]
    }
   ],
   "source": [
    "user=input(\"Choose you path :\")\n",
    "if user==\"goa\":\n",
    "    print(\"I am going to goa\")\n",
    "    print(\"I will buy a water bottle\")\n",
    "else:\n",
    "    print(\"I am going back home\")\n",
    "print(\"Guys I am back now\")"
   ]
  },
  {
   "cell_type": "code",
   "execution_count": 15,
   "id": "c713e83d-b15e-4155-8bad-2a1e2e72461c",
   "metadata": {},
   "outputs": [
    {
     "name": "stdin",
     "output_type": "stream",
     "text": [
      "Choose you path : goa\n"
     ]
    },
    {
     "name": "stdout",
     "output_type": "stream",
     "text": [
      "I am going to goa\n",
      "I will buy a water bottle\n",
      "Guys I am back now\n"
     ]
    }
   ],
   "source": [
    "user=input(\"Choose you path :\")\n",
    "if user==\"goa\":\n",
    "    print(\"I am going to goa\")\n",
    "    print(\"I will buy a water bottle\")\n",
    "else:\n",
    "    print(\"I am going back home\")\n"
   ]
  },
  {
   "cell_type": "code",
   "execution_count": 16,
   "id": "68db459c-870d-49a0-86e0-d11c0bbee0e8",
   "metadata": {},
   "outputs": [
    {
     "ename": "SyntaxError",
     "evalue": "invalid syntax (1552771138.py, line 2)",
     "output_type": "error",
     "traceback": [
      "\u001b[1;36m  Cell \u001b[1;32mIn[16], line 2\u001b[1;36m\u001b[0m\n\u001b[1;33m    else:\u001b[0m\n\u001b[1;37m    ^\u001b[0m\n\u001b[1;31mSyntaxError\u001b[0m\u001b[1;31m:\u001b[0m invalid syntax\n"
     ]
    }
   ],
   "source": [
    "user=input(\"Choose you path :\")\n",
    "else:\n",
    "    print(\"I am going back home\")"
   ]
  },
  {
   "cell_type": "code",
   "execution_count": 17,
   "id": "47f69c6e-f189-49a1-9864-e4c41f4215bb",
   "metadata": {},
   "outputs": [
    {
     "name": "stdin",
     "output_type": "stream",
     "text": [
      "Choose you path : lkfshdfljashkdlfjhasjkfdhlkajs\n"
     ]
    },
    {
     "name": "stdout",
     "output_type": "stream",
     "text": [
      "I am going back home\n",
      "Guys I am back now\n"
     ]
    }
   ],
   "source": [
    "user=input(\"Choose you path :\")\n",
    "if user==\"goa\":\n",
    "    print(\"I am going to goa\")\n",
    "    print(\"I will buy a water bottle\")\n",
    "else:\n",
    "    print(\"I am going back home\")\n",
    "print(\"Guys I am back now\")"
   ]
  },
  {
   "cell_type": "code",
   "execution_count": 19,
   "id": "d5c033f8-b352-4162-b679-0dd2a32bc7d5",
   "metadata": {},
   "outputs": [
    {
     "name": "stdin",
     "output_type": "stream",
     "text": [
      "Choose you path : goa\n"
     ]
    },
    {
     "name": "stdout",
     "output_type": "stream",
     "text": [
      "I am going to goa\n",
      "I will buy a water bottle\n"
     ]
    }
   ],
   "source": [
    "user=input(\"Choose you path :\")\n",
    "if user==\"goa\":\n",
    "    print(\"I am going to goa\")\n",
    "    print(\"I will buy a water bottle\")\n",
    "else:\n",
    "    print(\"I am going back home\")\n",
    "    print(\"Guys I am back now\")"
   ]
  },
  {
   "cell_type": "markdown",
   "id": "29764599-268d-4ddd-8f0e-676805b16126",
   "metadata": {},
   "source": [
    "# nested if else"
   ]
  },
  {
   "cell_type": "code",
   "execution_count": 20,
   "id": "7d622648-6935-4a94-8502-94c4dcb86992",
   "metadata": {},
   "outputs": [
    {
     "name": "stdin",
     "output_type": "stream",
     "text": [
      "Enter a number: 10\n"
     ]
    },
    {
     "name": "stdout",
     "output_type": "stream",
     "text": [
      "Positive number\n"
     ]
    }
   ],
   "source": [
    "num1=eval(input(\"Enter a number:\"))\n",
    "if num1<0:\n",
    "    print(\"Negative number\")\n",
    "else:\n",
    "    print(\"Positive number\")"
   ]
  },
  {
   "cell_type": "code",
   "execution_count": 21,
   "id": "090b1b63-a721-4ad5-9f0b-c5360f14c92f",
   "metadata": {},
   "outputs": [
    {
     "name": "stdin",
     "output_type": "stream",
     "text": [
      "Enter a number: -10\n"
     ]
    },
    {
     "name": "stdout",
     "output_type": "stream",
     "text": [
      "Negative number\n"
     ]
    }
   ],
   "source": [
    "num1=eval(input(\"Enter a number:\"))\n",
    "if num1<0:\n",
    "    print(\"Negative number\")\n",
    "else:\n",
    "    print(\"Positive number\")"
   ]
  },
  {
   "cell_type": "code",
   "execution_count": 23,
   "id": "8f8957a7-0df1-4544-9b40-ae4756583346",
   "metadata": {},
   "outputs": [
    {
     "name": "stdin",
     "output_type": "stream",
     "text": [
      "Enter a number: -10\n"
     ]
    },
    {
     "name": "stdout",
     "output_type": "stream",
     "text": [
      "Negative number\n",
      "even number\n"
     ]
    }
   ],
   "source": [
    "num1=eval(input(\"Enter a number:\"))\n",
    "if num1<0:\n",
    "    print(\"Negative number\")\n",
    "    if num1%2==0:\n",
    "        print(\"even number\")\n",
    "    else:\n",
    "        print(\"odd number\")\n",
    "else:\n",
    "    print(\"Positive number\")"
   ]
  },
  {
   "cell_type": "code",
   "execution_count": 27,
   "id": "740f8a61-7fa2-4d43-9b16-c8a272534bf5",
   "metadata": {},
   "outputs": [
    {
     "name": "stdin",
     "output_type": "stream",
     "text": [
      "Enter a number: -10\n"
     ]
    },
    {
     "name": "stdout",
     "output_type": "stream",
     "text": [
      "-10 Negative number\n",
      "-10 even number\n"
     ]
    }
   ],
   "source": [
    "num1=eval(input(\"Enter a number:\"))\n",
    "if num1<0:\n",
    "    print(num1,\"Negative number\")\n",
    "    if num1%2==0:\n",
    "        print(num1,\"even number\")\n",
    "    else:\n",
    "        print(num1,\"odd number\")\n",
    "else:\n",
    "    print(num1,\"Positive number\")\n",
    "    if num1%2==0:\n",
    "        print(num1,\"even number\")\n",
    "    else:\n",
    "        print(num1,\"odd number\")"
   ]
  },
  {
   "cell_type": "markdown",
   "id": "f2e37e1b-b30c-41ad-8431-1ee747f5d3fc",
   "metadata": {},
   "source": [
    "# if elif else"
   ]
  },
  {
   "cell_type": "code",
   "execution_count": 28,
   "id": "a270eccc-b974-4b6e-adc9-b4e94693ca3f",
   "metadata": {},
   "outputs": [
    {
     "name": "stdin",
     "output_type": "stream",
     "text": [
      "Enter your option : A\n"
     ]
    },
    {
     "name": "stdout",
     "output_type": "stream",
     "text": [
      "you choose option A\n"
     ]
    }
   ],
   "source": [
    "option=input(\"Enter your option :\")\n",
    "if option==\"A\":\n",
    "    print(\"you choose option A\")\n",
    "elif option==\"B\":\n",
    "    print(\"you choose option B\")\n",
    "elif option==\"C\":\n",
    "    print(\"you choose option C\")\n",
    "elif option ==\"D\":\n",
    "    print(\"you choose optin D\")\n",
    "else:\n",
    "    print(\"Mai nahi batunga\")"
   ]
  },
  {
   "cell_type": "code",
   "execution_count": 29,
   "id": "091c830f-3b5d-4179-b185-bec279f280d7",
   "metadata": {},
   "outputs": [
    {
     "name": "stdin",
     "output_type": "stream",
     "text": [
      "Enter your option : B\n"
     ]
    },
    {
     "name": "stdout",
     "output_type": "stream",
     "text": [
      "you choose option B\n"
     ]
    }
   ],
   "source": [
    "option=input(\"Enter your option :\")\n",
    "if option==\"A\":\n",
    "    print(\"you choose option A\")\n",
    "elif option==\"B\":\n",
    "    print(\"you choose option B\")\n",
    "elif option==\"C\":\n",
    "    print(\"you choose option C\")\n",
    "elif option ==\"D\":\n",
    "    print(\"you choose optin D\")\n",
    "else:\n",
    "    print(\"Mai nahi batunga\")"
   ]
  },
  {
   "cell_type": "code",
   "execution_count": 30,
   "id": "31212032-89a9-4011-96ca-881e30e20447",
   "metadata": {},
   "outputs": [
    {
     "name": "stdin",
     "output_type": "stream",
     "text": [
      "Enter your option : C\n"
     ]
    },
    {
     "name": "stdout",
     "output_type": "stream",
     "text": [
      "you choose option C\n"
     ]
    }
   ],
   "source": [
    "option=input(\"Enter your option :\")\n",
    "if option==\"A\":\n",
    "    print(\"you choose option A\")\n",
    "elif option==\"B\":\n",
    "    print(\"you choose option B\")\n",
    "elif option==\"C\":\n",
    "    print(\"you choose option C\")\n",
    "elif option ==\"D\":\n",
    "    print(\"you choose optin D\")\n",
    "else:\n",
    "    print(\"Mai nahi batunga\")"
   ]
  },
  {
   "cell_type": "code",
   "execution_count": 31,
   "id": "43782939-2e1c-4856-b7fd-b2d43559f400",
   "metadata": {},
   "outputs": [
    {
     "name": "stdin",
     "output_type": "stream",
     "text": [
      "Enter your option : kjwerjlkaerwj/df;lkj\n"
     ]
    },
    {
     "name": "stdout",
     "output_type": "stream",
     "text": [
      "Mai nahi batunga\n"
     ]
    }
   ],
   "source": [
    "option=input(\"Enter your option :\")\n",
    "if option==\"A\":\n",
    "    print(\"you choose option A\")\n",
    "elif option==\"B\":\n",
    "    print(\"you choose option B\")\n",
    "elif option==\"C\":\n",
    "    print(\"you choose option C\")\n",
    "elif option ==\"D\":\n",
    "    print(\"you choose optin D\")\n",
    "else:\n",
    "    print(\"Mai nahi batunga\")"
   ]
  },
  {
   "cell_type": "code",
   "execution_count": 32,
   "id": "c1480d6a-8386-47a9-9fc3-6ed0108b5980",
   "metadata": {},
   "outputs": [
    {
     "name": "stdin",
     "output_type": "stream",
     "text": [
      "Enter your option : A\n"
     ]
    },
    {
     "name": "stdout",
     "output_type": "stream",
     "text": [
      "you choose option A\n"
     ]
    }
   ],
   "source": [
    "option=input(\"Enter your option :\")\n",
    "if option==\"A\":\n",
    "    print(\"you choose option A\")\n",
    "elif option==\"A\":\n",
    "    print(\"you choose option B\")\n",
    "elif option==\"C\":\n",
    "    print(\"you choose option C\")\n",
    "elif option ==\"D\":\n",
    "    print(\"you choose optin D\")\n",
    "else:\n",
    "    print(\"Mai nahi batunga\")"
   ]
  },
  {
   "cell_type": "code",
   "execution_count": 37,
   "id": "a9cf841f-c9b8-40da-bcbf-e7e2d0039943",
   "metadata": {},
   "outputs": [
    {
     "name": "stdin",
     "output_type": "stream",
     "text": [
      "Enter your age : 2000\n"
     ]
    },
    {
     "name": "stdout",
     "output_type": "stream",
     "text": [
      "I will give you Poison\n"
     ]
    }
   ],
   "source": [
    "age=int(input(\"Enter your age :\"))\n",
    "if age>0 and age<=18:\n",
    "    print(\"I will give you mobile\")\n",
    "elif age>18 and age<=35:\n",
    "    print(\"I will give you bike\")\n",
    "elif age>35 and age<=60:\n",
    "    print(\"Rishikesh trip\")\n",
    "elif age>60 and age<108:\n",
    "    print(\"I will give you pension\")\n",
    "else:\n",
    "    print(\"I will give you Poison\")"
   ]
  },
  {
   "cell_type": "code",
   "execution_count": 39,
   "id": "cd2802b1-d58f-4eae-a7e1-d24c1738244b",
   "metadata": {},
   "outputs": [
    {
     "name": "stdin",
     "output_type": "stream",
     "text": [
      "Enter your age : 17\n"
     ]
    },
    {
     "name": "stdout",
     "output_type": "stream",
     "text": [
      "I will give you KTM\n"
     ]
    }
   ],
   "source": [
    "age=int(input(\"Enter your age :\"))\n",
    "if age>0 and age<=18:\n",
    "    if age>0 and age<=5:\n",
    "        print(\"I will give you chocolate\")\n",
    "    elif age>5 and age<=15:\n",
    "        print(\"I will give you cycle\")\n",
    "    else:\n",
    "        print(\"I will give you KTM\")\n",
    "elif age>18 and age<=35:\n",
    "    print(\"I will give you bike\")\n",
    "elif age>35 and age<=60:\n",
    "    print(\"Rishikesh trip\")\n",
    "elif age>60 and age<108:\n",
    "    print(\"I will give you pension\")\n",
    "else:\n",
    "    print(\"I will give you Poison\")"
   ]
  },
  {
   "cell_type": "code",
   "execution_count": 41,
   "id": "caa38f89-a3ee-4c3e-9791-0f5f9d35faf5",
   "metadata": {},
   "outputs": [
    {
     "name": "stdin",
     "output_type": "stream",
     "text": [
      "Enter your age : 30\n"
     ]
    },
    {
     "name": "stdout",
     "output_type": "stream",
     "text": [
      "I will give you car\n"
     ]
    }
   ],
   "source": [
    "age=int(input(\"Enter your age :\"))\n",
    "if age>0 and age<=18:\n",
    "    if age>0 and age<=5:\n",
    "        print(\"I will give you chocolate\")\n",
    "    elif age>5 and age<=15:\n",
    "        print(\"I will give you cycle\")\n",
    "    else:\n",
    "        print(\"I will give you KTM\")\n",
    "elif age>18 and age<=35:\n",
    "    if age>18 and age<=25:\n",
    "        print(\"I will give you RE\")\n",
    "    else:\n",
    "        print(\"I will give you car\")\n",
    "elif age>35 and age<=60:\n",
    "    print(\"Rishikesh trip\")\n",
    "elif age>60 and age<108:\n",
    "    print(\"I will give you pension\")\n",
    "else:\n",
    "    print(\"I will give you Poison\")"
   ]
  },
  {
   "cell_type": "markdown",
   "id": "d9035ee1-40db-4a82-b82f-f40d606138f7",
   "metadata": {},
   "source": [
    "# ternary operator"
   ]
  },
  {
   "cell_type": "code",
   "execution_count": 42,
   "id": "eaa72350-3332-4ff7-a6d8-70ad4b6de015",
   "metadata": {},
   "outputs": [
    {
     "name": "stdin",
     "output_type": "stream",
     "text": [
      "Choose you path : goa\n"
     ]
    },
    {
     "name": "stdout",
     "output_type": "stream",
     "text": [
      "I am going to goa\n"
     ]
    }
   ],
   "source": [
    "user=input(\"Choose you path :\")\n",
    "if user==\"goa\":\n",
    "    print(\"I am going to goa\")\n",
    "else:\n",
    "    print(\"I am going back home\")"
   ]
  },
  {
   "cell_type": "code",
   "execution_count": 44,
   "id": "72c0e953-db9e-4a93-855e-686a17827039",
   "metadata": {},
   "outputs": [
    {
     "name": "stdin",
     "output_type": "stream",
     "text": [
      "Choose you path : goa\n"
     ]
    },
    {
     "name": "stdout",
     "output_type": "stream",
     "text": [
      "I am going to goa\n"
     ]
    }
   ],
   "source": [
    "user=input(\"Choose you path :\")\n",
    "print(\"I am going to goa\") if user==\"goa\" else print(\"I am going back home\")"
   ]
  },
  {
   "cell_type": "code",
   "execution_count": 45,
   "id": "411bb416-1ecf-4b25-afdb-5f582e641844",
   "metadata": {},
   "outputs": [
    {
     "name": "stdin",
     "output_type": "stream",
     "text": [
      "Choose you path : jndfojhskjdfhkljsdhf\n"
     ]
    },
    {
     "name": "stdout",
     "output_type": "stream",
     "text": [
      "I am going back home\n"
     ]
    }
   ],
   "source": [
    "user=input(\"Choose you path :\")\n",
    "print(\"I am going to goa\") if user==\"goa\" else print(\"I am going back home\")"
   ]
  },
  {
   "cell_type": "code",
   "execution_count": null,
   "id": "e85e0e2d-91b0-4567-88cc-409b588b1253",
   "metadata": {},
   "outputs": [],
   "source": [
    "num1=eval(input(\"Enter a number:\"))\n",
    "if num1<0:\n",
    "    if num1%2==0:\n",
    "        print(\"even number\")\n",
    "    else:\n",
    "        print(\"odd number\")\n",
    "else:\n",
    "    print(\"Positive number\")"
   ]
  },
  {
   "cell_type": "code",
   "execution_count": 48,
   "id": "28c06af5-f73e-4747-864a-d8f0738a8c1c",
   "metadata": {},
   "outputs": [
    {
     "name": "stdin",
     "output_type": "stream",
     "text": [
      "Enter a number: 20\n"
     ]
    },
    {
     "name": "stdout",
     "output_type": "stream",
     "text": [
      "Positive number\n"
     ]
    }
   ],
   "source": [
    "num1=eval(input(\"Enter a number:\"))\n",
    "(print(\"even number\") if num1<0 else print(\"odd number\")) if num1<0 else print(\"Positive number\")"
   ]
  },
  {
   "cell_type": "code",
   "execution_count": 50,
   "id": "349c4cc6-5503-4012-907a-dfa595eb9d6f",
   "metadata": {},
   "outputs": [
    {
     "name": "stdin",
     "output_type": "stream",
     "text": [
      "Enter a number: -11\n"
     ]
    },
    {
     "name": "stdout",
     "output_type": "stream",
     "text": [
      "odd number\n"
     ]
    }
   ],
   "source": [
    "num1=eval(input(\"Enter a number:\"))\n",
    "(print(\"even number\") if num1%2==0 else print(\"odd number\")) if num1<0 else print(\"Positive number\")"
   ]
  },
  {
   "cell_type": "code",
   "execution_count": null,
   "id": "f0c7b288-d8b3-427d-8c89-b62a1f09011f",
   "metadata": {},
   "outputs": [],
   "source": []
  }
 ],
 "metadata": {
  "kernelspec": {
   "display_name": "Python 3 (ipykernel)",
   "language": "python",
   "name": "python3"
  },
  "language_info": {
   "codemirror_mode": {
    "name": "ipython",
    "version": 3
   },
   "file_extension": ".py",
   "mimetype": "text/x-python",
   "name": "python",
   "nbconvert_exporter": "python",
   "pygments_lexer": "ipython3",
   "version": "3.11.5"
  }
 },
 "nbformat": 4,
 "nbformat_minor": 5
}
