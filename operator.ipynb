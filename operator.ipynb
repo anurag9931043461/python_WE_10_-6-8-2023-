{
 "cells": [
  {
   "cell_type": "markdown",
   "id": "3f2d5ed1-3bbc-44f6-a779-df68b985a14b",
   "metadata": {},
   "source": [
    "# Operators\n",
    "\n",
    "> Arithmetic operator  : +,-,/,//,%, * ,* *\n",
    "\n",
    "> Assignment operator  : =, +=,-=,/=,//=,*=,**=\n",
    "\n",
    "> comparision operator : >,<,>=,<=,==, !=\n",
    "\n",
    "> Logical operator : and, or , not\n",
    "\n",
    "> Identity operator : is , is not \n",
    "\n",
    "> membership operator : in , not in \n",
    "\n",
    "> Bitwise operator : ~,&,|,>>,<<"
   ]
  },
  {
   "cell_type": "markdown",
   "id": "38c8235d-1ffa-4304-85be-55e74f5d0faf",
   "metadata": {},
   "source": [
    "# Arithmetic operator"
   ]
  },
  {
   "cell_type": "code",
   "execution_count": 2,
   "id": "1088351a-5776-4ef3-8f9e-816ee89fedb3",
   "metadata": {},
   "outputs": [
    {
     "name": "stdout",
     "output_type": "stream",
     "text": [
      "30\n"
     ]
    }
   ],
   "source": [
    "a=10\n",
    "b=20\n",
    "print(a+b)"
   ]
  },
  {
   "cell_type": "code",
   "execution_count": 3,
   "id": "dfa4521e-0cc3-4031-9df8-3fa8ffa6e240",
   "metadata": {},
   "outputs": [
    {
     "name": "stdout",
     "output_type": "stream",
     "text": [
      "-10\n"
     ]
    }
   ],
   "source": [
    "print(a-b)"
   ]
  },
  {
   "cell_type": "code",
   "execution_count": 4,
   "id": "dc7fbb93-0e0e-4b7d-b853-a59eca35d7dd",
   "metadata": {},
   "outputs": [
    {
     "name": "stdout",
     "output_type": "stream",
     "text": [
      "200\n"
     ]
    }
   ],
   "source": [
    "print(a*b)"
   ]
  },
  {
   "cell_type": "code",
   "execution_count": 5,
   "id": "66dc95df-0068-4459-9c50-7538e47d00bf",
   "metadata": {},
   "outputs": [
    {
     "name": "stdout",
     "output_type": "stream",
     "text": [
      "100000000000000000000\n"
     ]
    }
   ],
   "source": [
    "print(a**b)"
   ]
  },
  {
   "cell_type": "code",
   "execution_count": 6,
   "id": "81e01c5a-157f-4eee-a778-9c4c45150917",
   "metadata": {},
   "outputs": [
    {
     "name": "stdout",
     "output_type": "stream",
     "text": [
      "0.5\n"
     ]
    }
   ],
   "source": [
    "print(a/b)"
   ]
  },
  {
   "cell_type": "code",
   "execution_count": 7,
   "id": "f3cbf60c-cc1f-4b6d-bb47-729daf801f08",
   "metadata": {},
   "outputs": [
    {
     "data": {
      "text/plain": [
       "3.3333333333333335"
      ]
     },
     "execution_count": 7,
     "metadata": {},
     "output_type": "execute_result"
    }
   ],
   "source": [
    "10/3"
   ]
  },
  {
   "cell_type": "code",
   "execution_count": 12,
   "id": "674b9895-34ad-4d04-973a-a97325d8b773",
   "metadata": {},
   "outputs": [
    {
     "data": {
      "text/plain": [
       "3.0"
      ]
     },
     "execution_count": 12,
     "metadata": {},
     "output_type": "execute_result"
    }
   ],
   "source": [
    "10//3.0"
   ]
  },
  {
   "cell_type": "code",
   "execution_count": 10,
   "id": "9fdd4d94-1ec1-4881-8c87-d14cdffbd0b3",
   "metadata": {},
   "outputs": [
    {
     "data": {
      "text/plain": [
       "2"
      ]
     },
     "execution_count": 10,
     "metadata": {},
     "output_type": "execute_result"
    }
   ],
   "source": [
    "int(20/10)"
   ]
  },
  {
   "cell_type": "code",
   "execution_count": 13,
   "id": "0dfa5ebc-da38-415f-98fb-b514a68fce2d",
   "metadata": {},
   "outputs": [
    {
     "data": {
      "text/plain": [
       "1"
      ]
     },
     "execution_count": 13,
     "metadata": {},
     "output_type": "execute_result"
    }
   ],
   "source": [
    "10%3"
   ]
  },
  {
   "cell_type": "code",
   "execution_count": 14,
   "id": "c40a3975-6e77-49c8-b352-0d77f8af544e",
   "metadata": {},
   "outputs": [
    {
     "data": {
      "text/plain": [
       "0"
      ]
     },
     "execution_count": 14,
     "metadata": {},
     "output_type": "execute_result"
    }
   ],
   "source": [
    "10%2"
   ]
  },
  {
   "cell_type": "code",
   "execution_count": 15,
   "id": "d44a6c73-b796-4cca-8d3b-6c998e9bfcd1",
   "metadata": {},
   "outputs": [
    {
     "data": {
      "text/plain": [
       "1"
      ]
     },
     "execution_count": 15,
     "metadata": {},
     "output_type": "execute_result"
    }
   ],
   "source": [
    "3%2"
   ]
  },
  {
   "cell_type": "markdown",
   "id": "68d67c5e-b3a4-4d77-8d42-d495bf346fca",
   "metadata": {},
   "source": [
    "# Assignment operator : =, +=,-=,/=,//=,*=,**=,%="
   ]
  },
  {
   "cell_type": "code",
   "execution_count": 16,
   "id": "24872707-9d97-401d-80b4-c87bc60db801",
   "metadata": {},
   "outputs": [],
   "source": [
    "deepak=10"
   ]
  },
  {
   "cell_type": "code",
   "execution_count": 25,
   "id": "f1bc5a4c-040c-4ab9-9016-0833458fb24e",
   "metadata": {},
   "outputs": [],
   "source": [
    "deepak+=1   #deepak=deepak+1"
   ]
  },
  {
   "cell_type": "code",
   "execution_count": 26,
   "id": "634f86a6-e536-4021-9fad-8892d4f0de54",
   "metadata": {},
   "outputs": [
    {
     "name": "stdout",
     "output_type": "stream",
     "text": [
      "15\n"
     ]
    }
   ],
   "source": [
    "print(deepak)"
   ]
  },
  {
   "cell_type": "code",
   "execution_count": 27,
   "id": "520d56c5-a8d6-4f44-be1b-328ce30bbc08",
   "metadata": {},
   "outputs": [],
   "source": [
    "d=15"
   ]
  },
  {
   "cell_type": "code",
   "execution_count": 28,
   "id": "25eeaa3c-595a-4947-a0c1-dd3336ad4b4d",
   "metadata": {},
   "outputs": [
    {
     "name": "stdout",
     "output_type": "stream",
     "text": [
      "15\n"
     ]
    }
   ],
   "source": [
    "print(d)"
   ]
  },
  {
   "cell_type": "code",
   "execution_count": 29,
   "id": "bae8e2ec-07ed-4ea2-a793-f7499d8488d5",
   "metadata": {},
   "outputs": [],
   "source": [
    "d-=5            #d=d-5"
   ]
  },
  {
   "cell_type": "code",
   "execution_count": 30,
   "id": "a1cbb935-6a2c-4cda-94d5-8f6b0f9d9b70",
   "metadata": {},
   "outputs": [
    {
     "name": "stdout",
     "output_type": "stream",
     "text": [
      "10\n"
     ]
    }
   ],
   "source": [
    "print(d)"
   ]
  },
  {
   "cell_type": "code",
   "execution_count": 31,
   "id": "457185b5-164c-4cbd-9755-058c79b33b10",
   "metadata": {},
   "outputs": [
    {
     "name": "stdout",
     "output_type": "stream",
     "text": [
      "30\n"
     ]
    }
   ],
   "source": [
    "d=d*3\n",
    "print(d)"
   ]
  },
  {
   "cell_type": "code",
   "execution_count": 32,
   "id": "85910921-061e-4059-84ab-9fa72bbf6674",
   "metadata": {},
   "outputs": [],
   "source": [
    "d*=3"
   ]
  },
  {
   "cell_type": "code",
   "execution_count": 33,
   "id": "f6681af9-fe2d-45a5-98b7-1d0a076a3143",
   "metadata": {},
   "outputs": [
    {
     "name": "stdout",
     "output_type": "stream",
     "text": [
      "90\n"
     ]
    }
   ],
   "source": [
    "print(d)"
   ]
  },
  {
   "cell_type": "code",
   "execution_count": 34,
   "id": "4c0576d8-7056-436b-af72-b8edeef7090a",
   "metadata": {},
   "outputs": [],
   "source": [
    "d/=9    # d=d/9"
   ]
  },
  {
   "cell_type": "code",
   "execution_count": 35,
   "id": "57e55bc8-e40a-4c98-929c-d9fb013ae70d",
   "metadata": {},
   "outputs": [
    {
     "name": "stdout",
     "output_type": "stream",
     "text": [
      "10.0\n"
     ]
    }
   ],
   "source": [
    "print(d)"
   ]
  },
  {
   "cell_type": "code",
   "execution_count": 36,
   "id": "81ea3b0c-9cc4-4e7a-9d2f-cf462aacde21",
   "metadata": {},
   "outputs": [],
   "source": [
    "d//=3        #d=d//3"
   ]
  },
  {
   "cell_type": "code",
   "execution_count": 37,
   "id": "03207919-c504-423d-9ae4-1d6211989abe",
   "metadata": {},
   "outputs": [
    {
     "name": "stdout",
     "output_type": "stream",
     "text": [
      "3.0\n"
     ]
    }
   ],
   "source": [
    "print(d)"
   ]
  },
  {
   "cell_type": "code",
   "execution_count": 38,
   "id": "a9cfba48-24fe-421c-97e1-d97b3126774d",
   "metadata": {},
   "outputs": [],
   "source": [
    "d%=2        #d=d%2"
   ]
  },
  {
   "cell_type": "code",
   "execution_count": 39,
   "id": "680c6a11-ffd0-4e8a-991b-ceb34e36f828",
   "metadata": {},
   "outputs": [
    {
     "name": "stdout",
     "output_type": "stream",
     "text": [
      "1.0\n"
     ]
    }
   ],
   "source": [
    "print(d)"
   ]
  },
  {
   "cell_type": "code",
   "execution_count": 40,
   "id": "1322196b-5cba-491e-9747-cd50c6c44b05",
   "metadata": {},
   "outputs": [
    {
     "data": {
      "text/plain": [
       "1"
      ]
     },
     "execution_count": 40,
     "metadata": {},
     "output_type": "execute_result"
    }
   ],
   "source": [
    "1**2"
   ]
  },
  {
   "cell_type": "code",
   "execution_count": 41,
   "id": "21a0c9ae-be41-44ad-8054-48d3920b4a0f",
   "metadata": {},
   "outputs": [
    {
     "data": {
      "text/plain": [
       "1"
      ]
     },
     "execution_count": 41,
     "metadata": {},
     "output_type": "execute_result"
    }
   ],
   "source": [
    "1**1999999999999999999999999999999999999999999999999999999999"
   ]
  },
  {
   "cell_type": "code",
   "execution_count": 42,
   "id": "29356d2b-a14d-45d6-9f7c-d0bb66be2628",
   "metadata": {},
   "outputs": [
    {
     "data": {
      "text/plain": [
       "1.0"
      ]
     },
     "execution_count": 42,
     "metadata": {},
     "output_type": "execute_result"
    }
   ],
   "source": [
    "d"
   ]
  },
  {
   "cell_type": "code",
   "execution_count": 44,
   "id": "b20d1d3d-192e-43e2-9e1c-9c614e00f430",
   "metadata": {},
   "outputs": [
    {
     "name": "stdout",
     "output_type": "stream",
     "text": [
      "1.0\n"
     ]
    }
   ],
   "source": [
    "d**=2           #d=d**2\n",
    "print(d)"
   ]
  },
  {
   "cell_type": "markdown",
   "id": "29a2b941-aaff-4c84-b2be-bd8efb037e71",
   "metadata": {},
   "source": [
    "# comparision operator : >,<,>=,<=,==, !="
   ]
  },
  {
   "cell_type": "code",
   "execution_count": 45,
   "id": "e979641b-4b2c-4f36-829a-b3998923f56e",
   "metadata": {},
   "outputs": [
    {
     "data": {
      "text/plain": [
       "False"
      ]
     },
     "execution_count": 45,
     "metadata": {},
     "output_type": "execute_result"
    }
   ],
   "source": [
    "10>10"
   ]
  },
  {
   "cell_type": "code",
   "execution_count": 46,
   "id": "59938f3d-81a8-4e17-a599-2422309f709f",
   "metadata": {},
   "outputs": [
    {
     "data": {
      "text/plain": [
       "False"
      ]
     },
     "execution_count": 46,
     "metadata": {},
     "output_type": "execute_result"
    }
   ],
   "source": [
    "10<10"
   ]
  },
  {
   "cell_type": "code",
   "execution_count": 47,
   "id": "b6ecdc21-30cc-43c5-a16c-62d7397bba73",
   "metadata": {},
   "outputs": [
    {
     "data": {
      "text/plain": [
       "True"
      ]
     },
     "execution_count": 47,
     "metadata": {},
     "output_type": "execute_result"
    }
   ],
   "source": [
    "10==10"
   ]
  },
  {
   "cell_type": "code",
   "execution_count": 48,
   "id": "87d46562-dc3d-4d44-b97e-74df4098d09e",
   "metadata": {},
   "outputs": [
    {
     "data": {
      "text/plain": [
       "True"
      ]
     },
     "execution_count": 48,
     "metadata": {},
     "output_type": "execute_result"
    }
   ],
   "source": [
    "10>=10"
   ]
  },
  {
   "cell_type": "code",
   "execution_count": 49,
   "id": "6b0e2d14-45e6-480b-937a-837b935582e1",
   "metadata": {},
   "outputs": [
    {
     "data": {
      "text/plain": [
       "True"
      ]
     },
     "execution_count": 49,
     "metadata": {},
     "output_type": "execute_result"
    }
   ],
   "source": [
    "10<=10"
   ]
  },
  {
   "cell_type": "code",
   "execution_count": 50,
   "id": "db2fcfe5-a2f8-4277-ad92-746dd10e71ff",
   "metadata": {},
   "outputs": [
    {
     "data": {
      "text/plain": [
       "False"
      ]
     },
     "execution_count": 50,
     "metadata": {},
     "output_type": "execute_result"
    }
   ],
   "source": [
    "10!=10"
   ]
  },
  {
   "cell_type": "code",
   "execution_count": 51,
   "id": "63bead06-203e-4491-a65b-f2ef60e3e35b",
   "metadata": {},
   "outputs": [],
   "source": [
    "# Logical operator : and, or , not"
   ]
  },
  {
   "cell_type": "code",
   "execution_count": 52,
   "id": "19886e39-cdea-49ea-be95-b8d8d0e59012",
   "metadata": {},
   "outputs": [
    {
     "data": {
      "text/plain": [
       "True"
      ]
     },
     "execution_count": 52,
     "metadata": {},
     "output_type": "execute_result"
    }
   ],
   "source": [
    "10==10"
   ]
  },
  {
   "cell_type": "code",
   "execution_count": 53,
   "id": "82344c07-6384-4d9c-88ad-ffa0e4b6f9c5",
   "metadata": {},
   "outputs": [
    {
     "data": {
      "text/plain": [
       "False"
      ]
     },
     "execution_count": 53,
     "metadata": {},
     "output_type": "execute_result"
    }
   ],
   "source": [
    "20==19"
   ]
  },
  {
   "cell_type": "code",
   "execution_count": 58,
   "id": "2cc08dbd-2a7c-4e0f-8891-d70ad0ae541a",
   "metadata": {},
   "outputs": [
    {
     "data": {
      "text/plain": [
       "False"
      ]
     },
     "execution_count": 58,
     "metadata": {},
     "output_type": "execute_result"
    }
   ],
   "source": [
    "10!=10 and 20!=20"
   ]
  },
  {
   "cell_type": "code",
   "execution_count": 60,
   "id": "332526c5-52a4-403a-ac9e-9b2ec897348b",
   "metadata": {},
   "outputs": [
    {
     "data": {
      "text/plain": [
       "True"
      ]
     },
     "execution_count": 60,
     "metadata": {},
     "output_type": "execute_result"
    }
   ],
   "source": [
    "10==10 and 20==20 and 30==30 and True== True"
   ]
  },
  {
   "cell_type": "code",
   "execution_count": 61,
   "id": "2f6937f9-0f2c-4541-bf96-16e6c0eff143",
   "metadata": {},
   "outputs": [
    {
     "data": {
      "text/plain": [
       "False"
      ]
     },
     "execution_count": 61,
     "metadata": {},
     "output_type": "execute_result"
    }
   ],
   "source": [
    "10==10 and 20==20 and 30==30 and True!= True"
   ]
  },
  {
   "cell_type": "code",
   "execution_count": 66,
   "id": "3c93778c-b44e-42d4-908a-45055d005a53",
   "metadata": {},
   "outputs": [
    {
     "data": {
      "text/plain": [
       "False"
      ]
     },
     "execution_count": 66,
     "metadata": {},
     "output_type": "execute_result"
    }
   ],
   "source": [
    "10!=10 or 20!=20 or 30!=30 or True!= True"
   ]
  },
  {
   "cell_type": "code",
   "execution_count": 67,
   "id": "5026c57a-1813-4bc8-b9a2-ab1ca8f06992",
   "metadata": {},
   "outputs": [
    {
     "data": {
      "text/plain": [
       "False"
      ]
     },
     "execution_count": 67,
     "metadata": {},
     "output_type": "execute_result"
    }
   ],
   "source": [
    "10==10 and 20!=20 or 30==30 and True!= True"
   ]
  },
  {
   "cell_type": "code",
   "execution_count": null,
   "id": "efa9ece1-3289-40c4-a480-2c590880e46a",
   "metadata": {},
   "outputs": [],
   "source": [
    "10==10 and 20!=20 or 30==30 and True!= True"
   ]
  },
  {
   "cell_type": "code",
   "execution_count": 69,
   "id": "3519b8a2-5ad1-4650-af18-669776e0eb6f",
   "metadata": {},
   "outputs": [
    {
     "data": {
      "text/plain": [
       "True"
      ]
     },
     "execution_count": 69,
     "metadata": {},
     "output_type": "execute_result"
    }
   ],
   "source": [
    "not True!= True"
   ]
  },
  {
   "cell_type": "code",
   "execution_count": 70,
   "id": "118cc495-6c90-47d0-b7fe-5512c1601eb1",
   "metadata": {},
   "outputs": [
    {
     "data": {
      "text/plain": [
       "True"
      ]
     },
     "execution_count": 70,
     "metadata": {},
     "output_type": "execute_result"
    }
   ],
   "source": [
    "not (10==10 and 20!=20 or 30==30 and True!= True)"
   ]
  },
  {
   "cell_type": "code",
   "execution_count": 71,
   "id": "c5cfc229-4b35-45ef-8861-29ef32e2e6b3",
   "metadata": {},
   "outputs": [
    {
     "data": {
      "text/plain": [
       "True"
      ]
     },
     "execution_count": 71,
     "metadata": {},
     "output_type": "execute_result"
    }
   ],
   "source": [
    "10==10 and 20!=20 or 30==30 and not True!= True"
   ]
  },
  {
   "cell_type": "code",
   "execution_count": 72,
   "id": "beae224c-f2cd-48c3-b7c2-76ff9ee8b6fd",
   "metadata": {},
   "outputs": [],
   "source": [
    "# Identity operator : is , is not"
   ]
  },
  {
   "cell_type": "code",
   "execution_count": 73,
   "id": "d83a32b9-efeb-4af7-a089-cadb1ccf358c",
   "metadata": {},
   "outputs": [
    {
     "name": "stderr",
     "output_type": "stream",
     "text": [
      "<>:1: SyntaxWarning: \"is\" with a literal. Did you mean \"==\"?\n",
      "<>:1: SyntaxWarning: \"is\" with a literal. Did you mean \"==\"?\n",
      "C:\\Users\\Ducat\\AppData\\Local\\Temp\\ipykernel_13544\\3938569512.py:1: SyntaxWarning: \"is\" with a literal. Did you mean \"==\"?\n",
      "  10 is 10\n"
     ]
    },
    {
     "data": {
      "text/plain": [
       "True"
      ]
     },
     "execution_count": 73,
     "metadata": {},
     "output_type": "execute_result"
    }
   ],
   "source": [
    "10 is 10"
   ]
  },
  {
   "cell_type": "code",
   "execution_count": 74,
   "id": "dc42d62d-a97a-4938-b09e-70e200f6aa5d",
   "metadata": {},
   "outputs": [
    {
     "data": {
      "text/plain": [
       "True"
      ]
     },
     "execution_count": 74,
     "metadata": {},
     "output_type": "execute_result"
    }
   ],
   "source": [
    "10==10"
   ]
  },
  {
   "cell_type": "code",
   "execution_count": 75,
   "id": "a7f7bef3-0fec-44ec-8a29-e8dbe7f73d6e",
   "metadata": {},
   "outputs": [
    {
     "name": "stderr",
     "output_type": "stream",
     "text": [
      "<>:1: SyntaxWarning: \"is not\" with a literal. Did you mean \"!=\"?\n",
      "<>:1: SyntaxWarning: \"is not\" with a literal. Did you mean \"!=\"?\n",
      "C:\\Users\\Ducat\\AppData\\Local\\Temp\\ipykernel_13544\\3919734364.py:1: SyntaxWarning: \"is not\" with a literal. Did you mean \"!=\"?\n",
      "  10 is not 10\n"
     ]
    },
    {
     "data": {
      "text/plain": [
       "False"
      ]
     },
     "execution_count": 75,
     "metadata": {},
     "output_type": "execute_result"
    }
   ],
   "source": [
    "10 is not 10"
   ]
  },
  {
   "cell_type": "code",
   "execution_count": 76,
   "id": "29afbc45-ccbd-4a73-901e-2f5cc0febcec",
   "metadata": {},
   "outputs": [
    {
     "data": {
      "text/plain": [
       "False"
      ]
     },
     "execution_count": 76,
     "metadata": {},
     "output_type": "execute_result"
    }
   ],
   "source": [
    "10!=10"
   ]
  },
  {
   "cell_type": "code",
   "execution_count": 77,
   "id": "1707a4e1-cd93-40dd-9bd2-9e2509f1f97d",
   "metadata": {},
   "outputs": [],
   "source": [
    "# Membership operator in , not in"
   ]
  },
  {
   "cell_type": "code",
   "execution_count": 79,
   "id": "c9ca4323-7d91-42aa-82d3-1ac56215a842",
   "metadata": {},
   "outputs": [
    {
     "data": {
      "text/plain": [
       "False"
      ]
     },
     "execution_count": 79,
     "metadata": {},
     "output_type": "execute_result"
    }
   ],
   "source": [
    "\"Python\" in \"python is funny language\""
   ]
  },
  {
   "cell_type": "code",
   "execution_count": 81,
   "id": "6b56188e-6be0-4b49-86ca-e3652508c171",
   "metadata": {},
   "outputs": [
    {
     "data": {
      "text/plain": [
       "True"
      ]
     },
     "execution_count": 81,
     "metadata": {},
     "output_type": "execute_result"
    }
   ],
   "source": [
    "\"Python\" not in  \"python is funny language\""
   ]
  },
  {
   "cell_type": "code",
   "execution_count": 83,
   "id": "addb470d-958a-434e-bfe3-4733d7701fc1",
   "metadata": {},
   "outputs": [
    {
     "data": {
      "text/plain": [
       "True"
      ]
     },
     "execution_count": 83,
     "metadata": {},
     "output_type": "execute_result"
    }
   ],
   "source": [
    "1 in [1,2,3,4,5,6,7]"
   ]
  },
  {
   "cell_type": "code",
   "execution_count": 84,
   "id": "e925e4f2-70bc-45ba-a15e-29977f5cd823",
   "metadata": {},
   "outputs": [
    {
     "data": {
      "text/plain": [
       "False"
      ]
     },
     "execution_count": 84,
     "metadata": {},
     "output_type": "execute_result"
    }
   ],
   "source": [
    "1 in [\"1\",2,3,4,5,6,7]"
   ]
  },
  {
   "cell_type": "code",
   "execution_count": 85,
   "id": "20691cd0-504f-4732-b446-45fed3cd81b8",
   "metadata": {},
   "outputs": [
    {
     "data": {
      "text/plain": [
       "False"
      ]
     },
     "execution_count": 85,
     "metadata": {},
     "output_type": "execute_result"
    }
   ],
   "source": [
    "\"yash\" in (\"Deepak\",\"Sid\",\"Yash\")"
   ]
  },
  {
   "cell_type": "code",
   "execution_count": 87,
   "id": "3409ab22-b6d8-43c3-8033-65c55dfa43b6",
   "metadata": {},
   "outputs": [
    {
     "data": {
      "text/plain": [
       "True"
      ]
     },
     "execution_count": 87,
     "metadata": {},
     "output_type": "execute_result"
    }
   ],
   "source": [
    "\"yash\" in (\"Deepak\",\"Sid\",\"Yash\".lower())"
   ]
  },
  {
   "cell_type": "code",
   "execution_count": 88,
   "id": "ad0e3ba2-9a6c-401f-b787-cc3e1982ef99",
   "metadata": {},
   "outputs": [],
   "source": [
    "# Bitwise operator : ~,&,|,>>,<<"
   ]
  },
  {
   "cell_type": "code",
   "execution_count": 89,
   "id": "160945d4-d2ad-474f-9f16-5d71d6e523c7",
   "metadata": {},
   "outputs": [
    {
     "data": {
      "text/plain": [
       "'0b1010'"
      ]
     },
     "execution_count": 89,
     "metadata": {},
     "output_type": "execute_result"
    }
   ],
   "source": [
    "bin(10)"
   ]
  },
  {
   "cell_type": "code",
   "execution_count": 90,
   "id": "27882bed-b168-4a3f-8515-ce77deafa095",
   "metadata": {},
   "outputs": [
    {
     "data": {
      "text/plain": [
       "'0b1011'"
      ]
     },
     "execution_count": 90,
     "metadata": {},
     "output_type": "execute_result"
    }
   ],
   "source": [
    "bin(11)"
   ]
  },
  {
   "cell_type": "code",
   "execution_count": 91,
   "id": "d5efecd9-e4de-4541-b228-3f4aef9a297b",
   "metadata": {},
   "outputs": [
    {
     "data": {
      "text/plain": [
       "'-0b1011'"
      ]
     },
     "execution_count": 91,
     "metadata": {},
     "output_type": "execute_result"
    }
   ],
   "source": [
    "bin(-11)"
   ]
  },
  {
   "cell_type": "code",
   "execution_count": 92,
   "id": "8c1359d6-1cba-485f-913e-88c1b1cf80ce",
   "metadata": {},
   "outputs": [
    {
     "data": {
      "text/plain": [
       "-11"
      ]
     },
     "execution_count": 92,
     "metadata": {},
     "output_type": "execute_result"
    }
   ],
   "source": [
    "~10"
   ]
  },
  {
   "cell_type": "code",
   "execution_count": 93,
   "id": "c96322ce-fc20-439a-bd45-deb3601138af",
   "metadata": {},
   "outputs": [
    {
     "data": {
      "text/plain": [
       "10"
      ]
     },
     "execution_count": 93,
     "metadata": {},
     "output_type": "execute_result"
    }
   ],
   "source": [
    "10 &11"
   ]
  },
  {
   "cell_type": "code",
   "execution_count": 94,
   "id": "c41b5c37-68c2-4fae-b78d-e3e40c969210",
   "metadata": {},
   "outputs": [
    {
     "data": {
      "text/plain": [
       "11"
      ]
     },
     "execution_count": 94,
     "metadata": {},
     "output_type": "execute_result"
    }
   ],
   "source": [
    "10 | 11"
   ]
  },
  {
   "cell_type": "code",
   "execution_count": 95,
   "id": "10218965-05c2-4e3d-a346-e09e365f5076",
   "metadata": {},
   "outputs": [
    {
     "data": {
      "text/plain": [
       "2"
      ]
     },
     "execution_count": 95,
     "metadata": {},
     "output_type": "execute_result"
    }
   ],
   "source": [
    "10>>2"
   ]
  },
  {
   "cell_type": "code",
   "execution_count": 96,
   "id": "56999e72-24f8-4ee2-ba2e-5d385f7591d7",
   "metadata": {},
   "outputs": [
    {
     "data": {
      "text/plain": [
       "40"
      ]
     },
     "execution_count": 96,
     "metadata": {},
     "output_type": "execute_result"
    }
   ],
   "source": [
    "10<<2"
   ]
  },
  {
   "cell_type": "code",
   "execution_count": null,
   "id": "8574c8a4-a35a-4214-8f19-6e211a2c896a",
   "metadata": {},
   "outputs": [],
   "source": []
  }
 ],
 "metadata": {
  "kernelspec": {
   "display_name": "Python 3 (ipykernel)",
   "language": "python",
   "name": "python3"
  },
  "language_info": {
   "codemirror_mode": {
    "name": "ipython",
    "version": 3
   },
   "file_extension": ".py",
   "mimetype": "text/x-python",
   "name": "python",
   "nbconvert_exporter": "python",
   "pygments_lexer": "ipython3",
   "version": "3.11.4"
  }
 },
 "nbformat": 4,
 "nbformat_minor": 5
}
