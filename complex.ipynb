{
 "cells": [
  {
   "cell_type": "markdown",
   "id": "641b747b-4aac-4d7b-b286-7e7c65c6ba02",
   "metadata": {},
   "source": [
    "# complex \n",
    "\n",
    "> complex constructor is complex()\n",
    "\n",
    "> complex literal is 0j.\n",
    "\n",
    "> it depends on expression (a+bi), where i is imaginary number sqrt(-1) "
   ]
  },
  {
   "cell_type": "code",
   "execution_count": 1,
   "id": "bb5d9e22-1865-40cb-9c15-1fbf3b0aae4b",
   "metadata": {},
   "outputs": [],
   "source": [
    "a=complex()"
   ]
  },
  {
   "cell_type": "code",
   "execution_count": 2,
   "id": "a69684b6-1b0a-4584-87ca-b7118b1f6658",
   "metadata": {},
   "outputs": [
    {
     "name": "stdout",
     "output_type": "stream",
     "text": [
      "0j\n"
     ]
    }
   ],
   "source": [
    "print(a)"
   ]
  },
  {
   "cell_type": "code",
   "execution_count": 9,
   "id": "4ba041fb-8eb8-4704-9aeb-fb5d82ff73e3",
   "metadata": {},
   "outputs": [],
   "source": [
    "j=2.7\n",
    "b=0j"
   ]
  },
  {
   "cell_type": "code",
   "execution_count": 10,
   "id": "1a03c373-4cc8-42db-81b0-d964083816fb",
   "metadata": {},
   "outputs": [
    {
     "name": "stdout",
     "output_type": "stream",
     "text": [
      "0j\n"
     ]
    }
   ],
   "source": [
    "print(b)"
   ]
  },
  {
   "cell_type": "code",
   "execution_count": 11,
   "id": "acf9f644-b9cb-4804-91ee-df3fe4ab8200",
   "metadata": {},
   "outputs": [],
   "source": [
    "c=2+2j"
   ]
  },
  {
   "cell_type": "code",
   "execution_count": 12,
   "id": "c97fb27a-fb4e-406d-8939-393b266d2d3c",
   "metadata": {},
   "outputs": [
    {
     "name": "stdout",
     "output_type": "stream",
     "text": [
      "(2+2j)\n"
     ]
    }
   ],
   "source": [
    "print(c)"
   ]
  },
  {
   "cell_type": "code",
   "execution_count": 13,
   "id": "b0482742-5967-4aed-9ec2-89812d4691f6",
   "metadata": {},
   "outputs": [],
   "source": [
    "d=3+2j"
   ]
  },
  {
   "cell_type": "code",
   "execution_count": 14,
   "id": "adaf4eac-a5bf-4feb-abe9-cb6fed465b0e",
   "metadata": {},
   "outputs": [
    {
     "name": "stdout",
     "output_type": "stream",
     "text": [
      "(3+2j)\n"
     ]
    }
   ],
   "source": [
    "print(d)"
   ]
  },
  {
   "cell_type": "code",
   "execution_count": 15,
   "id": "1a7b3ef3-3e28-491f-a638-8547fded7f6a",
   "metadata": {},
   "outputs": [
    {
     "data": {
      "text/plain": [
       "(5+4j)"
      ]
     },
     "execution_count": 15,
     "metadata": {},
     "output_type": "execute_result"
    }
   ],
   "source": [
    "c+d"
   ]
  },
  {
   "cell_type": "code",
   "execution_count": 16,
   "id": "5ddadd08-5df8-499a-a82e-14140770ffdf",
   "metadata": {},
   "outputs": [
    {
     "data": {
      "text/plain": [
       "(-1+0j)"
      ]
     },
     "execution_count": 16,
     "metadata": {},
     "output_type": "execute_result"
    }
   ],
   "source": [
    "c-d"
   ]
  },
  {
   "cell_type": "code",
   "execution_count": 17,
   "id": "ed17131f-b598-4f0f-aa45-a8356bff29b3",
   "metadata": {},
   "outputs": [
    {
     "data": {
      "text/plain": [
       "(2+10j)"
      ]
     },
     "execution_count": 17,
     "metadata": {},
     "output_type": "execute_result"
    }
   ],
   "source": [
    "c*d"
   ]
  },
  {
   "cell_type": "code",
   "execution_count": 18,
   "id": "6b6531bd-3da3-4bc4-964d-7f27e17bdb1d",
   "metadata": {},
   "outputs": [
    {
     "data": {
      "text/plain": [
       "(0.7692307692307692+0.15384615384615388j)"
      ]
     },
     "execution_count": 18,
     "metadata": {},
     "output_type": "execute_result"
    }
   ],
   "source": [
    "c/d"
   ]
  },
  {
   "cell_type": "code",
   "execution_count": null,
   "id": "619e659f-fa1f-4620-9028-3d533a58d248",
   "metadata": {},
   "outputs": [],
   "source": []
  }
 ],
 "metadata": {
  "kernelspec": {
   "display_name": "Python 3 (ipykernel)",
   "language": "python",
   "name": "python3"
  },
  "language_info": {
   "codemirror_mode": {
    "name": "ipython",
    "version": 3
   },
   "file_extension": ".py",
   "mimetype": "text/x-python",
   "name": "python",
   "nbconvert_exporter": "python",
   "pygments_lexer": "ipython3",
   "version": "3.11.4"
  }
 },
 "nbformat": 4,
 "nbformat_minor": 5
}
