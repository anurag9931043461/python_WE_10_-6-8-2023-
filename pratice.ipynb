{
 "cells": [
  {
   "cell_type": "code",
   "execution_count": 7,
   "id": "b6ecd85b-e8b2-4fe6-96a7-4d7001245ce7",
   "metadata": {},
   "outputs": [],
   "source": [
    "a=\"w3resource.com\""
   ]
  },
  {
   "cell_type": "code",
   "execution_count": 8,
   "id": "36c5b0fa-92df-4d32-944e-de6e11d88031",
   "metadata": {},
   "outputs": [
    {
     "data": {
      "text/plain": [
       "14"
      ]
     },
     "execution_count": 8,
     "metadata": {},
     "output_type": "execute_result"
    }
   ],
   "source": [
    "len(a)"
   ]
  },
  {
   "cell_type": "code",
   "execution_count": 9,
   "id": "7eeb23e1-c834-45c3-a775-12aa6bd07709",
   "metadata": {},
   "outputs": [],
   "source": [
    "def abc(str):\n",
    "    k=0\n",
    "    for i in str:\n",
    "       k+=1\n",
    "    return k"
   ]
  },
  {
   "cell_type": "code",
   "execution_count": 10,
   "id": "126fac1e-431f-415c-b0a7-5896c60e9a8a",
   "metadata": {},
   "outputs": [
    {
     "data": {
      "text/plain": [
       "14"
      ]
     },
     "execution_count": 10,
     "metadata": {},
     "output_type": "execute_result"
    }
   ],
   "source": [
    "abc(a)"
   ]
  },
  {
   "cell_type": "code",
   "execution_count": 11,
   "id": "38ed6b4c-97c8-4153-b12d-0ebfb8541d77",
   "metadata": {},
   "outputs": [],
   "source": [
    "class A:\n",
    "    def abc(self,str):\n",
    "        k=0\n",
    "        for i in str:\n",
    "           k+=1\n",
    "        print(k)"
   ]
  },
  {
   "cell_type": "code",
   "execution_count": 12,
   "id": "1b435499-f6be-4844-8dde-021c2c78388a",
   "metadata": {},
   "outputs": [],
   "source": [
    "krishna=A()"
   ]
  },
  {
   "cell_type": "code",
   "execution_count": 13,
   "id": "60e087e0-57e2-4da0-a97d-1f62106a2da8",
   "metadata": {},
   "outputs": [
    {
     "name": "stdout",
     "output_type": "stream",
     "text": [
      "14\n"
     ]
    }
   ],
   "source": [
    "krishna.abc(a)"
   ]
  },
  {
   "cell_type": "code",
   "execution_count": 14,
   "id": "1cb6077b-150d-43ee-95b0-cff5cb15b4b8",
   "metadata": {},
   "outputs": [],
   "source": [
    "a=[1,2,3,4,5,6]"
   ]
  },
  {
   "cell_type": "code",
   "execution_count": 15,
   "id": "29f45f7e-50fc-4e40-abe5-7c8d3464ccd0",
   "metadata": {},
   "outputs": [
    {
     "data": {
      "text/plain": [
       "21"
      ]
     },
     "execution_count": 15,
     "metadata": {},
     "output_type": "execute_result"
    }
   ],
   "source": [
    "sum(a)"
   ]
  },
  {
   "cell_type": "code",
   "execution_count": 17,
   "id": "d8193053-ad80-47ac-bd99-5197d55d84cb",
   "metadata": {},
   "outputs": [],
   "source": [
    "def add(arg):\n",
    "    k=0\n",
    "    for i in arg:\n",
    "        k+=i   # k=k+i\n",
    "    return k\n",
    "        "
   ]
  },
  {
   "cell_type": "code",
   "execution_count": 18,
   "id": "61d7c85e-b835-49b9-ab88-b34521a70190",
   "metadata": {},
   "outputs": [
    {
     "data": {
      "text/plain": [
       "21"
      ]
     },
     "execution_count": 18,
     "metadata": {},
     "output_type": "execute_result"
    }
   ],
   "source": [
    "add(a)"
   ]
  },
  {
   "cell_type": "code",
   "execution_count": 21,
   "id": "a099d0bf-deb2-4864-9a1d-843d954e5acb",
   "metadata": {},
   "outputs": [],
   "source": [
    "def add2(arg):\n",
    "    print(sum(arg))"
   ]
  },
  {
   "cell_type": "code",
   "execution_count": 22,
   "id": "a4e14fb5-6de4-411a-9916-8251f788eaf0",
   "metadata": {},
   "outputs": [
    {
     "name": "stdout",
     "output_type": "stream",
     "text": [
      "21\n"
     ]
    }
   ],
   "source": [
    "add2(a)"
   ]
  },
  {
   "cell_type": "code",
   "execution_count": null,
   "id": "6ed05f33-68be-4c88-9034-36893d1b61b6",
   "metadata": {},
   "outputs": [],
   "source": []
  }
 ],
 "metadata": {
  "kernelspec": {
   "display_name": "Python 3 (ipykernel)",
   "language": "python",
   "name": "python3"
  },
  "language_info": {
   "codemirror_mode": {
    "name": "ipython",
    "version": 3
   },
   "file_extension": ".py",
   "mimetype": "text/x-python",
   "name": "python",
   "nbconvert_exporter": "python",
   "pygments_lexer": "ipython3",
   "version": "3.11.4"
  }
 },
 "nbformat": 4,
 "nbformat_minor": 5
}
