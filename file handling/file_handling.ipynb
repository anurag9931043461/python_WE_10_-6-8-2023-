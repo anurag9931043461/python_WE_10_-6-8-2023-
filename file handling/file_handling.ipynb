{
 "cells": [
  {
   "cell_type": "markdown",
   "id": "4debc00c-5118-4e34-9d42-0948092966c8",
   "metadata": {},
   "source": [
    "x: to create a file(if file is not in cwd), \n",
    "    if file will be available then it will though an error.\n",
    "\n",
    "r: to read content of a file.\n",
    "\n",
    "w: to write something on a file\n",
    "\n",
    "a: to write something on a file without overrding pervious data.\n",
    "\n",
    "rb: it is use to read image file into hexa decimal values.\n"
   ]
  },
  {
   "cell_type": "code",
   "execution_count": 1,
   "id": "f006f318-86f9-48f6-8ade-5b6d297a533f",
   "metadata": {},
   "outputs": [
    {
     "name": "stdout",
     "output_type": "stream",
     "text": [
      "hello world\n"
     ]
    }
   ],
   "source": [
    "print(\"hello world\")"
   ]
  },
  {
   "cell_type": "code",
   "execution_count": 2,
   "id": "3b3f7a7e-d329-42cd-885e-b95ae3a9fdc3",
   "metadata": {},
   "outputs": [],
   "source": [
    "import builtins"
   ]
  },
  {
   "cell_type": "code",
   "execution_count": 3,
   "id": "acc51cb7-60d1-4ad1-ba69-1423b5a2036c",
   "metadata": {},
   "outputs": [
    {
     "name": "stdout",
     "output_type": "stream",
     "text": [
      "hello world\n"
     ]
    }
   ],
   "source": [
    "builtins.print(\"hello world\")"
   ]
  },
  {
   "cell_type": "code",
   "execution_count": 4,
   "id": "246ba849-1ac9-4ff8-968d-1fce41101e8e",
   "metadata": {},
   "outputs": [
    {
     "data": {
      "text/plain": [
       "11"
      ]
     },
     "execution_count": 4,
     "metadata": {},
     "output_type": "execute_result"
    }
   ],
   "source": [
    "builtins.len(\"hello world\")"
   ]
  },
  {
   "cell_type": "code",
   "execution_count": 6,
   "id": "f9f37241-cdd3-4eaf-ac28-f2ef75cf6170",
   "metadata": {},
   "outputs": [],
   "source": [
    "f1=open(\"abc.txt\",'x')"
   ]
  },
  {
   "cell_type": "code",
   "execution_count": 7,
   "id": "1dc99c40-bfc8-4b96-a8a4-10096bce9956",
   "metadata": {},
   "outputs": [],
   "source": [
    "f1.close()"
   ]
  },
  {
   "cell_type": "code",
   "execution_count": 8,
   "id": "a3338c56-6887-493a-b1d5-d5d535930a00",
   "metadata": {},
   "outputs": [],
   "source": [
    "f2=open(\"abc.txt\",'r')"
   ]
  },
  {
   "cell_type": "code",
   "execution_count": 16,
   "id": "aea7497f-0301-498f-93f3-601a6cc1200c",
   "metadata": {},
   "outputs": [
    {
     "data": {
      "text/plain": [
       "'this is Ra'"
      ]
     },
     "execution_count": 16,
     "metadata": {},
     "output_type": "execute_result"
    }
   ],
   "source": [
    "f2.read(10)"
   ]
  },
  {
   "cell_type": "code",
   "execution_count": 15,
   "id": "63a11605-b665-4057-a935-97cb9d575407",
   "metadata": {},
   "outputs": [
    {
     "data": {
      "text/plain": [
       "0"
      ]
     },
     "execution_count": 15,
     "metadata": {},
     "output_type": "execute_result"
    }
   ],
   "source": [
    "f2.seek(0)"
   ]
  },
  {
   "cell_type": "code",
   "execution_count": 17,
   "id": "fe62fa20-2863-45a4-a08c-554f24c53631",
   "metadata": {},
   "outputs": [
    {
     "data": {
      "text/plain": [
       "'hul S'"
      ]
     },
     "execution_count": 17,
     "metadata": {},
     "output_type": "execute_result"
    }
   ],
   "source": [
    "f2.read(5)"
   ]
  },
  {
   "cell_type": "code",
   "execution_count": 18,
   "id": "1c4a052d-a8ac-4747-9be8-39eebb46f699",
   "metadata": {},
   "outputs": [],
   "source": [
    "f2.close()"
   ]
  },
  {
   "cell_type": "code",
   "execution_count": 19,
   "id": "7717a0ae-b346-44b2-b93f-9b3815726cc8",
   "metadata": {},
   "outputs": [],
   "source": [
    "f3=open(\"abc.txt\",'r')"
   ]
  },
  {
   "cell_type": "code",
   "execution_count": 20,
   "id": "bafb272a-459c-407a-b6fd-dd9cc24227fb",
   "metadata": {},
   "outputs": [
    {
     "data": {
      "text/plain": [
       "'this is Rahul Sharma.\\n'"
      ]
     },
     "execution_count": 20,
     "metadata": {},
     "output_type": "execute_result"
    }
   ],
   "source": [
    "print(f3.readline())"
   ]
  },
  {
   "cell_type": "code",
   "execution_count": 21,
   "id": "58ad25e4-6a01-4412-acc8-52a1c10aef49",
   "metadata": {},
   "outputs": [
    {
     "name": "stdout",
     "output_type": "stream",
     "text": [
      "Anjali's father.\n",
      "\n"
     ]
    }
   ],
   "source": [
    "print(f3.readline())"
   ]
  },
  {
   "cell_type": "code",
   "execution_count": 22,
   "id": "4f9286ea-af16-44e6-a0ce-0d6796db81f3",
   "metadata": {},
   "outputs": [
    {
     "name": "stdout",
     "output_type": "stream",
     "text": [
      "from Kuch Kuch hota hai.\n"
     ]
    }
   ],
   "source": [
    "print(f3.readline())"
   ]
  },
  {
   "cell_type": "code",
   "execution_count": 23,
   "id": "9ad491e4-6cfd-4d15-8a6e-4a38cf67a721",
   "metadata": {},
   "outputs": [
    {
     "name": "stdout",
     "output_type": "stream",
     "text": [
      "\n"
     ]
    }
   ],
   "source": [
    "print(f3.readline())"
   ]
  },
  {
   "cell_type": "code",
   "execution_count": 24,
   "id": "50553eeb-9fa5-4e8e-86d2-bc6dbcddad8c",
   "metadata": {},
   "outputs": [
    {
     "data": {
      "text/plain": [
       "0"
      ]
     },
     "execution_count": 24,
     "metadata": {},
     "output_type": "execute_result"
    }
   ],
   "source": [
    "f3.seek(0)"
   ]
  },
  {
   "cell_type": "code",
   "execution_count": 25,
   "id": "c0ff9a87-7fce-45df-9081-c99ad4efe2bb",
   "metadata": {},
   "outputs": [
    {
     "data": {
      "text/plain": [
       "['this is Rahul Sharma.\\n', \"Anjali's father.\\n\", 'from Kuch Kuch hota hai.']"
      ]
     },
     "execution_count": 25,
     "metadata": {},
     "output_type": "execute_result"
    }
   ],
   "source": [
    "f3.readlines()"
   ]
  },
  {
   "cell_type": "code",
   "execution_count": 26,
   "id": "64905e40-c8af-4cbe-bad6-724e32e9d0b1",
   "metadata": {},
   "outputs": [
    {
     "data": {
      "text/plain": [
       "0"
      ]
     },
     "execution_count": 26,
     "metadata": {},
     "output_type": "execute_result"
    }
   ],
   "source": [
    "f3.seek(0)"
   ]
  },
  {
   "cell_type": "code",
   "execution_count": 27,
   "id": "1105428a-fd47-446c-b254-305449db74fa",
   "metadata": {},
   "outputs": [
    {
     "data": {
      "text/plain": [
       "\"this is Rahul Sharma.\\nAnjali's father.\\nfrom Kuch Kuch hota hai.\""
      ]
     },
     "execution_count": 27,
     "metadata": {},
     "output_type": "execute_result"
    }
   ],
   "source": [
    "f3.read()"
   ]
  },
  {
   "cell_type": "code",
   "execution_count": 28,
   "id": "9ac3226b-d052-43cf-a61e-c40c33a8ee9b",
   "metadata": {},
   "outputs": [],
   "source": [
    "f3.close()"
   ]
  },
  {
   "cell_type": "code",
   "execution_count": 1,
   "id": "f42e2630-041f-41d2-bba7-4de7ed230095",
   "metadata": {},
   "outputs": [],
   "source": [
    "f4=open(\"abc.txt\",\"w\")"
   ]
  },
  {
   "cell_type": "code",
   "execution_count": 2,
   "id": "43728032-6d11-4958-8676-c53aa7bd026d",
   "metadata": {},
   "outputs": [
    {
     "data": {
      "text/plain": [
       "12"
      ]
     },
     "execution_count": 2,
     "metadata": {},
     "output_type": "execute_result"
    }
   ],
   "source": [
    "f4.write(\"I am krishna\")"
   ]
  },
  {
   "cell_type": "code",
   "execution_count": 3,
   "id": "e4fa0880-5e03-4694-b5c5-6ba94a049e59",
   "metadata": {},
   "outputs": [],
   "source": [
    "f4.close()"
   ]
  },
  {
   "cell_type": "code",
   "execution_count": 7,
   "id": "fd16a04f-cd98-48ca-ad00-e0fef7c513ac",
   "metadata": {},
   "outputs": [],
   "source": [
    "f5=open(\"abc.txt\",\"w\")"
   ]
  },
  {
   "cell_type": "code",
   "execution_count": 8,
   "id": "f984be2f-15b9-4a97-bd6f-86db30dc364b",
   "metadata": {},
   "outputs": [],
   "source": [
    "f5.writelines(\"I am krishna\")"
   ]
  },
  {
   "cell_type": "code",
   "execution_count": 9,
   "id": "647acbab-24f2-45a1-8cd4-abfaa9cf965b",
   "metadata": {},
   "outputs": [],
   "source": [
    "f5.close()"
   ]
  },
  {
   "cell_type": "code",
   "execution_count": 13,
   "id": "38ce1073-7489-4942-875d-6d1b4d853648",
   "metadata": {},
   "outputs": [],
   "source": [
    "f6=open(\"xyz.txt\",\"w\")"
   ]
  },
  {
   "cell_type": "code",
   "execution_count": 14,
   "id": "54dc532d-e1ce-4857-82dc-49b7231b12cc",
   "metadata": {},
   "outputs": [
    {
     "data": {
      "text/plain": [
       "12"
      ]
     },
     "execution_count": 14,
     "metadata": {},
     "output_type": "execute_result"
    }
   ],
   "source": [
    "f6.write(\"I am krishna\")"
   ]
  },
  {
   "cell_type": "code",
   "execution_count": 15,
   "id": "7a077234-0d9f-4be8-ba70-1d47c4d1d572",
   "metadata": {},
   "outputs": [],
   "source": [
    "f6.close()"
   ]
  },
  {
   "cell_type": "code",
   "execution_count": 20,
   "id": "aca685c1-a7f7-4386-91c3-20dedd6de6b9",
   "metadata": {},
   "outputs": [],
   "source": [
    "f7=open(\"xyz.txt\",\"a\")"
   ]
  },
  {
   "cell_type": "code",
   "execution_count": 21,
   "id": "fd0f48c4-ef2c-4707-aa7e-4b2b22606467",
   "metadata": {},
   "outputs": [
    {
     "data": {
      "text/plain": [
       "16"
      ]
     },
     "execution_count": 21,
     "metadata": {},
     "output_type": "execute_result"
    }
   ],
   "source": [
    "f7.write(\"\\nI am AI trainer\")"
   ]
  },
  {
   "cell_type": "code",
   "execution_count": 22,
   "id": "17cfff46-d288-4230-924e-cd826e882692",
   "metadata": {},
   "outputs": [],
   "source": [
    "f7.close()"
   ]
  },
  {
   "cell_type": "code",
   "execution_count": 23,
   "id": "0a76e10e-f694-4ab4-a476-2ba6dbbfe1eb",
   "metadata": {},
   "outputs": [],
   "source": [
    "f7=open(\"xyz.txt\",\"a\")\n",
    "for i in range(10):\n",
    "    f7.write(\"\\nHello world\")"
   ]
  },
  {
   "cell_type": "code",
   "execution_count": 24,
   "id": "1e564c62-da6c-4ed5-b1a3-11e7ff54819c",
   "metadata": {},
   "outputs": [],
   "source": [
    "f7.close()"
   ]
  },
  {
   "cell_type": "code",
   "execution_count": 47,
   "id": "aa44c8d5-0b32-4c45-ba71-0c9a6d62d27d",
   "metadata": {},
   "outputs": [],
   "source": [
    "f8=open(\"download.jfif\",'rb')"
   ]
  },
  {
   "cell_type": "code",
   "execution_count": 48,
   "id": "f6f6d566-65ed-46b9-a111-b26cdd3ed9af",
   "metadata": {},
   "outputs": [
    {
     "data": {
      "text/plain": [
       "b'\\xff\\xd8\\xff\\xe0\\x00\\x10JFIF'"
      ]
     },
     "execution_count": 48,
     "metadata": {},
     "output_type": "execute_result"
    }
   ],
   "source": [
    "f8.read(10)"
   ]
  },
  {
   "cell_type": "code",
   "execution_count": 49,
   "id": "9a45a4fa-3de9-4755-be2b-f863f440c2c3",
   "metadata": {},
   "outputs": [
    {
     "data": {
      "text/plain": [
       "0"
      ]
     },
     "execution_count": 49,
     "metadata": {},
     "output_type": "execute_result"
    }
   ],
   "source": [
    "f8.seek(0)"
   ]
  },
  {
   "cell_type": "code",
   "execution_count": 50,
   "id": "1195d18b-c7aa-42fc-ad92-bd2ee731d96a",
   "metadata": {},
   "outputs": [],
   "source": [
    "a=f8.read()"
   ]
  },
  {
   "cell_type": "code",
   "execution_count": 36,
   "id": "a4c65599-3c77-4e25-8456-30183336a9be",
   "metadata": {},
   "outputs": [],
   "source": [
    "f9=open(\"image.txt\",\"a\")"
   ]
  },
  {
   "cell_type": "code",
   "execution_count": 38,
   "id": "e94a815c-49c3-4f84-a381-17d03d9d9007",
   "metadata": {},
   "outputs": [
    {
     "data": {
      "text/plain": [
       "14080"
      ]
     },
     "execution_count": 38,
     "metadata": {},
     "output_type": "execute_result"
    }
   ],
   "source": [
    "f9.write(f\"{a}\")"
   ]
  },
  {
   "cell_type": "code",
   "execution_count": 39,
   "id": "83b2a888-821a-427b-b82c-dacede81ed9c",
   "metadata": {},
   "outputs": [],
   "source": [
    "f9.close()"
   ]
  },
  {
   "cell_type": "code",
   "execution_count": 40,
   "id": "a533c829-aeb3-4002-a0d6-56e035352d12",
   "metadata": {},
   "outputs": [],
   "source": [
    "f10=open(\"download1.jpg\",\"a\")"
   ]
  },
  {
   "cell_type": "code",
   "execution_count": 41,
   "id": "768dd810-8989-496a-a30e-f915d1708c37",
   "metadata": {},
   "outputs": [
    {
     "data": {
      "text/plain": [
       "14080"
      ]
     },
     "execution_count": 41,
     "metadata": {},
     "output_type": "execute_result"
    }
   ],
   "source": [
    "f10.write(f\"{a}\")"
   ]
  },
  {
   "cell_type": "code",
   "execution_count": 42,
   "id": "35bb7502-272e-4976-9c9c-0e4c059cb3a8",
   "metadata": {},
   "outputs": [],
   "source": [
    "f10.close()"
   ]
  },
  {
   "cell_type": "code",
   "execution_count": 51,
   "id": "1a76e6ee-1392-4bcb-ae8a-700e1cce0717",
   "metadata": {},
   "outputs": [],
   "source": [
    "f11=open(\"download2.jfif\",'a')"
   ]
  },
  {
   "cell_type": "code",
   "execution_count": 52,
   "id": "2bde0e62-f95f-4c15-ab8d-76b78c3e5c1b",
   "metadata": {},
   "outputs": [
    {
     "data": {
      "text/plain": [
       "14080"
      ]
     },
     "execution_count": 52,
     "metadata": {},
     "output_type": "execute_result"
    }
   ],
   "source": [
    "f11.write(f\"{a}\")"
   ]
  },
  {
   "cell_type": "code",
   "execution_count": 53,
   "id": "b37ad434-a230-4100-93a2-bb1e37f5015d",
   "metadata": {},
   "outputs": [],
   "source": [
    "f11.close()\n",
    "f8.close()"
   ]
  },
  {
   "cell_type": "code",
   "execution_count": null,
   "id": "d46b4f19-283e-49be-96a4-734292a22c3b",
   "metadata": {},
   "outputs": [],
   "source": []
  }
 ],
 "metadata": {
  "kernelspec": {
   "display_name": "Python 3 (ipykernel)",
   "language": "python",
   "name": "python3"
  },
  "language_info": {
   "codemirror_mode": {
    "name": "ipython",
    "version": 3
   },
   "file_extension": ".py",
   "mimetype": "text/x-python",
   "name": "python",
   "nbconvert_exporter": "python",
   "pygments_lexer": "ipython3",
   "version": "3.11.5"
  }
 },
 "nbformat": 4,
 "nbformat_minor": 5
}
