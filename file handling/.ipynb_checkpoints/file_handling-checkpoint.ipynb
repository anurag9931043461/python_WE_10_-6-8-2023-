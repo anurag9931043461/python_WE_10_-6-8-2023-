{
 "cells": [
  {
   "cell_type": "markdown",
   "id": "4debc00c-5118-4e34-9d42-0948092966c8",
   "metadata": {},
   "source": [
    "x: to create a file(if file is not in cwd), \n",
    "    if file will be available then it will though an error.\n",
    "\n",
    "r: to read content of a file.\n",
    "\n",
    "w: to write something on a file\n",
    "\n",
    "a: to write something on a file without overrding pervious data.\n",
    "\n",
    "rb: it is use to read image file into hexa decimal values.\n"
   ]
  },
  {
   "cell_type": "code",
   "execution_count": 1,
   "id": "f006f318-86f9-48f6-8ade-5b6d297a533f",
   "metadata": {},
   "outputs": [
    {
     "name": "stdout",
     "output_type": "stream",
     "text": [
      "hello world\n"
     ]
    }
   ],
   "source": [
    "print(\"hello world\")"
   ]
  },
  {
   "cell_type": "code",
   "execution_count": 2,
   "id": "3b3f7a7e-d329-42cd-885e-b95ae3a9fdc3",
   "metadata": {},
   "outputs": [],
   "source": [
    "import builtins"
   ]
  },
  {
   "cell_type": "code",
   "execution_count": 3,
   "id": "acc51cb7-60d1-4ad1-ba69-1423b5a2036c",
   "metadata": {},
   "outputs": [
    {
     "name": "stdout",
     "output_type": "stream",
     "text": [
      "hello world\n"
     ]
    }
   ],
   "source": [
    "builtins.print(\"hello world\")"
   ]
  },
  {
   "cell_type": "code",
   "execution_count": 4,
   "id": "246ba849-1ac9-4ff8-968d-1fce41101e8e",
   "metadata": {},
   "outputs": [
    {
     "data": {
      "text/plain": [
       "11"
      ]
     },
     "execution_count": 4,
     "metadata": {},
     "output_type": "execute_result"
    }
   ],
   "source": [
    "builtins.len(\"hello world\")"
   ]
  },
  {
   "cell_type": "code",
   "execution_count": 5,
   "id": "f9f37241-cdd3-4eaf-ac28-f2ef75cf6170",
   "metadata": {},
   "outputs": [],
   "source": [
    "f1=open(\"abc.txt\",'x')"
   ]
  },
  {
   "cell_type": "code",
   "execution_count": null,
   "id": "1dc99c40-bfc8-4b96-a8a4-10096bce9956",
   "metadata": {},
   "outputs": [],
   "source": []
  }
 ],
 "metadata": {
  "kernelspec": {
   "display_name": "Python 3 (ipykernel)",
   "language": "python",
   "name": "python3"
  },
  "language_info": {
   "codemirror_mode": {
    "name": "ipython",
    "version": 3
   },
   "file_extension": ".py",
   "mimetype": "text/x-python",
   "name": "python",
   "nbconvert_exporter": "python",
   "pygments_lexer": "ipython3",
   "version": "3.11.5"
  }
 },
 "nbformat": 4,
 "nbformat_minor": 5
}
