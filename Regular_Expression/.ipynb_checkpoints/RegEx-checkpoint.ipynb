{
 "cells": [
  {
   "cell_type": "markdown",
   "id": "9915fd25-bf70-4979-bcd2-d267a5f25d82",
   "metadata": {},
   "source": [
    "# Regular Expression\n",
    "\n",
    "> Regular expression/ RegEx is a concept which work on string only.\n",
    "\n",
    "> Why we use regular expression?\n",
    "\n",
    "    > to filter our string\n",
    "\n",
    "> What is re?\n",
    "\n",
    "    > re is module which help us to filter a string and we import re module\n",
    "    \n",
    "    using \"import re\"\n",
    "\n",
    "> regular expression has 4 major operation/function\n",
    "\n",
    "    > sub()\n",
    "\n",
    "    > spilt()\n",
    "\n",
    "    > find()\n",
    "\n",
    "    > search()"
   ]
  },
  {
   "cell_type": "code",
   "execution_count": 2,
   "id": "784fb5b0-7c4f-4249-bda8-7582961440c7",
   "metadata": {},
   "outputs": [],
   "source": [
    "a=\"Th214i#@%s i32s@!$53 kri543shn@!#@32432a\""
   ]
  },
  {
   "cell_type": "code",
   "execution_count": 4,
   "id": "9499756b-95cb-43cc-aa42-a18310e4b640",
   "metadata": {},
   "outputs": [
    {
     "name": "stdout",
     "output_type": "stream",
     "text": [
      "This is krishna\n"
     ]
    }
   ],
   "source": [
    "b=\"\"\n",
    "for i in a:\n",
    "    if i not in \"1234567890!@#$%^&*()_\":\n",
    "        b+=i\n",
    "print(b)    "
   ]
  },
  {
   "cell_type": "code",
   "execution_count": 5,
   "id": "6be599b4-0116-4a3f-b4b7-a7d451ba579e",
   "metadata": {},
   "outputs": [],
   "source": [
    "import re"
   ]
  },
  {
   "cell_type": "code",
   "execution_count": 27,
   "id": "c6308f1d-6dd9-46cd-9de7-061266d1b378",
   "metadata": {},
   "outputs": [
    {
     "data": {
      "text/plain": [
       "'Th...i.@.s i..s@.... kri...shn@..@.....a'"
      ]
     },
     "execution_count": 27,
     "metadata": {},
     "output_type": "execute_result"
    }
   ],
   "source": [
    "re.sub(\"[1234567890!#$%^&*()_]\",\".\",a)"
   ]
  },
  {
   "cell_type": "code",
   "execution_count": 28,
   "id": "492cd895-8e07-4991-bdea-d7daf6038b43",
   "metadata": {},
   "outputs": [],
   "source": [
    "def mera_filter(Pattern,repl,arg):\n",
    "    a=arg\n",
    "    b=\"\"\n",
    "    for i in a:\n",
    "        if i not in Pattern:\n",
    "            b+=i\n",
    "        else:\n",
    "            b+=repl\n",
    "    print(b)    "
   ]
  },
  {
   "cell_type": "code",
   "execution_count": 30,
   "id": "08d01a71-167a-437f-bda7-f71706291487",
   "metadata": {},
   "outputs": [
    {
     "name": "stdout",
     "output_type": "stream",
     "text": [
      "th.......@..is is AI class.....es\n"
     ]
    }
   ],
   "source": [
    "mera_filter(\"1234567890!#$%^&*()_\",\".\",\"th65464#$@^$is is AI class25435es\")"
   ]
  },
  {
   "cell_type": "code",
   "execution_count": 1,
   "id": "4f9bd5e7-cf52-44ac-b2b6-57f402e10327",
   "metadata": {},
   "outputs": [],
   "source": [
    "import re1"
   ]
  },
  {
   "cell_type": "code",
   "execution_count": 3,
   "id": "c21d09ce-b9d4-4135-bfa3-fe114f1bc7e4",
   "metadata": {},
   "outputs": [
    {
     "name": "stdout",
     "output_type": "stream",
     "text": [
      "this is krishna\n"
     ]
    }
   ],
   "source": [
    "re1.mera_filter(\"1234567890\",\"\",\"thi32s is krishna\")"
   ]
  },
  {
   "cell_type": "code",
   "execution_count": 4,
   "id": "d55b2305-4a62-43a8-ad3a-0d0e5f239820",
   "metadata": {},
   "outputs": [],
   "source": [
    "import re"
   ]
  },
  {
   "cell_type": "code",
   "execution_count": 5,
   "id": "5ee45875-3ba0-40ba-a80d-5a610ae38fa0",
   "metadata": {},
   "outputs": [
    {
     "data": {
      "text/plain": [
       "['this', 'is', 'krishna']"
      ]
     },
     "execution_count": 5,
     "metadata": {},
     "output_type": "execute_result"
    }
   ],
   "source": [
    "re.split(\" \",\"this is krishna\")"
   ]
  },
  {
   "cell_type": "code",
   "execution_count": 6,
   "id": "7540b431-ded8-4d1d-b81c-1cf9c3871db0",
   "metadata": {},
   "outputs": [
    {
     "data": {
      "text/plain": [
       "['th', ' ', ' kr', 'hna']"
      ]
     },
     "execution_count": 6,
     "metadata": {},
     "output_type": "execute_result"
    }
   ],
   "source": [
    "re.split(\"is\",\"this is krishna\")"
   ]
  },
  {
   "cell_type": "code",
   "execution_count": 17,
   "id": "42c81598-d844-4ccb-898b-00c4c52e17cd",
   "metadata": {},
   "outputs": [
    {
     "data": {
      "text/plain": [
       "0"
      ]
     },
     "execution_count": 17,
     "metadata": {},
     "output_type": "execute_result"
    }
   ],
   "source": [
    "f1=re.search(\"python\",\"python is funny language,Python is easy to learn\")\n",
    "f1.start()"
   ]
  },
  {
   "cell_type": "code",
   "execution_count": 14,
   "id": "e42fe0ee-079f-4720-8df3-1fb29d8060f5",
   "metadata": {},
   "outputs": [
    {
     "data": {
      "text/plain": [
       "['python']"
      ]
     },
     "execution_count": 14,
     "metadata": {},
     "output_type": "execute_result"
    }
   ],
   "source": [
    "re.findall(\"python\",\"python is funny language,Python is easy to learn\")"
   ]
  },
  {
   "cell_type": "code",
   "execution_count": null,
   "id": "47e0dcb5-3038-40ba-a397-9321ce88068a",
   "metadata": {},
   "outputs": [],
   "source": []
  }
 ],
 "metadata": {
  "kernelspec": {
   "display_name": "Python 3 (ipykernel)",
   "language": "python",
   "name": "python3"
  },
  "language_info": {
   "codemirror_mode": {
    "name": "ipython",
    "version": 3
   },
   "file_extension": ".py",
   "mimetype": "text/x-python",
   "name": "python",
   "nbconvert_exporter": "python",
   "pygments_lexer": "ipython3",
   "version": "3.11.5"
  }
 },
 "nbformat": 4,
 "nbformat_minor": 5
}
