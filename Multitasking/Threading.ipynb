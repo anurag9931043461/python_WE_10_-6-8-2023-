{
 "cells": [
  {
   "cell_type": "markdown",
   "id": "257442fe-ef8f-4864-a172-aca94709345f",
   "metadata": {},
   "source": [
    "# error:\n",
    "\n",
    "    > Compile Time error\n",
    "\n",
    "    > Run time error"
   ]
  },
  {
   "cell_type": "code",
   "execution_count": 9,
   "id": "1cb2069a-2b5a-4bdc-bb63-66e9461be7e0",
   "metadata": {},
   "outputs": [],
   "source": [
    "def hello():\n",
    "    print(\"hello world\")\n",
    "\n",
    "def div():\n",
    "    print(\"2\"/0)\n",
    "\n",
    "def bye():\n",
    "    print(\"bye world\")"
   ]
  },
  {
   "cell_type": "code",
   "execution_count": 10,
   "id": "eb0fd991-9958-486c-89a9-a9569cf09054",
   "metadata": {},
   "outputs": [
    {
     "name": "stdout",
     "output_type": "stream",
     "text": [
      "hello world\n"
     ]
    },
    {
     "ename": "TypeError",
     "evalue": "unsupported operand type(s) for /: 'str' and 'int'",
     "output_type": "error",
     "traceback": [
      "\u001b[1;31m---------------------------------------------------------------------------\u001b[0m",
      "\u001b[1;31mTypeError\u001b[0m                                 Traceback (most recent call last)",
      "Cell \u001b[1;32mIn[10], line 2\u001b[0m\n\u001b[0;32m      1\u001b[0m hello()\n\u001b[1;32m----> 2\u001b[0m \u001b[43mdiv\u001b[49m\u001b[43m(\u001b[49m\u001b[43m)\u001b[49m\n\u001b[0;32m      3\u001b[0m bye()\n",
      "Cell \u001b[1;32mIn[9], line 5\u001b[0m, in \u001b[0;36mdiv\u001b[1;34m()\u001b[0m\n\u001b[0;32m      4\u001b[0m \u001b[38;5;28;01mdef\u001b[39;00m \u001b[38;5;21mdiv\u001b[39m():\n\u001b[1;32m----> 5\u001b[0m     \u001b[38;5;28mprint\u001b[39m(\u001b[38;5;124;43m\"\u001b[39;49m\u001b[38;5;124;43m2\u001b[39;49m\u001b[38;5;124;43m\"\u001b[39;49m\u001b[38;5;241;43m/\u001b[39;49m\u001b[38;5;241;43m0\u001b[39;49m)\n",
      "\u001b[1;31mTypeError\u001b[0m: unsupported operand type(s) for /: 'str' and 'int'"
     ]
    }
   ],
   "source": [
    "hello()\n",
    "div()\n",
    "bye()"
   ]
  },
  {
   "cell_type": "code",
   "execution_count": 11,
   "id": "2cb796f2-b0b3-4bb0-8ce3-1acc8386faff",
   "metadata": {},
   "outputs": [],
   "source": [
    "from threading import Thread"
   ]
  },
  {
   "cell_type": "code",
   "execution_count": 12,
   "id": "b0e7807e-4438-4a42-bc60-584ed76e13d8",
   "metadata": {},
   "outputs": [],
   "source": [
    "t1=Thread(target=hello,name=\"Hello\")\n",
    "t2=Thread(target=div,name=\"div\")\n",
    "t3=Thread(target=bye,name=\"bye\")"
   ]
  },
  {
   "cell_type": "code",
   "execution_count": 13,
   "id": "7a2b3a85-b9c1-47d1-b6dd-f30bbeb2aa98",
   "metadata": {},
   "outputs": [
    {
     "name": "stdout",
     "output_type": "stream",
     "text": [
      "hello world\n",
      "bye world\n"
     ]
    },
    {
     "name": "stderr",
     "output_type": "stream",
     "text": [
      "Exception in thread div:\n",
      "Traceback (most recent call last):\n",
      "  File \"C:\\Users\\nnkri\\AppData\\Local\\Programs\\Python\\Python311\\Lib\\threading.py\", line 1038, in _bootstrap_inner\n",
      "    self.run()\n",
      "  File \"C:\\Users\\nnkri\\AppData\\Local\\Programs\\Python\\Python311\\Lib\\threading.py\", line 975, in run\n",
      "    self._target(*self._args, **self._kwargs)\n",
      "  File \"C:\\Users\\nnkri\\AppData\\Local\\Temp\\ipykernel_9740\\2289432321.py\", line 5, in div\n",
      "TypeError: unsupported operand type(s) for /: 'str' and 'int'\n"
     ]
    }
   ],
   "source": [
    "t1.start()\n",
    "t2.start()\n",
    "t3.start()"
   ]
  },
  {
   "cell_type": "code",
   "execution_count": null,
   "id": "f053ab73-190d-4b96-aecd-50e0bfae86cc",
   "metadata": {},
   "outputs": [],
   "source": []
  }
 ],
 "metadata": {
  "kernelspec": {
   "display_name": "Python 3 (ipykernel)",
   "language": "python",
   "name": "python3"
  },
  "language_info": {
   "codemirror_mode": {
    "name": "ipython",
    "version": 3
   },
   "file_extension": ".py",
   "mimetype": "text/x-python",
   "name": "python",
   "nbconvert_exporter": "python",
   "pygments_lexer": "ipython3",
   "version": "3.11.5"
  }
 },
 "nbformat": 4,
 "nbformat_minor": 5
}
