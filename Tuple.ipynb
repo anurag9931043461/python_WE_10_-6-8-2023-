{
 "cells": [
  {
   "cell_type": "markdown",
   "id": "5c1501a1-8247-4dfd-925c-5dfc86cd5e60",
   "metadata": {},
   "source": [
    "# Tuple:\n",
    "\n",
    "Tuple constructor is tuple()\n",
    "\n",
    "Tuple literal is ()\n",
    "\n",
    "Tuple is immutable(hashable)\n",
    "\n",
    "Tuple is a set of sequence of elements()\n",
    "\n",
    "Tuple support indexing\n",
    "\n",
    "Tuple support slicing\n",
    "\n",
    "Tuple support concatination\n",
    "\n",
    "Tuple support nested tuple\n",
    "\n",
    "Tuple methods."
   ]
  },
  {
   "cell_type": "code",
   "execution_count": 7,
   "id": "a3fb7858-ac0f-4115-8a0c-be4fecdac7b4",
   "metadata": {},
   "outputs": [],
   "source": [
    "a=(10,10.0,'10',[10],(10,))"
   ]
  },
  {
   "cell_type": "code",
   "execution_count": 8,
   "id": "3bc6dbaa-42e9-4851-98b3-4b408495de7e",
   "metadata": {},
   "outputs": [
    {
     "name": "stdout",
     "output_type": "stream",
     "text": [
      "(10, 10.0, '10', [10], (10,))\n"
     ]
    }
   ],
   "source": [
    "print(a)"
   ]
  },
  {
   "cell_type": "code",
   "execution_count": 10,
   "id": "c3a8ee61-fc7e-4f4e-9b82-d0162030022f",
   "metadata": {},
   "outputs": [
    {
     "name": "stdout",
     "output_type": "stream",
     "text": [
      "<class 'tuple'>\n",
      "()\n"
     ]
    }
   ],
   "source": [
    "b=tuple()\n",
    "print(type(b))\n",
    "print(b)"
   ]
  },
  {
   "cell_type": "code",
   "execution_count": 11,
   "id": "40c34e10-69dc-4f66-93b3-d3255cac3de2",
   "metadata": {},
   "outputs": [
    {
     "name": "stdout",
     "output_type": "stream",
     "text": [
      "<class 'tuple'>\n",
      "()\n"
     ]
    }
   ],
   "source": [
    "c=()\n",
    "print(type(c))\n",
    "print(c)"
   ]
  },
  {
   "cell_type": "code",
   "execution_count": 12,
   "id": "5c76bb96-7320-404b-acf4-6d1072be73b2",
   "metadata": {},
   "outputs": [
    {
     "data": {
      "text/plain": [
       "(10, 10.0, '10', [10], (10,))"
      ]
     },
     "execution_count": 12,
     "metadata": {},
     "output_type": "execute_result"
    }
   ],
   "source": [
    "a"
   ]
  },
  {
   "cell_type": "code",
   "execution_count": 14,
   "id": "5b960672-b002-40de-bc54-31a333726f6c",
   "metadata": {},
   "outputs": [
    {
     "name": "stdout",
     "output_type": "stream",
     "text": [
      "10\n"
     ]
    }
   ],
   "source": [
    "print(a[2])"
   ]
  },
  {
   "cell_type": "code",
   "execution_count": 15,
   "id": "ceef497f-abeb-422b-8e3b-db9d539c7c9d",
   "metadata": {},
   "outputs": [
    {
     "name": "stdout",
     "output_type": "stream",
     "text": [
      "10\n"
     ]
    }
   ],
   "source": [
    "print(a[-3])"
   ]
  },
  {
   "cell_type": "code",
   "execution_count": 16,
   "id": "6d04d8ad-455c-4b69-b809-c91c4e075b2f",
   "metadata": {},
   "outputs": [
    {
     "data": {
      "text/plain": [
       "(10.0, '10', [10])"
      ]
     },
     "execution_count": 16,
     "metadata": {},
     "output_type": "execute_result"
    }
   ],
   "source": [
    "a[1:4:1]"
   ]
  },
  {
   "cell_type": "code",
   "execution_count": 20,
   "id": "201dd039-09ef-48aa-8ff7-287192951e06",
   "metadata": {},
   "outputs": [],
   "source": [
    "z=(1,2,3,4,5,6,(4,5,6,7,8,9))"
   ]
  },
  {
   "cell_type": "code",
   "execution_count": 21,
   "id": "cd2a7bf0-5e7e-4b8e-9788-402d0e11688f",
   "metadata": {},
   "outputs": [
    {
     "data": {
      "text/plain": [
       "7"
      ]
     },
     "execution_count": 21,
     "metadata": {},
     "output_type": "execute_result"
    }
   ],
   "source": [
    "len(z)"
   ]
  },
  {
   "cell_type": "code",
   "execution_count": 23,
   "id": "fcc0c220-ec70-4dfd-b848-d88404697116",
   "metadata": {},
   "outputs": [
    {
     "data": {
      "text/plain": [
       "7"
      ]
     },
     "execution_count": 23,
     "metadata": {},
     "output_type": "execute_result"
    }
   ],
   "source": [
    "z[6][3]"
   ]
  },
  {
   "cell_type": "code",
   "execution_count": 25,
   "id": "b533dc01-f723-449d-908c-5e9cc3f5ff94",
   "metadata": {},
   "outputs": [
    {
     "data": {
      "text/plain": [
       "(6, 7, 8)"
      ]
     },
     "execution_count": 25,
     "metadata": {},
     "output_type": "execute_result"
    }
   ],
   "source": [
    "z[6][2:5]"
   ]
  },
  {
   "cell_type": "code",
   "execution_count": 26,
   "id": "7e26a899-541c-4db8-b819-ca4bb3508aa7",
   "metadata": {},
   "outputs": [
    {
     "data": {
      "text/plain": [
       "(1, 2, 3, 4, 5, 6)"
      ]
     },
     "execution_count": 26,
     "metadata": {},
     "output_type": "execute_result"
    }
   ],
   "source": [
    "(1,2,3)+(4,5,6)"
   ]
  },
  {
   "cell_type": "code",
   "execution_count": 27,
   "id": "f8d84c57-bce4-42c2-9f9e-6fb3b8f89b68",
   "metadata": {},
   "outputs": [
    {
     "data": {
      "text/plain": [
       "(10, 10.0, '10', [10], (10,))"
      ]
     },
     "execution_count": 27,
     "metadata": {},
     "output_type": "execute_result"
    }
   ],
   "source": [
    "a"
   ]
  },
  {
   "cell_type": "code",
   "execution_count": 28,
   "id": "729bb540-5bf8-4100-aabe-71ac6a2cf809",
   "metadata": {},
   "outputs": [
    {
     "data": {
      "text/plain": [
       "1"
      ]
     },
     "execution_count": 28,
     "metadata": {},
     "output_type": "execute_result"
    }
   ],
   "source": [
    "a.count('10')"
   ]
  },
  {
   "cell_type": "code",
   "execution_count": 29,
   "id": "647133e1-d305-4d7b-9c51-be5bef5fc78f",
   "metadata": {},
   "outputs": [
    {
     "data": {
      "text/plain": [
       "2"
      ]
     },
     "execution_count": 29,
     "metadata": {},
     "output_type": "execute_result"
    }
   ],
   "source": [
    "a.count(10)"
   ]
  },
  {
   "cell_type": "code",
   "execution_count": 30,
   "id": "9f4bf593-0bcf-4ed3-9881-412a4ea5697a",
   "metadata": {},
   "outputs": [
    {
     "data": {
      "text/plain": [
       "0"
      ]
     },
     "execution_count": 30,
     "metadata": {},
     "output_type": "execute_result"
    }
   ],
   "source": [
    "a.index(10)"
   ]
  },
  {
   "cell_type": "code",
   "execution_count": 31,
   "id": "75a4934c-bc63-46cf-be9b-aa498714b268",
   "metadata": {},
   "outputs": [
    {
     "data": {
      "text/plain": [
       "0"
      ]
     },
     "execution_count": 31,
     "metadata": {},
     "output_type": "execute_result"
    }
   ],
   "source": [
    "a.index(10.0)"
   ]
  },
  {
   "cell_type": "code",
   "execution_count": 32,
   "id": "67f673ac-cbb8-42f8-a20a-38bba38b98c0",
   "metadata": {},
   "outputs": [
    {
     "data": {
      "text/plain": [
       "1"
      ]
     },
     "execution_count": 32,
     "metadata": {},
     "output_type": "execute_result"
    }
   ],
   "source": [
    "a.index(10.0,1,1000000)"
   ]
  },
  {
   "cell_type": "code",
   "execution_count": null,
   "id": "1feb8498-2810-4f14-8767-d146a0737af5",
   "metadata": {},
   "outputs": [],
   "source": []
  }
 ],
 "metadata": {
  "kernelspec": {
   "display_name": "Python 3 (ipykernel)",
   "language": "python",
   "name": "python3"
  },
  "language_info": {
   "codemirror_mode": {
    "name": "ipython",
    "version": 3
   },
   "file_extension": ".py",
   "mimetype": "text/x-python",
   "name": "python",
   "nbconvert_exporter": "python",
   "pygments_lexer": "ipython3",
   "version": "3.10.9"
  }
 },
 "nbformat": 4,
 "nbformat_minor": 5
}
