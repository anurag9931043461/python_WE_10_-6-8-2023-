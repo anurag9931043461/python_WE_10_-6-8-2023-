{
 "cells": [
  {
   "cell_type": "raw",
   "id": "1c4d507f-2c5c-4f8e-bcd7-43c5a045a934",
   "metadata": {},
   "source": [
    "1> compile time error \n",
    "\n",
    "2> runtime error"
   ]
  },
  {
   "cell_type": "code",
   "execution_count": 1,
   "id": "8ec5ea3a-9520-4432-848f-52d4ef72635a",
   "metadata": {},
   "outputs": [
    {
     "ename": "SyntaxError",
     "evalue": "incomplete input (3480230379.py, line 3)",
     "output_type": "error",
     "traceback": [
      "\u001b[1;36m  Cell \u001b[1;32mIn[1], line 3\u001b[1;36m\u001b[0m\n\u001b[1;33m    print(a/0\u001b[0m\n\u001b[1;37m             ^\u001b[0m\n\u001b[1;31mSyntaxError\u001b[0m\u001b[1;31m:\u001b[0m incomplete input\n"
     ]
    }
   ],
   "source": [
    "#compile time error\n",
    "a=int(input(\"Enter a number\"))\n",
    "print(a/0"
   ]
  },
  {
   "cell_type": "code",
   "execution_count": null,
   "id": "5cca443e-63fe-4857-9f5d-30ed7fe4da95",
   "metadata": {},
   "outputs": [],
   "source": [
    "#run time error\n",
    "a=int(input(\"Enter a number\"))\n",
    "print(a/0)"
   ]
  },
  {
   "cell_type": "code",
   "execution_count": null,
   "id": "612edc84-1e80-44f5-a0b3-820e14a25163",
   "metadata": {},
   "outputs": [],
   "source": [
    "while True:\n",
    "    a=eval(input(\"Enter a number\"))\n",
    "    b=eval(input(\"Enter 2nd number:\"))\n",
    "    print(a/b)"
   ]
  },
  {
   "cell_type": "code",
   "execution_count": null,
   "id": "1e4a1673-1991-4148-af3c-2704486f58d3",
   "metadata": {},
   "outputs": [],
   "source": [
    "a=eval(input(\"Enter a number\"))\n",
    "b=eval(input(\"Enter 2nd number:\"))\n",
    "print(a/b)\n",
    "print(\"Hello\")"
   ]
  },
  {
   "cell_type": "code",
   "execution_count": null,
   "id": "6d923e91-9089-45c2-8144-3971407046d6",
   "metadata": {},
   "outputs": [],
   "source": [
    "# after applying exception handling , try, except, finally, else, Exception(class)"
   ]
  },
  {
   "cell_type": "code",
   "execution_count": null,
   "id": "32d5a3e1-1ca0-4fcb-9bbf-61aae1ebc900",
   "metadata": {},
   "outputs": [],
   "source": [
    "try:\n",
    "    a=eval(input(\"Enter a number\"))\n",
    "    b=eval(input(\"Enter 2nd number:\"))\n",
    "    print(a/b)\n",
    "except:\n",
    "    print(\"Syntex Error!!!\")\n",
    "print(\"Hello \")"
   ]
  },
  {
   "cell_type": "code",
   "execution_count": 3,
   "id": "b50e3bf1-6494-4ba2-8609-da5982022713",
   "metadata": {},
   "outputs": [
    {
     "name": "stdin",
     "output_type": "stream",
     "text": [
      "Enter a number 10\n",
      "Enter 2nd number: 20\n"
     ]
    },
    {
     "name": "stdout",
     "output_type": "stream",
     "text": [
      "0.5\n"
     ]
    },
    {
     "name": "stdin",
     "output_type": "stream",
     "text": [
      "do you want to use this service: if yes press y/n: 20\n",
      "Enter a number 30\n",
      "Enter 2nd number: 25\n"
     ]
    },
    {
     "name": "stdout",
     "output_type": "stream",
     "text": [
      "1.2\n"
     ]
    },
    {
     "name": "stdin",
     "output_type": "stream",
     "text": [
      "do you want to use this service: if yes press y/n: y\n",
      "Enter a number 25\n",
      "Enter 2nd number: 45\n"
     ]
    },
    {
     "name": "stdout",
     "output_type": "stream",
     "text": [
      "0.5555555555555556\n"
     ]
    },
    {
     "name": "stdin",
     "output_type": "stream",
     "text": [
      "do you want to use this service: if yes press y/n: n\n"
     ]
    }
   ],
   "source": [
    "while True:\n",
    "    try:\n",
    "        a=eval(input(\"Enter a number\"))\n",
    "        b=eval(input(\"Enter 2nd number:\"))\n",
    "        print(a/b)\n",
    "    except:\n",
    "        print(\"Syntex Error!!!\")\n",
    "    finally:\n",
    "        user=input(\"Do you want to use this service: if yes press y/n:\".casefold()) #\"y\"\n",
    "        if user==\"n\":\n",
    "            break\n",
    "        "
   ]
  },
  {
   "cell_type": "code",
   "execution_count": 4,
   "id": "3a7c4b1e-679b-441a-b0eb-f659870ffe77",
   "metadata": {},
   "outputs": [
    {
     "name": "stdin",
     "output_type": "stream",
     "text": [
      "Enter a number 10\n",
      "Enter 2nd number: 20\n"
     ]
    },
    {
     "name": "stdout",
     "output_type": "stream",
     "text": [
      "0.5\n",
      "check internet\n"
     ]
    },
    {
     "name": "stdin",
     "output_type": "stream",
     "text": [
      "do you want to use this service: if yes press y/n: y\n",
      "Enter a number 20\n",
      "Enter 2nd number: 5.25\n"
     ]
    },
    {
     "name": "stdout",
     "output_type": "stream",
     "text": [
      "3.8095238095238093\n",
      "check internet\n"
     ]
    },
    {
     "name": "stdin",
     "output_type": "stream",
     "text": [
      "do you want to use this service: if yes press y/n: 10\n",
      "Enter a number 0\n",
      "Enter 2nd number: 0\n"
     ]
    },
    {
     "name": "stdout",
     "output_type": "stream",
     "text": [
      "Syntex Error!!!\n"
     ]
    },
    {
     "name": "stdin",
     "output_type": "stream",
     "text": [
      "do you want to use this service: if yes press y/n: n\n"
     ]
    }
   ],
   "source": [
    "while True:\n",
    "    try:\n",
    "        a=eval(input(\"Enter a number\"))\n",
    "        b=eval(input(\"Enter 2nd number:\"))\n",
    "        print(a/b)\n",
    "    except:\n",
    "        print(\"Syntex Error!!!\")\n",
    "    else:\n",
    "        print(\"check internet\")\n",
    "    finally:\n",
    "        user=input(\"Do you want to use this service: if yes press y/n:\".casefold()) #\"y\"\n",
    "        if user==\"n\":\n",
    "            break\n",
    "        "
   ]
  },
  {
   "cell_type": "code",
   "execution_count": 8,
   "id": "2e1f98f4-c518-4d8f-9843-1aa1a937f0a9",
   "metadata": {},
   "outputs": [
    {
     "name": "stdin",
     "output_type": "stream",
     "text": [
      "Enter a number ffd\n"
     ]
    },
    {
     "name": "stdout",
     "output_type": "stream",
     "text": [
      "name 'ffd' is not defined\n"
     ]
    },
    {
     "name": "stdin",
     "output_type": "stream",
     "text": [
      "do you want to use this service: if yes press y/n: n\n"
     ]
    }
   ],
   "source": [
    "while True:\n",
    "    try:\n",
    "        a=eval(input(\"Enter a number\"))\n",
    "        b=eval(input(\"Enter 2nd number:\"))\n",
    "        print(a/b)\n",
    "    except ZeroDivisionError as e:\n",
    "        print(e)\n",
    "    except NameError as e:\n",
    "        print(e)\n",
    "    else:\n",
    "        print(\"check internet\")\n",
    "    finally:\n",
    "        user=input(\"Do you want to use this service: if yes press y/n:\".casefold()) #\"y\"\n",
    "        if user==\"n\":\n",
    "            break"
   ]
  },
  {
   "cell_type": "code",
   "execution_count": 5,
   "id": "856257bb-dfb4-43f6-b7c8-b9bdd5c0c19b",
   "metadata": {},
   "outputs": [
    {
     "name": "stdin",
     "output_type": "stream",
     "text": [
      "Enter a number 10\n",
      "Enter 2nd number: 0\n"
     ]
    },
    {
     "ename": "ZeroDivisionError",
     "evalue": "division by zero",
     "output_type": "error",
     "traceback": [
      "\u001b[1;31m---------------------------------------------------------------------------\u001b[0m",
      "\u001b[1;31mZeroDivisionError\u001b[0m                         Traceback (most recent call last)",
      "Cell \u001b[1;32mIn[5], line 3\u001b[0m\n\u001b[0;32m      1\u001b[0m a\u001b[38;5;241m=\u001b[39m\u001b[38;5;28meval\u001b[39m(\u001b[38;5;28minput\u001b[39m(\u001b[38;5;124m\"\u001b[39m\u001b[38;5;124mEnter a number\u001b[39m\u001b[38;5;124m\"\u001b[39m))\n\u001b[0;32m      2\u001b[0m b\u001b[38;5;241m=\u001b[39m\u001b[38;5;28meval\u001b[39m(\u001b[38;5;28minput\u001b[39m(\u001b[38;5;124m\"\u001b[39m\u001b[38;5;124mEnter 2nd number:\u001b[39m\u001b[38;5;124m\"\u001b[39m))\n\u001b[1;32m----> 3\u001b[0m \u001b[38;5;28mprint\u001b[39m(\u001b[43ma\u001b[49m\u001b[38;5;241;43m/\u001b[39;49m\u001b[43mb\u001b[49m)\n\u001b[0;32m      4\u001b[0m \u001b[38;5;28mprint\u001b[39m(\u001b[38;5;124m\"\u001b[39m\u001b[38;5;124mHello\u001b[39m\u001b[38;5;124m\"\u001b[39m)\n",
      "\u001b[1;31mZeroDivisionError\u001b[0m: division by zero"
     ]
    }
   ],
   "source": [
    "a=eval(input(\"Enter a number\"))\n",
    "b=eval(input(\"Enter 2nd number:\"))\n",
    "print(a/b)\n",
    "print(\"Hello\")"
   ]
  },
  {
   "cell_type": "code",
   "execution_count": 9,
   "id": "5d843406-34a6-4036-a93f-cd3be0b8c189",
   "metadata": {},
   "outputs": [
    {
     "name": "stdin",
     "output_type": "stream",
     "text": [
      "Enter a number 10\n",
      "Enter 2nd number: 20\n"
     ]
    },
    {
     "name": "stdout",
     "output_type": "stream",
     "text": [
      "0.5\n",
      "check internet\n"
     ]
    },
    {
     "name": "stdin",
     "output_type": "stream",
     "text": [
      "do you want to use this service: if yes press y/n: y\n",
      "Enter a number 20\n",
      "Enter 2nd number: 0\n"
     ]
    },
    {
     "name": "stdout",
     "output_type": "stream",
     "text": [
      "division by zero\n"
     ]
    },
    {
     "name": "stdin",
     "output_type": "stream",
     "text": [
      "do you want to use this service: if yes press y/n: y\n",
      "Enter a number krishna\n"
     ]
    },
    {
     "name": "stdout",
     "output_type": "stream",
     "text": [
      "name 'krishna' is not defined\n"
     ]
    },
    {
     "name": "stdin",
     "output_type": "stream",
     "text": [
      "do you want to use this service: if yes press y/n: y\n",
      "Enter a number 10\n",
      "Enter 2nd number: n\n"
     ]
    },
    {
     "name": "stdout",
     "output_type": "stream",
     "text": [
      "name 'n' is not defined\n"
     ]
    },
    {
     "name": "stdin",
     "output_type": "stream",
     "text": [
      "do you want to use this service: if yes press y/n: n\n"
     ]
    }
   ],
   "source": [
    "while True:\n",
    "    try:\n",
    "        a=eval(input(\"Enter a number\"))\n",
    "        b=eval(input(\"Enter 2nd number:\"))\n",
    "        print(a/b)\n",
    "    except ZeroDivisionError as e:\n",
    "        print(e)\n",
    "    except NameError as e:\n",
    "        print(e)\n",
    "    else:\n",
    "        print(\"check internet\")\n",
    "    finally:\n",
    "        user=input(\"Do you want to use this service: if yes press y/n:\".casefold()) #\"y\"\n",
    "        if user==\"n\":\n",
    "            break"
   ]
  },
  {
   "cell_type": "code",
   "execution_count": 11,
   "id": "29784147-5f9c-47d6-bb95-e6ffc54de919",
   "metadata": {},
   "outputs": [
    {
     "name": "stdin",
     "output_type": "stream",
     "text": [
      "Enter a number 10\n",
      "Enter 2nd number: 0\n"
     ]
    },
    {
     "name": "stdout",
     "output_type": "stream",
     "text": [
      "division by zero\n"
     ]
    },
    {
     "name": "stdin",
     "output_type": "stream",
     "text": [
      "do you want to use this service: if yes press y/n: y\n",
      "Enter a number krishna\n"
     ]
    },
    {
     "name": "stdout",
     "output_type": "stream",
     "text": [
      "name 'krishna' is not defined\n"
     ]
    },
    {
     "name": "stdin",
     "output_type": "stream",
     "text": [
      "do you want to use this service: if yes press y/n: n\n"
     ]
    }
   ],
   "source": [
    "while True:\n",
    "    try:\n",
    "        a=eval(input(\"Enter a number\"))\n",
    "        b=eval(input(\"Enter 2nd number:\"))\n",
    "        print(a/b)\n",
    "    # except ZeroDivisionError as e:\n",
    "    #     print(e)\n",
    "    # except NameError as e:\n",
    "    #     print(e)\n",
    "    except Exception as e:\n",
    "        print(e)\n",
    "    else:\n",
    "        print(\"check internet\")\n",
    "    finally:\n",
    "        user=input(\"Do you want to use this service: if yes press y/n:\".casefold()) #\"y\"\n",
    "        if user==\"n\":\n",
    "            break"
   ]
  },
  {
   "cell_type": "code",
   "execution_count": 14,
   "id": "2d986306-76f2-460a-a477-df47d018a76f",
   "metadata": {},
   "outputs": [
    {
     "name": "stdin",
     "output_type": "stream",
     "text": [
      "Enter a number krishna\n"
     ]
    },
    {
     "name": "stdout",
     "output_type": "stream",
     "text": [
      "name 'krishna' is not defined\n"
     ]
    },
    {
     "name": "stdin",
     "output_type": "stream",
     "text": [
      "do you want to use this service: if yes press y/n: n\n"
     ]
    }
   ],
   "source": [
    "while True:\n",
    "    try:\n",
    "        a=eval(input(\"Enter a number\"))\n",
    "        b=eval(input(\"Enter 2nd number:\"))\n",
    "        print(a/b)\n",
    "    # except ZeroDivisionError as e:\n",
    "    #     print(e)\n",
    "    # except NameError as e:\n",
    "    #     print(e)\n",
    "    except Exception as e:\n",
    "        print(e)\n",
    "    else:\n",
    "        print(\"check internet\")\n",
    "    finally:\n",
    "        user=input(\"Do you want to use this service: if yes press y/n:\".casefold()) #\"y\"\n",
    "        if user==\"n\":\n",
    "            break"
   ]
  },
  {
   "cell_type": "code",
   "execution_count": 18,
   "id": "22c5d8b7-1638-4f20-996e-4d264d8f197c",
   "metadata": {},
   "outputs": [
    {
     "name": "stdin",
     "output_type": "stream",
     "text": [
      "Enter a number 10\n",
      "Enter 2nd number: 99\n"
     ]
    },
    {
     "name": "stdout",
     "output_type": "stream",
     "text": [
      "opium\n",
      "good\n"
     ]
    }
   ],
   "source": [
    "try:\n",
    "    a=eval(input(\"Enter a number\"))   #10\n",
    "    b=eval(input(\"Enter 2nd number:\")) #10\n",
    "    if a<100 or b<100:\n",
    "        raise Exception(\"opium\")\n",
    "    print(a/b)\n",
    "except Exception as e:\n",
    "        print(e)\n",
    "finally:\n",
    "    print(\"good\")"
   ]
  },
  {
   "cell_type": "code",
   "execution_count": null,
   "id": "d1cbb4b6-1f91-4a41-84fe-3fd00421718f",
   "metadata": {},
   "outputs": [],
   "source": []
  }
 ],
 "metadata": {
  "kernelspec": {
   "display_name": "Python 3 (ipykernel)",
   "language": "python",
   "name": "python3"
  },
  "language_info": {
   "codemirror_mode": {
    "name": "ipython",
    "version": 3
   },
   "file_extension": ".py",
   "mimetype": "text/x-python",
   "name": "python",
   "nbconvert_exporter": "python",
   "pygments_lexer": "ipython3",
   "version": "3.11.5"
  }
 },
 "nbformat": 4,
 "nbformat_minor": 5
}
