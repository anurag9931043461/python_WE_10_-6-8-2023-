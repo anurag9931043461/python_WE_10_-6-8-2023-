{
 "cells": [
  {
   "cell_type": "markdown",
   "id": "cd7edefc-6c74-4556-ac5c-84598a521eb3",
   "metadata": {},
   "source": [
    "# set \n",
    "\n",
    "> set constructor is set()\n",
    "\n",
    "> set literal is not available\n",
    "\n",
    "> set does not support duplicat values.\n",
    "\n",
    "> set create a hashing table internally to remove duplicacy\n",
    "\n",
    "> set is unordered set of sequence of elements.\n",
    "\n",
    "> set does not support indexing \n",
    "\n",
    "> set does not support slicing \n",
    "\n",
    "> set does not support concatination\n",
    "\n",
    "> set does not support nested set\n",
    "\n",
    "> set is mutable(unhashable)\n",
    "\n",
    "> set methods."
   ]
  },
  {
   "cell_type": "code",
   "execution_count": 1,
   "id": "ff5d5775-8abe-41f7-9d84-083ab47487bc",
   "metadata": {},
   "outputs": [],
   "source": [
    "a={1,1,1,1,1,2,2,2,2,3,3,3,3,4,4,4,45,5,5,5,5}"
   ]
  },
  {
   "cell_type": "code",
   "execution_count": 2,
   "id": "01a526c5-84de-444b-bae8-8e41adc53ce1",
   "metadata": {},
   "outputs": [
    {
     "name": "stdout",
     "output_type": "stream",
     "text": [
      "{1, 2, 3, 4, 5, 45}\n"
     ]
    }
   ],
   "source": [
    "print(a)"
   ]
  },
  {
   "cell_type": "code",
   "execution_count": 5,
   "id": "292cad6d-abb3-4302-9ed7-05e1881dd24e",
   "metadata": {},
   "outputs": [
    {
     "name": "stdout",
     "output_type": "stream",
     "text": [
      "10\n",
      "2507013423632\n"
     ]
    }
   ],
   "source": [
    "b=10\n",
    "print(b)\n",
    "print(id(b))"
   ]
  },
  {
   "cell_type": "code",
   "execution_count": 6,
   "id": "b24f3831-88d5-4d54-b479-7d797939abc4",
   "metadata": {},
   "outputs": [
    {
     "name": "stdout",
     "output_type": "stream",
     "text": [
      "10\n",
      "2507013423632\n"
     ]
    }
   ],
   "source": [
    "c=10\n",
    "print(c)\n",
    "print(id(c))"
   ]
  },
  {
   "cell_type": "code",
   "execution_count": 2,
   "id": "3fe3c02d-d2de-406f-b741-f86576c4d0af",
   "metadata": {},
   "outputs": [],
   "source": [
    "c=set()   # constructor of set()"
   ]
  },
  {
   "cell_type": "code",
   "execution_count": 3,
   "id": "64f12715-cca6-47f8-b5a0-97328956cb2e",
   "metadata": {},
   "outputs": [
    {
     "name": "stdout",
     "output_type": "stream",
     "text": [
      "set()\n"
     ]
    }
   ],
   "source": [
    "print(c)"
   ]
  },
  {
   "cell_type": "code",
   "execution_count": 4,
   "id": "115a79c5-9dca-4b3b-a8f0-5995cb400b37",
   "metadata": {},
   "outputs": [],
   "source": [
    "c.add(10)"
   ]
  },
  {
   "cell_type": "code",
   "execution_count": 5,
   "id": "c60383d2-94cd-4e72-928b-742cc66a7be7",
   "metadata": {},
   "outputs": [
    {
     "name": "stdout",
     "output_type": "stream",
     "text": [
      "{10}\n"
     ]
    }
   ],
   "source": [
    "print(c)"
   ]
  },
  {
   "cell_type": "code",
   "execution_count": 6,
   "id": "daf8cd95-d846-49f0-8c38-6033a3fe2536",
   "metadata": {},
   "outputs": [],
   "source": [
    "c.add(10.55)"
   ]
  },
  {
   "cell_type": "code",
   "execution_count": 7,
   "id": "a4d21e53-6a2c-4e92-a379-963be60b9b83",
   "metadata": {},
   "outputs": [
    {
     "name": "stdout",
     "output_type": "stream",
     "text": [
      "{10, 10.55}\n"
     ]
    }
   ],
   "source": [
    "print(c)"
   ]
  },
  {
   "cell_type": "code",
   "execution_count": 8,
   "id": "9b514a33-bfa7-4852-aa03-a808886bc50d",
   "metadata": {},
   "outputs": [],
   "source": [
    "c.add(\"krishna\")"
   ]
  },
  {
   "cell_type": "code",
   "execution_count": 9,
   "id": "9ec1c039-88f3-4262-94ba-998b4ccd89f3",
   "metadata": {},
   "outputs": [
    {
     "name": "stdout",
     "output_type": "stream",
     "text": [
      "{'krishna', 10, 10.55}\n"
     ]
    }
   ],
   "source": [
    "print(c)"
   ]
  },
  {
   "cell_type": "code",
   "execution_count": 10,
   "id": "ba9daa18-08f0-4ddd-a1b9-9d4237d42856",
   "metadata": {},
   "outputs": [],
   "source": [
    "c.add((1,2,3,4))"
   ]
  },
  {
   "cell_type": "code",
   "execution_count": 11,
   "id": "f3170e76-c8a3-49b3-ac13-44d7f4a198cf",
   "metadata": {},
   "outputs": [
    {
     "name": "stdout",
     "output_type": "stream",
     "text": [
      "{(1, 2, 3, 4), 'krishna', 10, 10.55}\n"
     ]
    }
   ],
   "source": [
    "print(c)"
   ]
  },
  {
   "cell_type": "code",
   "execution_count": 12,
   "id": "ba1c247f-f11f-41a4-b7b4-e7076c87e9f9",
   "metadata": {},
   "outputs": [
    {
     "ename": "TypeError",
     "evalue": "unhashable type: 'set'",
     "output_type": "error",
     "traceback": [
      "\u001b[1;31m---------------------------------------------------------------------------\u001b[0m",
      "\u001b[1;31mTypeError\u001b[0m                                 Traceback (most recent call last)",
      "Cell \u001b[1;32mIn[12], line 1\u001b[0m\n\u001b[1;32m----> 1\u001b[0m \u001b[43mc\u001b[49m\u001b[38;5;241;43m.\u001b[39;49m\u001b[43madd\u001b[49m\u001b[43m(\u001b[49m\u001b[43m{\u001b[49m\u001b[38;5;241;43m1\u001b[39;49m\u001b[43m,\u001b[49m\u001b[38;5;241;43m2\u001b[39;49m\u001b[43m,\u001b[49m\u001b[38;5;241;43m3\u001b[39;49m\u001b[43m,\u001b[49m\u001b[38;5;241;43m4\u001b[39;49m\u001b[43m}\u001b[49m\u001b[43m)\u001b[49m\n",
      "\u001b[1;31mTypeError\u001b[0m: unhashable type: 'set'"
     ]
    }
   ],
   "source": [
    "c.add({1,2,3,4})"
   ]
  },
  {
   "cell_type": "code",
   "execution_count": 13,
   "id": "1fa4c288-57d4-497b-9fc5-f8a08e540817",
   "metadata": {},
   "outputs": [
    {
     "ename": "TypeError",
     "evalue": "unhashable type: 'list'",
     "output_type": "error",
     "traceback": [
      "\u001b[1;31m---------------------------------------------------------------------------\u001b[0m",
      "\u001b[1;31mTypeError\u001b[0m                                 Traceback (most recent call last)",
      "Cell \u001b[1;32mIn[13], line 1\u001b[0m\n\u001b[1;32m----> 1\u001b[0m \u001b[43mc\u001b[49m\u001b[38;5;241;43m.\u001b[39;49m\u001b[43madd\u001b[49m\u001b[43m(\u001b[49m\u001b[43m[\u001b[49m\u001b[38;5;241;43m1\u001b[39;49m\u001b[43m,\u001b[49m\u001b[38;5;241;43m2\u001b[39;49m\u001b[43m,\u001b[49m\u001b[38;5;241;43m3\u001b[39;49m\u001b[43m,\u001b[49m\u001b[38;5;241;43m4\u001b[39;49m\u001b[43m]\u001b[49m\u001b[43m)\u001b[49m\n",
      "\u001b[1;31mTypeError\u001b[0m: unhashable type: 'list'"
     ]
    }
   ],
   "source": [
    "c.add([1,2,3,4])"
   ]
  },
  {
   "cell_type": "code",
   "execution_count": 14,
   "id": "ea573880-efc6-4ff9-a1e2-787f25c5d108",
   "metadata": {},
   "outputs": [
    {
     "name": "stdout",
     "output_type": "stream",
     "text": [
      "{(1, 2, 3, 4), 'krishna', 10, 10.55}\n"
     ]
    }
   ],
   "source": [
    "print(c)"
   ]
  },
  {
   "cell_type": "code",
   "execution_count": 15,
   "id": "39f3c718-57a3-4039-a796-2ab46aa1bba8",
   "metadata": {},
   "outputs": [
    {
     "ename": "TypeError",
     "evalue": "'set' object is not subscriptable",
     "output_type": "error",
     "traceback": [
      "\u001b[1;31m---------------------------------------------------------------------------\u001b[0m",
      "\u001b[1;31mTypeError\u001b[0m                                 Traceback (most recent call last)",
      "Cell \u001b[1;32mIn[15], line 1\u001b[0m\n\u001b[1;32m----> 1\u001b[0m \u001b[43mc\u001b[49m\u001b[43m[\u001b[49m\u001b[38;5;241;43m2\u001b[39;49m\u001b[43m]\u001b[49m\n",
      "\u001b[1;31mTypeError\u001b[0m: 'set' object is not subscriptable"
     ]
    }
   ],
   "source": [
    "c[2]"
   ]
  },
  {
   "cell_type": "code",
   "execution_count": 17,
   "id": "d980794b-1412-4dae-be2b-f3f0e8e2674e",
   "metadata": {},
   "outputs": [
    {
     "ename": "TypeError",
     "evalue": "unhashable type: 'set'",
     "output_type": "error",
     "traceback": [
      "\u001b[1;31m---------------------------------------------------------------------------\u001b[0m",
      "\u001b[1;31mTypeError\u001b[0m                                 Traceback (most recent call last)",
      "Cell \u001b[1;32mIn[17], line 1\u001b[0m\n\u001b[1;32m----> 1\u001b[0m e\u001b[38;5;241m=\u001b[39m{\u001b[38;5;241m1\u001b[39m,\u001b[38;5;241m2\u001b[39m,\u001b[38;5;241m3\u001b[39m,\u001b[38;5;241m4\u001b[39m,{\u001b[38;5;241m1\u001b[39m,\u001b[38;5;241m2\u001b[39m,\u001b[38;5;241m3\u001b[39m,\u001b[38;5;241m4\u001b[39m,\u001b[38;5;241m5\u001b[39m,\u001b[38;5;241m6\u001b[39m}}\n",
      "\u001b[1;31mTypeError\u001b[0m: unhashable type: 'set'"
     ]
    }
   ],
   "source": [
    "e={1,2,3,4,{1,2,3,4,5,6}}   #set doesnot support nested set beacuse set is mutable"
   ]
  },
  {
   "cell_type": "code",
   "execution_count": 20,
   "id": "3aa3722f-6c87-4a26-a257-bb0aa5f39b3b",
   "metadata": {},
   "outputs": [
    {
     "name": "stdout",
     "output_type": "stream",
     "text": [
      "set()\n",
      "<class 'set'>\n"
     ]
    }
   ],
   "source": [
    "f=set()\n",
    "print(f)\n",
    "print(type(f))"
   ]
  },
  {
   "cell_type": "code",
   "execution_count": 25,
   "id": "48c64951-af0a-4a54-82fb-31c4967c0fff",
   "metadata": {},
   "outputs": [
    {
     "data": {
      "text/plain": [
       "['__and__',\n",
       " '__class__',\n",
       " '__class_getitem__',\n",
       " '__contains__',\n",
       " '__delattr__',\n",
       " '__dir__',\n",
       " '__doc__',\n",
       " '__eq__',\n",
       " '__format__',\n",
       " '__ge__',\n",
       " '__getattribute__',\n",
       " '__gt__',\n",
       " '__hash__',\n",
       " '__iand__',\n",
       " '__init__',\n",
       " '__init_subclass__',\n",
       " '__ior__',\n",
       " '__isub__',\n",
       " '__iter__',\n",
       " '__ixor__',\n",
       " '__le__',\n",
       " '__len__',\n",
       " '__lt__',\n",
       " '__ne__',\n",
       " '__new__',\n",
       " '__or__',\n",
       " '__rand__',\n",
       " '__reduce__',\n",
       " '__reduce_ex__',\n",
       " '__repr__',\n",
       " '__ror__',\n",
       " '__rsub__',\n",
       " '__rxor__',\n",
       " '__setattr__',\n",
       " '__sizeof__',\n",
       " '__str__',\n",
       " '__sub__',\n",
       " '__subclasshook__',\n",
       " '__xor__',\n",
       " 'add',\n",
       " 'clear',\n",
       " 'copy',\n",
       " 'difference',\n",
       " 'difference_update',\n",
       " 'discard',\n",
       " 'intersection',\n",
       " 'intersection_update',\n",
       " 'isdisjoint',\n",
       " 'issubset',\n",
       " 'issuperset',\n",
       " 'pop',\n",
       " 'remove',\n",
       " 'symmetric_difference',\n",
       " 'symmetric_difference_update',\n",
       " 'union',\n",
       " 'update']"
      ]
     },
     "execution_count": 25,
     "metadata": {},
     "output_type": "execute_result"
    }
   ],
   "source": [
    "dir(f)"
   ]
  },
  {
   "cell_type": "code",
   "execution_count": 26,
   "id": "2cb1bbd5-af35-441e-b031-de5462b15917",
   "metadata": {},
   "outputs": [
    {
     "name": "stdout",
     "output_type": "stream",
     "text": [
      "set()\n"
     ]
    }
   ],
   "source": [
    "print(f)"
   ]
  },
  {
   "cell_type": "markdown",
   "id": "5d39173d-dd0d-47a3-9d51-f04ccaab697e",
   "metadata": {},
   "source": [
    "# add elements into set"
   ]
  },
  {
   "cell_type": "code",
   "execution_count": 33,
   "id": "a28ded58-b8c3-4abf-b743-2c08863b4012",
   "metadata": {},
   "outputs": [
    {
     "name": "stdout",
     "output_type": "stream",
     "text": [
      "set()\n",
      "2764963934976\n"
     ]
    }
   ],
   "source": [
    "f=set()\n",
    "print(f)\n",
    "print(id(f))"
   ]
  },
  {
   "cell_type": "code",
   "execution_count": 34,
   "id": "7fcc9414-3d33-45f9-a092-28dc7002f2a3",
   "metadata": {},
   "outputs": [],
   "source": [
    "f.add(10.898)"
   ]
  },
  {
   "cell_type": "code",
   "execution_count": 35,
   "id": "d8910fb0-1694-4d2f-9851-1c3d828ec28e",
   "metadata": {},
   "outputs": [
    {
     "name": "stdout",
     "output_type": "stream",
     "text": [
      "{10.898}\n"
     ]
    }
   ],
   "source": [
    "print(f)"
   ]
  },
  {
   "cell_type": "code",
   "execution_count": 36,
   "id": "6dc80395-eb04-4cfb-a2da-afcff81d8629",
   "metadata": {},
   "outputs": [
    {
     "name": "stdout",
     "output_type": "stream",
     "text": [
      "2764963934976\n"
     ]
    }
   ],
   "source": [
    "print(id(f))"
   ]
  },
  {
   "cell_type": "code",
   "execution_count": 41,
   "id": "6da6abc5-9354-42ba-a90f-42be95bce9a3",
   "metadata": {},
   "outputs": [
    {
     "ename": "TypeError",
     "evalue": "'int' object is not iterable",
     "output_type": "error",
     "traceback": [
      "\u001b[1;31m---------------------------------------------------------------------------\u001b[0m",
      "\u001b[1;31mTypeError\u001b[0m                                 Traceback (most recent call last)",
      "Cell \u001b[1;32mIn[41], line 1\u001b[0m\n\u001b[1;32m----> 1\u001b[0m \u001b[43mf\u001b[49m\u001b[38;5;241;43m.\u001b[39;49m\u001b[43mupdate\u001b[49m\u001b[43m(\u001b[49m\u001b[38;5;241;43m10\u001b[39;49m\u001b[43m)\u001b[49m\n",
      "\u001b[1;31mTypeError\u001b[0m: 'int' object is not iterable"
     ]
    }
   ],
   "source": [
    "f.update(10)"
   ]
  },
  {
   "cell_type": "code",
   "execution_count": 42,
   "id": "d36d7d94-17a8-4a70-b058-8d6e5c92ae3e",
   "metadata": {},
   "outputs": [
    {
     "ename": "TypeError",
     "evalue": "'float' object is not iterable",
     "output_type": "error",
     "traceback": [
      "\u001b[1;31m---------------------------------------------------------------------------\u001b[0m",
      "\u001b[1;31mTypeError\u001b[0m                                 Traceback (most recent call last)",
      "Cell \u001b[1;32mIn[42], line 1\u001b[0m\n\u001b[1;32m----> 1\u001b[0m \u001b[43mf\u001b[49m\u001b[38;5;241;43m.\u001b[39;49m\u001b[43mupdate\u001b[49m\u001b[43m(\u001b[49m\u001b[38;5;241;43m10.88\u001b[39;49m\u001b[43m)\u001b[49m\n",
      "\u001b[1;31mTypeError\u001b[0m: 'float' object is not iterable"
     ]
    }
   ],
   "source": [
    "f.update(10.88)"
   ]
  },
  {
   "cell_type": "code",
   "execution_count": 43,
   "id": "41c0b6d4-a676-4031-ac62-f235ff5fc07c",
   "metadata": {},
   "outputs": [],
   "source": [
    "f.update(\"krishna\")"
   ]
  },
  {
   "cell_type": "code",
   "execution_count": 44,
   "id": "e1782767-dd82-45e7-95a3-cf101b74a0ae",
   "metadata": {},
   "outputs": [
    {
     "name": "stdout",
     "output_type": "stream",
     "text": [
      "{'r', 's', 10.898, 'h', 'n', 'a', 'i', 'k'}\n"
     ]
    }
   ],
   "source": [
    "print(f)"
   ]
  },
  {
   "cell_type": "code",
   "execution_count": 45,
   "id": "36306651-96a9-410c-bc39-2a5cd3d3f3af",
   "metadata": {},
   "outputs": [],
   "source": [
    "f.add(\"krishna\")"
   ]
  },
  {
   "cell_type": "code",
   "execution_count": 46,
   "id": "bbab6536-d4a9-47c8-96e7-5c624e9636ab",
   "metadata": {},
   "outputs": [
    {
     "name": "stdout",
     "output_type": "stream",
     "text": [
      "{'r', 's', 10.898, 'h', 'n', 'a', 'i', 'krishna', 'k'}\n"
     ]
    }
   ],
   "source": [
    "print(f)"
   ]
  },
  {
   "cell_type": "code",
   "execution_count": 48,
   "id": "97fee808-598a-4599-aa40-eb3b63802fdf",
   "metadata": {},
   "outputs": [],
   "source": [
    "f.update({1,2,3,4,5,6})"
   ]
  },
  {
   "cell_type": "code",
   "execution_count": 49,
   "id": "0d67183b-29c8-4c40-9e41-ebd071cd6ac5",
   "metadata": {},
   "outputs": [
    {
     "name": "stdout",
     "output_type": "stream",
     "text": [
      "{1, 2, 3, 4, 5, 6, 'r', 's', 10.898, 'h', 'n', 'a', 'i', 'krishna', 'k'}\n"
     ]
    }
   ],
   "source": [
    "print(f)"
   ]
  },
  {
   "cell_type": "markdown",
   "id": "5864ffe0-f119-4bb2-9be7-10eb15bc549a",
   "metadata": {},
   "source": [
    "# delete elements of set"
   ]
  },
  {
   "cell_type": "code",
   "execution_count": 50,
   "id": "dbc9c0c3-19eb-4567-8414-6cf459c36270",
   "metadata": {},
   "outputs": [
    {
     "name": "stdout",
     "output_type": "stream",
     "text": [
      "{1, 2, 3, 4, 5, 6, 'r', 's', 10.898, 'h', 'n', 'a', 'i', 'krishna', 'k'}\n"
     ]
    }
   ],
   "source": [
    "print(f)"
   ]
  },
  {
   "cell_type": "code",
   "execution_count": 51,
   "id": "1644278e-c2ac-418c-b0b6-b866b27eff08",
   "metadata": {},
   "outputs": [
    {
     "data": {
      "text/plain": [
       "15"
      ]
     },
     "execution_count": 51,
     "metadata": {},
     "output_type": "execute_result"
    }
   ],
   "source": [
    "len(f)"
   ]
  },
  {
   "cell_type": "code",
   "execution_count": 52,
   "id": "bc243507-633e-4d89-83a9-45ce2e4fda7f",
   "metadata": {},
   "outputs": [],
   "source": [
    "f.discard(10.898)"
   ]
  },
  {
   "cell_type": "code",
   "execution_count": 53,
   "id": "74209e57-15ba-4d40-bbc8-2125a8701963",
   "metadata": {},
   "outputs": [
    {
     "name": "stdout",
     "output_type": "stream",
     "text": [
      "{1, 2, 3, 4, 5, 6, 'r', 's', 'h', 'n', 'a', 'i', 'krishna', 'k'}\n"
     ]
    }
   ],
   "source": [
    "print(f)"
   ]
  },
  {
   "cell_type": "code",
   "execution_count": 54,
   "id": "e1b96d6f-cd6a-41c8-b914-ff0b4de0bb5f",
   "metadata": {},
   "outputs": [],
   "source": [
    "f.discard(100000)"
   ]
  },
  {
   "cell_type": "code",
   "execution_count": 55,
   "id": "aada288c-b1c3-4741-af4c-044f7cb6b93f",
   "metadata": {},
   "outputs": [
    {
     "name": "stdout",
     "output_type": "stream",
     "text": [
      "{1, 2, 3, 4, 5, 6, 'r', 's', 'h', 'n', 'a', 'i', 'krishna', 'k'}\n"
     ]
    }
   ],
   "source": [
    "print(f)"
   ]
  },
  {
   "cell_type": "code",
   "execution_count": 56,
   "id": "eccbb06f-6dd5-481d-87fb-30e926e700ba",
   "metadata": {},
   "outputs": [],
   "source": [
    "f.remove('krishna')"
   ]
  },
  {
   "cell_type": "code",
   "execution_count": 57,
   "id": "045a3baf-276e-4712-abda-d9abbb3481d8",
   "metadata": {},
   "outputs": [
    {
     "name": "stdout",
     "output_type": "stream",
     "text": [
      "{1, 2, 3, 4, 5, 6, 'r', 's', 'h', 'n', 'a', 'i', 'k'}\n"
     ]
    }
   ],
   "source": [
    "print(f)"
   ]
  },
  {
   "cell_type": "code",
   "execution_count": 59,
   "id": "75a58791-8d89-4688-96e8-32812e1daaa9",
   "metadata": {},
   "outputs": [
    {
     "ename": "KeyError",
     "evalue": "'krishna'",
     "output_type": "error",
     "traceback": [
      "\u001b[1;31m---------------------------------------------------------------------------\u001b[0m",
      "\u001b[1;31mKeyError\u001b[0m                                  Traceback (most recent call last)",
      "Cell \u001b[1;32mIn[59], line 1\u001b[0m\n\u001b[1;32m----> 1\u001b[0m \u001b[43mf\u001b[49m\u001b[38;5;241;43m.\u001b[39;49m\u001b[43mremove\u001b[49m\u001b[43m(\u001b[49m\u001b[38;5;124;43m\"\u001b[39;49m\u001b[38;5;124;43mkrishna\u001b[39;49m\u001b[38;5;124;43m\"\u001b[39;49m\u001b[43m)\u001b[49m\n",
      "\u001b[1;31mKeyError\u001b[0m: 'krishna'"
     ]
    }
   ],
   "source": [
    "f.remove(\"krishna\")"
   ]
  },
  {
   "cell_type": "code",
   "execution_count": 60,
   "id": "d7fd93a4-0e1c-4c45-94c7-1440998ef5ac",
   "metadata": {},
   "outputs": [
    {
     "data": {
      "text/plain": [
       "{1, 2, 3, 4, 5, 6, 'a', 'h', 'k', 'n', 'r', 's'}"
      ]
     },
     "execution_count": 60,
     "metadata": {},
     "output_type": "execute_result"
    }
   ],
   "source": [
    "f"
   ]
  },
  {
   "cell_type": "code",
   "execution_count": 61,
   "id": "9f003c33-a553-4275-84a5-df3eebb66953",
   "metadata": {},
   "outputs": [
    {
     "data": {
      "text/plain": [
       "1"
      ]
     },
     "execution_count": 61,
     "metadata": {},
     "output_type": "execute_result"
    }
   ],
   "source": [
    "f.pop()"
   ]
  },
  {
   "cell_type": "code",
   "execution_count": 62,
   "id": "90d2ca9c-e0e8-4c4e-a322-f25bf0dea81a",
   "metadata": {},
   "outputs": [
    {
     "data": {
      "text/plain": [
       "{2, 3, 4, 5, 6, 'a', 'h', 'k', 'n', 'r', 's'}"
      ]
     },
     "execution_count": 62,
     "metadata": {},
     "output_type": "execute_result"
    }
   ],
   "source": [
    "f"
   ]
  },
  {
   "cell_type": "code",
   "execution_count": 63,
   "id": "572e9927-194d-465c-97e3-45f3725a3282",
   "metadata": {},
   "outputs": [
    {
     "data": {
      "text/plain": [
       "2"
      ]
     },
     "execution_count": 63,
     "metadata": {},
     "output_type": "execute_result"
    }
   ],
   "source": [
    "f.pop()"
   ]
  },
  {
   "cell_type": "code",
   "execution_count": 64,
   "id": "eb325843-4b5e-4604-b2b3-9d4d919291fc",
   "metadata": {},
   "outputs": [
    {
     "data": {
      "text/plain": [
       "{3, 4, 5, 6, 'a', 'h', 'k', 'n', 'r', 's'}"
      ]
     },
     "execution_count": 64,
     "metadata": {},
     "output_type": "execute_result"
    }
   ],
   "source": [
    "f"
   ]
  },
  {
   "cell_type": "code",
   "execution_count": 65,
   "id": "96f190b6-a466-4fa9-86ab-5329414eb37d",
   "metadata": {},
   "outputs": [],
   "source": [
    "f.clear()"
   ]
  },
  {
   "cell_type": "code",
   "execution_count": 66,
   "id": "952d0c47-4a95-4303-a640-cd2d228a6aac",
   "metadata": {},
   "outputs": [
    {
     "data": {
      "text/plain": [
       "set()"
      ]
     },
     "execution_count": 66,
     "metadata": {},
     "output_type": "execute_result"
    }
   ],
   "source": [
    "f"
   ]
  },
  {
   "cell_type": "code",
   "execution_count": 67,
   "id": "bc26c318-be91-4c9e-9978-49ce5d39e9be",
   "metadata": {},
   "outputs": [],
   "source": [
    "f.update([1,2,3,4,5,6])"
   ]
  },
  {
   "cell_type": "code",
   "execution_count": 68,
   "id": "add045fb-1083-4ba2-a2b6-1c97ac04f190",
   "metadata": {},
   "outputs": [
    {
     "name": "stdout",
     "output_type": "stream",
     "text": [
      "{1, 2, 3, 4, 5, 6}\n"
     ]
    }
   ],
   "source": [
    "print(f)"
   ]
  },
  {
   "cell_type": "code",
   "execution_count": 69,
   "id": "93029929-9bee-4992-9919-a724f2561cf5",
   "metadata": {},
   "outputs": [],
   "source": [
    "i={4,5,6,7,8,9}"
   ]
  },
  {
   "cell_type": "code",
   "execution_count": 71,
   "id": "ef3357f6-b8cc-4091-a13a-e9510f042d62",
   "metadata": {},
   "outputs": [
    {
     "name": "stdout",
     "output_type": "stream",
     "text": [
      "{4, 5, 6, 7, 8, 9}\n"
     ]
    }
   ],
   "source": [
    "print(i)"
   ]
  },
  {
   "cell_type": "code",
   "execution_count": 72,
   "id": "5ad0706b-c7cc-4ddc-b510-3bbc85a231c0",
   "metadata": {},
   "outputs": [
    {
     "data": {
      "text/plain": [
       "{4, 5, 6}"
      ]
     },
     "execution_count": 72,
     "metadata": {},
     "output_type": "execute_result"
    }
   ],
   "source": [
    "f.intersection(i)"
   ]
  },
  {
   "cell_type": "code",
   "execution_count": 73,
   "id": "f0e6b5bd-6d20-49ba-af3d-47ba92cf2c26",
   "metadata": {},
   "outputs": [],
   "source": [
    "k={5,8,9}"
   ]
  },
  {
   "cell_type": "code",
   "execution_count": 74,
   "id": "91bc6741-1edd-426b-aedf-3c134aadc5d8",
   "metadata": {},
   "outputs": [
    {
     "data": {
      "text/plain": [
       "{5}"
      ]
     },
     "execution_count": 74,
     "metadata": {},
     "output_type": "execute_result"
    }
   ],
   "source": [
    "f.intersection(i,k)"
   ]
  },
  {
   "cell_type": "code",
   "execution_count": 75,
   "id": "e8c8cc09-eed0-497d-9697-6c8204e6e3fb",
   "metadata": {},
   "outputs": [
    {
     "name": "stdout",
     "output_type": "stream",
     "text": [
      "{1, 2, 3, 4, 5, 6}\n"
     ]
    }
   ],
   "source": [
    "print(f)"
   ]
  },
  {
   "cell_type": "code",
   "execution_count": 76,
   "id": "a0b75933-c158-408d-96af-cbb7dd773882",
   "metadata": {},
   "outputs": [
    {
     "name": "stdout",
     "output_type": "stream",
     "text": [
      "{4, 5, 6, 7, 8, 9}\n"
     ]
    }
   ],
   "source": [
    "print(i)"
   ]
  },
  {
   "cell_type": "code",
   "execution_count": 77,
   "id": "27d865c1-49ed-4a79-943e-52bcf42c16b5",
   "metadata": {},
   "outputs": [
    {
     "name": "stdout",
     "output_type": "stream",
     "text": [
      "{8, 9, 5}\n"
     ]
    }
   ],
   "source": [
    "print(k)"
   ]
  },
  {
   "cell_type": "code",
   "execution_count": 78,
   "id": "62ba3a18-d978-49eb-b820-023b49fb6fc0",
   "metadata": {},
   "outputs": [],
   "source": [
    "f.intersection_update(i,k)"
   ]
  },
  {
   "cell_type": "code",
   "execution_count": 79,
   "id": "8bd70903-5a8a-4774-a2aa-222ef65d280b",
   "metadata": {},
   "outputs": [
    {
     "name": "stdout",
     "output_type": "stream",
     "text": [
      "{5}\n"
     ]
    }
   ],
   "source": [
    "print(f)"
   ]
  },
  {
   "cell_type": "code",
   "execution_count": 80,
   "id": "12411a84-5193-4120-92d1-530a1615774e",
   "metadata": {},
   "outputs": [
    {
     "data": {
      "text/plain": [
       "{4, 5, 6, 7, 8, 9}"
      ]
     },
     "execution_count": 80,
     "metadata": {},
     "output_type": "execute_result"
    }
   ],
   "source": [
    "i"
   ]
  },
  {
   "cell_type": "code",
   "execution_count": 81,
   "id": "4a48a2f3-0e62-4163-8fb2-43174154d3e3",
   "metadata": {},
   "outputs": [
    {
     "data": {
      "text/plain": [
       "{5, 8, 9}"
      ]
     },
     "execution_count": 81,
     "metadata": {},
     "output_type": "execute_result"
    }
   ],
   "source": [
    "k"
   ]
  },
  {
   "cell_type": "code",
   "execution_count": 82,
   "id": "64bd4c00-5d76-4750-b728-00cebda67149",
   "metadata": {},
   "outputs": [
    {
     "data": {
      "text/plain": [
       "{5}"
      ]
     },
     "execution_count": 82,
     "metadata": {},
     "output_type": "execute_result"
    }
   ],
   "source": [
    "f"
   ]
  },
  {
   "cell_type": "code",
   "execution_count": 83,
   "id": "67c22b10-238f-43dc-a779-07614e65a1c7",
   "metadata": {},
   "outputs": [],
   "source": [
    "l={1,2,3,4,5,6}"
   ]
  },
  {
   "cell_type": "code",
   "execution_count": 84,
   "id": "d412b758-1d09-48f5-a4ff-27fa895609b7",
   "metadata": {},
   "outputs": [
    {
     "data": {
      "text/plain": [
       "{4, 5, 6, 7, 8, 9}"
      ]
     },
     "execution_count": 84,
     "metadata": {},
     "output_type": "execute_result"
    }
   ],
   "source": [
    "i"
   ]
  },
  {
   "cell_type": "code",
   "execution_count": 85,
   "id": "ad96e6c9-0297-49d3-8028-eb7203342a82",
   "metadata": {},
   "outputs": [
    {
     "data": {
      "text/plain": [
       "{5, 8, 9}"
      ]
     },
     "execution_count": 85,
     "metadata": {},
     "output_type": "execute_result"
    }
   ],
   "source": [
    "k"
   ]
  },
  {
   "cell_type": "code",
   "execution_count": 86,
   "id": "736ee280-9a5b-4d98-8900-2da7d5040e73",
   "metadata": {},
   "outputs": [
    {
     "data": {
      "text/plain": [
       "{1, 2, 3, 4, 5, 6, 8, 9}"
      ]
     },
     "execution_count": 86,
     "metadata": {},
     "output_type": "execute_result"
    }
   ],
   "source": [
    "l.union(k)"
   ]
  },
  {
   "cell_type": "code",
   "execution_count": 87,
   "id": "e31ceb3f-6a41-4270-b68c-fe259006dd5a",
   "metadata": {},
   "outputs": [
    {
     "data": {
      "text/plain": [
       "{1, 2, 3, 4, 5, 6, 7, 8, 9}"
      ]
     },
     "execution_count": 87,
     "metadata": {},
     "output_type": "execute_result"
    }
   ],
   "source": [
    "l.union(k,i)"
   ]
  },
  {
   "cell_type": "code",
   "execution_count": 88,
   "id": "e202a4c9-dfe5-4e48-b09f-7af2493b54cd",
   "metadata": {},
   "outputs": [
    {
     "data": {
      "text/plain": [
       "{1, 2, 3, 4, 5, 6}"
      ]
     },
     "execution_count": 88,
     "metadata": {},
     "output_type": "execute_result"
    }
   ],
   "source": [
    "l"
   ]
  },
  {
   "cell_type": "code",
   "execution_count": 89,
   "id": "2aeec44f-7739-4829-b629-f53a0cbefd50",
   "metadata": {},
   "outputs": [
    {
     "data": {
      "text/plain": [
       "{5, 8, 9}"
      ]
     },
     "execution_count": 89,
     "metadata": {},
     "output_type": "execute_result"
    }
   ],
   "source": [
    "k"
   ]
  },
  {
   "cell_type": "code",
   "execution_count": 90,
   "id": "3a9671f6-6505-4916-8075-7114f0f97754",
   "metadata": {},
   "outputs": [
    {
     "data": {
      "text/plain": [
       "{4, 5, 6, 7, 8, 9}"
      ]
     },
     "execution_count": 90,
     "metadata": {},
     "output_type": "execute_result"
    }
   ],
   "source": [
    "i"
   ]
  },
  {
   "cell_type": "code",
   "execution_count": 91,
   "id": "5b8c1fc6-a4bc-47c6-902c-11bc360210cf",
   "metadata": {},
   "outputs": [
    {
     "ename": "TypeError",
     "evalue": "unsupported operand type(s) for +: 'set' and 'set'",
     "output_type": "error",
     "traceback": [
      "\u001b[1;31m---------------------------------------------------------------------------\u001b[0m",
      "\u001b[1;31mTypeError\u001b[0m                                 Traceback (most recent call last)",
      "Cell \u001b[1;32mIn[91], line 1\u001b[0m\n\u001b[1;32m----> 1\u001b[0m \u001b[43ml\u001b[49m\u001b[38;5;241;43m+\u001b[39;49m\u001b[43mk\u001b[49m\n",
      "\u001b[1;31mTypeError\u001b[0m: unsupported operand type(s) for +: 'set' and 'set'"
     ]
    }
   ],
   "source": [
    "l+k"
   ]
  },
  {
   "cell_type": "code",
   "execution_count": 92,
   "id": "8c524da0-a2d7-4e22-bf6b-5439b10d497f",
   "metadata": {},
   "outputs": [
    {
     "data": {
      "text/plain": [
       "{1, 2, 3, 4, 6}"
      ]
     },
     "execution_count": 92,
     "metadata": {},
     "output_type": "execute_result"
    }
   ],
   "source": [
    "l-k"
   ]
  },
  {
   "cell_type": "code",
   "execution_count": 94,
   "id": "149c96a7-8bfc-4f43-8338-6fc444f871aa",
   "metadata": {},
   "outputs": [
    {
     "data": {
      "text/plain": [
       "{1, 2, 3}"
      ]
     },
     "execution_count": 94,
     "metadata": {},
     "output_type": "execute_result"
    }
   ],
   "source": [
    "l.difference(k,i)"
   ]
  },
  {
   "cell_type": "code",
   "execution_count": 95,
   "id": "fcd17a4f-5f6f-4618-9ba8-8c71e530cb22",
   "metadata": {},
   "outputs": [
    {
     "data": {
      "text/plain": [
       "{1, 2, 3, 4, 5, 6}"
      ]
     },
     "execution_count": 95,
     "metadata": {},
     "output_type": "execute_result"
    }
   ],
   "source": [
    "l"
   ]
  },
  {
   "cell_type": "code",
   "execution_count": 96,
   "id": "0e39c463-a065-4eba-a761-7b38a22c3877",
   "metadata": {},
   "outputs": [
    {
     "data": {
      "text/plain": [
       "{5, 8, 9}"
      ]
     },
     "execution_count": 96,
     "metadata": {},
     "output_type": "execute_result"
    }
   ],
   "source": [
    "k"
   ]
  },
  {
   "cell_type": "code",
   "execution_count": 97,
   "id": "1f37cd80-fe02-4085-8404-9b23fa457dd4",
   "metadata": {},
   "outputs": [
    {
     "data": {
      "text/plain": [
       "{4, 5, 6, 7, 8, 9}"
      ]
     },
     "execution_count": 97,
     "metadata": {},
     "output_type": "execute_result"
    }
   ],
   "source": [
    "i"
   ]
  },
  {
   "cell_type": "code",
   "execution_count": 98,
   "id": "aef09e7f-a00a-4689-8bb6-2055a9179ef6",
   "metadata": {},
   "outputs": [],
   "source": [
    "l.difference_update(k,i)"
   ]
  },
  {
   "cell_type": "code",
   "execution_count": 99,
   "id": "9e69a7c7-10f5-430c-be22-3a80075c3ecb",
   "metadata": {},
   "outputs": [
    {
     "name": "stdout",
     "output_type": "stream",
     "text": [
      "{1, 2, 3}\n"
     ]
    }
   ],
   "source": [
    "print(l)"
   ]
  },
  {
   "cell_type": "code",
   "execution_count": 100,
   "id": "74b7a982-abe1-478c-b8ea-24890950907f",
   "metadata": {},
   "outputs": [
    {
     "data": {
      "text/plain": [
       "{5, 8, 9}"
      ]
     },
     "execution_count": 100,
     "metadata": {},
     "output_type": "execute_result"
    }
   ],
   "source": [
    "k"
   ]
  },
  {
   "cell_type": "code",
   "execution_count": 101,
   "id": "586ab8d4-403f-4cba-988c-02225ee6c82b",
   "metadata": {},
   "outputs": [
    {
     "data": {
      "text/plain": [
       "{4, 5, 6, 7, 8, 9}"
      ]
     },
     "execution_count": 101,
     "metadata": {},
     "output_type": "execute_result"
    }
   ],
   "source": [
    "i"
   ]
  },
  {
   "cell_type": "code",
   "execution_count": 103,
   "id": "78bee4de-7490-47ab-a09b-9e158be68bb4",
   "metadata": {},
   "outputs": [
    {
     "data": {
      "text/plain": [
       "{1, 2, 3}"
      ]
     },
     "execution_count": 103,
     "metadata": {},
     "output_type": "execute_result"
    }
   ],
   "source": [
    "a={1,2,3,4,5,6}\n",
    "b={4,5,6,7,8,9}\n",
    "a-b"
   ]
  },
  {
   "cell_type": "code",
   "execution_count": 104,
   "id": "ad0d4c02-7a2a-4d7b-a95e-3f8fb4e51a25",
   "metadata": {},
   "outputs": [
    {
     "data": {
      "text/plain": [
       "{1, 2, 3, 7, 8, 9}"
      ]
     },
     "execution_count": 104,
     "metadata": {},
     "output_type": "execute_result"
    }
   ],
   "source": [
    "a.symmetric_difference(b)"
   ]
  },
  {
   "cell_type": "code",
   "execution_count": 105,
   "id": "a5ba5d69-85a5-4633-832c-f0e4c2d7066e",
   "metadata": {},
   "outputs": [
    {
     "data": {
      "text/plain": [
       "{1, 2, 3, 4, 5, 6}"
      ]
     },
     "execution_count": 105,
     "metadata": {},
     "output_type": "execute_result"
    }
   ],
   "source": [
    "a"
   ]
  },
  {
   "cell_type": "code",
   "execution_count": 106,
   "id": "4e673ef9-e2ab-46ea-b95b-8245f1c41d93",
   "metadata": {},
   "outputs": [
    {
     "data": {
      "text/plain": [
       "{4, 5, 6, 7, 8, 9}"
      ]
     },
     "execution_count": 106,
     "metadata": {},
     "output_type": "execute_result"
    }
   ],
   "source": [
    "b"
   ]
  },
  {
   "cell_type": "code",
   "execution_count": 107,
   "id": "7f28e61f-e89d-4620-804a-a556ea23b86f",
   "metadata": {},
   "outputs": [],
   "source": [
    "a.symmetric_difference_update(b)"
   ]
  },
  {
   "cell_type": "code",
   "execution_count": 108,
   "id": "113a8c6a-c5cb-40a1-b035-2769b7bd1c2a",
   "metadata": {},
   "outputs": [
    {
     "name": "stdout",
     "output_type": "stream",
     "text": [
      "{1, 2, 3, 7, 8, 9}\n"
     ]
    }
   ],
   "source": [
    "print(a)"
   ]
  },
  {
   "cell_type": "code",
   "execution_count": 109,
   "id": "3d928d82-569a-4473-9db2-57eea81f3ad7",
   "metadata": {},
   "outputs": [],
   "source": [
    "a={1,2,3,4,5,6}\n",
    "b={1,2}"
   ]
  },
  {
   "cell_type": "code",
   "execution_count": 110,
   "id": "3f90e474-d775-4d27-90c1-8c4ec0ccd318",
   "metadata": {},
   "outputs": [
    {
     "data": {
      "text/plain": [
       "True"
      ]
     },
     "execution_count": 110,
     "metadata": {},
     "output_type": "execute_result"
    }
   ],
   "source": [
    "a.issuperset(b)"
   ]
  },
  {
   "cell_type": "code",
   "execution_count": 111,
   "id": "49eae624-ea7e-4675-8a30-326c7db61f18",
   "metadata": {},
   "outputs": [
    {
     "data": {
      "text/plain": [
       "False"
      ]
     },
     "execution_count": 111,
     "metadata": {},
     "output_type": "execute_result"
    }
   ],
   "source": [
    "b.issuperset(a)"
   ]
  },
  {
   "cell_type": "code",
   "execution_count": 112,
   "id": "22b52469-692f-4ecb-8861-8547515b62bd",
   "metadata": {},
   "outputs": [
    {
     "data": {
      "text/plain": [
       "True"
      ]
     },
     "execution_count": 112,
     "metadata": {},
     "output_type": "execute_result"
    }
   ],
   "source": [
    "b.issubset(a)"
   ]
  },
  {
   "cell_type": "code",
   "execution_count": 113,
   "id": "2eaa5782-e77c-4320-a6df-6ecc24d0ac2d",
   "metadata": {},
   "outputs": [
    {
     "data": {
      "text/plain": [
       "False"
      ]
     },
     "execution_count": 113,
     "metadata": {},
     "output_type": "execute_result"
    }
   ],
   "source": [
    "a.isdisjoint(b)"
   ]
  },
  {
   "cell_type": "code",
   "execution_count": null,
   "id": "7b9466b6-a5de-469b-8310-4e5ff25a6fe1",
   "metadata": {},
   "outputs": [],
   "source": []
  }
 ],
 "metadata": {
  "kernelspec": {
   "display_name": "Python 3 (ipykernel)",
   "language": "python",
   "name": "python3"
  },
  "language_info": {
   "codemirror_mode": {
    "name": "ipython",
    "version": 3
   },
   "file_extension": ".py",
   "mimetype": "text/x-python",
   "name": "python",
   "nbconvert_exporter": "python",
   "pygments_lexer": "ipython3",
   "version": "3.11.4"
  }
 },
 "nbformat": 4,
 "nbformat_minor": 5
}
