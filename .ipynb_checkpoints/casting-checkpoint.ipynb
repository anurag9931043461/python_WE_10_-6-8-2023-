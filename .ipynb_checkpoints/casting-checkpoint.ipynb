{
 "cells": [
  {
   "cell_type": "markdown",
   "id": "a2eb0574-2360-4863-b362-93916282857e",
   "metadata": {},
   "source": [
    "### Casting: \n",
    "conversion of one datatype to another datatype using constructor called casting "
   ]
  },
  {
   "cell_type": "markdown",
   "id": "4ed17d45-e6d0-48df-a7b2-fae0b3c1f1fe",
   "metadata": {},
   "source": [
    "> conversion of integer to float and string"
   ]
  },
  {
   "cell_type": "code",
   "execution_count": 1,
   "id": "5d0aa987-61e8-46e6-93a2-22aa0facb926",
   "metadata": {},
   "outputs": [],
   "source": [
    "a=10"
   ]
  },
  {
   "cell_type": "code",
   "execution_count": 3,
   "id": "748d4a5b-ad73-441c-bdc1-779a46a2fcc4",
   "metadata": {},
   "outputs": [
    {
     "name": "stdout",
     "output_type": "stream",
     "text": [
      "10 <class 'int'>\n"
     ]
    }
   ],
   "source": [
    "print(a,type(a))"
   ]
  },
  {
   "cell_type": "code",
   "execution_count": 6,
   "id": "ceaa471c-b9ec-4853-a0cd-df0625743ca0",
   "metadata": {},
   "outputs": [],
   "source": [
    "b=float(a)"
   ]
  },
  {
   "cell_type": "code",
   "execution_count": 7,
   "id": "5856a2cc-4448-462b-8b6f-d67a186becfa",
   "metadata": {},
   "outputs": [
    {
     "name": "stdout",
     "output_type": "stream",
     "text": [
      "10.0\n"
     ]
    }
   ],
   "source": [
    "print(b)"
   ]
  },
  {
   "cell_type": "code",
   "execution_count": 9,
   "id": "904bc467-7154-4fa5-8603-ea45ab4dc58c",
   "metadata": {},
   "outputs": [],
   "source": [
    "c=str(a)"
   ]
  },
  {
   "cell_type": "code",
   "execution_count": 10,
   "id": "84f2b29d-1736-474f-86fb-016fc39291ed",
   "metadata": {},
   "outputs": [
    {
     "name": "stdout",
     "output_type": "stream",
     "text": [
      "10\n"
     ]
    }
   ],
   "source": [
    "print(a)"
   ]
  },
  {
   "cell_type": "code",
   "execution_count": 13,
   "id": "53260197-d7b7-498f-b663-246993bccc24",
   "metadata": {},
   "outputs": [
    {
     "name": "stdout",
     "output_type": "stream",
     "text": [
      "10 <class 'str'>\n"
     ]
    }
   ],
   "source": [
    "print(c,type(c))"
   ]
  },
  {
   "cell_type": "markdown",
   "id": "37fc1e1f-2fcf-4b0b-89a6-69f1e79b28a2",
   "metadata": {},
   "source": [
    "> conversion of float to string and int"
   ]
  },
  {
   "cell_type": "code",
   "execution_count": 14,
   "id": "6aea8a8b-0314-47cd-ab3a-f8a2692efad8",
   "metadata": {},
   "outputs": [],
   "source": [
    "a=10.99"
   ]
  },
  {
   "cell_type": "code",
   "execution_count": 15,
   "id": "46df5dfb-fdc7-4a8d-a084-305e0e75aa4f",
   "metadata": {},
   "outputs": [
    {
     "name": "stdout",
     "output_type": "stream",
     "text": [
      "10.99 <class 'float'>\n"
     ]
    }
   ],
   "source": [
    "print(a,type(a))"
   ]
  },
  {
   "cell_type": "code",
   "execution_count": 17,
   "id": "26887b08-1852-4d97-97f0-1331224dad65",
   "metadata": {},
   "outputs": [],
   "source": [
    "b=str(a)"
   ]
  },
  {
   "cell_type": "code",
   "execution_count": 18,
   "id": "2a7fe77c-640d-4c42-998f-2c31fed86b29",
   "metadata": {},
   "outputs": [
    {
     "name": "stdout",
     "output_type": "stream",
     "text": [
      "10.99 <class 'str'>\n"
     ]
    }
   ],
   "source": [
    "print(b,type(b))"
   ]
  },
  {
   "cell_type": "code",
   "execution_count": 19,
   "id": "670fdfb8-8102-4287-9a83-5e8a154d05d4",
   "metadata": {},
   "outputs": [
    {
     "name": "stdout",
     "output_type": "stream",
     "text": [
      "10.99\n"
     ]
    }
   ],
   "source": [
    "print(a)"
   ]
  },
  {
   "cell_type": "code",
   "execution_count": 20,
   "id": "436c1fac-3bd3-41a1-b5df-23a8cfe6f18a",
   "metadata": {},
   "outputs": [
    {
     "data": {
      "text/plain": [
       "10"
      ]
     },
     "execution_count": 20,
     "metadata": {},
     "output_type": "execute_result"
    }
   ],
   "source": [
    "int(a)"
   ]
  },
  {
   "cell_type": "markdown",
   "id": "bf04e4c6-fde1-4b55-8712-23117e7ab97e",
   "metadata": {},
   "source": [
    "> conversion of string to float and int"
   ]
  },
  {
   "cell_type": "code",
   "execution_count": 32,
   "id": "2d8f07ae-e571-48d9-8995-e0283184b138",
   "metadata": {},
   "outputs": [],
   "source": [
    "a=\"10.77\""
   ]
  },
  {
   "cell_type": "code",
   "execution_count": 37,
   "id": "ef3a9446-8fc7-4019-9d4f-225745e90ead",
   "metadata": {},
   "outputs": [
    {
     "data": {
      "text/plain": [
       "10.77"
      ]
     },
     "execution_count": 37,
     "metadata": {},
     "output_type": "execute_result"
    }
   ],
   "source": [
    "b=float(a)\n",
    "b"
   ]
  },
  {
   "cell_type": "code",
   "execution_count": 39,
   "id": "49b75d0f-ddf6-4ab5-aed6-2eab2f16ec35",
   "metadata": {},
   "outputs": [
    {
     "data": {
      "text/plain": [
       "10"
      ]
     },
     "execution_count": 39,
     "metadata": {},
     "output_type": "execute_result"
    }
   ],
   "source": [
    "int(float(a))"
   ]
  },
  {
   "cell_type": "code",
   "execution_count": 33,
   "id": "6b98abf6-e7b9-4deb-b022-55ebc7fa2f90",
   "metadata": {},
   "outputs": [
    {
     "ename": "ValueError",
     "evalue": "invalid literal for int() with base 10: '10.77'",
     "output_type": "error",
     "traceback": [
      "\u001b[1;31m---------------------------------------------------------------------------\u001b[0m",
      "\u001b[1;31mValueError\u001b[0m                                Traceback (most recent call last)",
      "Cell \u001b[1;32mIn[33], line 1\u001b[0m\n\u001b[1;32m----> 1\u001b[0m \u001b[38;5;28;43mint\u001b[39;49m\u001b[43m(\u001b[49m\u001b[43ma\u001b[49m\u001b[43m)\u001b[49m\n",
      "\u001b[1;31mValueError\u001b[0m: invalid literal for int() with base 10: '10.77'"
     ]
    }
   ],
   "source": [
    "int(a)"
   ]
  },
  {
   "cell_type": "code",
   "execution_count": 34,
   "id": "cb70f787-3129-43d1-acc1-945ef5c24d68",
   "metadata": {},
   "outputs": [
    {
     "data": {
      "text/plain": [
       "10.77"
      ]
     },
     "execution_count": 34,
     "metadata": {},
     "output_type": "execute_result"
    }
   ],
   "source": [
    "float(a)"
   ]
  },
  {
   "cell_type": "markdown",
   "id": "03e7db5a-19cc-4fcf-b421-b32e420dafc8",
   "metadata": {},
   "source": [
    "# list to tuple, set, frozenset"
   ]
  },
  {
   "cell_type": "code",
   "execution_count": 40,
   "id": "b6f70930-b69a-4b92-b805-297faa411b6a",
   "metadata": {},
   "outputs": [],
   "source": [
    "a=[1,2,3,4,5]"
   ]
  },
  {
   "cell_type": "code",
   "execution_count": 41,
   "id": "5747530b-15ae-4880-a94e-d0568839b35e",
   "metadata": {},
   "outputs": [
    {
     "data": {
      "text/plain": [
       "(1, 2, 3, 4, 5)"
      ]
     },
     "execution_count": 41,
     "metadata": {},
     "output_type": "execute_result"
    }
   ],
   "source": [
    "tuple(a)"
   ]
  },
  {
   "cell_type": "code",
   "execution_count": 42,
   "id": "bedad222-bd97-4caa-a4ad-326d1ce09204",
   "metadata": {},
   "outputs": [
    {
     "data": {
      "text/plain": [
       "{1, 2, 3, 4, 5}"
      ]
     },
     "execution_count": 42,
     "metadata": {},
     "output_type": "execute_result"
    }
   ],
   "source": [
    "set(a)"
   ]
  },
  {
   "cell_type": "code",
   "execution_count": 43,
   "id": "6f702afd-27b0-4d6b-9571-86f3312769aa",
   "metadata": {},
   "outputs": [
    {
     "data": {
      "text/plain": [
       "frozenset({1, 2, 3, 4, 5})"
      ]
     },
     "execution_count": 43,
     "metadata": {},
     "output_type": "execute_result"
    }
   ],
   "source": [
    "frozenset(a)"
   ]
  },
  {
   "cell_type": "code",
   "execution_count": 44,
   "id": "86ce1b45-c25e-47a8-b559-db1c386b13e2",
   "metadata": {},
   "outputs": [],
   "source": [
    "# tuple to list, set, frozenset"
   ]
  },
  {
   "cell_type": "code",
   "execution_count": 45,
   "id": "f4a0b0a5-ee5b-4a1e-bdd5-1195bcd681bf",
   "metadata": {},
   "outputs": [],
   "source": [
    "a=(1,2,3,4,5)"
   ]
  },
  {
   "cell_type": "code",
   "execution_count": 46,
   "id": "0a70c58b-b508-4266-aeff-9b7c99c15de4",
   "metadata": {},
   "outputs": [
    {
     "data": {
      "text/plain": [
       "[1, 2, 3, 4, 5]"
      ]
     },
     "execution_count": 46,
     "metadata": {},
     "output_type": "execute_result"
    }
   ],
   "source": [
    "list(a)"
   ]
  },
  {
   "cell_type": "code",
   "execution_count": 47,
   "id": "e4370c89-a3ea-4aca-bda9-e3c3cc538ece",
   "metadata": {},
   "outputs": [
    {
     "data": {
      "text/plain": [
       "(1, 2, 3, 4, 5)"
      ]
     },
     "execution_count": 47,
     "metadata": {},
     "output_type": "execute_result"
    }
   ],
   "source": [
    "a"
   ]
  },
  {
   "cell_type": "code",
   "execution_count": 49,
   "id": "98b281ee-6b0d-467a-8d6a-4dfb81c85561",
   "metadata": {},
   "outputs": [],
   "source": [
    "b=list(a)"
   ]
  },
  {
   "cell_type": "code",
   "execution_count": 50,
   "id": "3d26be28-5430-4239-94f8-f9fe169e6494",
   "metadata": {},
   "outputs": [
    {
     "data": {
      "text/plain": [
       "[1, 2, 3, 4, 5]"
      ]
     },
     "execution_count": 50,
     "metadata": {},
     "output_type": "execute_result"
    }
   ],
   "source": [
    "b"
   ]
  },
  {
   "cell_type": "code",
   "execution_count": 51,
   "id": "41dcd5b6-aa5a-4e70-a411-8d085ae3c72e",
   "metadata": {},
   "outputs": [],
   "source": [
    "b.append(1000)"
   ]
  },
  {
   "cell_type": "code",
   "execution_count": 52,
   "id": "c0ba16af-d8fe-4f3d-b859-45a135cbba1b",
   "metadata": {},
   "outputs": [
    {
     "name": "stdout",
     "output_type": "stream",
     "text": [
      "[1, 2, 3, 4, 5, 1000]\n"
     ]
    }
   ],
   "source": [
    "print(b)"
   ]
  },
  {
   "cell_type": "code",
   "execution_count": 53,
   "id": "24937fd1-215d-42e6-a09c-9857eb2e74c6",
   "metadata": {},
   "outputs": [],
   "source": [
    "a=tuple(b)"
   ]
  },
  {
   "cell_type": "code",
   "execution_count": 54,
   "id": "b7be0b2a-bef5-437f-ab45-5998bc0b5c31",
   "metadata": {},
   "outputs": [
    {
     "name": "stdout",
     "output_type": "stream",
     "text": [
      "(1, 2, 3, 4, 5, 1000)\n"
     ]
    }
   ],
   "source": [
    "print(a)"
   ]
  },
  {
   "cell_type": "code",
   "execution_count": null,
   "id": "6488861c-63e2-42cd-8df6-7d6fdc960de7",
   "metadata": {},
   "outputs": [],
   "source": []
  }
 ],
 "metadata": {
  "kernelspec": {
   "display_name": "Python 3 (ipykernel)",
   "language": "python",
   "name": "python3"
  },
  "language_info": {
   "codemirror_mode": {
    "name": "ipython",
    "version": 3
   },
   "file_extension": ".py",
   "mimetype": "text/x-python",
   "name": "python",
   "nbconvert_exporter": "python",
   "pygments_lexer": "ipython3",
   "version": "3.11.4"
  }
 },
 "nbformat": 4,
 "nbformat_minor": 5
}
