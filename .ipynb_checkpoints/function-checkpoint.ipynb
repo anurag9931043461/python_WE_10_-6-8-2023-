{
 "cells": [
  {
   "cell_type": "markdown",
   "id": "6bc8cdd3-0a5d-4681-8067-64d629e28883",
   "metadata": {},
   "source": [
    "# function:\n",
    "    > Python Keyword Argument\n",
    "    > Arbitrary Arguments\n",
    "    > Positional, Keywords and Default"
   ]
  },
  {
   "cell_type": "code",
   "execution_count": 22,
   "id": "3e2aa63c-bb6b-4611-a697-51a3fd104388",
   "metadata": {},
   "outputs": [
    {
     "name": "stdout",
     "output_type": "stream",
     "text": [
      "0 hello world\n",
      "1 hello world\n",
      "2 hello world\n",
      "3 hello world\n",
      "4 hello world\n"
     ]
    }
   ],
   "source": [
    "for i in range(5):\n",
    "    print(i,'hello world')"
   ]
  },
  {
   "cell_type": "code",
   "execution_count": 4,
   "id": "77e3822f-dc06-48cd-8349-81f4db37afbb",
   "metadata": {},
   "outputs": [
    {
     "name": "stdout",
     "output_type": "stream",
     "text": [
      "I am krishna\n"
     ]
    }
   ],
   "source": [
    "print(\"I am krishna\")"
   ]
  },
  {
   "cell_type": "code",
   "execution_count": 6,
   "id": "8b562d16-ddea-457d-8e82-87df265e30d8",
   "metadata": {},
   "outputs": [],
   "source": [
    "def hello():\n",
    "    for i in range(5):\n",
    "        print(i,'hello world')"
   ]
  },
  {
   "cell_type": "code",
   "execution_count": 7,
   "id": "99980d18-5ba9-4916-91ca-6e10026852a9",
   "metadata": {},
   "outputs": [
    {
     "name": "stdout",
     "output_type": "stream",
     "text": [
      "0 hello world\n",
      "1 hello world\n",
      "2 hello world\n",
      "3 hello world\n",
      "4 hello world\n"
     ]
    }
   ],
   "source": [
    "hello()"
   ]
  },
  {
   "cell_type": "code",
   "execution_count": 8,
   "id": "70baebf7-f6b5-4c54-a0c0-5a3e8edeb656",
   "metadata": {},
   "outputs": [
    {
     "name": "stdout",
     "output_type": "stream",
     "text": [
      "hello world\n"
     ]
    }
   ],
   "source": [
    "print(\"hello world\")"
   ]
  },
  {
   "cell_type": "code",
   "execution_count": 9,
   "id": "369bf50e-7dfc-43d0-a81a-f6f38033a1f7",
   "metadata": {},
   "outputs": [
    {
     "name": "stdout",
     "output_type": "stream",
     "text": [
      "0 hello world\n",
      "1 hello world\n",
      "2 hello world\n",
      "3 hello world\n",
      "4 hello world\n"
     ]
    }
   ],
   "source": [
    "hello()"
   ]
  },
  {
   "cell_type": "code",
   "execution_count": 10,
   "id": "918997e9-887a-42e3-81f5-c265f07a3d0f",
   "metadata": {},
   "outputs": [
    {
     "name": "stdout",
     "output_type": "stream",
     "text": [
      "0 hello world\n",
      "1 hello world\n",
      "2 hello world\n",
      "3 hello world\n",
      "4 hello world\n"
     ]
    }
   ],
   "source": [
    "hello()"
   ]
  },
  {
   "cell_type": "code",
   "execution_count": 14,
   "id": "6eb6da0f-e3af-470d-86d2-3c871fa3d402",
   "metadata": {},
   "outputs": [],
   "source": [
    "def hello():\n",
    "        print('hello world')"
   ]
  },
  {
   "cell_type": "code",
   "execution_count": 15,
   "id": "17a99685-5322-4a04-81a1-7ddcbf2ff3b6",
   "metadata": {},
   "outputs": [
    {
     "name": "stdout",
     "output_type": "stream",
     "text": [
      "hello world\n"
     ]
    }
   ],
   "source": [
    "hello()"
   ]
  },
  {
   "cell_type": "code",
   "execution_count": 16,
   "id": "39dbd197-69d0-4750-a620-45816b21d187",
   "metadata": {},
   "outputs": [],
   "source": [
    "def hello():\n",
    "    n=int(input(\"Enter range value:\"))\n",
    "    for i in range(n):\n",
    "        print(i,'hello world')"
   ]
  },
  {
   "cell_type": "code",
   "execution_count": 19,
   "id": "343dcb58-83d9-4f69-a3a2-61184394ccf0",
   "metadata": {},
   "outputs": [
    {
     "name": "stdin",
     "output_type": "stream",
     "text": [
      "Enter range value: 2\n"
     ]
    },
    {
     "name": "stdout",
     "output_type": "stream",
     "text": [
      "0 hello world\n",
      "1 hello world\n"
     ]
    }
   ],
   "source": [
    "hello()"
   ]
  },
  {
   "cell_type": "code",
   "execution_count": 20,
   "id": "98113f36-8003-4ebd-a7cf-2c142dc3a08e",
   "metadata": {},
   "outputs": [],
   "source": [
    "def hello(n):\n",
    "    for i in range(n):\n",
    "        print(i,'hello world')"
   ]
  },
  {
   "cell_type": "code",
   "execution_count": 21,
   "id": "ec239dcd-780a-4d71-8abc-a99d22b4cb4e",
   "metadata": {},
   "outputs": [
    {
     "ename": "TypeError",
     "evalue": "hello() missing 1 required positional argument: 'n'",
     "output_type": "error",
     "traceback": [
      "\u001b[1;31m---------------------------------------------------------------------------\u001b[0m",
      "\u001b[1;31mTypeError\u001b[0m                                 Traceback (most recent call last)",
      "Cell \u001b[1;32mIn[21], line 1\u001b[0m\n\u001b[1;32m----> 1\u001b[0m \u001b[43mhello\u001b[49m\u001b[43m(\u001b[49m\u001b[43m)\u001b[49m\n",
      "\u001b[1;31mTypeError\u001b[0m: hello() missing 1 required positional argument: 'n'"
     ]
    }
   ],
   "source": [
    "hello()"
   ]
  },
  {
   "cell_type": "code",
   "execution_count": 23,
   "id": "38bc284c-b175-4ec5-8ee5-0c9969eaf7fb",
   "metadata": {},
   "outputs": [
    {
     "name": "stdout",
     "output_type": "stream",
     "text": [
      "0 hello world\n",
      "1 hello world\n",
      "2 hello world\n"
     ]
    }
   ],
   "source": [
    "hello(3)"
   ]
  },
  {
   "cell_type": "code",
   "execution_count": 25,
   "id": "d69cc60a-296b-4272-83d4-b5e39e55150f",
   "metadata": {},
   "outputs": [],
   "source": [
    "def hello2(a,n):\n",
    "    for i in range(a,n+1):\n",
    "        print(i,'hello world')"
   ]
  },
  {
   "cell_type": "code",
   "execution_count": 26,
   "id": "49dc0757-238e-4805-b87d-5a3672b1421e",
   "metadata": {},
   "outputs": [
    {
     "name": "stdout",
     "output_type": "stream",
     "text": [
      "10 hello world\n",
      "11 hello world\n",
      "12 hello world\n",
      "13 hello world\n",
      "14 hello world\n",
      "15 hello world\n"
     ]
    }
   ],
   "source": [
    "hello2(10,15)"
   ]
  },
  {
   "cell_type": "code",
   "execution_count": 29,
   "id": "1ffd1dd1-583e-4339-960f-4036c3b798b3",
   "metadata": {},
   "outputs": [],
   "source": [
    "def hello3(a,n,m=1):\n",
    "    for i in range(a,n+1,m):\n",
    "        print(i,'hello world')"
   ]
  },
  {
   "cell_type": "code",
   "execution_count": 32,
   "id": "a01b5732-8e56-4eb4-9711-a327478a7998",
   "metadata": {},
   "outputs": [
    {
     "name": "stdout",
     "output_type": "stream",
     "text": [
      "10 hello world\n",
      "11 hello world\n",
      "12 hello world\n",
      "13 hello world\n",
      "14 hello world\n",
      "15 hello world\n"
     ]
    }
   ],
   "source": [
    "hello3(10,15,1)"
   ]
  },
  {
   "cell_type": "code",
   "execution_count": 31,
   "id": "8faccf27-2dfc-4c8c-a839-7bf2c084b139",
   "metadata": {},
   "outputs": [
    {
     "name": "stdout",
     "output_type": "stream",
     "text": [
      "10 hello world\n",
      "12 hello world\n",
      "14 hello world\n"
     ]
    }
   ],
   "source": [
    "hello3(10,15,2)"
   ]
  },
  {
   "cell_type": "code",
   "execution_count": 33,
   "id": "5242241c-385b-497c-8019-5d8050a8d885",
   "metadata": {},
   "outputs": [
    {
     "name": "stdout",
     "output_type": "stream",
     "text": [
      "15 hello world\n",
      "14 hello world\n",
      "13 hello world\n",
      "12 hello world\n"
     ]
    }
   ],
   "source": [
    "hello3(15,10,-1)"
   ]
  },
  {
   "cell_type": "code",
   "execution_count": null,
   "id": "c839c4b5-931d-4958-a755-10ea67ab2eea",
   "metadata": {},
   "outputs": [],
   "source": [
    "for i in range(15,10,-1):\n",
    "    print()"
   ]
  },
  {
   "cell_type": "code",
   "execution_count": 41,
   "id": "72b0597e-1a46-42da-97af-4b144fbefe7e",
   "metadata": {},
   "outputs": [],
   "source": [
    "def hello3(a,n,m=1):\n",
    "    if m<0:\n",
    "        for i in range(a,n-1,m):\n",
    "            print(i,'hello world')\n",
    "    else:\n",
    "        for i in range(a,n+1,m):\n",
    "            print(i,'hello world')"
   ]
  },
  {
   "cell_type": "code",
   "execution_count": 42,
   "id": "3e69783b-a398-483c-94d0-2eb69b5c8696",
   "metadata": {},
   "outputs": [
    {
     "name": "stdout",
     "output_type": "stream",
     "text": [
      "15 hello world\n",
      "14 hello world\n",
      "13 hello world\n",
      "12 hello world\n",
      "11 hello world\n",
      "10 hello world\n"
     ]
    }
   ],
   "source": [
    "hello3(15,10,-1)"
   ]
  },
  {
   "cell_type": "code",
   "execution_count": 45,
   "id": "b7c608b8-7b68-416f-aec4-5ac40ab9c622",
   "metadata": {},
   "outputs": [
    {
     "name": "stdout",
     "output_type": "stream",
     "text": [
      "10 hello world\n",
      "11 hello world\n",
      "12 hello world\n",
      "13 hello world\n",
      "14 hello world\n",
      "15 hello world\n"
     ]
    }
   ],
   "source": [
    "hello3(10,15,1)"
   ]
  },
  {
   "cell_type": "code",
   "execution_count": 44,
   "id": "cf8d3b0c-bfb6-47ec-b5df-aae14a2d9ca5",
   "metadata": {},
   "outputs": [
    {
     "ename": "SyntaxError",
     "evalue": "non-default argument follows default argument (1289138695.py, line 1)",
     "output_type": "error",
     "traceback": [
      "\u001b[1;36m  Cell \u001b[1;32mIn[44], line 1\u001b[1;36m\u001b[0m\n\u001b[1;33m    def hello4(m=1,a,n):\u001b[0m\n\u001b[1;37m                   ^\u001b[0m\n\u001b[1;31mSyntaxError\u001b[0m\u001b[1;31m:\u001b[0m non-default argument follows default argument\n"
     ]
    }
   ],
   "source": [
    "def hello4(m=1,a,n):\n",
    "    if m<0:\n",
    "        for i in range(a,n-1,m):\n",
    "            print(i,'hello world')\n",
    "    else:\n",
    "        for i in range(a,n+1,m):\n",
    "            print(i,'hello world')"
   ]
  },
  {
   "cell_type": "code",
   "execution_count": 46,
   "id": "5ee47a0d-6c63-4c0d-b3b3-8abe92b2a6ed",
   "metadata": {},
   "outputs": [],
   "source": [
    "a=10"
   ]
  },
  {
   "cell_type": "code",
   "execution_count": 47,
   "id": "b4b976fb-26c3-432f-9c74-8ab5f190551a",
   "metadata": {},
   "outputs": [],
   "source": [
    "a=20"
   ]
  },
  {
   "cell_type": "code",
   "execution_count": 55,
   "id": "8be02238-bd04-4791-b337-b4d0f67b1e1e",
   "metadata": {},
   "outputs": [],
   "source": [
    "def new(a,b,c=1):\n",
    "    print(a)\n",
    "    print(b)\n",
    "    print(c)"
   ]
  },
  {
   "cell_type": "code",
   "execution_count": 56,
   "id": "9d5eb120-6d0d-41f7-8583-2eefd79af026",
   "metadata": {},
   "outputs": [
    {
     "name": "stdout",
     "output_type": "stream",
     "text": [
      "10\n",
      "20\n",
      "10\n"
     ]
    }
   ],
   "source": [
    "new(10,20,10)"
   ]
  },
  {
   "cell_type": "code",
   "execution_count": 57,
   "id": "c10ba6a1-6c05-4ca1-9ec6-e1bbfcfb19a6",
   "metadata": {},
   "outputs": [],
   "source": [
    "def new(c=1,a=10,b=20):\n",
    "    print(a)\n",
    "    print(b)\n",
    "    print(c)"
   ]
  },
  {
   "cell_type": "code",
   "execution_count": 62,
   "id": "1fc7f04f-3742-4fb8-acd1-8b2a563ba288",
   "metadata": {},
   "outputs": [
    {
     "name": "stdout",
     "output_type": "stream",
     "text": [
      "999\n",
      "100000\n",
      "100\n"
     ]
    }
   ],
   "source": [
    "new(100,999,100000)"
   ]
  },
  {
   "cell_type": "code",
   "execution_count": 64,
   "id": "e776c9c3-82df-4ec5-8636-9e8327924091",
   "metadata": {},
   "outputs": [
    {
     "name": "stdin",
     "output_type": "stream",
     "text": [
      "Enter a number: -10\n"
     ]
    },
    {
     "name": "stdout",
     "output_type": "stream",
     "text": [
      "-10 is negative number\n"
     ]
    }
   ],
   "source": [
    "user=eval(input(\"Enter a number:\"))\n",
    "if user>=0:\n",
    "    print(f\"{user} is positive number\")\n",
    "else:\n",
    "    print(f\"{user} is negative number\")"
   ]
  },
  {
   "cell_type": "code",
   "execution_count": 66,
   "id": "d364be5e-ce00-4144-b396-6d0164de30d6",
   "metadata": {},
   "outputs": [],
   "source": [
    "def pos_neg():\n",
    "    user=eval(input(\"Enter a number:\"))\n",
    "    if user>=0:\n",
    "        print(f\"{user} is positive number\")\n",
    "    else:\n",
    "        print(f\"{user} is negative number\")"
   ]
  },
  {
   "cell_type": "code",
   "execution_count": 67,
   "id": "b42ad92b-af8f-43dc-a2c2-f00e957fa0bc",
   "metadata": {},
   "outputs": [
    {
     "name": "stdin",
     "output_type": "stream",
     "text": [
      "Enter a number: -11.25\n"
     ]
    },
    {
     "name": "stdout",
     "output_type": "stream",
     "text": [
      "-11.25 is negative number\n"
     ]
    }
   ],
   "source": [
    "pos_neg()"
   ]
  },
  {
   "cell_type": "code",
   "execution_count": 68,
   "id": "fc675214-e330-4649-951f-0b9545d64cbd",
   "metadata": {},
   "outputs": [
    {
     "name": "stdin",
     "output_type": "stream",
     "text": [
      "Enter a number: 10\n"
     ]
    }
   ],
   "source": [
    "def pos_neg(user=eval(input(\"Enter a number:\"))):\n",
    "    if user>=0:\n",
    "        print(f\"{user} is positive number\")\n",
    "    else:\n",
    "        print(f\"{user} is negative number\")"
   ]
  },
  {
   "cell_type": "code",
   "execution_count": 69,
   "id": "025f64bd-3ca1-4fd4-b9e8-6bd3ff31c079",
   "metadata": {},
   "outputs": [
    {
     "name": "stdout",
     "output_type": "stream",
     "text": [
      "10 is positive number\n"
     ]
    }
   ],
   "source": [
    "pos_neg()"
   ]
  },
  {
   "cell_type": "code",
   "execution_count": 71,
   "id": "7845d0b6-ae36-4c07-9b99-d969c5dc3909",
   "metadata": {},
   "outputs": [
    {
     "name": "stdout",
     "output_type": "stream",
     "text": [
      "-11 is negative number\n"
     ]
    }
   ],
   "source": [
    "pos_neg(-11)"
   ]
  },
  {
   "cell_type": "code",
   "execution_count": 72,
   "id": "3cdf410f-a5b4-4bec-b171-2de1971271d1",
   "metadata": {},
   "outputs": [
    {
     "name": "stdout",
     "output_type": "stream",
     "text": [
      "10 is positive number\n"
     ]
    }
   ],
   "source": [
    "pos_neg()"
   ]
  },
  {
   "cell_type": "code",
   "execution_count": 73,
   "id": "8b8ffd0c-4d3e-41ba-b1c2-fcf3cec0b353",
   "metadata": {},
   "outputs": [
    {
     "name": "stdout",
     "output_type": "stream",
     "text": [
      "*\n",
      "**\n",
      "***\n",
      "****\n",
      "*****\n"
     ]
    }
   ],
   "source": [
    "i=1\n",
    "while i<=5:\n",
    "    print(\"*\"*i)\n",
    "    i=i+1"
   ]
  },
  {
   "cell_type": "code",
   "execution_count": 89,
   "id": "2f881f6c-cd21-4f98-9131-42ce2b54144d",
   "metadata": {},
   "outputs": [],
   "source": [
    "def pattern(n=5):\n",
    "    i=1\n",
    "    while i<=n:\n",
    "        if i%2==0:\n",
    "            i=i+1\n",
    "            continue\n",
    "        print(\"*\"*i)\n",
    "        i=i+1"
   ]
  },
  {
   "cell_type": "code",
   "execution_count": 90,
   "id": "21fc2b1e-deef-4523-8c8f-c48c15c07ef4",
   "metadata": {},
   "outputs": [
    {
     "name": "stdout",
     "output_type": "stream",
     "text": [
      "*\n",
      "***\n",
      "*****\n"
     ]
    }
   ],
   "source": [
    "pattern()"
   ]
  },
  {
   "cell_type": "code",
   "execution_count": 91,
   "id": "73d5596a-617d-485e-868d-3c2aef8395bb",
   "metadata": {},
   "outputs": [
    {
     "name": "stdout",
     "output_type": "stream",
     "text": [
      "*\n",
      "***\n",
      "*****\n",
      "*******\n",
      "*********\n"
     ]
    }
   ],
   "source": [
    "pattern(10)"
   ]
  },
  {
   "cell_type": "raw",
   "id": "9e893e4c-d825-4abc-9026-717b1dc12eaf",
   "metadata": {},
   "source": [
    "# function:\n",
    "\n",
    "    > def \n",
    "        > local variable \n",
    "\n",
    "        > global variable\n",
    "\n",
    "        > return \n",
    "\n",
    "        > arguments\n",
    "\n",
    "            > default argument\n",
    "\n",
    "            > positional argument\n",
    "\n",
    "            > keyword argument\n",
    "\n",
    "            > arbitrary positional argument\n",
    "\n",
    "            > arbitrary keyword argument \n",
    "\n",
    "    > lambda(fat function , fat arrow function =>)\n",
    "\n",
    "    > decorator(nested funtion)\n",
    "\n",
    "    > generator\n",
    "\n",
    "    "
   ]
  },
  {
   "cell_type": "code",
   "execution_count": 1,
   "id": "c442699f-6bab-4741-9154-afae089278e3",
   "metadata": {},
   "outputs": [],
   "source": [
    "def add():\n",
    "    a=10\n",
    "    b=20\n",
    "    print(a+b)"
   ]
  },
  {
   "cell_type": "code",
   "execution_count": 2,
   "id": "6efaa194-2638-424d-a01f-b90bfe36ce63",
   "metadata": {},
   "outputs": [
    {
     "name": "stdout",
     "output_type": "stream",
     "text": [
      "30\n"
     ]
    }
   ],
   "source": [
    "add()"
   ]
  },
  {
   "cell_type": "code",
   "execution_count": 3,
   "id": "9505e93e-e0d2-4620-95a4-dc5ba99e26c6",
   "metadata": {},
   "outputs": [
    {
     "ename": "NameError",
     "evalue": "name 'a' is not defined",
     "output_type": "error",
     "traceback": [
      "\u001b[1;31m---------------------------------------------------------------------------\u001b[0m",
      "\u001b[1;31mNameError\u001b[0m                                 Traceback (most recent call last)",
      "Cell \u001b[1;32mIn[3], line 1\u001b[0m\n\u001b[1;32m----> 1\u001b[0m \u001b[38;5;28mprint\u001b[39m(\u001b[43ma\u001b[49m)\n",
      "\u001b[1;31mNameError\u001b[0m: name 'a' is not defined"
     ]
    }
   ],
   "source": [
    "print(a)"
   ]
  },
  {
   "cell_type": "code",
   "execution_count": 4,
   "id": "854aff96-bbb1-48a7-881d-3631ecd872c2",
   "metadata": {},
   "outputs": [
    {
     "ename": "NameError",
     "evalue": "name 'b' is not defined",
     "output_type": "error",
     "traceback": [
      "\u001b[1;31m---------------------------------------------------------------------------\u001b[0m",
      "\u001b[1;31mNameError\u001b[0m                                 Traceback (most recent call last)",
      "Cell \u001b[1;32mIn[4], line 1\u001b[0m\n\u001b[1;32m----> 1\u001b[0m \u001b[38;5;28mprint\u001b[39m(\u001b[43mb\u001b[49m)\n",
      "\u001b[1;31mNameError\u001b[0m: name 'b' is not defined"
     ]
    }
   ],
   "source": [
    "print(b)"
   ]
  },
  {
   "cell_type": "code",
   "execution_count": 5,
   "id": "a4bcd0e7-9279-4e3a-8930-5244526e383e",
   "metadata": {},
   "outputs": [],
   "source": [
    "x=20"
   ]
  },
  {
   "cell_type": "code",
   "execution_count": 6,
   "id": "108ca136-935d-40d1-817c-1d9bd1f2f950",
   "metadata": {},
   "outputs": [],
   "source": [
    "y=30"
   ]
  },
  {
   "cell_type": "code",
   "execution_count": 7,
   "id": "9f9dd105-ca67-4ceb-b1d5-1dd8f82e3698",
   "metadata": {},
   "outputs": [],
   "source": [
    "def add50():\n",
    "    print(x+y)"
   ]
  },
  {
   "cell_type": "code",
   "execution_count": 8,
   "id": "3d9ca5aa-038f-498a-87d4-03ba82d2b91e",
   "metadata": {},
   "outputs": [
    {
     "name": "stdout",
     "output_type": "stream",
     "text": [
      "50\n"
     ]
    }
   ],
   "source": [
    "add50()"
   ]
  },
  {
   "cell_type": "code",
   "execution_count": 17,
   "id": "61f84b2b-9d7c-4096-bdcb-37df3b0a2a40",
   "metadata": {},
   "outputs": [],
   "source": [
    "def add51():\n",
    "    global x,y\n",
    "    x=2.5\n",
    "    y=7.5\n",
    "    print(x+y)"
   ]
  },
  {
   "cell_type": "code",
   "execution_count": 18,
   "id": "af95925e-89a5-4b1b-86ce-650a9c66d887",
   "metadata": {},
   "outputs": [
    {
     "name": "stdout",
     "output_type": "stream",
     "text": [
      "10.0\n"
     ]
    }
   ],
   "source": [
    "add51()"
   ]
  },
  {
   "cell_type": "code",
   "execution_count": 19,
   "id": "2e0ebc34-d146-4954-be07-151e0391783b",
   "metadata": {},
   "outputs": [
    {
     "name": "stdout",
     "output_type": "stream",
     "text": [
      "2.5\n"
     ]
    }
   ],
   "source": [
    "print(x)"
   ]
  },
  {
   "cell_type": "code",
   "execution_count": 20,
   "id": "c17f8e8f-8dfb-4c22-b057-6c5b5c06db96",
   "metadata": {},
   "outputs": [
    {
     "name": "stdout",
     "output_type": "stream",
     "text": [
      "7.5\n"
     ]
    }
   ],
   "source": [
    "print(y)"
   ]
  },
  {
   "cell_type": "code",
   "execution_count": 22,
   "id": "3cc69e29-ffca-468a-a336-0e3fc461a98f",
   "metadata": {},
   "outputs": [],
   "source": [
    "def a():\n",
    "    a=20\n",
    "    c=30\n",
    "    print(a,c)"
   ]
  },
  {
   "cell_type": "code",
   "execution_count": 23,
   "id": "fc93fe33-9dc8-4112-ac57-7bda5b498533",
   "metadata": {},
   "outputs": [
    {
     "name": "stdout",
     "output_type": "stream",
     "text": [
      "20 30\n"
     ]
    }
   ],
   "source": [
    "a()"
   ]
  },
  {
   "cell_type": "markdown",
   "id": "b91cc61b-4fc7-4331-ad1a-61a9d1f62129",
   "metadata": {},
   "source": [
    "# return keyword"
   ]
  },
  {
   "cell_type": "code",
   "execution_count": 24,
   "id": "e145541e-db44-4879-8f6f-85cd66bbc2cc",
   "metadata": {},
   "outputs": [],
   "source": [
    "def add2():\n",
    "    a=10\n",
    "    b=20\n",
    "    print(a+b)"
   ]
  },
  {
   "cell_type": "code",
   "execution_count": 26,
   "id": "01cfc36c-41d1-45e0-98cd-c2c3b750db7d",
   "metadata": {},
   "outputs": [
    {
     "name": "stdout",
     "output_type": "stream",
     "text": [
      "30\n"
     ]
    }
   ],
   "source": [
    "a=add2()"
   ]
  },
  {
   "cell_type": "code",
   "execution_count": 27,
   "id": "0d2f19c2-1114-48a0-909e-f01c7ff6bbe2",
   "metadata": {},
   "outputs": [
    {
     "name": "stdout",
     "output_type": "stream",
     "text": [
      "None\n"
     ]
    }
   ],
   "source": [
    "print(a)"
   ]
  },
  {
   "cell_type": "code",
   "execution_count": 29,
   "id": "61fc8643-642b-4f1d-bd38-766d93999dee",
   "metadata": {},
   "outputs": [
    {
     "name": "stdout",
     "output_type": "stream",
     "text": [
      "hello world\n",
      "None\n"
     ]
    }
   ],
   "source": [
    "print(print(\"hello world\"))"
   ]
  },
  {
   "cell_type": "code",
   "execution_count": 33,
   "id": "a8a747ae-0325-421a-933a-c3eac0c96a84",
   "metadata": {},
   "outputs": [],
   "source": [
    "def add2():\n",
    "    a=10\n",
    "    b=20\n",
    "    return (a+b)"
   ]
  },
  {
   "cell_type": "code",
   "execution_count": 34,
   "id": "52827e11-32f9-419e-9384-db6445352e09",
   "metadata": {},
   "outputs": [
    {
     "name": "stdout",
     "output_type": "stream",
     "text": [
      "30\n"
     ]
    }
   ],
   "source": [
    "print(add2())"
   ]
  },
  {
   "cell_type": "code",
   "execution_count": 36,
   "id": "51d1dbf9-bfd4-4fcb-a868-825af88854e2",
   "metadata": {},
   "outputs": [],
   "source": [
    "k=add2()"
   ]
  },
  {
   "cell_type": "code",
   "execution_count": 37,
   "id": "d2da4f6f-90a6-42cb-9dbc-b828474e3bb2",
   "metadata": {},
   "outputs": [
    {
     "name": "stdout",
     "output_type": "stream",
     "text": [
      "30\n"
     ]
    }
   ],
   "source": [
    "print(k)"
   ]
  },
  {
   "cell_type": "code",
   "execution_count": 38,
   "id": "e9571a6b-c99b-41c6-8e64-c9421d3959e6",
   "metadata": {},
   "outputs": [],
   "source": [
    "def add3():\n",
    "    a=10\n",
    "    b=20\n",
    "    return a\n",
    "    return b"
   ]
  },
  {
   "cell_type": "code",
   "execution_count": 39,
   "id": "d7963545-1d07-4059-9e0f-8bc887f94954",
   "metadata": {},
   "outputs": [
    {
     "data": {
      "text/plain": [
       "10"
      ]
     },
     "execution_count": 39,
     "metadata": {},
     "output_type": "execute_result"
    }
   ],
   "source": [
    "add3()"
   ]
  },
  {
   "cell_type": "code",
   "execution_count": 40,
   "id": "65f444ad-3f62-4e26-a6fc-681df01713b8",
   "metadata": {},
   "outputs": [],
   "source": [
    "def add4():\n",
    "    a=10\n",
    "    b=20\n",
    "    #return a\n",
    "    return b"
   ]
  },
  {
   "cell_type": "code",
   "execution_count": 41,
   "id": "7f940274-3210-4153-8aa1-09088ed85527",
   "metadata": {},
   "outputs": [
    {
     "data": {
      "text/plain": [
       "20"
      ]
     },
     "execution_count": 41,
     "metadata": {},
     "output_type": "execute_result"
    }
   ],
   "source": [
    "add4()"
   ]
  },
  {
   "cell_type": "code",
   "execution_count": 42,
   "id": "8a5c6db1-95ae-4117-a8cb-46670b757b44",
   "metadata": {},
   "outputs": [
    {
     "name": "stdin",
     "output_type": "stream",
     "text": [
      "Enter a first number : 10\n",
      "Enter second number : 20\n",
      "Kindly choose a valid operation +,-,/,* : +\n"
     ]
    },
    {
     "name": "stdout",
     "output_type": "stream",
     "text": [
      "30\n"
     ]
    }
   ],
   "source": [
    "num1=eval(input(\"Enter a first number :\"))\n",
    "num2=eval(input(\"Enter second number :\"))\n",
    "option=input(\"Kindly choose a valid operation +,-,/,* :\").strip()\n",
    "if option==\"+\":\n",
    "    print(num1+num2)\n",
    "elif option ==\"-\":\n",
    "    print(num1-num2)\n",
    "elif option ==\"/\":\n",
    "    print(num1/num2)\n",
    "elif option ==\"*\":\n",
    "    print(num1*num2)\n",
    "else:\n",
    "    print(\"Syntex error\")"
   ]
  },
  {
   "cell_type": "code",
   "execution_count": 45,
   "id": "d98c723b-24cf-41c2-b17a-99073f9b52b5",
   "metadata": {},
   "outputs": [],
   "source": [
    "def calculator():\n",
    "    num1=eval(input(\"Enter a first number :\"))\n",
    "    num2=eval(input(\"Enter second number :\"))\n",
    "    option=input(\"Kindly choose a valid operation +,-,/,* :\").strip()\n",
    "    if option==\"+\":\n",
    "        result=(num1+num2)\n",
    "    elif option ==\"-\":\n",
    "        result=(num1-num2)\n",
    "    elif option ==\"/\":\n",
    "        result=(num1/num2)\n",
    "    elif option ==\"*\":\n",
    "        result=(num1*num2)\n",
    "    else:\n",
    "        result=(\"Syntex error\")\n",
    "    return result"
   ]
  },
  {
   "cell_type": "code",
   "execution_count": 48,
   "id": "fdd7888a-6934-4e63-855d-448c0f4969fe",
   "metadata": {},
   "outputs": [
    {
     "name": "stdin",
     "output_type": "stream",
     "text": [
      "Enter a first number : 10\n",
      "Enter second number : 20\n",
      "Kindly choose a valid operation +,-,/,* : +\n"
     ]
    }
   ],
   "source": [
    "a=calculator()"
   ]
  },
  {
   "cell_type": "code",
   "execution_count": 49,
   "id": "d31bd6e4-c096-44ac-9a08-4e3f1b976f63",
   "metadata": {},
   "outputs": [
    {
     "name": "stdout",
     "output_type": "stream",
     "text": [
      "30\n"
     ]
    }
   ],
   "source": [
    "print(a)"
   ]
  },
  {
   "cell_type": "code",
   "execution_count": 50,
   "id": "8861cb10-90cb-44cc-9c42-2438dedfa752",
   "metadata": {},
   "outputs": [
    {
     "name": "stdin",
     "output_type": "stream",
     "text": [
      "Enter a first number : 20\n",
      "Enter second number : 30\n",
      "Kindly choose a valid operation +,-,/,* : +\n"
     ]
    }
   ],
   "source": [
    "b=calculator()"
   ]
  },
  {
   "cell_type": "code",
   "execution_count": 51,
   "id": "0bf184f3-c6de-4ed2-90c8-33c607a5157a",
   "metadata": {},
   "outputs": [
    {
     "name": "stdout",
     "output_type": "stream",
     "text": [
      "50\n"
     ]
    }
   ],
   "source": [
    "print(b)"
   ]
  },
  {
   "cell_type": "code",
   "execution_count": 52,
   "id": "08051eda-8ee1-46e1-bd5f-b3899c0ec170",
   "metadata": {},
   "outputs": [
    {
     "data": {
      "text/plain": [
       "-20"
      ]
     },
     "execution_count": 52,
     "metadata": {},
     "output_type": "execute_result"
    }
   ],
   "source": [
    "a-b"
   ]
  },
  {
   "cell_type": "code",
   "execution_count": 53,
   "id": "d134b21f-d4e2-4975-abf1-1ee2cdd18da0",
   "metadata": {},
   "outputs": [
    {
     "name": "stdin",
     "output_type": "stream",
     "text": [
      "Enter a first number : 10\n",
      "Enter second number : 20\n",
      "Kindly choose a valid operation +,-,/,* : +\n",
      "Enter a first number : 20\n",
      "Enter second number : 30\n",
      "Kindly choose a valid operation +,-,/,* : +\n"
     ]
    },
    {
     "data": {
      "text/plain": [
       "-20"
      ]
     },
     "execution_count": 53,
     "metadata": {},
     "output_type": "execute_result"
    }
   ],
   "source": [
    "calculator()-calculator()"
   ]
  },
  {
   "cell_type": "markdown",
   "id": "a68e0b4c-74ce-46e8-8884-55e11c218595",
   "metadata": {},
   "source": [
    "# arguments\n",
    "\n",
    "            > default argument\n",
    "\n",
    "            > positional argument\n",
    "\n",
    "            > keyword argument\n",
    "\n",
    "            > arbitrary positional argument\n",
    "\n",
    "            > arbitrary keyword argument "
   ]
  },
  {
   "cell_type": "code",
   "execution_count": 54,
   "id": "6a7f6673-ee7b-4ef2-9f28-ac68a8c93d50",
   "metadata": {},
   "outputs": [],
   "source": [
    "def add(a=10,b=20):   # default argument\n",
    "    print(a+b)"
   ]
  },
  {
   "cell_type": "code",
   "execution_count": 55,
   "id": "f0193256-1ca0-4c8b-9c76-278bd7d3ed93",
   "metadata": {},
   "outputs": [
    {
     "name": "stdout",
     "output_type": "stream",
     "text": [
      "30\n"
     ]
    }
   ],
   "source": [
    "add()"
   ]
  },
  {
   "cell_type": "code",
   "execution_count": 56,
   "id": "c919bd37-ba27-4080-a2ee-412a17b3abca",
   "metadata": {},
   "outputs": [
    {
     "name": "stdout",
     "output_type": "stream",
     "text": [
      "300\n"
     ]
    }
   ],
   "source": [
    "add(100,200)"
   ]
  },
  {
   "cell_type": "code",
   "execution_count": 57,
   "id": "7b510d25-1e1d-4d62-85f6-d8e8db8276b8",
   "metadata": {},
   "outputs": [
    {
     "name": "stdout",
     "output_type": "stream",
     "text": [
      "30\n"
     ]
    }
   ],
   "source": [
    "add()"
   ]
  },
  {
   "cell_type": "code",
   "execution_count": 58,
   "id": "d975589c-089b-4c96-8ba0-f5a61ac9c997",
   "metadata": {},
   "outputs": [
    {
     "name": "stdout",
     "output_type": "stream",
     "text": [
      "KRISHNA KUMAR\n"
     ]
    }
   ],
   "source": [
    "print(\"KRISHNA\",\"KUMAR\")"
   ]
  },
  {
   "cell_type": "code",
   "execution_count": 59,
   "id": "e53bd126-537d-443a-b293-9e780582a02e",
   "metadata": {},
   "outputs": [
    {
     "name": "stdout",
     "output_type": "stream",
     "text": [
      "KRISHNA$KUMAR\n"
     ]
    }
   ],
   "source": [
    "print(\"KRISHNA\",\"KUMAR\",sep=\"$\")"
   ]
  },
  {
   "cell_type": "markdown",
   "id": "ea3eb6cb-16b9-4541-acc9-4c60b30c3507",
   "metadata": {},
   "source": [
    "# positional argument"
   ]
  },
  {
   "cell_type": "code",
   "execution_count": 61,
   "id": "1ddb781d-83d8-438a-863d-79d5e619cd6d",
   "metadata": {},
   "outputs": [],
   "source": [
    "def add(a,b):\n",
    "    print(a+b)"
   ]
  },
  {
   "cell_type": "code",
   "execution_count": 62,
   "id": "be253e58-4d10-4341-ba12-9710cd1a6609",
   "metadata": {},
   "outputs": [
    {
     "ename": "TypeError",
     "evalue": "add() missing 2 required positional arguments: 'a' and 'b'",
     "output_type": "error",
     "traceback": [
      "\u001b[1;31m---------------------------------------------------------------------------\u001b[0m",
      "\u001b[1;31mTypeError\u001b[0m                                 Traceback (most recent call last)",
      "Cell \u001b[1;32mIn[62], line 1\u001b[0m\n\u001b[1;32m----> 1\u001b[0m \u001b[43madd\u001b[49m\u001b[43m(\u001b[49m\u001b[43m)\u001b[49m\n",
      "\u001b[1;31mTypeError\u001b[0m: add() missing 2 required positional arguments: 'a' and 'b'"
     ]
    }
   ],
   "source": [
    "add()"
   ]
  },
  {
   "cell_type": "code",
   "execution_count": 63,
   "id": "dcd672ca-a00b-46ef-bcc4-1dbe2f19a645",
   "metadata": {},
   "outputs": [
    {
     "name": "stdout",
     "output_type": "stream",
     "text": [
      "50\n"
     ]
    }
   ],
   "source": [
    "add(20,30)"
   ]
  },
  {
   "cell_type": "markdown",
   "id": "fb6c3802-e435-427d-b92a-8adc9526edac",
   "metadata": {},
   "source": [
    "# keyword argument"
   ]
  },
  {
   "cell_type": "code",
   "execution_count": 65,
   "id": "3e2eeeb6-b35b-4063-98ac-9d6e5bcdf318",
   "metadata": {},
   "outputs": [],
   "source": [
    "def add4(a,b):\n",
    "    print(\"a: \",a)\n",
    "    print(\"b: \",b)\n",
    "    print(a+b)"
   ]
  },
  {
   "cell_type": "code",
   "execution_count": 66,
   "id": "b017df9e-40f8-436e-aa68-05f6d5b0f398",
   "metadata": {},
   "outputs": [
    {
     "name": "stdout",
     "output_type": "stream",
     "text": [
      "a:  30\n",
      "b:  20\n",
      "50\n"
     ]
    }
   ],
   "source": [
    "add4(30,20)"
   ]
  },
  {
   "cell_type": "code",
   "execution_count": 67,
   "id": "21694791-8b20-4387-8646-1316d2e6ca45",
   "metadata": {},
   "outputs": [
    {
     "name": "stdout",
     "output_type": "stream",
     "text": [
      "a:  20\n",
      "b:  30\n",
      "50\n"
     ]
    }
   ],
   "source": [
    "add4(20,30)"
   ]
  },
  {
   "cell_type": "code",
   "execution_count": 68,
   "id": "9f5fa6ab-cb70-4f1f-aebf-fefd39ad8050",
   "metadata": {},
   "outputs": [
    {
     "name": "stdout",
     "output_type": "stream",
     "text": [
      "a:  20\n",
      "b:  30\n",
      "50\n"
     ]
    }
   ],
   "source": [
    "add4(b=30,a=20)"
   ]
  },
  {
   "cell_type": "markdown",
   "id": "a47c2058-f6cd-4117-a4c0-bcdf6b5d73ee",
   "metadata": {},
   "source": [
    "# arbitrary positional argument"
   ]
  },
  {
   "cell_type": "code",
   "execution_count": 69,
   "id": "f6bde53e-960c-4d39-9f50-0a023bc61fe0",
   "metadata": {},
   "outputs": [],
   "source": [
    "def add5(*n):\n",
    "    print(n)"
   ]
  },
  {
   "cell_type": "code",
   "execution_count": 70,
   "id": "be60131f-dfbf-454c-81c8-aae4275c355d",
   "metadata": {},
   "outputs": [
    {
     "name": "stdout",
     "output_type": "stream",
     "text": [
      "(1, 2, 3, 3, 4, 2, 34, 54, 65, 6, 34, 2, 5, 6, 7)\n"
     ]
    }
   ],
   "source": [
    "add5(1,2,3,3,4,2,34,54,65,6,34,2,5,6,7)"
   ]
  },
  {
   "cell_type": "code",
   "execution_count": 71,
   "id": "50e683b0-2403-4529-bf27-fe2a11ced84b",
   "metadata": {},
   "outputs": [],
   "source": [
    "a=3,4,5,6,73,4,5,6,7"
   ]
  },
  {
   "cell_type": "code",
   "execution_count": 72,
   "id": "ad4b2465-cde6-4662-a320-87da5f88e829",
   "metadata": {},
   "outputs": [
    {
     "name": "stdout",
     "output_type": "stream",
     "text": [
      "(3, 4, 5, 6, 73, 4, 5, 6, 7)\n"
     ]
    }
   ],
   "source": [
    "print(a)"
   ]
  },
  {
   "cell_type": "code",
   "execution_count": 73,
   "id": "89304bb2-881b-45c8-a2e6-39dac42cc356",
   "metadata": {},
   "outputs": [],
   "source": [
    "def add6(*n):\n",
    "    k=0\n",
    "    for i in n:\n",
    "        k=k+i\n",
    "    print(k)"
   ]
  },
  {
   "cell_type": "code",
   "execution_count": 75,
   "id": "338d03be-d7c7-4848-a118-4d02356fe37b",
   "metadata": {},
   "outputs": [
    {
     "name": "stdout",
     "output_type": "stream",
     "text": [
      "5276865806468983196277\n"
     ]
    }
   ],
   "source": [
    "add6(3,4,5,6,7,8,8,423,34,3242354,32423,4123423,42342341234452345234,5234523465234523452345)"
   ]
  },
  {
   "cell_type": "markdown",
   "id": "4870bf6b-3721-4b6c-8104-9f7c427f6bf5",
   "metadata": {},
   "source": [
    "# arbitrary keyword argument "
   ]
  },
  {
   "cell_type": "code",
   "execution_count": 76,
   "id": "24e19314-e28d-44ce-973c-80fe518c0ba1",
   "metadata": {},
   "outputs": [],
   "source": [
    "def add7(**n):\n",
    "    print(n)"
   ]
  },
  {
   "cell_type": "code",
   "execution_count": 77,
   "id": "deecabf4-6272-4f1a-860c-fd0ad08b2ee7",
   "metadata": {},
   "outputs": [
    {
     "name": "stdout",
     "output_type": "stream",
     "text": [
      "{'name': 'krishna', 'age': 27, 'weight': 72}\n"
     ]
    }
   ],
   "source": [
    "add7(name=\"krishna\",age=27,weight =72)"
   ]
  },
  {
   "cell_type": "code",
   "execution_count": 78,
   "id": "3d542618-5675-4a39-b0fa-dc1334dfa174",
   "metadata": {},
   "outputs": [],
   "source": [
    "def add7(**n):\n",
    "    for i in n.values():\n",
    "        print(i)"
   ]
  },
  {
   "cell_type": "code",
   "execution_count": 80,
   "id": "7622a87a-7e33-4e7b-b90e-0259d0ea31e4",
   "metadata": {},
   "outputs": [
    {
     "name": "stdout",
     "output_type": "stream",
     "text": [
      "mohan\n",
      "62\n",
      "72\n"
     ]
    }
   ],
   "source": [
    "add7(name=\"mohan\",age=62,weight=72)"
   ]
  },
  {
   "cell_type": "code",
   "execution_count": 81,
   "id": "258d9fa6-b63f-402d-8de3-31cbf0c75611",
   "metadata": {},
   "outputs": [
    {
     "name": "stdout",
     "output_type": "stream",
     "text": [
      "10 20 30 40\n"
     ]
    }
   ],
   "source": [
    "print(10,20,30,40)"
   ]
  },
  {
   "cell_type": "markdown",
   "id": "a0d12bd3-9b7e-4b46-bab8-0508eefd0880",
   "metadata": {},
   "source": [
    " > lambda(fat function , fat arrow function =>)\n",
    "\n",
    "    > decorator(nested funtion)\n",
    "\n",
    "    > generator"
   ]
  },
  {
   "cell_type": "code",
   "execution_count": 6,
   "id": "7e1e5410-7e06-4c7d-85be-870bb315bbbe",
   "metadata": {},
   "outputs": [],
   "source": [
    "def intro(name):\n",
    "    print(f\"I am {name}\")\n",
    "    "
   ]
  },
  {
   "cell_type": "code",
   "execution_count": 7,
   "id": "dab73049-ca80-47f5-8675-a266d30606c8",
   "metadata": {},
   "outputs": [
    {
     "name": "stdout",
     "output_type": "stream",
     "text": [
      "I am Krishna\n"
     ]
    }
   ],
   "source": [
    "intro(\"Krishna\")"
   ]
  },
  {
   "cell_type": "code",
   "execution_count": 9,
   "id": "9a462b38-8624-4eb4-be07-0e8fffa6eea0",
   "metadata": {},
   "outputs": [],
   "source": [
    "a=lambda name: print(f\"I am {name}\")"
   ]
  },
  {
   "cell_type": "code",
   "execution_count": 10,
   "id": "c2f684f6-abde-47fc-9722-5dfb22ef4e72",
   "metadata": {},
   "outputs": [
    {
     "name": "stdout",
     "output_type": "stream",
     "text": [
      "I am Krishna\n"
     ]
    }
   ],
   "source": [
    "a(\"Krishna\")"
   ]
  },
  {
   "cell_type": "code",
   "execution_count": 11,
   "id": "c688a895-56cf-470c-b40c-e51b4445acd4",
   "metadata": {},
   "outputs": [],
   "source": [
    "def add(a,b):\n",
    "    return a+b"
   ]
  },
  {
   "cell_type": "code",
   "execution_count": 15,
   "id": "b395e065-3110-4d04-9003-4a71d1cdd91d",
   "metadata": {},
   "outputs": [
    {
     "name": "stdout",
     "output_type": "stream",
     "text": [
      "30\n",
      "a\n"
     ]
    }
   ],
   "source": [
    "b=add(10,20)\n",
    "print(b)\n",
    "print(\"a\")"
   ]
  },
  {
   "cell_type": "code",
   "execution_count": 18,
   "id": "6be94ed5-11a2-42de-823b-4f59da65ad27",
   "metadata": {},
   "outputs": [],
   "source": [
    "c=lambda a,b:a+b"
   ]
  },
  {
   "cell_type": "code",
   "execution_count": 20,
   "id": "274b0316-e344-48e6-be20-c507fc131f0b",
   "metadata": {},
   "outputs": [],
   "source": [
    "d=c(2,3)"
   ]
  },
  {
   "cell_type": "code",
   "execution_count": 21,
   "id": "5b0f8218-2feb-4b53-81a3-b32e9076b68f",
   "metadata": {},
   "outputs": [
    {
     "name": "stdout",
     "output_type": "stream",
     "text": [
      "5\n"
     ]
    }
   ],
   "source": [
    "print(d)"
   ]
  },
  {
   "cell_type": "code",
   "execution_count": 22,
   "id": "c25f6472-0217-4683-911b-5733f4200ccb",
   "metadata": {},
   "outputs": [],
   "source": [
    "x=lambda a,b:print(a+b)"
   ]
  },
  {
   "cell_type": "code",
   "execution_count": 24,
   "id": "698eb5f5-75ec-4abe-824a-6a82769f63e3",
   "metadata": {},
   "outputs": [
    {
     "name": "stdout",
     "output_type": "stream",
     "text": [
      "50\n"
     ]
    }
   ],
   "source": [
    "y=x(20,30)"
   ]
  },
  {
   "cell_type": "code",
   "execution_count": 25,
   "id": "bc7f9c54-3cb1-41ac-9ff8-94069f5103eb",
   "metadata": {},
   "outputs": [
    {
     "name": "stdout",
     "output_type": "stream",
     "text": [
      "None\n"
     ]
    }
   ],
   "source": [
    "print(y)"
   ]
  },
  {
   "cell_type": "code",
   "execution_count": 27,
   "id": "87b0b23c-1c08-478a-93a8-e2eaf8c36c77",
   "metadata": {},
   "outputs": [
    {
     "name": "stdout",
     "output_type": "stream",
     "text": [
      "hello world\n",
      "None\n"
     ]
    }
   ],
   "source": [
    "print(print(\"hello world\"))"
   ]
  },
  {
   "cell_type": "code",
   "execution_count": 28,
   "id": "c20a4fb2-6a6f-49d4-99b5-0089772a245a",
   "metadata": {},
   "outputs": [],
   "source": [
    "a=[i for i in range(1,10)]"
   ]
  },
  {
   "cell_type": "code",
   "execution_count": 29,
   "id": "8d609562-acec-4c9b-8ca7-19c26581e0de",
   "metadata": {},
   "outputs": [
    {
     "name": "stdout",
     "output_type": "stream",
     "text": [
      "[1, 2, 3, 4, 5, 6, 7, 8, 9]\n"
     ]
    }
   ],
   "source": [
    "print(a)"
   ]
  },
  {
   "cell_type": "code",
   "execution_count": 44,
   "id": "cef0d9f3-e7e7-468e-bcbe-5d9577d1739f",
   "metadata": {},
   "outputs": [
    {
     "name": "stdout",
     "output_type": "stream",
     "text": [
      "[2, 4, 6, 8]\n"
     ]
    }
   ],
   "source": [
    "cont=[]\n",
    "for i in a:\n",
    "    if i%2==0:\n",
    "        cont.append(i)\n",
    "print(cont)"
   ]
  },
  {
   "cell_type": "code",
   "execution_count": 33,
   "id": "4e544308-dc3d-4c6a-82bc-baa77bf51b39",
   "metadata": {},
   "outputs": [],
   "source": [
    "def for_loop_filter(arg):\n",
    "    cont=[]\n",
    "    for i in arg:\n",
    "        if i%2==0:\n",
    "            cont.append(i)\n",
    "    print(cont)"
   ]
  },
  {
   "cell_type": "code",
   "execution_count": 34,
   "id": "3608a20a-9b0e-476c-a813-27245af9a807",
   "metadata": {},
   "outputs": [
    {
     "name": "stdout",
     "output_type": "stream",
     "text": [
      "[2, 4, 6, 8]\n"
     ]
    }
   ],
   "source": [
    "for_loop_filter(a)"
   ]
  },
  {
   "cell_type": "code",
   "execution_count": 35,
   "id": "a3333194-167d-46a9-8aa3-76438ccc4a00",
   "metadata": {},
   "outputs": [
    {
     "name": "stdout",
     "output_type": "stream",
     "text": [
      "[2, 4, 6, 8]\n"
     ]
    }
   ],
   "source": [
    "cont=[]\n",
    "for i in a:\n",
    "    if i%2==0:\n",
    "        cont.append(i)\n",
    "print(cont)"
   ]
  },
  {
   "cell_type": "code",
   "execution_count": 36,
   "id": "f621e6a0-5e4e-4457-9560-66de4b979c64",
   "metadata": {},
   "outputs": [],
   "source": [
    "cont2=[i for i in a if i%2==0]"
   ]
  },
  {
   "cell_type": "code",
   "execution_count": 37,
   "id": "c510754a-ad4c-43d2-b16d-bcb45c9c1a21",
   "metadata": {},
   "outputs": [
    {
     "data": {
      "text/plain": [
       "[2, 4, 6, 8]"
      ]
     },
     "execution_count": 37,
     "metadata": {},
     "output_type": "execute_result"
    }
   ],
   "source": [
    "cont2"
   ]
  },
  {
   "cell_type": "code",
   "execution_count": 39,
   "id": "0073018a-e57c-433d-b7b4-556cd8ed511b",
   "metadata": {},
   "outputs": [],
   "source": [
    "def for_loop_filter(arg):\n",
    "    return [i for i in arg if i%2==0]\n",
    "    "
   ]
  },
  {
   "cell_type": "code",
   "execution_count": 45,
   "id": "679e2a6f-6c66-4a2c-b3bf-efdb4da4857a",
   "metadata": {},
   "outputs": [],
   "source": [
    "y=lambda arg:[i for i in arg if i%2!=0]"
   ]
  },
  {
   "cell_type": "code",
   "execution_count": 46,
   "id": "95407fd5-1782-4a49-b716-f6e1e70567a3",
   "metadata": {},
   "outputs": [
    {
     "data": {
      "text/plain": [
       "[1, 3, 5, 7, 9]"
      ]
     },
     "execution_count": 46,
     "metadata": {},
     "output_type": "execute_result"
    }
   ],
   "source": [
    "y(a)"
   ]
  },
  {
   "cell_type": "code",
   "execution_count": 47,
   "id": "d2bee7c9-fe17-400e-8ae2-5b2bef6d0be8",
   "metadata": {},
   "outputs": [],
   "source": [
    "b=[434,32,34,54,65,7,87,54,32]"
   ]
  },
  {
   "cell_type": "code",
   "execution_count": 50,
   "id": "0760ee25-10cc-44c0-b72f-19314f09f879",
   "metadata": {},
   "outputs": [
    {
     "name": "stdout",
     "output_type": "stream",
     "text": [
      "[65, 7, 87]\n"
     ]
    }
   ],
   "source": [
    "cont4=[]\n",
    "for i in (b):\n",
    "    if i%2!=0:\n",
    "        cont4.append(i)\n",
    "print(cont4)"
   ]
  },
  {
   "cell_type": "code",
   "execution_count": 53,
   "id": "a6ea375e-e567-41c8-bf3e-154f336b1feb",
   "metadata": {},
   "outputs": [],
   "source": [
    "def new(b):\n",
    "    return [i for i in (b) if i%2!=0]"
   ]
  },
  {
   "cell_type": "code",
   "execution_count": 52,
   "id": "018f3775-49e8-47c2-a83e-765c1efc0747",
   "metadata": {},
   "outputs": [
    {
     "data": {
      "text/plain": [
       "[65, 7, 87]"
      ]
     },
     "execution_count": 52,
     "metadata": {},
     "output_type": "execute_result"
    }
   ],
   "source": [
    "cont5"
   ]
  },
  {
   "cell_type": "code",
   "execution_count": 54,
   "id": "75fdabc0-624f-4f9e-b950-beceddabdc66",
   "metadata": {},
   "outputs": [],
   "source": [
    "z=lambda b: [i for i in (b) if i%2!=0]"
   ]
  },
  {
   "cell_type": "code",
   "execution_count": 55,
   "id": "df0b1dce-4ae0-4790-8996-c98e15436936",
   "metadata": {},
   "outputs": [
    {
     "data": {
      "text/plain": [
       "[65, 7, 87]"
      ]
     },
     "execution_count": 55,
     "metadata": {},
     "output_type": "execute_result"
    }
   ],
   "source": [
    "z(b)"
   ]
  },
  {
   "cell_type": "markdown",
   "id": "bb1b2ed4-869c-49dd-981b-3e7dc8f6279e",
   "metadata": {},
   "source": [
    "# decorator"
   ]
  },
  {
   "cell_type": "code",
   "execution_count": 56,
   "id": "b55bd236-85bc-4472-af6d-fc2fd61f9bd2",
   "metadata": {},
   "outputs": [],
   "source": [
    "def intro():\n",
    "    print(\"I am AI trainer\")"
   ]
  },
  {
   "cell_type": "code",
   "execution_count": 57,
   "id": "4822271f-c96c-402e-8bbc-6b1fd4d8a9d4",
   "metadata": {},
   "outputs": [
    {
     "name": "stdout",
     "output_type": "stream",
     "text": [
      "I am AI trainer\n"
     ]
    }
   ],
   "source": [
    "intro()"
   ]
  },
  {
   "cell_type": "raw",
   "id": "69b47945-210b-4922-a652-30ab5612245d",
   "metadata": {},
   "source": [
    "I am krishna \n",
    "I am AI trainer"
   ]
  },
  {
   "cell_type": "code",
   "execution_count": 65,
   "id": "9a0d42cc-8638-4691-999e-eb3f87dff21c",
   "metadata": {},
   "outputs": [
    {
     "name": "stdout",
     "output_type": "stream",
     "text": [
      "I am krishna\n",
      "I am AI trainer\n"
     ]
    }
   ],
   "source": [
    "def intro():\n",
    "    print(\"I am AI trainer\")\n",
    "    \n",
    "def super(arg):\n",
    "    def inner():\n",
    "        print(\"I am krishna\")\n",
    "        arg()\n",
    "    return inner\n",
    "val=super(intro)\n",
    "val()"
   ]
  },
  {
   "cell_type": "code",
   "execution_count": 70,
   "id": "24540b72-fe79-40a5-bb00-035799ecc73c",
   "metadata": {},
   "outputs": [
    {
     "name": "stdout",
     "output_type": "stream",
     "text": [
      "I am krishna\n",
      "I am AI trainer\n"
     ]
    }
   ],
   "source": [
    "def krishna(arg):\n",
    "    def vicky():\n",
    "        print(\"I am krishna\")\n",
    "        arg()\n",
    "    return vicky\n",
    "@krishna\n",
    "def intro():\n",
    "    print(\"I am AI trainer\")\n",
    "intro()"
   ]
  },
  {
   "cell_type": "markdown",
   "id": "0cb36d08-82fe-42f7-87d2-220e571f18db",
   "metadata": {},
   "source": [
    "# generator  --> yield "
   ]
  },
  {
   "cell_type": "code",
   "execution_count": 1,
   "id": "1b96b33e-f2c9-47be-a80c-2e865c4f3b4e",
   "metadata": {},
   "outputs": [],
   "source": [
    "def iterable():\n",
    "    yield 1\n",
    "    yield 2\n",
    "    yield 3"
   ]
  },
  {
   "cell_type": "code",
   "execution_count": 3,
   "id": "33ad9e62-6433-4d80-b571-af448184033e",
   "metadata": {},
   "outputs": [],
   "source": [
    "x=iterable()"
   ]
  },
  {
   "cell_type": "code",
   "execution_count": 4,
   "id": "d9498a73-193c-430e-8372-55986e862ee4",
   "metadata": {},
   "outputs": [
    {
     "data": {
      "text/plain": [
       "1"
      ]
     },
     "execution_count": 4,
     "metadata": {},
     "output_type": "execute_result"
    }
   ],
   "source": [
    "next(x)"
   ]
  },
  {
   "cell_type": "code",
   "execution_count": 5,
   "id": "bcc24755-ea6a-4904-a07a-ede161d6b236",
   "metadata": {},
   "outputs": [
    {
     "data": {
      "text/plain": [
       "2"
      ]
     },
     "execution_count": 5,
     "metadata": {},
     "output_type": "execute_result"
    }
   ],
   "source": [
    "next(x)"
   ]
  },
  {
   "cell_type": "code",
   "execution_count": 6,
   "id": "ad43d71a-c57e-4813-bd93-a2d5a109b90e",
   "metadata": {},
   "outputs": [
    {
     "data": {
      "text/plain": [
       "3"
      ]
     },
     "execution_count": 6,
     "metadata": {},
     "output_type": "execute_result"
    }
   ],
   "source": [
    "next(x)"
   ]
  },
  {
   "cell_type": "code",
   "execution_count": 7,
   "id": "190f2375-fe32-4bfe-9144-003b7a3c4d4e",
   "metadata": {},
   "outputs": [
    {
     "ename": "StopIteration",
     "evalue": "",
     "output_type": "error",
     "traceback": [
      "\u001b[1;31m---------------------------------------------------------------------------\u001b[0m",
      "\u001b[1;31mStopIteration\u001b[0m                             Traceback (most recent call last)",
      "Cell \u001b[1;32mIn[7], line 1\u001b[0m\n\u001b[1;32m----> 1\u001b[0m \u001b[38;5;28;43mnext\u001b[39;49m\u001b[43m(\u001b[49m\u001b[43mx\u001b[49m\u001b[43m)\u001b[49m\n",
      "\u001b[1;31mStopIteration\u001b[0m: "
     ]
    }
   ],
   "source": [
    "next(x)"
   ]
  },
  {
   "cell_type": "code",
   "execution_count": 8,
   "id": "ef78a3d5-5b8e-4cad-9fdd-628df53ddaab",
   "metadata": {},
   "outputs": [],
   "source": [
    "y=iterable()"
   ]
  },
  {
   "cell_type": "code",
   "execution_count": 9,
   "id": "9c45466b-ce1b-4234-822f-babaada63ce2",
   "metadata": {},
   "outputs": [
    {
     "data": {
      "text/plain": [
       "1"
      ]
     },
     "execution_count": 9,
     "metadata": {},
     "output_type": "execute_result"
    }
   ],
   "source": [
    "y.__next__()"
   ]
  },
  {
   "cell_type": "code",
   "execution_count": 10,
   "id": "03b64b44-7d6b-4b18-9148-a3e6db75f5a4",
   "metadata": {},
   "outputs": [
    {
     "data": {
      "text/plain": [
       "2"
      ]
     },
     "execution_count": 10,
     "metadata": {},
     "output_type": "execute_result"
    }
   ],
   "source": [
    "y.__next__()"
   ]
  },
  {
   "cell_type": "code",
   "execution_count": 11,
   "id": "2298f45c-72e6-482e-b3ca-cb916fcf2824",
   "metadata": {},
   "outputs": [
    {
     "data": {
      "text/plain": [
       "3"
      ]
     },
     "execution_count": 11,
     "metadata": {},
     "output_type": "execute_result"
    }
   ],
   "source": [
    "y.__next__()"
   ]
  },
  {
   "cell_type": "code",
   "execution_count": 12,
   "id": "ddd20df1-0d2d-44b6-9741-a842de7eb5c1",
   "metadata": {},
   "outputs": [
    {
     "ename": "StopIteration",
     "evalue": "",
     "output_type": "error",
     "traceback": [
      "\u001b[1;31m---------------------------------------------------------------------------\u001b[0m",
      "\u001b[1;31mStopIteration\u001b[0m                             Traceback (most recent call last)",
      "Cell \u001b[1;32mIn[12], line 1\u001b[0m\n\u001b[1;32m----> 1\u001b[0m \u001b[43my\u001b[49m\u001b[38;5;241;43m.\u001b[39;49m\u001b[38;5;21;43m__next__\u001b[39;49m\u001b[43m(\u001b[49m\u001b[43m)\u001b[49m\n",
      "\u001b[1;31mStopIteration\u001b[0m: "
     ]
    }
   ],
   "source": [
    "y.__next__()"
   ]
  },
  {
   "cell_type": "code",
   "execution_count": 33,
   "id": "d887e839-e29f-4107-8018-e74adc4c3e48",
   "metadata": {},
   "outputs": [],
   "source": [
    "def new():\n",
    "    for i in range(0,10):\n",
    "        yield i"
   ]
  },
  {
   "cell_type": "code",
   "execution_count": 34,
   "id": "52766b2b-c45f-48d0-ae75-2f62e08a6765",
   "metadata": {},
   "outputs": [],
   "source": [
    "x=new()"
   ]
  },
  {
   "cell_type": "code",
   "execution_count": 35,
   "id": "64e3d0f3-1638-44f1-b977-84d773992c8d",
   "metadata": {},
   "outputs": [
    {
     "data": {
      "text/plain": [
       "<generator object new at 0x00000169B86A53C0>"
      ]
     },
     "execution_count": 35,
     "metadata": {},
     "output_type": "execute_result"
    }
   ],
   "source": [
    "x"
   ]
  },
  {
   "cell_type": "code",
   "execution_count": 36,
   "id": "ec7355ba-5cb2-46d7-bf6a-8a9dbe0cd8c2",
   "metadata": {},
   "outputs": [
    {
     "data": {
      "text/plain": [
       "0"
      ]
     },
     "execution_count": 36,
     "metadata": {},
     "output_type": "execute_result"
    }
   ],
   "source": [
    "next(x)"
   ]
  },
  {
   "cell_type": "code",
   "execution_count": 37,
   "id": "408832b6-e999-4ebc-94a7-479976adbe0f",
   "metadata": {},
   "outputs": [
    {
     "data": {
      "text/plain": [
       "1"
      ]
     },
     "execution_count": 37,
     "metadata": {},
     "output_type": "execute_result"
    }
   ],
   "source": [
    "next(x)"
   ]
  },
  {
   "cell_type": "code",
   "execution_count": null,
   "id": "19e60cea-fc64-4d13-8edc-c9c051797dc3",
   "metadata": {},
   "outputs": [],
   "source": []
  },
  {
   "cell_type": "code",
   "execution_count": null,
   "id": "620e6ea9-7050-46d3-9606-b3fa00e8a976",
   "metadata": {},
   "outputs": [],
   "source": []
  },
  {
   "cell_type": "code",
   "execution_count": null,
   "id": "eb7cec13-ea3c-4d13-b8bf-78bce5c05624",
   "metadata": {},
   "outputs": [],
   "source": []
  },
  {
   "cell_type": "code",
   "execution_count": null,
   "id": "7c3f627c-65d9-424a-9a4d-168c814cc45b",
   "metadata": {},
   "outputs": [],
   "source": []
  },
  {
   "cell_type": "code",
   "execution_count": null,
   "id": "38960e2e-0187-4c43-ab7e-62e572e218ea",
   "metadata": {},
   "outputs": [],
   "source": []
  }
 ],
 "metadata": {
  "kernelspec": {
   "display_name": "Python 3 (ipykernel)",
   "language": "python",
   "name": "python3"
  },
  "language_info": {
   "codemirror_mode": {
    "name": "ipython",
    "version": 3
   },
   "file_extension": ".py",
   "mimetype": "text/x-python",
   "name": "python",
   "nbconvert_exporter": "python",
   "pygments_lexer": "ipython3",
   "version": "3.11.5"
  }
 },
 "nbformat": 4,
 "nbformat_minor": 5
}
