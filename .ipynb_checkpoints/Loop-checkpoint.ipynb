{
 "cells": [
  {
   "cell_type": "raw",
   "id": "1a5be9fc-c961-4cec-8a23-00794499356c",
   "metadata": {},
   "source": [
    "> loop:\n",
    "    > for \n",
    "        > single for loop \n",
    "        > nested for loop\n",
    "        > single for loop for pattern\n",
    "        > nested for loop for pattern\n",
    "        > list comprehension \n",
    "        > dictionary comprehension \n",
    "        > set comprehension\n",
    "        > tuple comprehension(exception it generate a generator object)\n",
    "        > forzenset comprehension\n",
    "        > break \n",
    "        > continue \n",
    "        > pass\n",
    "    > while\n",
    "        > single while loop\n",
    "        > nested while loop\n",
    "        > single while loop for pattern\n",
    "        > nested whill loop for pattern\n",
    "        > break \n",
    "        > continue \n",
    "        > pass"
   ]
  },
  {
   "cell_type": "code",
   "execution_count": 1,
   "id": "88ed51e3-71cf-4a08-9993-7bc2f4324b28",
   "metadata": {},
   "outputs": [
    {
     "name": "stdout",
     "output_type": "stream",
     "text": [
      "Hello world\n",
      "Hello world\n",
      "Hello world\n",
      "Hello world\n",
      "Hello world\n"
     ]
    }
   ],
   "source": [
    "print(\"Hello world\")\n",
    "print(\"Hello world\")\n",
    "print(\"Hello world\")\n",
    "print(\"Hello world\")\n",
    "print(\"Hello world\")"
   ]
  },
  {
   "cell_type": "raw",
   "id": "94b513c7-e8f4-4f95-8bf8-594f0b167610",
   "metadata": {},
   "source": [
    "iterable: a datatype which contain a magic method/ dunder methods(def __iter__()), called iterable\n",
    "\n",
    "int\n",
    "float \n",
    "str  # iterable\n",
    "list # iterable\n",
    "tuple # iterable\n",
    "set # iterable\n",
    "frozenset # iterable\n",
    "dict #iterable\n",
    "complex\n",
    "bool"
   ]
  },
  {
   "cell_type": "code",
   "execution_count": null,
   "id": "b948f6ea-c8e4-4116-b279-fa96e0ac2a5a",
   "metadata": {},
   "outputs": [],
   "source": [
    "for loop: when number of iteration is known \n",
    "\n",
    "while loop: when number of iteration is not known"
   ]
  },
  {
   "cell_type": "code",
   "execution_count": 7,
   "id": "08e081fc-6268-433e-a538-412e67ca9473",
   "metadata": {
    "scrolled": true
   },
   "outputs": [
    {
     "data": {
      "text/plain": [
       "range(0, 10)"
      ]
     },
     "execution_count": 7,
     "metadata": {},
     "output_type": "execute_result"
    }
   ],
   "source": [
    "range(10)"
   ]
  },
  {
   "cell_type": "code",
   "execution_count": 8,
   "id": "3295bb13-76f8-4ab7-b681-43a25f275b63",
   "metadata": {},
   "outputs": [],
   "source": [
    "a=[1,2,3,4,5,6,7,8,9]"
   ]
  },
  {
   "cell_type": "code",
   "execution_count": 10,
   "id": "79394005-d8ad-4bb9-8c85-1817f4d9eb35",
   "metadata": {},
   "outputs": [
    {
     "name": "stdout",
     "output_type": "stream",
     "text": [
      "1\n",
      "2\n",
      "3\n",
      "4\n",
      "5\n",
      "6\n",
      "7\n",
      "8\n",
      "9\n"
     ]
    }
   ],
   "source": [
    "for i in a:\n",
    "    print(i)"
   ]
  },
  {
   "cell_type": "code",
   "execution_count": 11,
   "id": "fa0a2390-c831-4eea-bde6-74ce8daf6e82",
   "metadata": {},
   "outputs": [
    {
     "name": "stdout",
     "output_type": "stream",
     "text": [
      "Hello world\n",
      "Hello world\n",
      "Hello world\n",
      "Hello world\n",
      "Hello world\n",
      "Hello world\n",
      "Hello world\n",
      "Hello world\n",
      "Hello world\n"
     ]
    }
   ],
   "source": [
    "a=[1,2,3,4,5,6,7,8,9]\n",
    "for i in a:\n",
    "    print(\"Hello world\")"
   ]
  },
  {
   "cell_type": "code",
   "execution_count": 12,
   "id": "c9575e7f-115e-46d9-b5e2-ed03d7de1a27",
   "metadata": {},
   "outputs": [
    {
     "name": "stdout",
     "output_type": "stream",
     "text": [
      "1 Hello world\n",
      "2 Hello world\n",
      "3 Hello world\n",
      "4 Hello world\n",
      "5 Hello world\n",
      "6 Hello world\n",
      "7 Hello world\n",
      "8 Hello world\n",
      "9 Hello world\n"
     ]
    }
   ],
   "source": [
    "a=[1,2,3,4,5,6,7,8,9]\n",
    "for i in a:\n",
    "    print(i,\"Hello world\")"
   ]
  },
  {
   "cell_type": "code",
   "execution_count": 13,
   "id": "82dbe318-232f-4c63-ac1f-901683c7109c",
   "metadata": {},
   "outputs": [
    {
     "name": "stdout",
     "output_type": "stream",
     "text": [
      "9 Hello world\n",
      "8 Hello world\n",
      "7 Hello world\n",
      "6 Hello world\n",
      "5 Hello world\n",
      "4 Hello world\n",
      "3 Hello world\n",
      "2 Hello world\n",
      "1 Hello world\n"
     ]
    }
   ],
   "source": [
    "a=[1,2,3,4,5,6,7,8,9]\n",
    "for i in a:\n",
    "    print(10-i,\"Hello world\")"
   ]
  },
  {
   "cell_type": "code",
   "execution_count": 16,
   "id": "d1220c56-b031-4751-96d9-25ddc1928091",
   "metadata": {},
   "outputs": [],
   "source": [
    "b=range(10)"
   ]
  },
  {
   "cell_type": "code",
   "execution_count": null,
   "id": "d3e07cdc-0026-4f89-9216-1589ab0ce81e",
   "metadata": {},
   "outputs": [],
   "source": [
    "a=[1,2,3,4,5,6,7,8,9]\n",
    "for i in a:\n",
    "    print(10-i,\"Hello world\")"
   ]
  },
  {
   "cell_type": "code",
   "execution_count": 15,
   "id": "580154a1-8836-46ba-858d-494e15bf9192",
   "metadata": {},
   "outputs": [
    {
     "data": {
      "text/plain": [
       "136"
      ]
     },
     "execution_count": 15,
     "metadata": {},
     "output_type": "execute_result"
    }
   ],
   "source": [
    "import sys\n",
    "sys.getsizeof(a)"
   ]
  },
  {
   "cell_type": "code",
   "execution_count": 17,
   "id": "ca599ca7-4fa4-4e0f-a72b-263611ee0029",
   "metadata": {},
   "outputs": [
    {
     "data": {
      "text/plain": [
       "48"
      ]
     },
     "execution_count": 17,
     "metadata": {},
     "output_type": "execute_result"
    }
   ],
   "source": [
    "sys.getsizeof(b)"
   ]
  },
  {
   "cell_type": "code",
   "execution_count": 22,
   "id": "e34419e2-2ddf-48e0-b60e-2b55c1366557",
   "metadata": {},
   "outputs": [
    {
     "name": "stdout",
     "output_type": "stream",
     "text": [
      "9 Hello world\n",
      "8 Hello world\n",
      "7 Hello world\n",
      "6 Hello world\n",
      "5 Hello world\n",
      "4 Hello world\n",
      "3 Hello world\n",
      "2 Hello world\n",
      "1 Hello world\n"
     ]
    }
   ],
   "source": [
    "b=range(1,10)\n",
    "for i in b:\n",
    "    print(10-i,\"Hello world\")"
   ]
  },
  {
   "cell_type": "code",
   "execution_count": 21,
   "id": "9c8fbd3b-50b5-4a14-906e-235dafde0991",
   "metadata": {},
   "outputs": [
    {
     "data": {
      "text/plain": [
       "range(1, 10)"
      ]
     },
     "execution_count": 21,
     "metadata": {},
     "output_type": "execute_result"
    }
   ],
   "source": [
    "range(1,10)"
   ]
  },
  {
   "cell_type": "code",
   "execution_count": 20,
   "id": "ff7370b7-1c9e-4a66-94fb-09e8517fd18a",
   "metadata": {},
   "outputs": [
    {
     "data": {
      "text/plain": [
       "[1, 2, 3, 4, 5, 6, 7, 8, 9]"
      ]
     },
     "execution_count": 20,
     "metadata": {},
     "output_type": "execute_result"
    }
   ],
   "source": [
    "a"
   ]
  },
  {
   "cell_type": "code",
   "execution_count": 24,
   "id": "ac8b5d5c-a5a7-42f5-8a7d-b843bb9782cb",
   "metadata": {},
   "outputs": [
    {
     "name": "stdout",
     "output_type": "stream",
     "text": [
      "1 Hello world\n",
      "2 Hello world\n",
      "3 Hello world\n",
      "4 Hello world\n",
      "5 Hello world\n",
      "6 Hello world\n",
      "7 Hello world\n",
      "8 Hello world\n",
      "9 Hello world\n"
     ]
    }
   ],
   "source": [
    "b=range(1,10,1)\n",
    "for i in b:\n",
    "    print(i,\"Hello world\")"
   ]
  },
  {
   "cell_type": "code",
   "execution_count": 25,
   "id": "fb2364fe-0c06-4772-b8ed-f2df2e1158d0",
   "metadata": {},
   "outputs": [
    {
     "name": "stdout",
     "output_type": "stream",
     "text": [
      "1 Hello world\n",
      "3 Hello world\n",
      "5 Hello world\n",
      "7 Hello world\n",
      "9 Hello world\n"
     ]
    }
   ],
   "source": [
    "b=range(1,10,2)\n",
    "for i in b:\n",
    "    print(i,\"Hello world\")"
   ]
  },
  {
   "cell_type": "code",
   "execution_count": 27,
   "id": "33c82fa4-fed5-44f9-8305-9e9e1d2689fd",
   "metadata": {},
   "outputs": [
    {
     "data": {
      "text/plain": [
       "range(1, 10, 2)"
      ]
     },
     "execution_count": 27,
     "metadata": {},
     "output_type": "execute_result"
    }
   ],
   "source": [
    "range(1,10,2)"
   ]
  },
  {
   "cell_type": "code",
   "execution_count": 37,
   "id": "219fdce1-13ad-4cef-9e07-8fd0c33cef52",
   "metadata": {},
   "outputs": [],
   "source": [
    "a.extend([10,20,30,40,506,7])"
   ]
  },
  {
   "cell_type": "code",
   "execution_count": 39,
   "id": "195cc8d3-33f0-4a67-92e4-1bee4fef407a",
   "metadata": {},
   "outputs": [
    {
     "name": "stdout",
     "output_type": "stream",
     "text": [
      "[1, 2, 3, 4, 5, 6, 7, 8, 9, 10, 20, 30, 40, 506, 10, 20, 30, 40, 506, 10, 20, 30, 40, 506, 7]\n"
     ]
    }
   ],
   "source": [
    "print(a)"
   ]
  },
  {
   "cell_type": "code",
   "execution_count": 40,
   "id": "142ca437-54c6-4c16-8646-e3e1bccb35ff",
   "metadata": {},
   "outputs": [
    {
     "data": {
      "text/plain": [
       "280"
      ]
     },
     "execution_count": 40,
     "metadata": {},
     "output_type": "execute_result"
    }
   ],
   "source": [
    "sys.getsizeof(a)"
   ]
  },
  {
   "cell_type": "code",
   "execution_count": 41,
   "id": "1772f719-734a-4286-b5f3-0b7253ede82d",
   "metadata": {},
   "outputs": [
    {
     "data": {
      "text/plain": [
       "25"
      ]
     },
     "execution_count": 41,
     "metadata": {},
     "output_type": "execute_result"
    }
   ],
   "source": [
    "len(a)"
   ]
  },
  {
   "cell_type": "code",
   "execution_count": 43,
   "id": "01129f94-cddb-4c15-b62e-48627e746eda",
   "metadata": {},
   "outputs": [],
   "source": [
    "b=range(0,100)"
   ]
  },
  {
   "cell_type": "code",
   "execution_count": 44,
   "id": "8fbe176d-167e-4b73-b7e3-39eb38815646",
   "metadata": {},
   "outputs": [
    {
     "data": {
      "text/plain": [
       "48"
      ]
     },
     "execution_count": 44,
     "metadata": {},
     "output_type": "execute_result"
    }
   ],
   "source": [
    "sys.getsizeof(b)"
   ]
  },
  {
   "cell_type": "code",
   "execution_count": 54,
   "id": "db372fa6-008f-4617-b47c-b4d5d3c7f117",
   "metadata": {},
   "outputs": [
    {
     "name": "stdout",
     "output_type": "stream",
     "text": [
      "*\n",
      "**\n",
      "***\n",
      "****\n",
      "*****\n"
     ]
    }
   ],
   "source": [
    "print(\"*\")\n",
    "print(\"**\")\n",
    "print(\"***\")\n",
    "print(\"****\")\n",
    "print(\"*****\")"
   ]
  },
  {
   "cell_type": "code",
   "execution_count": 62,
   "id": "691a28c4-a31c-4d41-90e1-60bdef3fcabf",
   "metadata": {},
   "outputs": [
    {
     "name": "stdout",
     "output_type": "stream",
     "text": [
      "*\n",
      "**\n",
      "***\n",
      "****\n",
      "*****\n"
     ]
    }
   ],
   "source": [
    "print(\"*\"*1)\n",
    "print(\"*\"*2)\n",
    "print(\"*\"*3)\n",
    "print(\"*\"*4)\n",
    "print(\"*\"*5)"
   ]
  },
  {
   "cell_type": "code",
   "execution_count": 63,
   "id": "0b1916d0-d067-401f-a267-b80e6119b44c",
   "metadata": {},
   "outputs": [
    {
     "name": "stdout",
     "output_type": "stream",
     "text": [
      "*\n",
      "**\n",
      "***\n",
      "****\n",
      "*****\n"
     ]
    }
   ],
   "source": [
    "for i in range(1,6,1):\n",
    "    print(\"*\"*i)"
   ]
  },
  {
   "cell_type": "code",
   "execution_count": 64,
   "id": "dbda44bf-59f5-4d5b-9840-7fb08dac0edb",
   "metadata": {},
   "outputs": [],
   "source": [
    "a=\"krishna\""
   ]
  },
  {
   "cell_type": "code",
   "execution_count": 65,
   "id": "54425667-cdc9-4925-8269-409cc95006e4",
   "metadata": {},
   "outputs": [
    {
     "data": {
      "text/plain": [
       "'krish'"
      ]
     },
     "execution_count": 65,
     "metadata": {},
     "output_type": "execute_result"
    }
   ],
   "source": [
    "a[0:5:1]"
   ]
  },
  {
   "cell_type": "code",
   "execution_count": 66,
   "id": "cb62c212-2aa8-4493-a941-4e66314e6abf",
   "metadata": {},
   "outputs": [
    {
     "name": "stdout",
     "output_type": "stream",
     "text": [
      "*****\n",
      "****\n",
      "***\n",
      "**\n",
      "*\n"
     ]
    }
   ],
   "source": [
    "print(\"*\"*5)\n",
    "print(\"*\"*4)\n",
    "print(\"*\"*3)\n",
    "print(\"*\"*2)\n",
    "print(\"*\"*1)\n"
   ]
  },
  {
   "cell_type": "code",
   "execution_count": 76,
   "id": "e659dadd-9f08-4c5a-a84b-6c376e0c6c86",
   "metadata": {},
   "outputs": [
    {
     "name": "stdout",
     "output_type": "stream",
     "text": [
      "*****\n",
      "****\n",
      "***\n",
      "**\n",
      "*\n"
     ]
    }
   ],
   "source": [
    "for i in range(1,6):\n",
    "    print(\"*\"*(6-i))"
   ]
  },
  {
   "cell_type": "code",
   "execution_count": 86,
   "id": "a21ef83b-26ee-4119-9bef-95c342c11367",
   "metadata": {},
   "outputs": [
    {
     "name": "stdout",
     "output_type": "stream",
     "text": [
      "*****\n",
      "****\n",
      "***\n",
      "**\n",
      "*\n"
     ]
    }
   ],
   "source": [
    "for i in range(5,0,-1):\n",
    "    print(\"*\"*i)"
   ]
  },
  {
   "cell_type": "code",
   "execution_count": 91,
   "id": "fc92d489-e5e9-4b54-b124-0db7ec81bdd7",
   "metadata": {},
   "outputs": [
    {
     "name": "stdout",
     "output_type": "stream",
     "text": [
      "    *\n",
      "   **\n",
      "  ***\n",
      " ****\n",
      "*****\n"
     ]
    }
   ],
   "source": [
    "print(\" \"*4+\"*\"*1)\n",
    "print(\" \"*3+\"*\"*2)\n",
    "print(\" \"*2+\"*\"*3)\n",
    "print(\" \"*1+\"*\"*4)\n",
    "print(\" \"*0+\"*\"*5)\n"
   ]
  },
  {
   "cell_type": "code",
   "execution_count": 93,
   "id": "a8e8d2e6-4854-4937-9820-79ee5be0792d",
   "metadata": {},
   "outputs": [
    {
     "name": "stdout",
     "output_type": "stream",
     "text": [
      "    *\n",
      "   **\n",
      "  ***\n",
      " ****\n",
      "*****\n"
     ]
    }
   ],
   "source": [
    "for i in range(5):\n",
    "    print(\" \"*(4-i)+\"*\"*(i+1))"
   ]
  },
  {
   "cell_type": "code",
   "execution_count": 94,
   "id": "365db0af-f727-45a5-878a-0bb916fef2af",
   "metadata": {},
   "outputs": [
    {
     "name": "stdout",
     "output_type": "stream",
     "text": [
      "    *\n",
      "   * *\n",
      "  * * *\n",
      " * * * *\n",
      "* * * * *\n"
     ]
    }
   ],
   "source": [
    "for i in range(5):\n",
    "    print(\" \"*(4-i)+(\"* \"*(i+1)).strip())"
   ]
  },
  {
   "cell_type": "markdown",
   "id": "1fb219eb-152f-4533-88ba-50ea3123f863",
   "metadata": {},
   "source": [
    "# pattern using nested for loop"
   ]
  },
  {
   "cell_type": "code",
   "execution_count": 1,
   "id": "97a66b91-922d-4c7b-afe1-8dbd235256ba",
   "metadata": {},
   "outputs": [
    {
     "name": "stdout",
     "output_type": "stream",
     "text": [
      "*\n",
      "**\n",
      "***\n",
      "****\n",
      "*****\n"
     ]
    }
   ],
   "source": [
    "print(\"*\"*1)\n",
    "print(\"*\"*2)\n",
    "print(\"*\"*3)\n",
    "print(\"*\"*4)\n",
    "print(\"*\"*5)"
   ]
  },
  {
   "cell_type": "code",
   "execution_count": 17,
   "id": "3bcae380-0c0b-4497-8518-1d48ec6bc014",
   "metadata": {},
   "outputs": [
    {
     "name": "stdout",
     "output_type": "stream",
     "text": [
      "*****\n",
      "*****\n",
      "*****\n",
      "*****\n",
      "*****\n"
     ]
    }
   ],
   "source": [
    "for i in range(5):\n",
    "    print(\"*\",end=\"\")\n",
    "print()\n",
    "for i in range(5):\n",
    "    print(\"*\",end=\"\")\n",
    "print()\n",
    "for i in range(5):\n",
    "    print(\"*\",end=\"\")\n",
    "print()\n",
    "for i in range(5):\n",
    "    print(\"*\",end=\"\")\n",
    "print()\n",
    "for i in range(5):\n",
    "    print(\"*\",end=\"\")\n",
    "print()"
   ]
  },
  {
   "cell_type": "code",
   "execution_count": 26,
   "id": "ad2978ec-99a5-41ef-ba0c-d3937da737d6",
   "metadata": {},
   "outputs": [
    {
     "name": "stdout",
     "output_type": "stream",
     "text": [
      "*\n",
      "**\n",
      "***\n",
      "****\n",
      "*****\n"
     ]
    }
   ],
   "source": [
    "for j in range(5):\n",
    "    for i in range(j+1):\n",
    "        print(\"*\",end=\"\")\n",
    "    print()"
   ]
  },
  {
   "cell_type": "code",
   "execution_count": 30,
   "id": "86b310eb-63cb-45c5-b385-1b278dc1ea37",
   "metadata": {},
   "outputs": [
    {
     "ename": "SyntaxError",
     "evalue": "invalid syntax (622097198.py, line 1)",
     "output_type": "error",
     "traceback": [
      "\u001b[1;36m  Cell \u001b[1;32mIn[30], line 1\u001b[1;36m\u001b[0m\n\u001b[1;33m    for (i in range(1)):\u001b[0m\n\u001b[1;37m                       ^\u001b[0m\n\u001b[1;31mSyntaxError\u001b[0m\u001b[1;31m:\u001b[0m invalid syntax\n"
     ]
    }
   ],
   "source": [
    "for i in range(1):\n",
    "    print(\"*\",end=\"\")\n",
    "print()\n",
    "for i in range(2):\n",
    "    print(\"*\",end=\"\")\n",
    "print()\n",
    "for i in range(3):\n",
    "    print(\"*\",end=\"\")\n",
    "print()\n",
    "for i in range(4):\n",
    "    print(\"*\",end=\"\")\n",
    "print()\n",
    "for i in range(5):\n",
    "    print(\"*\",end=\"\")\n",
    "print()"
   ]
  },
  {
   "cell_type": "code",
   "execution_count": 29,
   "id": "018a9afc-744d-4745-af8b-0a2b99b7592b",
   "metadata": {},
   "outputs": [],
   "source": [
    "# initializer\n",
    "# while condition:\n",
    "#     statement(s)\n",
    "#     increment/decrement"
   ]
  },
  {
   "cell_type": "code",
   "execution_count": 32,
   "id": "52902713-282c-4e17-a564-92d92393532a",
   "metadata": {},
   "outputs": [
    {
     "name": "stdout",
     "output_type": "stream",
     "text": [
      "1 hello world\n",
      "2 hello world\n",
      "3 hello world\n",
      "4 hello world\n",
      "5 hello world\n"
     ]
    }
   ],
   "source": [
    "i=1\n",
    "while (i<=5):\n",
    "    print(i,\"hello world\")\n",
    "    i=i+1"
   ]
  },
  {
   "cell_type": "code",
   "execution_count": 35,
   "id": "84fd588e-8ead-400f-a9e4-10af41dceab6",
   "metadata": {},
   "outputs": [
    {
     "name": "stdout",
     "output_type": "stream",
     "text": [
      "5 hello world\n",
      "4 hello world\n",
      "3 hello world\n",
      "2 hello world\n",
      "1 hello world\n"
     ]
    }
   ],
   "source": [
    "i=1\n",
    "while (i<=5):\n",
    "    print((6-i),\"hello world\")\n",
    "    i=i+1"
   ]
  },
  {
   "cell_type": "code",
   "execution_count": 36,
   "id": "fc470989-4571-4f68-bf08-94a4fdebe7fc",
   "metadata": {},
   "outputs": [
    {
     "name": "stdout",
     "output_type": "stream",
     "text": [
      "*\n",
      "**\n",
      "***\n",
      "****\n",
      "*****\n"
     ]
    }
   ],
   "source": [
    "print(\"*\"*1)\n",
    "print(\"*\"*2)\n",
    "print(\"*\"*3)\n",
    "print(\"*\"*4)\n",
    "print(\"*\"*5)\n"
   ]
  },
  {
   "cell_type": "code",
   "execution_count": 37,
   "id": "21b9e34b-e0ef-40a0-9c2a-33323422a9b6",
   "metadata": {},
   "outputs": [
    {
     "name": "stdout",
     "output_type": "stream",
     "text": [
      "*\n",
      "**\n",
      "***\n",
      "****\n",
      "*****\n"
     ]
    }
   ],
   "source": [
    "i=1\n",
    "while i<=5:\n",
    "    print(\"*\"*i)\n",
    "    i=i+1"
   ]
  },
  {
   "cell_type": "code",
   "execution_count": 38,
   "id": "32441e7c-c557-46d4-a0e9-424c4a35c4eb",
   "metadata": {},
   "outputs": [
    {
     "name": "stdout",
     "output_type": "stream",
     "text": [
      "*\n",
      "*\n",
      "*\n",
      "*\n",
      "*\n"
     ]
    }
   ],
   "source": [
    "j=1\n",
    "while j<=5:\n",
    "    print(\"*\")\n",
    "    j=j+1"
   ]
  },
  {
   "cell_type": "code",
   "execution_count": 45,
   "id": "e0a1bf40-1ff6-470d-aaf4-34f409c24854",
   "metadata": {},
   "outputs": [
    {
     "name": "stdout",
     "output_type": "stream",
     "text": [
      "*\n",
      "**\n",
      "***\n",
      "****\n",
      "*****"
     ]
    }
   ],
   "source": [
    "j=1\n",
    "while j<=1:\n",
    "    print(\"*\",end=\"\")\n",
    "    j=j+1\n",
    "print()\n",
    "j=1\n",
    "while j<=2:\n",
    "    print(\"*\",end=\"\")\n",
    "    j=j+1\n",
    "print()\n",
    "j=1\n",
    "while j<=3:\n",
    "    print(\"*\",end=\"\")\n",
    "    j=j+1\n",
    "print()\n",
    "j=1\n",
    "while j<=4:\n",
    "    print(\"*\",end=\"\")\n",
    "    j=j+1\n",
    "print()\n",
    "j=1\n",
    "while j<=5:\n",
    "    print(\"*\",end=\"\")\n",
    "    j=j+1"
   ]
  },
  {
   "cell_type": "code",
   "execution_count": 49,
   "id": "b39147dd-5a5b-4469-9353-fcdb59d55a90",
   "metadata": {},
   "outputs": [
    {
     "name": "stdout",
     "output_type": "stream",
     "text": [
      "*\n",
      "**\n",
      "***\n",
      "****\n",
      "*****\n"
     ]
    }
   ],
   "source": [
    "i=1\n",
    "while i<=5:\n",
    "    j=1\n",
    "    while j<=i:\n",
    "        print(\"*\",end=\"\")\n",
    "        j=j+1\n",
    "    print()\n",
    "    i=i+1"
   ]
  },
  {
   "cell_type": "markdown",
   "id": "1143a447-a8c5-412e-9af2-f64f70c79d1f",
   "metadata": {},
   "source": [
    "> list comprehension \n",
    "\n",
    "> dictionary comprehension \n",
    "        \n",
    "> set comprehension\n",
    "        \n",
    "> tuple comprehension(exception it generate a generator object)"
   ]
  },
  {
   "cell_type": "code",
   "execution_count": 50,
   "id": "aa5345e2-572a-4c45-b3f3-5a1a65d95a3b",
   "metadata": {},
   "outputs": [
    {
     "name": "stdout",
     "output_type": "stream",
     "text": [
      "0\n",
      "1\n",
      "2\n",
      "3\n",
      "4\n",
      "5\n",
      "6\n",
      "7\n",
      "8\n",
      "9\n"
     ]
    }
   ],
   "source": [
    "for i in range(10):\n",
    "    print(i)"
   ]
  },
  {
   "cell_type": "code",
   "execution_count": 54,
   "id": "a754d133-bc4d-432e-822e-a2325f556ea1",
   "metadata": {},
   "outputs": [
    {
     "name": "stdout",
     "output_type": "stream",
     "text": [
      "[0, 1, 2, 3, 4, 5, 6, 7, 8, 9]\n"
     ]
    }
   ],
   "source": [
    "a=[]\n",
    "for i in range(10):\n",
    "    a.append(i)\n",
    "print(a)"
   ]
  },
  {
   "cell_type": "markdown",
   "id": "a8e27d46-5ab9-4bf5-8633-0a2f37b5bfba",
   "metadata": {},
   "source": [
    "# list comprehension"
   ]
  },
  {
   "cell_type": "code",
   "execution_count": 55,
   "id": "714310fc-7ac8-4c9b-aa8a-78fa2e6f4c06",
   "metadata": {},
   "outputs": [],
   "source": [
    "b=[i for i in range(10)]"
   ]
  },
  {
   "cell_type": "code",
   "execution_count": 56,
   "id": "d70ef623-9a5c-43dc-89af-db276b8332eb",
   "metadata": {},
   "outputs": [
    {
     "name": "stdout",
     "output_type": "stream",
     "text": [
      "[0, 1, 2, 3, 4, 5, 6, 7, 8, 9]\n"
     ]
    }
   ],
   "source": [
    "print(b)"
   ]
  },
  {
   "cell_type": "markdown",
   "id": "7f374f88-de3b-4b23-ab27-3b50125f9ee8",
   "metadata": {},
   "source": [
    "# set comprehension"
   ]
  },
  {
   "cell_type": "code",
   "execution_count": 58,
   "id": "aab64a59-c230-4c06-99b6-44bc01112018",
   "metadata": {},
   "outputs": [
    {
     "name": "stdout",
     "output_type": "stream",
     "text": [
      "{0, 1, 2, 3, 4, 5, 6, 7, 8, 9}\n"
     ]
    }
   ],
   "source": [
    "a=set()\n",
    "for i in range(10):\n",
    "    a.add(i)\n",
    "print(a)"
   ]
  },
  {
   "cell_type": "code",
   "execution_count": 59,
   "id": "6d5e6a1c-e275-4a25-942d-036141cde8a2",
   "metadata": {},
   "outputs": [],
   "source": [
    "b={i for i in range(10)}"
   ]
  },
  {
   "cell_type": "code",
   "execution_count": 60,
   "id": "cd9ee3b0-16f3-4605-a42f-b956e51ed039",
   "metadata": {},
   "outputs": [
    {
     "name": "stdout",
     "output_type": "stream",
     "text": [
      "{0, 1, 2, 3, 4, 5, 6, 7, 8, 9}\n"
     ]
    }
   ],
   "source": [
    "print(b)"
   ]
  },
  {
   "cell_type": "markdown",
   "id": "a446f17a-a335-400e-a075-adba2a909edb",
   "metadata": {},
   "source": [
    "# dictionary comprehension"
   ]
  },
  {
   "cell_type": "code",
   "execution_count": 61,
   "id": "0fa6c28b-c76a-4b94-9f42-266e19a5949e",
   "metadata": {},
   "outputs": [
    {
     "name": "stdout",
     "output_type": "stream",
     "text": [
      "[1, 2, 3, 4, 5]\n",
      "['krishna', 'arjun', 'Radhy', 'Shyam', 'Mohan']\n"
     ]
    }
   ],
   "source": [
    "a=[1,2,3,4,5]\n",
    "b=[\"krishna\",\"arjun\",\"Radhy\",\"Shyam\",\"Mohan\"]\n",
    "for i in a,b:\n",
    "    print(i)"
   ]
  },
  {
   "cell_type": "code",
   "execution_count": 62,
   "id": "d4756b1f-9bae-4fb0-9fcf-c0ae940fcbe1",
   "metadata": {},
   "outputs": [
    {
     "ename": "ValueError",
     "evalue": "too many values to unpack (expected 2)",
     "output_type": "error",
     "traceback": [
      "\u001b[1;31m---------------------------------------------------------------------------\u001b[0m",
      "\u001b[1;31mValueError\u001b[0m                                Traceback (most recent call last)",
      "Cell \u001b[1;32mIn[62], line 3\u001b[0m\n\u001b[0;32m      1\u001b[0m a\u001b[38;5;241m=\u001b[39m[\u001b[38;5;241m1\u001b[39m,\u001b[38;5;241m2\u001b[39m,\u001b[38;5;241m3\u001b[39m,\u001b[38;5;241m4\u001b[39m,\u001b[38;5;241m5\u001b[39m]\n\u001b[0;32m      2\u001b[0m b\u001b[38;5;241m=\u001b[39m[\u001b[38;5;124m\"\u001b[39m\u001b[38;5;124mkrishna\u001b[39m\u001b[38;5;124m\"\u001b[39m,\u001b[38;5;124m\"\u001b[39m\u001b[38;5;124marjun\u001b[39m\u001b[38;5;124m\"\u001b[39m,\u001b[38;5;124m\"\u001b[39m\u001b[38;5;124mRadhy\u001b[39m\u001b[38;5;124m\"\u001b[39m,\u001b[38;5;124m\"\u001b[39m\u001b[38;5;124mShyam\u001b[39m\u001b[38;5;124m\"\u001b[39m,\u001b[38;5;124m\"\u001b[39m\u001b[38;5;124mMohan\u001b[39m\u001b[38;5;124m\"\u001b[39m]\n\u001b[1;32m----> 3\u001b[0m \u001b[38;5;28;01mfor\u001b[39;00m i,j \u001b[38;5;129;01min\u001b[39;00m a,b:\n\u001b[0;32m      4\u001b[0m     \u001b[38;5;28mprint\u001b[39m(i,j)\n",
      "\u001b[1;31mValueError\u001b[0m: too many values to unpack (expected 2)"
     ]
    }
   ],
   "source": [
    "a=[1,2,3,4,5]\n",
    "b=[\"krishna\",\"arjun\",\"Radhy\",\"Shyam\",\"Mohan\"]\n",
    "for i,j in a,b:\n",
    "    print(i,j)"
   ]
  },
  {
   "cell_type": "code",
   "execution_count": 63,
   "id": "4ed232f2-090d-45df-8917-30505f53c379",
   "metadata": {},
   "outputs": [
    {
     "name": "stdout",
     "output_type": "stream",
     "text": [
      "1 krishna\n",
      "2 arjun\n",
      "3 Radhy\n",
      "4 Shyam\n",
      "5 Mohan\n"
     ]
    }
   ],
   "source": [
    "a=[1,2,3,4,5]\n",
    "b=[\"krishna\",\"arjun\",\"Radhy\",\"Shyam\",\"Mohan\"]\n",
    "for i,j in zip(a,b):\n",
    "    print(i,j)"
   ]
  },
  {
   "cell_type": "code",
   "execution_count": 64,
   "id": "c0c480fb-4e76-4d2b-8fae-224746dcc136",
   "metadata": {},
   "outputs": [
    {
     "name": "stdout",
     "output_type": "stream",
     "text": [
      "1:krishna\n",
      "2:arjun\n",
      "3:Radhy\n",
      "4:Shyam\n",
      "5:Mohan\n"
     ]
    }
   ],
   "source": [
    "a=[1,2,3,4,5]\n",
    "b=[\"krishna\",\"arjun\",\"Radhy\",\"Shyam\",\"Mohan\"]\n",
    "for i,j in zip(a,b):\n",
    "    print(i,j,sep=\":\")"
   ]
  },
  {
   "cell_type": "code",
   "execution_count": 65,
   "id": "7440c6f6-8521-442d-b08f-25231a9b342f",
   "metadata": {},
   "outputs": [],
   "source": [
    "a=[1,2,3,4,5]\n",
    "b=[\"krishna\",\"arjun\",\"Radhy\",\"Shyam\",\"Mohan\"]\n",
    "c={}\n",
    "for i,j in zip(a,b):\n",
    "    c.update({i:j})"
   ]
  },
  {
   "cell_type": "code",
   "execution_count": 66,
   "id": "ee5596bb-d020-473e-96b0-9a707c4cc0d7",
   "metadata": {},
   "outputs": [
    {
     "name": "stdout",
     "output_type": "stream",
     "text": [
      "{1: 'krishna', 2: 'arjun', 3: 'Radhy', 4: 'Shyam', 5: 'Mohan'}\n"
     ]
    }
   ],
   "source": [
    "print(c)"
   ]
  },
  {
   "cell_type": "code",
   "execution_count": 67,
   "id": "e3fb42b7-f647-4273-b109-473459560a00",
   "metadata": {},
   "outputs": [],
   "source": [
    "d={i:j for i,j in zip(a,b)}"
   ]
  },
  {
   "cell_type": "code",
   "execution_count": 68,
   "id": "e56592a7-341a-4ed6-b1ff-034e3a5476e7",
   "metadata": {},
   "outputs": [
    {
     "name": "stdout",
     "output_type": "stream",
     "text": [
      "{1: 'krishna', 2: 'arjun', 3: 'Radhy', 4: 'Shyam', 5: 'Mohan'}\n"
     ]
    }
   ],
   "source": [
    "print(d)"
   ]
  },
  {
   "cell_type": "code",
   "execution_count": 72,
   "id": "7ebe7fa8-c120-47d1-9da2-f481f9c07526",
   "metadata": {},
   "outputs": [
    {
     "name": "stdin",
     "output_type": "stream",
     "text": [
      "Enter you number: 2\n",
      "Enter you number: 56\n",
      "Enter you number: 4\n",
      "Enter you number: 5\n",
      "Enter you number: 8\n",
      "Enter you number: 8\n",
      "Enter you number: 31\n",
      "Enter you number: 47\n",
      "Enter you number: 7\n",
      "Enter you number: 4\n"
     ]
    }
   ],
   "source": [
    "a=[]\n",
    "for i in range(10):\n",
    "    user=int(input(\"Enter you number:\"))\n",
    "    a.append(user)"
   ]
  },
  {
   "cell_type": "code",
   "execution_count": 73,
   "id": "8944ba55-68f0-4b5c-8a24-ddf9a56fa902",
   "metadata": {},
   "outputs": [
    {
     "name": "stdout",
     "output_type": "stream",
     "text": [
      "[2, 56, 4, 5, 8, 8, 31, 47, 7, 4]\n"
     ]
    }
   ],
   "source": [
    "print(a)"
   ]
  },
  {
   "cell_type": "code",
   "execution_count": 78,
   "id": "c554c005-de17-40a6-99f1-ef60a3c7cd01",
   "metadata": {},
   "outputs": [
    {
     "name": "stdout",
     "output_type": "stream",
     "text": [
      "(0, 1, 2, 3, 4, 5, 6, 7, 8, 9)\n"
     ]
    }
   ],
   "source": [
    "a=()\n",
    "for i in range(10):\n",
    "    a=a+(i,)\n",
    "print(a)"
   ]
  },
  {
   "cell_type": "code",
   "execution_count": 79,
   "id": "286af31c-b413-4920-b11f-457d8b35689f",
   "metadata": {},
   "outputs": [],
   "source": [
    "b=(i for i in range(10))"
   ]
  },
  {
   "cell_type": "code",
   "execution_count": 80,
   "id": "90e1c105-5134-4925-a00e-226e4cafc1de",
   "metadata": {},
   "outputs": [
    {
     "name": "stdout",
     "output_type": "stream",
     "text": [
      "<generator object <genexpr> at 0x000001F76A215560>\n"
     ]
    }
   ],
   "source": [
    "print(b)"
   ]
  },
  {
   "cell_type": "code",
   "execution_count": 81,
   "id": "277c13a7-d40c-47c4-907b-0d869f61409a",
   "metadata": {},
   "outputs": [
    {
     "data": {
      "text/plain": [
       "0"
      ]
     },
     "execution_count": 81,
     "metadata": {},
     "output_type": "execute_result"
    }
   ],
   "source": [
    "next(b)"
   ]
  },
  {
   "cell_type": "code",
   "execution_count": 91,
   "id": "cc977279-ff67-4a4e-8aec-ed798ab74cfb",
   "metadata": {},
   "outputs": [
    {
     "ename": "StopIteration",
     "evalue": "",
     "output_type": "error",
     "traceback": [
      "\u001b[1;31m---------------------------------------------------------------------------\u001b[0m",
      "\u001b[1;31mStopIteration\u001b[0m                             Traceback (most recent call last)",
      "Cell \u001b[1;32mIn[91], line 1\u001b[0m\n\u001b[1;32m----> 1\u001b[0m \u001b[38;5;28;43mnext\u001b[39;49m\u001b[43m(\u001b[49m\u001b[43mb\u001b[49m\u001b[43m)\u001b[49m\n",
      "\u001b[1;31mStopIteration\u001b[0m: "
     ]
    }
   ],
   "source": [
    "next(b)"
   ]
  },
  {
   "cell_type": "code",
   "execution_count": 95,
   "id": "ac833418-280f-443d-800b-e8e476482a4c",
   "metadata": {},
   "outputs": [
    {
     "name": "stdout",
     "output_type": "stream",
     "text": [
      "*\n",
      "*\n",
      "*\n",
      "*\n",
      "*\n"
     ]
    }
   ],
   "source": [
    "for i in range(1,10):\n",
    "    print(\"*\")\n",
    "    if i==5:\n",
    "        break\n",
    "    "
   ]
  },
  {
   "cell_type": "code",
   "execution_count": null,
   "id": "b82e7d5d-d637-4000-9784-22c313413239",
   "metadata": {},
   "outputs": [],
   "source": [
    "a=[12,3,4,2,4]\n",
    "i=1 \n",
    "while i<=5:\n",
    "    print()\n",
    "    "
   ]
  },
  {
   "cell_type": "markdown",
   "id": "3008ce83-7df8-4a91-822e-f3f7777d8531",
   "metadata": {},
   "source": [
    "# frozenset comprehension"
   ]
  },
  {
   "cell_type": "code",
   "execution_count": null,
   "id": "43a77644-c3fb-4730-875f-2e99248ce07a",
   "metadata": {},
   "outputs": [],
   "source": [
    "a=frozenset()\n",
    "for i in range(10):\n",
    "    a.append(i)\n",
    "print(a)"
   ]
  },
  {
   "cell_type": "code",
   "execution_count": 1,
   "id": "7ecb671d-b05c-42b3-90ad-6dc9ec3ee17b",
   "metadata": {},
   "outputs": [],
   "source": [
    "a=frozenset()"
   ]
  },
  {
   "cell_type": "code",
   "execution_count": 2,
   "id": "83ab2e3d-63fc-484f-b0e5-265b061f0ced",
   "metadata": {},
   "outputs": [
    {
     "name": "stdout",
     "output_type": "stream",
     "text": [
      "frozenset()\n"
     ]
    }
   ],
   "source": [
    "print(a)"
   ]
  },
  {
   "cell_type": "code",
   "execution_count": 3,
   "id": "9081c717-4a59-4cd2-ab7a-46d43682e333",
   "metadata": {},
   "outputs": [
    {
     "ename": "TypeError",
     "evalue": "unsupported operand type(s) for +: 'frozenset' and 'frozenset'",
     "output_type": "error",
     "traceback": [
      "\u001b[1;31m---------------------------------------------------------------------------\u001b[0m",
      "\u001b[1;31mTypeError\u001b[0m                                 Traceback (most recent call last)",
      "Cell \u001b[1;32mIn[3], line 1\u001b[0m\n\u001b[1;32m----> 1\u001b[0m \u001b[43ma\u001b[49m\u001b[38;5;241;43m+\u001b[39;49m\u001b[38;5;28;43mfrozenset\u001b[39;49m\u001b[43m(\u001b[49m\u001b[43m{\u001b[49m\u001b[38;5;241;43m1\u001b[39;49m\u001b[43m}\u001b[49m\u001b[43m)\u001b[49m\n",
      "\u001b[1;31mTypeError\u001b[0m: unsupported operand type(s) for +: 'frozenset' and 'frozenset'"
     ]
    }
   ],
   "source": [
    "a+frozenset({1})"
   ]
  },
  {
   "cell_type": "code",
   "execution_count": 4,
   "id": "d7511b2e-d7da-4d0a-9494-d8be9494c20e",
   "metadata": {},
   "outputs": [
    {
     "data": {
      "text/plain": [
       "frozenset({1})"
      ]
     },
     "execution_count": 4,
     "metadata": {},
     "output_type": "execute_result"
    }
   ],
   "source": [
    "a.union({1})"
   ]
  },
  {
   "cell_type": "code",
   "execution_count": 7,
   "id": "30a8a261-df0a-484b-88d2-3679845c6cc1",
   "metadata": {},
   "outputs": [],
   "source": [
    "a=a.union(frozenset({1}))"
   ]
  },
  {
   "cell_type": "code",
   "execution_count": 8,
   "id": "ef91a93d-1bd9-4db9-a5da-64c8161295a0",
   "metadata": {},
   "outputs": [
    {
     "name": "stdout",
     "output_type": "stream",
     "text": [
      "frozenset({1})\n"
     ]
    }
   ],
   "source": [
    "print(a)"
   ]
  },
  {
   "cell_type": "code",
   "execution_count": 9,
   "id": "5dbee651-248e-4a47-bbd5-072c591903db",
   "metadata": {},
   "outputs": [
    {
     "name": "stdout",
     "output_type": "stream",
     "text": [
      "frozenset({0, 1, 2, 3, 4, 5, 6, 7, 8, 9})\n"
     ]
    }
   ],
   "source": [
    "a=frozenset()\n",
    "for i in range(10):\n",
    "    a=a.union(frozenset({i}))\n",
    "print(a)"
   ]
  },
  {
   "cell_type": "code",
   "execution_count": 10,
   "id": "80263c6c-caba-4b15-ad0e-edfc7c2bba73",
   "metadata": {},
   "outputs": [],
   "source": [
    "b=frozenset({i for i in range(10)})"
   ]
  },
  {
   "cell_type": "code",
   "execution_count": 11,
   "id": "9aa6cb21-d8da-4a34-bba0-c7d70082f71b",
   "metadata": {},
   "outputs": [
    {
     "name": "stdout",
     "output_type": "stream",
     "text": [
      "frozenset({0, 1, 2, 3, 4, 5, 6, 7, 8, 9})\n"
     ]
    }
   ],
   "source": [
    "print(b)"
   ]
  },
  {
   "cell_type": "markdown",
   "id": "87607e96-a492-4339-abbd-705278c29d17",
   "metadata": {},
   "source": [
    "# it always work inside a loop\n",
    "\n",
    "> continue\n",
    "\n",
    "> break\n"
   ]
  },
  {
   "cell_type": "code",
   "execution_count": 12,
   "id": "a71e380a-7d5e-4a79-8133-d95ba4942c73",
   "metadata": {},
   "outputs": [
    {
     "name": "stdout",
     "output_type": "stream",
     "text": [
      "0 Hello world\n",
      "1 Hello world\n",
      "2 Hello world\n",
      "3 Hello world\n",
      "4 Hello world\n"
     ]
    }
   ],
   "source": [
    "for i in range(5):\n",
    "    if i==3:\n",
    "        continue\n",
    "    print(i,\"Hello world\")\n",
    "        "
   ]
  },
  {
   "cell_type": "code",
   "execution_count": 14,
   "id": "b40265ed-cbac-45e6-9fb8-b4280610039d",
   "metadata": {},
   "outputs": [
    {
     "name": "stdout",
     "output_type": "stream",
     "text": [
      "1 Hello world\n",
      "2 Hello world\n",
      "4 Hello world\n"
     ]
    }
   ],
   "source": [
    "for i in range(1,5):\n",
    "    if i==3:\n",
    "        continue\n",
    "    print(i,\"Hello world\")"
   ]
  },
  {
   "cell_type": "code",
   "execution_count": 15,
   "id": "3b5a93a3-5400-42ac-b6bb-a256f7f63b55",
   "metadata": {},
   "outputs": [
    {
     "name": "stdout",
     "output_type": "stream",
     "text": [
      "1 Hello world\n",
      "2 Hello world\n"
     ]
    }
   ],
   "source": [
    "for i in range(1,5):\n",
    "    if i==3:\n",
    "        break\n",
    "    print(i,\"Hello world\")"
   ]
  },
  {
   "cell_type": "code",
   "execution_count": 16,
   "id": "46883ba2-582c-4040-9d15-4d99db994b13",
   "metadata": {},
   "outputs": [
    {
     "name": "stdout",
     "output_type": "stream",
     "text": [
      "1 Hello world\n",
      "2 Hello world\n",
      "3 Hello world\n",
      "4 Hello world\n"
     ]
    }
   ],
   "source": [
    "for i in range(1,5):\n",
    "    print(i,\"Hello world\")\n",
    "    if i==3:\n",
    "        continue\n",
    "    "
   ]
  },
  {
   "cell_type": "code",
   "execution_count": 17,
   "id": "c4a31918-2dcb-4818-a991-954fc8a3a512",
   "metadata": {},
   "outputs": [
    {
     "name": "stdout",
     "output_type": "stream",
     "text": [
      "1 Hello world\n",
      "2 Hello world\n",
      "3 Hello world\n"
     ]
    }
   ],
   "source": [
    "for i in range(1,5):\n",
    "    print(i,\"Hello world\")\n",
    "    if i==3:\n",
    "        break\n",
    "    "
   ]
  },
  {
   "cell_type": "code",
   "execution_count": 21,
   "id": "0bdb6fe5-9a0b-43b4-96c9-bd633c00899f",
   "metadata": {},
   "outputs": [
    {
     "name": "stdout",
     "output_type": "stream",
     "text": [
      "hello\n"
     ]
    }
   ],
   "source": [
    "for i in range(5):\n",
    "    pass\n",
    "print(\"hello\")"
   ]
  },
  {
   "cell_type": "code",
   "execution_count": 26,
   "id": "9259ce36-6dbd-4150-80a8-018b4d6f449b",
   "metadata": {},
   "outputs": [
    {
     "ename": "IndentationError",
     "evalue": "expected an indented block after 'if' statement on line 1 (730280736.py, line 3)",
     "output_type": "error",
     "traceback": [
      "\u001b[1;36m  Cell \u001b[1;32mIn[26], line 3\u001b[1;36m\u001b[0m\n\u001b[1;33m    else:\u001b[0m\n\u001b[1;37m    ^\u001b[0m\n\u001b[1;31mIndentationError\u001b[0m\u001b[1;31m:\u001b[0m expected an indented block after 'if' statement on line 1\n"
     ]
    }
   ],
   "source": [
    "if 10==10:\n",
    "    \n",
    "else:\n",
    "    print(\"bye\")\n",
    "\n",
    "print(\"I am krishna\")"
   ]
  },
  {
   "cell_type": "code",
   "execution_count": 27,
   "id": "b3127539-95cb-4a67-a64d-c0824794bfda",
   "metadata": {},
   "outputs": [
    {
     "name": "stdout",
     "output_type": "stream",
     "text": [
      "I am krishna\n"
     ]
    }
   ],
   "source": [
    "if 10==10:\n",
    "    pass\n",
    "else:\n",
    "    print(\"bye\")\n",
    "\n",
    "print(\"I am krishna\")"
   ]
  },
  {
   "cell_type": "code",
   "execution_count": 30,
   "id": "dd03f393-4e2b-48ce-baf7-a49ed156343d",
   "metadata": {},
   "outputs": [
    {
     "name": "stdout",
     "output_type": "stream",
     "text": [
      "1 Hello world\n",
      "2 Hello world\n",
      "4 Hello world\n"
     ]
    }
   ],
   "source": [
    "i=1\n",
    "while i<5:\n",
    "    if i==3:\n",
    "        i=i+1\n",
    "        continue\n",
    "    print(i,\"Hello world\")\n",
    "    i=i+1"
   ]
  },
  {
   "cell_type": "code",
   "execution_count": 31,
   "id": "d51f744f-cfc4-4ee8-b79b-341536e3f634",
   "metadata": {},
   "outputs": [
    {
     "name": "stdout",
     "output_type": "stream",
     "text": [
      "1 Hello world\n",
      "2 Hello world\n",
      "3 Hello world\n",
      "4 Hello world\n"
     ]
    }
   ],
   "source": [
    "i=1\n",
    "while i<5:\n",
    "    print(i,\"Hello world\")\n",
    "    if i==3:\n",
    "        i=i+1\n",
    "        continue\n",
    "    \n",
    "    i=i+1"
   ]
  },
  {
   "cell_type": "code",
   "execution_count": 32,
   "id": "dfd84eff-caa9-4622-aaaa-d6588edc6f40",
   "metadata": {},
   "outputs": [
    {
     "name": "stdout",
     "output_type": "stream",
     "text": [
      "1 Hello world\n",
      "2 Hello world\n"
     ]
    }
   ],
   "source": [
    "i=1\n",
    "while i<5:\n",
    "    if i==3:\n",
    "        break\n",
    "    print(i,\"Hello world\")\n",
    "    i=i+1"
   ]
  },
  {
   "cell_type": "code",
   "execution_count": 33,
   "id": "f7cfca1c-f657-4687-bd14-7105583766c9",
   "metadata": {},
   "outputs": [],
   "source": [
    "i=1\n",
    "while i<5:\n",
    "    break\n",
    "    print(i,\"Hello world\")\n",
    "    i=i+1"
   ]
  },
  {
   "cell_type": "code",
   "execution_count": 34,
   "id": "58be09fc-6a3f-4089-a4d6-c9ded85df855",
   "metadata": {},
   "outputs": [
    {
     "name": "stdout",
     "output_type": "stream",
     "text": [
      "1 Hello world\n"
     ]
    }
   ],
   "source": [
    "i=1\n",
    "while i<5:\n",
    "    print(i,\"Hello world\")\n",
    "    break\n",
    "    i=i+1"
   ]
  },
  {
   "cell_type": "code",
   "execution_count": null,
   "id": "fe27ca35-ecc5-4e1c-a174-6df4c44b7ea4",
   "metadata": {},
   "outputs": [],
   "source": [
    "while Tr"
   ]
  }
 ],
 "metadata": {
  "kernelspec": {
   "display_name": "Python 3 (ipykernel)",
   "language": "python",
   "name": "python3"
  },
  "language_info": {
   "codemirror_mode": {
    "name": "ipython",
    "version": 3
   },
   "file_extension": ".py",
   "mimetype": "text/x-python",
   "name": "python",
   "nbconvert_exporter": "python",
   "pygments_lexer": "ipython3",
   "version": "3.11.4"
  }
 },
 "nbformat": 4,
 "nbformat_minor": 5
}
