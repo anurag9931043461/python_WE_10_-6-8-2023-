{
 "cells": [
  {
   "cell_type": "code",
   "execution_count": 1,
   "id": "80e71789-961a-4d32-b680-b83711631a5b",
   "metadata": {},
   "outputs": [],
   "source": [
    "# input() --> input function always accept values in the form of string \n"
   ]
  },
  {
   "cell_type": "code",
   "execution_count": 2,
   "id": "b9ad8fe9-9fc6-41e7-8e7a-c8f3ac756172",
   "metadata": {},
   "outputs": [
    {
     "name": "stdin",
     "output_type": "stream",
     "text": [
      "Enter your 4 digit atm pin: 9807\n"
     ]
    }
   ],
   "source": [
    "a=input(\"Enter your 4 digit atm pin:\")"
   ]
  },
  {
   "cell_type": "code",
   "execution_count": 3,
   "id": "d3cf0433-be26-425b-acca-9636f147517f",
   "metadata": {},
   "outputs": [
    {
     "name": "stdout",
     "output_type": "stream",
     "text": [
      "9807\n"
     ]
    }
   ],
   "source": [
    "print(a)"
   ]
  },
  {
   "cell_type": "code",
   "execution_count": 4,
   "id": "a86ea2ae-7b5b-476d-9cd1-c29a909f47c1",
   "metadata": {},
   "outputs": [
    {
     "name": "stdin",
     "output_type": "stream",
     "text": [
      "Enter your 1st number: 10\n",
      "Enter your 2nd number: 20\n"
     ]
    },
    {
     "name": "stdout",
     "output_type": "stream",
     "text": [
      "1020\n"
     ]
    }
   ],
   "source": [
    "num1=input(\"Enter your 1st number:\")\n",
    "num2=input(\"Enter your 2nd number:\")\n",
    "print(num1+num2)"
   ]
  },
  {
   "cell_type": "code",
   "execution_count": 5,
   "id": "b13a219c-320d-408b-a91a-bf32c413aa70",
   "metadata": {},
   "outputs": [
    {
     "data": {
      "text/plain": [
       "str"
      ]
     },
     "execution_count": 5,
     "metadata": {},
     "output_type": "execute_result"
    }
   ],
   "source": [
    "type(num1)"
   ]
  },
  {
   "cell_type": "code",
   "execution_count": 6,
   "id": "cb853c01-232b-473d-bcaf-913b570d043c",
   "metadata": {},
   "outputs": [
    {
     "data": {
      "text/plain": [
       "str"
      ]
     },
     "execution_count": 6,
     "metadata": {},
     "output_type": "execute_result"
    }
   ],
   "source": [
    "type(num2)"
   ]
  },
  {
   "cell_type": "code",
   "execution_count": 7,
   "id": "3b0a6cb3-4b09-452d-9c9d-8ba4110050f7",
   "metadata": {},
   "outputs": [
    {
     "name": "stdin",
     "output_type": "stream",
     "text": [
      "Enter your 1st number: 10\n",
      "Enter your 2nd number: 20\n"
     ]
    },
    {
     "name": "stdout",
     "output_type": "stream",
     "text": [
      "30\n"
     ]
    }
   ],
   "source": [
    "num1=input(\"Enter your 1st number:\")\n",
    "num1_int=int(num1)\n",
    "num2=input(\"Enter your 2nd number:\")\n",
    "num2_int=int(num2)\n",
    "print(num1_int+num2_int)"
   ]
  },
  {
   "cell_type": "code",
   "execution_count": 8,
   "id": "ca837a81-1d29-4074-84ec-6dbc9c35ab58",
   "metadata": {},
   "outputs": [
    {
     "name": "stdin",
     "output_type": "stream",
     "text": [
      "Enter your 1st number: 10\n",
      "Enter your 2nd number: 20\n"
     ]
    },
    {
     "name": "stdout",
     "output_type": "stream",
     "text": [
      "30\n"
     ]
    }
   ],
   "source": [
    "num1_int=int(input(\"Enter your 1st number:\"))\n",
    "num2_int=int(input(\"Enter your 2nd number:\"))\n",
    "print(num1_int+num2_int)"
   ]
  },
  {
   "cell_type": "code",
   "execution_count": 9,
   "id": "ba34a5f5-68be-4652-8d12-fe44a4d5ccd6",
   "metadata": {},
   "outputs": [
    {
     "name": "stdin",
     "output_type": "stream",
     "text": [
      "Enter your 1st number: 10\n",
      "Enter your 2nd number: 20\n"
     ]
    },
    {
     "name": "stdout",
     "output_type": "stream",
     "text": [
      "30\n"
     ]
    }
   ],
   "source": [
    "print(int(input(\"Enter your 1st number:\"))+int(input(\"Enter your 2nd number:\")))"
   ]
  },
  {
   "cell_type": "code",
   "execution_count": 11,
   "id": "806562ac-3b78-4c23-929d-958f69ac2f5a",
   "metadata": {},
   "outputs": [
    {
     "name": "stdin",
     "output_type": "stream",
     "text": [
      "Enter your 1st number: 10.55\n",
      "Enter your 2nd number: 20\n"
     ]
    },
    {
     "name": "stdout",
     "output_type": "stream",
     "text": [
      "30\n"
     ]
    }
   ],
   "source": [
    "num1=input(\"Enter your 1st number:\")\n",
    "num1_int=int(float(num1))\n",
    "num2=input(\"Enter your 2nd number:\")\n",
    "num2_int=int(num2)\n",
    "print(num1_int+num2_int)"
   ]
  },
  {
   "cell_type": "code",
   "execution_count": 14,
   "id": "be9a68c1-3e2c-4ab5-8a9e-290c9ef2b43f",
   "metadata": {},
   "outputs": [
    {
     "name": "stdin",
     "output_type": "stream",
     "text": [
      "Enter your 1st number: 10.22\n"
     ]
    },
    {
     "ename": "ValueError",
     "evalue": "invalid literal for int() with base 10: '10.22'",
     "output_type": "error",
     "traceback": [
      "\u001b[1;31m---------------------------------------------------------------------------\u001b[0m",
      "\u001b[1;31mValueError\u001b[0m                                Traceback (most recent call last)",
      "Cell \u001b[1;32mIn[14], line 2\u001b[0m\n\u001b[0;32m      1\u001b[0m num1\u001b[38;5;241m=\u001b[39m\u001b[38;5;28minput\u001b[39m(\u001b[38;5;124m\"\u001b[39m\u001b[38;5;124mEnter your 1st number:\u001b[39m\u001b[38;5;124m\"\u001b[39m)\n\u001b[1;32m----> 2\u001b[0m num1_int\u001b[38;5;241m=\u001b[39m\u001b[38;5;28;43mint\u001b[39;49m\u001b[43m(\u001b[49m\u001b[43mnum1\u001b[49m\u001b[43m)\u001b[49m\n\u001b[0;32m      3\u001b[0m num2\u001b[38;5;241m=\u001b[39m\u001b[38;5;28minput\u001b[39m(\u001b[38;5;124m\"\u001b[39m\u001b[38;5;124mEnter your 2nd number:\u001b[39m\u001b[38;5;124m\"\u001b[39m)\n\u001b[0;32m      4\u001b[0m num2_int\u001b[38;5;241m=\u001b[39m\u001b[38;5;28mint\u001b[39m(num2)\n",
      "\u001b[1;31mValueError\u001b[0m: invalid literal for int() with base 10: '10.22'"
     ]
    }
   ],
   "source": [
    "num1=input(\"Enter your 1st number:\")\n",
    "num1_int=int(num1)\n",
    "num2=input(\"Enter your 2nd number:\")\n",
    "num2_int=int(num2)\n",
    "print(num1_int+num2_int)"
   ]
  },
  {
   "cell_type": "code",
   "execution_count": 15,
   "id": "540fa317-a8f7-4622-bdfc-025831cd83e1",
   "metadata": {},
   "outputs": [
    {
     "name": "stdin",
     "output_type": "stream",
     "text": [
      "Enter your 1st number: 10.22\n",
      "Enter your 2nd number: 20\n"
     ]
    },
    {
     "name": "stdout",
     "output_type": "stream",
     "text": [
      "30.22\n"
     ]
    }
   ],
   "source": [
    "num1=input(\"Enter your 1st number:\")\n",
    "num1_int=eval(num1)\n",
    "num2=input(\"Enter your 2nd number:\")\n",
    "num2_int=eval(num2)\n",
    "print(num1_int+num2_int)"
   ]
  },
  {
   "cell_type": "code",
   "execution_count": 16,
   "id": "c8a2c241-c8cd-453f-8d61-281250433e5a",
   "metadata": {},
   "outputs": [
    {
     "name": "stdin",
     "output_type": "stream",
     "text": [
      "Enter your 1st number: 5632kd;ofiahsldjfhaljsfhajshdfljsahkjf\n"
     ]
    },
    {
     "ename": "SyntaxError",
     "evalue": "invalid decimal literal (<string>, line 1)",
     "output_type": "error",
     "traceback": [
      "Traceback \u001b[1;36m(most recent call last)\u001b[0m:\n",
      "\u001b[0m  File \u001b[0;32m~\\AppData\\Local\\Programs\\Python\\Python311\\Lib\\site-packages\\IPython\\core\\interactiveshell.py:3508\u001b[0m in \u001b[0;35mrun_code\u001b[0m\n    exec(code_obj, self.user_global_ns, self.user_ns)\u001b[0m\n",
      "\u001b[1;36m  Cell \u001b[1;32mIn[16], line 2\u001b[1;36m\n\u001b[1;33m    num1_int=eval(num1)\u001b[1;36m\n",
      "\u001b[1;36m  File \u001b[1;32m<string>:1\u001b[1;36m\u001b[0m\n\u001b[1;33m    5632kd;ofiahsldjfhaljsfhajshdfljsahkjf\u001b[0m\n\u001b[1;37m       ^\u001b[0m\n\u001b[1;31mSyntaxError\u001b[0m\u001b[1;31m:\u001b[0m invalid decimal literal\n"
     ]
    }
   ],
   "source": [
    "num1=input(\"Enter your 1st number:\")\n",
    "num1_int=eval(num1)\n",
    "num2=input(\"Enter your 2nd number:\")\n",
    "num2_int=eval(num2)\n",
    "print(num1_int+num2_int)"
   ]
  },
  {
   "cell_type": "code",
   "execution_count": 17,
   "id": "d364ec7d-2736-4f67-8832-8747d88b8cf0",
   "metadata": {},
   "outputs": [
    {
     "name": "stdin",
     "output_type": "stream",
     "text": [
      "Enter your 1st number: 56865fdsfjosajfosad\n"
     ]
    },
    {
     "ename": "SyntaxError",
     "evalue": "invalid decimal literal (<string>, line 1)",
     "output_type": "error",
     "traceback": [
      "Traceback \u001b[1;36m(most recent call last)\u001b[0m:\n",
      "\u001b[0m  File \u001b[0;32m~\\AppData\\Local\\Programs\\Python\\Python311\\Lib\\site-packages\\IPython\\core\\interactiveshell.py:3508\u001b[0m in \u001b[0;35mrun_code\u001b[0m\n    exec(code_obj, self.user_global_ns, self.user_ns)\u001b[0m\n",
      "\u001b[1;36m  Cell \u001b[1;32mIn[17], line 2\u001b[1;36m\n\u001b[1;33m    num1_int=eval(num1)\u001b[1;36m\n",
      "\u001b[1;36m  File \u001b[1;32m<string>:1\u001b[1;36m\u001b[0m\n\u001b[1;33m    56865fdsfjosajfosad\u001b[0m\n\u001b[1;37m        ^\u001b[0m\n\u001b[1;31mSyntaxError\u001b[0m\u001b[1;31m:\u001b[0m invalid decimal literal\n"
     ]
    }
   ],
   "source": [
    "num1=input(\"Enter your 1st number:\")\n",
    "num1_int=eval(num1)\n",
    "num2=input(\"Enter your 2nd number:\")\n",
    "num2_int=eval(num2)\n",
    "print(num1_int+num2_int)"
   ]
  },
  {
   "cell_type": "code",
   "execution_count": 28,
   "id": "d9684a21-eee6-40f8-90fc-815129de8bfb",
   "metadata": {},
   "outputs": [
    {
     "name": "stdin",
     "output_type": "stream",
     "text": [
      "Enter your 1st number: 12.dfsd5464.5445dfs\n"
     ]
    }
   ],
   "source": [
    "num1=input(\"Enter your 1st number:\")"
   ]
  },
  {
   "cell_type": "code",
   "execution_count": null,
   "id": "03f1edeb-6232-4457-b5e9-7002ff071eda",
   "metadata": {},
   "outputs": [],
   "source": [
    "a=inpu"
   ]
  },
  {
   "cell_type": "code",
   "execution_count": 30,
   "id": "58d36938-1dc4-469e-bffa-97f5b0b67e49",
   "metadata": {},
   "outputs": [
    {
     "ename": "SyntaxError",
     "evalue": "invalid syntax (<string>, line 1)",
     "output_type": "error",
     "traceback": [
      "Traceback \u001b[1;36m(most recent call last)\u001b[0m:\n",
      "\u001b[0m  File \u001b[0;32m~\\AppData\\Local\\Programs\\Python\\Python311\\Lib\\site-packages\\IPython\\core\\interactiveshell.py:3508\u001b[0m in \u001b[0;35mrun_code\u001b[0m\n    exec(code_obj, self.user_global_ns, self.user_ns)\u001b[0m\n",
      "\u001b[1;36m  Cell \u001b[1;32mIn[30], line 1\u001b[1;36m\n\u001b[1;33m    eval(re.sub(\"[a-z]\",\"\",num1))\u001b[1;36m\n",
      "\u001b[1;36m  File \u001b[1;32m<string>:1\u001b[1;36m\u001b[0m\n\u001b[1;33m    12.5464.5445\u001b[0m\n\u001b[1;37m           ^\u001b[0m\n\u001b[1;31mSyntaxError\u001b[0m\u001b[1;31m:\u001b[0m invalid syntax\n"
     ]
    }
   ],
   "source": [
    "eval(re.sub(\"[a-z]\",\"\",num1))"
   ]
  },
  {
   "cell_type": "code",
   "execution_count": null,
   "id": "2f527be6-46a6-4c20-b358-a6c08e1f426a",
   "metadata": {},
   "outputs": [],
   "source": []
  }
 ],
 "metadata": {
  "kernelspec": {
   "display_name": "Python 3 (ipykernel)",
   "language": "python",
   "name": "python3"
  },
  "language_info": {
   "codemirror_mode": {
    "name": "ipython",
    "version": 3
   },
   "file_extension": ".py",
   "mimetype": "text/x-python",
   "name": "python",
   "nbconvert_exporter": "python",
   "pygments_lexer": "ipython3",
   "version": "3.11.4"
  }
 },
 "nbformat": 4,
 "nbformat_minor": 5
}
