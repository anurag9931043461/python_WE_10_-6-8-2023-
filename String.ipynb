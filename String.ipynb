{
 "cells": [
  {
   "cell_type": "markdown",
   "id": "cbcd9546-6c3a-44e9-85eb-517dac147605",
   "metadata": {},
   "source": [
    "# String\n",
    "\n",
    "> String constructor is str()\n",
    "\n",
    "> String literal is '',\"\",\"\"\"\"\"\",''''''\n",
    "\n",
    "> String is immutable(hashable)\n",
    "\n",
    "> String is a set of sequence of character.\n",
    "\n",
    "> String support indexing \n",
    "\n",
    "> string support slicing \n",
    "\n",
    "> string support concatination.\n",
    "\n",
    "> string methods."
   ]
  },
  {
   "cell_type": "code",
   "execution_count": 11,
   "id": "03fb27d4-234c-4bc8-b97c-dca2c9dc7831",
   "metadata": {},
   "outputs": [
    {
     "name": "stdout",
     "output_type": "stream",
     "text": [
      "Hello world\n",
      "hello world\n"
     ]
    }
   ],
   "source": [
    "print(\"Hello world\")\n",
    "print('hello world')"
   ]
  },
  {
   "cell_type": "code",
   "execution_count": 13,
   "id": "23c00390-dc78-44be-9550-ea5f6c27897c",
   "metadata": {},
   "outputs": [
    {
     "name": "stdout",
     "output_type": "stream",
     "text": [
      "Twinkle Twinkle little start\n",
      "    How I wonder what you are\n",
      "        up above the world so high\n",
      "             Like a dimond in the sky\n"
     ]
    }
   ],
   "source": [
    "print(\"Twinkle Twinkle little start\")\n",
    "print(\"    How I wonder what you are\")\n",
    "print(\"        up above the world so high\")\n",
    "print(\"             Like a dimond in the sky\")"
   ]
  },
  {
   "cell_type": "code",
   "execution_count": 14,
   "id": "af93e71b-337f-45a0-b1a7-8343e290cd47",
   "metadata": {},
   "outputs": [
    {
     "name": "stdout",
     "output_type": "stream",
     "text": [
      "Twinkle Twinkle little star\n",
      "    How I wonder what you are\n",
      "        up above the world so high\n",
      "            like a dimond in the sky\n"
     ]
    }
   ],
   "source": [
    "print(\"\"\"Twinkle Twinkle little star\n",
    "    How I wonder what you are\n",
    "        up above the world so high\n",
    "            like a dimond in the sky\"\"\")"
   ]
  },
  {
   "cell_type": "code",
   "execution_count": 16,
   "id": "1d74035c-d752-4997-a030-dbb288806a6f",
   "metadata": {},
   "outputs": [
    {
     "name": "stdout",
     "output_type": "stream",
     "text": [
      "Twinkle Twinkle little star\n",
      "    How I wonder what you are\n",
      "        up above the world so high\n",
      "            like a dimond in the sky\n"
     ]
    }
   ],
   "source": [
    "print('''Twinkle Twinkle little star\n",
    "    How I wonder what you are\n",
    "        up above the world so high\n",
    "            like a dimond in the sky''')"
   ]
  },
  {
   "cell_type": "code",
   "execution_count": 17,
   "id": "d461d87e-5899-455a-9322-d6703210c433",
   "metadata": {},
   "outputs": [
    {
     "ename": "SyntaxError",
     "evalue": "invalid syntax. Perhaps you forgot a comma? (3393802114.py, line 1)",
     "output_type": "error",
     "traceback": [
      "\u001b[1;36m  Cell \u001b[1;32mIn[17], line 1\u001b[1;36m\u001b[0m\n\u001b[1;33m    print(\"this is \"Taj Mahal\"\")\u001b[0m\n\u001b[1;37m          ^\u001b[0m\n\u001b[1;31mSyntaxError\u001b[0m\u001b[1;31m:\u001b[0m invalid syntax. Perhaps you forgot a comma?\n"
     ]
    }
   ],
   "source": [
    "print(\"this is \"Taj Mahal\"\")"
   ]
  },
  {
   "cell_type": "code",
   "execution_count": 18,
   "id": "fa957297-016b-40f1-bbc2-cce4093f3ce3",
   "metadata": {},
   "outputs": [
    {
     "name": "stdout",
     "output_type": "stream",
     "text": [
      "this is \"Taj Mahal\"\n"
     ]
    }
   ],
   "source": [
    "print('this is \"Taj Mahal\"')"
   ]
  },
  {
   "cell_type": "code",
   "execution_count": 19,
   "id": "85bea18a-a316-406f-9b51-11ab63c9b704",
   "metadata": {},
   "outputs": [
    {
     "name": "stdout",
     "output_type": "stream",
     "text": [
      "this is \"Taj Mahal\"\n"
     ]
    }
   ],
   "source": [
    "print(\"this is \\\"Taj Mahal\\\"\")"
   ]
  },
  {
   "cell_type": "code",
   "execution_count": 20,
   "id": "d97d5bf6-f5f9-4b18-8a91-04ef5ee7be9a",
   "metadata": {},
   "outputs": [
    {
     "name": "stdout",
     "output_type": "stream",
     "text": [
      "this is \\ krishna\n"
     ]
    }
   ],
   "source": [
    "print(\"this is \\ krishna\")"
   ]
  },
  {
   "cell_type": "code",
   "execution_count": 24,
   "id": "3a297ffe-4a72-4464-8b91-c2c744aecc0e",
   "metadata": {},
   "outputs": [
    {
     "name": "stdout",
     "output_type": "stream",
     "text": [
      "this is \\nswaminathan\n"
     ]
    }
   ],
   "source": [
    "print(\"this is \\\\nswaminathan\")"
   ]
  },
  {
   "cell_type": "code",
   "execution_count": 27,
   "id": "fda04427-f817-4490-bbc0-f3a1bfd4189c",
   "metadata": {},
   "outputs": [
    {
     "name": "stdout",
     "output_type": "stream",
     "text": [
      "this i \\tamil\n"
     ]
    }
   ],
   "source": [
    "print(\"this i \\\\tamil\")"
   ]
  },
  {
   "cell_type": "code",
   "execution_count": 31,
   "id": "e4520c05-4f39-4bb6-af7f-8f8c18364202",
   "metadata": {},
   "outputs": [
    {
     "ename": "SyntaxError",
     "evalue": "(unicode error) 'unicodeescape' codec can't decode bytes in position 2-3: truncated \\UXXXXXXXX escape (2539761119.py, line 1)",
     "output_type": "error",
     "traceback": [
      "\u001b[1;36m  Cell \u001b[1;32mIn[31], line 1\u001b[1;36m\u001b[0m\n\u001b[1;33m    print(\"C:\\Users\\Ducat\\Desktop\\class on git\\intro.txt\")\u001b[0m\n\u001b[1;37m                                                         ^\u001b[0m\n\u001b[1;31mSyntaxError\u001b[0m\u001b[1;31m:\u001b[0m (unicode error) 'unicodeescape' codec can't decode bytes in position 2-3: truncated \\UXXXXXXXX escape\n"
     ]
    }
   ],
   "source": [
    "print(\"C:\\Users\\Ducat\\Desktop\\class on git\\intro.txt\")"
   ]
  },
  {
   "cell_type": "code",
   "execution_count": 32,
   "id": "ff802a3b-f404-42a7-baad-f352c25c2a22",
   "metadata": {},
   "outputs": [
    {
     "name": "stdout",
     "output_type": "stream",
     "text": [
      "C:\\Users\\Ducat\\Desktop\\class on git\\intro.txt\n"
     ]
    }
   ],
   "source": [
    "print(\"C:\\\\Users\\\\Ducat\\\\Desktop\\\\class on git\\\\intro.txt\")"
   ]
  },
  {
   "cell_type": "code",
   "execution_count": 34,
   "id": "0ce99450-0e11-4856-8d9b-886071d9e0d5",
   "metadata": {},
   "outputs": [
    {
     "name": "stdout",
     "output_type": "stream",
     "text": [
      "C:\\Users\\Ducat\\Desktop\\class on git\\intro.txt\n"
     ]
    }
   ],
   "source": [
    "print(r\"C:\\Users\\Ducat\\Desktop\\class on git\\intro.txt\")"
   ]
  },
  {
   "cell_type": "code",
   "execution_count": 36,
   "id": "d07d5d1d-eabf-4bbe-bb9a-0b4fad33a8f8",
   "metadata": {},
   "outputs": [
    {
     "name": "stdout",
     "output_type": "stream",
     "text": [
      "this is \\nswaminathan\n"
     ]
    }
   ],
   "source": [
    "print(r\"this is \\nswaminathan\")"
   ]
  },
  {
   "cell_type": "code",
   "execution_count": 38,
   "id": "7ab9e4a0-0d35-449c-b69a-083666ccb7b1",
   "metadata": {},
   "outputs": [
    {
     "ename": "SyntaxError",
     "evalue": "invalid syntax. Perhaps you forgot a comma? (678716593.py, line 1)",
     "output_type": "error",
     "traceback": [
      "\u001b[1;36m  Cell \u001b[1;32mIn[38], line 1\u001b[1;36m\u001b[0m\n\u001b[1;33m    print(r\"this is \"Taj mahal\"\")\u001b[0m\n\u001b[1;37m          ^\u001b[0m\n\u001b[1;31mSyntaxError\u001b[0m\u001b[1;31m:\u001b[0m invalid syntax. Perhaps you forgot a comma?\n"
     ]
    }
   ],
   "source": [
    "print(r\"this is \"Taj mahal\"\")"
   ]
  },
  {
   "cell_type": "code",
   "execution_count": 40,
   "id": "41fb68a8-42e7-4509-ad26-b6a7b12e47e3",
   "metadata": {},
   "outputs": [
    {
     "name": "stdout",
     "output_type": "stream",
     "text": [
      "♞\n"
     ]
    }
   ],
   "source": [
    "print(\"\\u265E\")"
   ]
  },
  {
   "cell_type": "code",
   "execution_count": 41,
   "id": "7a415a06-ba52-45de-a197-858cc9cd8da5",
   "metadata": {},
   "outputs": [
    {
     "name": "stdout",
     "output_type": "stream",
     "text": [
      "ऐ\n"
     ]
    }
   ],
   "source": [
    "print(\"\\u0910\")"
   ]
  },
  {
   "cell_type": "code",
   "execution_count": 42,
   "id": "1c5a27bb-d3ad-4914-b8c8-40fd9421243b",
   "metadata": {},
   "outputs": [],
   "source": [
    "a=str()"
   ]
  },
  {
   "cell_type": "code",
   "execution_count": 43,
   "id": "7f91748a-1dd5-4727-b291-f509d74ddeae",
   "metadata": {},
   "outputs": [
    {
     "name": "stdout",
     "output_type": "stream",
     "text": [
      "\n"
     ]
    }
   ],
   "source": [
    "print(a)"
   ]
  },
  {
   "cell_type": "code",
   "execution_count": 44,
   "id": "9df4c402-f748-4796-a8f1-32e0552cc2ce",
   "metadata": {},
   "outputs": [
    {
     "data": {
      "text/plain": [
       "''"
      ]
     },
     "execution_count": 44,
     "metadata": {},
     "output_type": "execute_result"
    }
   ],
   "source": [
    "a"
   ]
  },
  {
   "cell_type": "code",
   "execution_count": 48,
   "id": "2185a468-711c-4c7b-abb8-0d70146a8030",
   "metadata": {},
   "outputs": [
    {
     "data": {
      "text/plain": [
       "'this is \\nswaminathan'"
      ]
     },
     "execution_count": 48,
     "metadata": {},
     "output_type": "execute_result"
    }
   ],
   "source": [
    "\n",
    "a=10\n",
    "\"this is \\nswaminathan\""
   ]
  },
  {
   "cell_type": "code",
   "execution_count": 46,
   "id": "732d20bf-d004-4256-a1b4-1280efb0a90d",
   "metadata": {},
   "outputs": [
    {
     "name": "stdout",
     "output_type": "stream",
     "text": [
      "this is \n",
      "swaminathan\n"
     ]
    }
   ],
   "source": [
    "print(\"this is \\nswaminathan\")"
   ]
  },
  {
   "cell_type": "code",
   "execution_count": 51,
   "id": "7c79a748-999f-4617-bfb6-6297c56153ee",
   "metadata": {},
   "outputs": [
    {
     "name": "stdout",
     "output_type": "stream",
     "text": [
      "<class 'str'>\n"
     ]
    },
    {
     "data": {
      "text/plain": [
       "''"
      ]
     },
     "execution_count": 51,
     "metadata": {},
     "output_type": "execute_result"
    }
   ],
   "source": [
    "b=''\n",
    "print(type(b))\n",
    "b"
   ]
  },
  {
   "cell_type": "code",
   "execution_count": 52,
   "id": "ccb1c958-d721-416b-8146-94ea5dc22cbc",
   "metadata": {},
   "outputs": [
    {
     "name": "stdout",
     "output_type": "stream",
     "text": [
      "<class 'str'>\n"
     ]
    },
    {
     "data": {
      "text/plain": [
       "''"
      ]
     },
     "execution_count": 52,
     "metadata": {},
     "output_type": "execute_result"
    }
   ],
   "source": [
    "c=\"\"\n",
    "print(type(c))\n",
    "c"
   ]
  },
  {
   "cell_type": "code",
   "execution_count": 54,
   "id": "6852698c-7af6-44f6-a9f7-6588a93c3017",
   "metadata": {},
   "outputs": [
    {
     "name": "stdout",
     "output_type": "stream",
     "text": [
      "<class 'str'>\n"
     ]
    },
    {
     "data": {
      "text/plain": [
       "''"
      ]
     },
     "execution_count": 54,
     "metadata": {},
     "output_type": "execute_result"
    }
   ],
   "source": [
    "d=\"\"\"\"\"\"\n",
    "print(type(d))\n",
    "d"
   ]
  },
  {
   "cell_type": "code",
   "execution_count": 55,
   "id": "106c173e-d595-43ce-94ef-485e2ac3e9ff",
   "metadata": {},
   "outputs": [
    {
     "name": "stdout",
     "output_type": "stream",
     "text": [
      "<class 'str'>\n"
     ]
    },
    {
     "data": {
      "text/plain": [
       "''"
      ]
     },
     "execution_count": 55,
     "metadata": {},
     "output_type": "execute_result"
    }
   ],
   "source": [
    "e=''''''\n",
    "print(type(e))\n",
    "e"
   ]
  },
  {
   "cell_type": "code",
   "execution_count": 56,
   "id": "039429c8-1943-4506-8f65-1eae86da53a5",
   "metadata": {},
   "outputs": [
    {
     "name": "stdout",
     "output_type": "stream",
     "text": [
      "hello world\n",
      "this is krishna\n"
     ]
    }
   ],
   "source": [
    "print(\"hello world\");\n",
    "print(\"this is krishna\");"
   ]
  },
  {
   "cell_type": "code",
   "execution_count": 61,
   "id": "b862b9c1-69bf-4ffd-b89f-eeb3cac9beac",
   "metadata": {},
   "outputs": [
    {
     "name": "stdout",
     "output_type": "stream",
     "text": [
      "hello world\n",
      "this is krishna\n"
     ]
    }
   ],
   "source": [
    "print(\"hello world\");print(\"this is krishna\")"
   ]
  },
  {
   "cell_type": "code",
   "execution_count": 62,
   "id": "549a694e-535f-4d9c-93a0-277aa412aa61",
   "metadata": {},
   "outputs": [
    {
     "name": "stdout",
     "output_type": "stream",
     "text": [
      "hello world\n",
      "this is krishna\n"
     ]
    }
   ],
   "source": [
    "print(\"hello world\",end=\"\\n\");print(\"this is krishna\")"
   ]
  },
  {
   "cell_type": "code",
   "execution_count": 63,
   "id": "8e9b383e-6877-43a6-8117-9e7d76be31cd",
   "metadata": {},
   "outputs": [
    {
     "name": "stdout",
     "output_type": "stream",
     "text": [
      "hello world this is krishna\n"
     ]
    }
   ],
   "source": [
    "print(\"hello world\",end=\" \");print(\"this is krishna\")"
   ]
  },
  {
   "cell_type": "code",
   "execution_count": 65,
   "id": "1b527564-ebbe-49bb-bda3-aaa2ef2105fd",
   "metadata": {},
   "outputs": [
    {
     "name": "stdout",
     "output_type": "stream",
     "text": [
      "hello world India this is krishna\n"
     ]
    }
   ],
   "source": [
    "print(\"hello world\",end=\" India \");print(\"this is krishna\")"
   ]
  },
  {
   "cell_type": "code",
   "execution_count": 67,
   "id": "f5792d71-90c6-4cfe-bd17-b8a789dc1da0",
   "metadata": {},
   "outputs": [
    {
     "name": "stdout",
     "output_type": "stream",
     "text": [
      "hello world India this is krishna\n",
      "bye\n"
     ]
    }
   ],
   "source": [
    "print(\"hello world\",end=\" India \");print(\"this is krishna\",end=\"\\n\")\n",
    "print(\"bye\")"
   ]
  },
  {
   "cell_type": "code",
   "execution_count": 68,
   "id": "9c07daa8-76d5-495e-961c-deba2adbd609",
   "metadata": {},
   "outputs": [
    {
     "name": "stdout",
     "output_type": "stream",
     "text": [
      "hello world India this is krishna $ bye\n"
     ]
    }
   ],
   "source": [
    "print(\"hello world\",end=\" India \");print(\"this is krishna\",end=\" $ \")\n",
    "print(\"bye\")"
   ]
  },
  {
   "cell_type": "code",
   "execution_count": 71,
   "id": "36ed46a7-3e4c-49af-9c8d-4ac2dfb65c57",
   "metadata": {},
   "outputs": [
    {
     "name": "stdout",
     "output_type": "stream",
     "text": [
      "November December January\n"
     ]
    }
   ],
   "source": [
    "print(\"November\",\"December\",\"January\")"
   ]
  },
  {
   "cell_type": "code",
   "execution_count": 74,
   "id": "5208a57d-772e-4379-8626-52a38f0abbe7",
   "metadata": {},
   "outputs": [
    {
     "name": "stdout",
     "output_type": "stream",
     "text": [
      "NovemberDecemberJanuary\n"
     ]
    }
   ],
   "source": [
    "print(\"November\" \"December\" \"January\",sep=\" \")"
   ]
  },
  {
   "cell_type": "code",
   "execution_count": 75,
   "id": "1074c58c-977a-4716-8d8e-fd5828307f7e",
   "metadata": {},
   "outputs": [
    {
     "name": "stdout",
     "output_type": "stream",
     "text": [
      "November$December$January\n"
     ]
    }
   ],
   "source": [
    "print(\"November\",\"December\",\"January\",sep=\"$\")"
   ]
  },
  {
   "cell_type": "code",
   "execution_count": 76,
   "id": "836ccf79-a049-45c3-bbcb-8cd5bc40133b",
   "metadata": {},
   "outputs": [
    {
     "name": "stdout",
     "output_type": "stream",
     "text": [
      "November\n",
      "December\n",
      "January\n"
     ]
    }
   ],
   "source": [
    "print(\"November\",\"December\",\"January\",sep=\"\\n\")"
   ]
  },
  {
   "cell_type": "code",
   "execution_count": 77,
   "id": "49e82fa4-d315-4bcb-944b-c4d1ce81d3d8",
   "metadata": {},
   "outputs": [
    {
     "name": "stdout",
     "output_type": "stream",
     "text": [
      "November December\n",
      " January\n"
     ]
    }
   ],
   "source": [
    "print(\"November\",\"December\\n\",\"January\")"
   ]
  },
  {
   "cell_type": "code",
   "execution_count": 78,
   "id": "2f2fd8ed-014d-4c87-b0f1-8439bcc4ad11",
   "metadata": {},
   "outputs": [
    {
     "name": "stdout",
     "output_type": "stream",
     "text": [
      "November December \n",
      "January\n"
     ]
    }
   ],
   "source": [
    "print(\"November\",\"December\",\"\\nJanuary\")"
   ]
  },
  {
   "cell_type": "code",
   "execution_count": 1,
   "id": "fbe5d388-750c-4f63-acb4-1e0403f682fd",
   "metadata": {},
   "outputs": [],
   "source": [
    "a=\"KRISHNA\""
   ]
  },
  {
   "cell_type": "code",
   "execution_count": 2,
   "id": "8167316c-aef6-4e0e-8e42-81d9d963f795",
   "metadata": {},
   "outputs": [
    {
     "name": "stdout",
     "output_type": "stream",
     "text": [
      "KRISHNA\n"
     ]
    }
   ],
   "source": [
    "print(a)"
   ]
  },
  {
   "cell_type": "code",
   "execution_count": 3,
   "id": "0f3adb49-c3c1-4a1a-90a0-5cdf67ffd46e",
   "metadata": {},
   "outputs": [
    {
     "name": "stdout",
     "output_type": "stream",
     "text": [
      "R\n"
     ]
    }
   ],
   "source": [
    "print(a[1])"
   ]
  },
  {
   "cell_type": "code",
   "execution_count": 4,
   "id": "4652be94-2570-4665-b07e-43185b6b0647",
   "metadata": {},
   "outputs": [
    {
     "name": "stdout",
     "output_type": "stream",
     "text": [
      "R\n"
     ]
    }
   ],
   "source": [
    "print(a[-6])"
   ]
  },
  {
   "cell_type": "code",
   "execution_count": 7,
   "id": "6adeb9a3-a84e-44a8-98a4-4c2c49d934b1",
   "metadata": {},
   "outputs": [
    {
     "name": "stdout",
     "output_type": "stream",
     "text": [
      "KRISH\n"
     ]
    }
   ],
   "source": [
    "print(a[0:5:1])"
   ]
  },
  {
   "cell_type": "code",
   "execution_count": 8,
   "id": "05c4329b-647f-4b7e-8200-40f7cfa3ab77",
   "metadata": {},
   "outputs": [
    {
     "name": "stdout",
     "output_type": "stream",
     "text": [
      "KIH\n"
     ]
    }
   ],
   "source": [
    "print(a[0:5:2])"
   ]
  },
  {
   "cell_type": "code",
   "execution_count": 9,
   "id": "025842fc-b972-47ab-b4cd-68e8a2440e60",
   "metadata": {},
   "outputs": [
    {
     "name": "stdout",
     "output_type": "stream",
     "text": [
      "HSIRK\n"
     ]
    }
   ],
   "source": [
    "print(a[4:-8:-1])"
   ]
  },
  {
   "cell_type": "code",
   "execution_count": 10,
   "id": "a8aca994-b7d7-44dd-bc11-1d97baa9116e",
   "metadata": {},
   "outputs": [
    {
     "name": "stdout",
     "output_type": "stream",
     "text": [
      "HSIRK\n"
     ]
    }
   ],
   "source": [
    "print(a[4::-1])"
   ]
  },
  {
   "cell_type": "code",
   "execution_count": 11,
   "id": "026e2f7b-a3d6-4f0b-b85e-9b93e5b37065",
   "metadata": {},
   "outputs": [
    {
     "name": "stdout",
     "output_type": "stream",
     "text": [
      "ANHSIRK\n"
     ]
    }
   ],
   "source": [
    "print(a[-1:-8:-1])"
   ]
  },
  {
   "cell_type": "code",
   "execution_count": 12,
   "id": "c4dc85ba-ca2f-4cbf-b43a-09659870158f",
   "metadata": {},
   "outputs": [
    {
     "name": "stdout",
     "output_type": "stream",
     "text": [
      "ANHSIRK\n"
     ]
    }
   ],
   "source": [
    "print(a[-1::-1])"
   ]
  },
  {
   "cell_type": "code",
   "execution_count": 15,
   "id": "2c90fcaa-0174-4f18-93b8-4cfe9f623389",
   "metadata": {},
   "outputs": [
    {
     "name": "stdout",
     "output_type": "stream",
     "text": [
      "ANHSIRK\n"
     ]
    }
   ],
   "source": [
    "print(a[::-1])  # "
   ]
  },
  {
   "cell_type": "code",
   "execution_count": 16,
   "id": "8fcecbab-8737-4139-84c8-1d43fa6391ec",
   "metadata": {},
   "outputs": [],
   "source": [
    "a=\"0123456789\""
   ]
  },
  {
   "cell_type": "code",
   "execution_count": 17,
   "id": "4d9c73f7-9bec-4c64-a129-a5c8f4865ddd",
   "metadata": {},
   "outputs": [
    {
     "name": "stdout",
     "output_type": "stream",
     "text": [
      "97531\n"
     ]
    }
   ],
   "source": [
    "print(a[-1::-2])"
   ]
  },
  {
   "cell_type": "code",
   "execution_count": 19,
   "id": "cb45885b-e4af-44bb-8d35-809478c2e29d",
   "metadata": {},
   "outputs": [
    {
     "name": "stdout",
     "output_type": "stream",
     "text": [
      "13579\n"
     ]
    }
   ],
   "source": [
    "print(a[1:3423423423423423:2])"
   ]
  },
  {
   "cell_type": "code",
   "execution_count": 23,
   "id": "01aee8e8-bf83-4a3f-9728-f10557a28f49",
   "metadata": {},
   "outputs": [
    {
     "name": "stdout",
     "output_type": "stream",
     "text": [
      "\n",
      "hello world\n"
     ]
    }
   ],
   "source": [
    "print(a[345345435345345:3423423423423423:2])\n",
    "print(\"hello world\")"
   ]
  },
  {
   "cell_type": "code",
   "execution_count": 29,
   "id": "a194d316-4597-4bab-aeed-d024799d5af8",
   "metadata": {},
   "outputs": [
    {
     "name": "stdout",
     "output_type": "stream",
     "text": [
      "krishnakumar\n",
      "krishnakumar\n"
     ]
    }
   ],
   "source": [
    "a=\"krishna\"\n",
    "b=\"kumar\"\n",
    "print(a+b)  # concatination: \n",
    "print(\"krishna\"+\"kumar\")"
   ]
  },
  {
   "cell_type": "code",
   "execution_count": 26,
   "id": "06244c8c-a5d4-4611-af34-74771d29814b",
   "metadata": {},
   "outputs": [
    {
     "name": "stdout",
     "output_type": "stream",
     "text": [
      "krishnakumar\n"
     ]
    }
   ],
   "source": [
    "print(\"krishna\"\"kumar\")  # not concatination"
   ]
  },
  {
   "cell_type": "code",
   "execution_count": 28,
   "id": "03163a97-9311-4ae5-89b3-e05af4349c3d",
   "metadata": {},
   "outputs": [
    {
     "name": "stdout",
     "output_type": "stream",
     "text": [
      "krishnakumar\n"
     ]
    }
   ],
   "source": [
    "print(\"krishna\",\"kumar\",sep=\"\") # not concatination"
   ]
  },
  {
   "cell_type": "raw",
   "id": "9669e5cb-a21e-4a7c-9eb8-cd6ee0608e0d",
   "metadata": {},
   "source": [
    "https://www.w3schools.com/python/python_strings_methods.asp"
   ]
  },
  {
   "cell_type": "code",
   "execution_count": 30,
   "id": "437a62b4-8122-45a5-9d4c-4785685b94c6",
   "metadata": {},
   "outputs": [
    {
     "name": "stdout",
     "output_type": "stream",
     "text": [
      "krishna\n"
     ]
    }
   ],
   "source": [
    "print(a)"
   ]
  },
  {
   "cell_type": "code",
   "execution_count": 31,
   "id": "8386f7c8-9c30-4fbc-bd39-75afd774c9f0",
   "metadata": {},
   "outputs": [
    {
     "data": {
      "text/plain": [
       "'KRISHNA'"
      ]
     },
     "execution_count": 31,
     "metadata": {},
     "output_type": "execute_result"
    }
   ],
   "source": [
    "a.upper()"
   ]
  },
  {
   "cell_type": "code",
   "execution_count": 32,
   "id": "f31f4a1e-9cad-4ec4-b3df-4eb29ad047b4",
   "metadata": {},
   "outputs": [
    {
     "name": "stdout",
     "output_type": "stream",
     "text": [
      "krishna\n"
     ]
    }
   ],
   "source": [
    "print(a)"
   ]
  },
  {
   "cell_type": "code",
   "execution_count": 33,
   "id": "f12aed8c-07f1-42c2-bdeb-b0a9de100440",
   "metadata": {},
   "outputs": [
    {
     "data": {
      "text/plain": [
       "'Krishna'"
      ]
     },
     "execution_count": 33,
     "metadata": {},
     "output_type": "execute_result"
    }
   ],
   "source": [
    "a.capitalize()"
   ]
  },
  {
   "cell_type": "code",
   "execution_count": 34,
   "id": "902a46ad-5e10-49a1-a393-6004d9f6d7fa",
   "metadata": {},
   "outputs": [
    {
     "data": {
      "text/plain": [
       "True"
      ]
     },
     "execution_count": 34,
     "metadata": {},
     "output_type": "execute_result"
    }
   ],
   "source": [
    "a.isascii()"
   ]
  },
  {
   "cell_type": "code",
   "execution_count": 38,
   "id": "dc273511-cb1a-42e4-b914-7fc8dabc46a1",
   "metadata": {},
   "outputs": [],
   "source": [
    "b=\"\\u2325\""
   ]
  },
  {
   "cell_type": "code",
   "execution_count": 40,
   "id": "1eff132b-4c0c-4581-8d21-fa682b3ab1f9",
   "metadata": {},
   "outputs": [
    {
     "data": {
      "text/plain": [
       "False"
      ]
     },
     "execution_count": 40,
     "metadata": {},
     "output_type": "execute_result"
    }
   ],
   "source": [
    "b.isascii()"
   ]
  },
  {
   "cell_type": "code",
   "execution_count": 41,
   "id": "bc56a168-ed4a-4bcd-825d-521a0001f3a0",
   "metadata": {},
   "outputs": [],
   "source": [
    "c=\"NnkrisHna@gmaIl.com\""
   ]
  },
  {
   "cell_type": "code",
   "execution_count": 42,
   "id": "8f722400-11b3-4341-a662-2393c1e22ac5",
   "metadata": {},
   "outputs": [
    {
     "name": "stdout",
     "output_type": "stream",
     "text": [
      "NnkrisHna@gmaIl.com\n"
     ]
    }
   ],
   "source": [
    "print(c)"
   ]
  },
  {
   "cell_type": "code",
   "execution_count": 43,
   "id": "698c3a1c-9596-43ec-ba9e-31817df2b00f",
   "metadata": {},
   "outputs": [
    {
     "data": {
      "text/plain": [
       "'nnkrishna@gmail.com'"
      ]
     },
     "execution_count": 43,
     "metadata": {},
     "output_type": "execute_result"
    }
   ],
   "source": [
    "c.casefold()"
   ]
  },
  {
   "cell_type": "code",
   "execution_count": 47,
   "id": "21903425-789d-4a48-82f1-3b5efeb6ff43",
   "metadata": {},
   "outputs": [],
   "source": [
    "c=\"      NnkrisHna@gmaIl.com    \""
   ]
  },
  {
   "cell_type": "code",
   "execution_count": 49,
   "id": "0a722861-e4da-4985-b316-101790782c29",
   "metadata": {},
   "outputs": [
    {
     "data": {
      "text/plain": [
       "'NnkrisHna@gmaIl.com'"
      ]
     },
     "execution_count": 49,
     "metadata": {},
     "output_type": "execute_result"
    }
   ],
   "source": [
    "c.strip()"
   ]
  },
  {
   "cell_type": "code",
   "execution_count": 50,
   "id": "780e1235-112d-4cff-b62f-87ff1da75c13",
   "metadata": {},
   "outputs": [
    {
     "name": "stdout",
     "output_type": "stream",
     "text": [
      "      NnkrisHna@gmaIl.com    \n"
     ]
    }
   ],
   "source": [
    "print(c)"
   ]
  },
  {
   "cell_type": "code",
   "execution_count": 51,
   "id": "7e208b28-131d-4d43-a946-40d944a80203",
   "metadata": {},
   "outputs": [
    {
     "data": {
      "text/plain": [
       "2"
      ]
     },
     "execution_count": 51,
     "metadata": {},
     "output_type": "execute_result"
    }
   ],
   "source": [
    "c.count(\"n\")"
   ]
  },
  {
   "cell_type": "code",
   "execution_count": 53,
   "id": "aff3bd80-fb45-4631-8be8-92ece299bd9f",
   "metadata": {},
   "outputs": [
    {
     "data": {
      "text/plain": [
       "1"
      ]
     },
     "execution_count": 53,
     "metadata": {},
     "output_type": "execute_result"
    }
   ],
   "source": [
    "c.count(\"N\")"
   ]
  },
  {
   "cell_type": "code",
   "execution_count": 56,
   "id": "28ed96a2-e60a-41fb-811d-08c8c20bce9d",
   "metadata": {},
   "outputs": [
    {
     "data": {
      "text/plain": [
       "True"
      ]
     },
     "execution_count": 56,
     "metadata": {},
     "output_type": "execute_result"
    }
   ],
   "source": [
    "c.endswith(\"    \")"
   ]
  },
  {
   "cell_type": "code",
   "execution_count": 55,
   "id": "7cea1ec3-03e7-4483-b974-86675d89ba04",
   "metadata": {},
   "outputs": [
    {
     "data": {
      "text/plain": [
       "False"
      ]
     },
     "execution_count": 55,
     "metadata": {},
     "output_type": "execute_result"
    }
   ],
   "source": [
    "c.endswith(\"com\")"
   ]
  },
  {
   "cell_type": "code",
   "execution_count": 57,
   "id": "06b45cb1-e571-4c66-81d7-8c5b29e97778",
   "metadata": {},
   "outputs": [
    {
     "data": {
      "text/plain": [
       "17"
      ]
     },
     "execution_count": 57,
     "metadata": {},
     "output_type": "execute_result"
    }
   ],
   "source": [
    "c.find(\"m\")"
   ]
  },
  {
   "cell_type": "code",
   "execution_count": 58,
   "id": "eb5d3ebe-7dfe-461d-bef8-94f38da8bc99",
   "metadata": {},
   "outputs": [
    {
     "data": {
      "text/plain": [
       "22"
      ]
     },
     "execution_count": 58,
     "metadata": {},
     "output_type": "execute_result"
    }
   ],
   "source": [
    "c.find(\"com\")"
   ]
  },
  {
   "cell_type": "code",
   "execution_count": 59,
   "id": "fa3dea10-b751-4f6d-962e-56ce341f4e40",
   "metadata": {},
   "outputs": [
    {
     "data": {
      "text/plain": [
       "False"
      ]
     },
     "execution_count": 59,
     "metadata": {},
     "output_type": "execute_result"
    }
   ],
   "source": [
    "c.isalnum()"
   ]
  },
  {
   "cell_type": "code",
   "execution_count": 60,
   "id": "aba2322e-9137-4c3f-98b5-30b4d2884b4d",
   "metadata": {},
   "outputs": [],
   "source": [
    "d=\"abc123\""
   ]
  },
  {
   "cell_type": "code",
   "execution_count": 61,
   "id": "7ceea097-70a5-4e6f-a27a-ee441550de48",
   "metadata": {},
   "outputs": [
    {
     "data": {
      "text/plain": [
       "True"
      ]
     },
     "execution_count": 61,
     "metadata": {},
     "output_type": "execute_result"
    }
   ],
   "source": [
    "d.isalnum()"
   ]
  },
  {
   "cell_type": "code",
   "execution_count": 62,
   "id": "1c18476d-2034-4ba7-986a-7e3052db3c69",
   "metadata": {},
   "outputs": [
    {
     "data": {
      "text/plain": [
       "False"
      ]
     },
     "execution_count": 62,
     "metadata": {},
     "output_type": "execute_result"
    }
   ],
   "source": [
    "d.isalpha()"
   ]
  },
  {
   "cell_type": "code",
   "execution_count": 63,
   "id": "3dc29249-da50-4cc8-afe8-2300d668c90b",
   "metadata": {},
   "outputs": [
    {
     "data": {
      "text/plain": [
       "False"
      ]
     },
     "execution_count": 63,
     "metadata": {},
     "output_type": "execute_result"
    }
   ],
   "source": [
    "d.isdigit()"
   ]
  },
  {
   "cell_type": "code",
   "execution_count": 64,
   "id": "128463b7-e4f9-4411-8353-1dc2656e32ce",
   "metadata": {},
   "outputs": [],
   "source": [
    "age=27\n",
    "name=\"krishna\""
   ]
  },
  {
   "cell_type": "code",
   "execution_count": 65,
   "id": "455a542c-71c4-4c3e-bb24-320726a0a6bc",
   "metadata": {},
   "outputs": [
    {
     "name": "stdout",
     "output_type": "stream",
     "text": [
      "I am krishna and age is 27\n"
     ]
    }
   ],
   "source": [
    "print(\"I am krishna and age is 27\")"
   ]
  },
  {
   "cell_type": "code",
   "execution_count": 68,
   "id": "da8a4e00-e4d3-4c72-9d3c-137b86810fc5",
   "metadata": {},
   "outputs": [
    {
     "name": "stdout",
     "output_type": "stream",
     "text": [
      "I am krishna and age is 27\n"
     ]
    }
   ],
   "source": [
    "print(\"I am {} and age is {}\".format(name,age))"
   ]
  },
  {
   "cell_type": "code",
   "execution_count": 71,
   "id": "ed4f9e27-7e98-485f-99d4-8585af6f5861",
   "metadata": {},
   "outputs": [
    {
     "name": "stdout",
     "output_type": "stream",
     "text": [
      "I am 27 and age is krishna\n"
     ]
    }
   ],
   "source": [
    "print(\"I am {0} and age is {1}\".format(age,name))"
   ]
  },
  {
   "cell_type": "code",
   "execution_count": 72,
   "id": "c7c943b2-5801-4563-9074-8bfe159e231d",
   "metadata": {},
   "outputs": [
    {
     "name": "stdout",
     "output_type": "stream",
     "text": [
      "I am {name} and age is {age}\n"
     ]
    }
   ],
   "source": [
    "print(\"I am {name} and age is {age}\")"
   ]
  },
  {
   "cell_type": "code",
   "execution_count": 73,
   "id": "c243ae0f-fbcd-4535-821b-c2f3af51e141",
   "metadata": {},
   "outputs": [
    {
     "name": "stdout",
     "output_type": "stream",
     "text": [
      "I am krishna and age is 27\n"
     ]
    }
   ],
   "source": [
    "print(f\"I am {   } and age is {age}\")"
   ]
  },
  {
   "cell_type": "code",
   "execution_count": 74,
   "id": "b8dcb9e3-630b-4a79-b9e1-02e343b58f68",
   "metadata": {},
   "outputs": [
    {
     "name": "stdout",
     "output_type": "stream",
     "text": [
      "I am krishna and age is 27\n"
     ]
    }
   ],
   "source": [
    "print(F\"I am {name} and age is {age}\")"
   ]
  },
  {
   "cell_type": "code",
   "execution_count": 75,
   "id": "48074a12-b21e-455f-be1a-45c88d644787",
   "metadata": {},
   "outputs": [],
   "source": [
    "# SQL Injection hacking --> key value"
   ]
  },
  {
   "cell_type": "code",
   "execution_count": null,
   "id": "98e0f024-98b7-4f15-91fb-eb08f9c90560",
   "metadata": {},
   "outputs": [],
   "source": []
  }
 ],
 "metadata": {
  "kernelspec": {
   "display_name": "Python 3 (ipykernel)",
   "language": "python",
   "name": "python3"
  },
  "language_info": {
   "codemirror_mode": {
    "name": "ipython",
    "version": 3
   },
   "file_extension": ".py",
   "mimetype": "text/x-python",
   "name": "python",
   "nbconvert_exporter": "python",
   "pygments_lexer": "ipython3",
   "version": "3.11.5"
  }
 },
 "nbformat": 4,
 "nbformat_minor": 5
}
