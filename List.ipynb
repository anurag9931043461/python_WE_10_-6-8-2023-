{
 "cells": [
  {
   "cell_type": "markdown",
   "id": "3753307e-2e16-4e68-a8b4-b863ee1ef9da",
   "metadata": {},
   "source": [
    "# List\n",
    "\n",
    "> List constructor is list()\n",
    "\n",
    "> List literal is []\n",
    "\n",
    "> List is mutable(unhashable)\n",
    "\n",
    "> List is a set of sequence of elements()\n",
    "\n",
    "> List support indexing \n",
    "\n",
    "> List support slicing\n",
    "\n",
    "> List support concatination\n",
    "\n",
    "> List support nested list\n",
    "\n",
    "> List methods."
   ]
  },
  {
   "cell_type": "code",
   "execution_count": 23,
   "id": "be5b4f17-7cea-4563-9c20-71848d8c21e6",
   "metadata": {},
   "outputs": [],
   "source": [
    "a=[\"Ishika\",\"Dhruv\",\"Mohit\",\"Divyanshu\",\"Simarjeet\",\"Jassi\"]"
   ]
  },
  {
   "cell_type": "code",
   "execution_count": 24,
   "id": "7653f788-46a0-400b-85b0-263f8ef83d57",
   "metadata": {},
   "outputs": [
    {
     "data": {
      "text/plain": [
       "[]"
      ]
     },
     "execution_count": 24,
     "metadata": {},
     "output_type": "execute_result"
    }
   ],
   "source": [
    "a[-2:-6:1]"
   ]
  },
  {
   "cell_type": "code",
   "execution_count": null,
   "id": "e3812f07-2d95-4ccc-8eb6-63a95e27ff33",
   "metadata": {},
   "outputs": [],
   "source": []
  },
  {
   "cell_type": "code",
   "execution_count": 2,
   "id": "5cfc8b2e-aba5-47b4-87f6-40c3815c8f97",
   "metadata": {},
   "outputs": [],
   "source": [
    "b=\"krishna\""
   ]
  },
  {
   "cell_type": "code",
   "execution_count": 3,
   "id": "45e09bc8-aefe-44a4-a378-b9165691d628",
   "metadata": {},
   "outputs": [
    {
     "name": "stdout",
     "output_type": "stream",
     "text": [
      "krishna\n"
     ]
    }
   ],
   "source": [
    "print(b)"
   ]
  },
  {
   "cell_type": "code",
   "execution_count": 4,
   "id": "47927a34-b5a1-48f6-9974-98c1bd59b554",
   "metadata": {},
   "outputs": [
    {
     "name": "stdout",
     "output_type": "stream",
     "text": [
      "['Ishika', 'Dhruv', 'Mohit', 'Divyanshu', 'Simarjeet', 'Jassi']\n"
     ]
    }
   ],
   "source": [
    "print(a)"
   ]
  },
  {
   "cell_type": "code",
   "execution_count": null,
   "id": "0ca4d3b3-5725-4bf5-8a62-5a64af88efd0",
   "metadata": {},
   "outputs": [],
   "source": []
  },
  {
   "cell_type": "code",
   "execution_count": 5,
   "id": "31c7359b-6211-4693-bf84-43a133b61a41",
   "metadata": {},
   "outputs": [
    {
     "data": {
      "text/plain": [
       "'Simarjeet'"
      ]
     },
     "execution_count": 5,
     "metadata": {},
     "output_type": "execute_result"
    }
   ],
   "source": [
    "a[4]"
   ]
  },
  {
   "cell_type": "code",
   "execution_count": 6,
   "id": "856fdc27-008e-45a1-a6b4-47dd8db5b78f",
   "metadata": {},
   "outputs": [
    {
     "data": {
      "text/plain": [
       "'Dhruv'"
      ]
     },
     "execution_count": 6,
     "metadata": {},
     "output_type": "execute_result"
    }
   ],
   "source": [
    "a[1]"
   ]
  },
  {
   "cell_type": "code",
   "execution_count": 7,
   "id": "29960828-64c2-4b27-89c4-2ca92927f2d2",
   "metadata": {},
   "outputs": [
    {
     "data": {
      "text/plain": [
       "'Ishika'"
      ]
     },
     "execution_count": 7,
     "metadata": {},
     "output_type": "execute_result"
    }
   ],
   "source": [
    "a[0]"
   ]
  },
  {
   "cell_type": "code",
   "execution_count": 8,
   "id": "83a925c7-d995-4275-a470-d598a68ccdaf",
   "metadata": {},
   "outputs": [
    {
     "data": {
      "text/plain": [
       "'Simarjeet'"
      ]
     },
     "execution_count": 8,
     "metadata": {},
     "output_type": "execute_result"
    }
   ],
   "source": [
    "a[-2]"
   ]
  },
  {
   "cell_type": "code",
   "execution_count": 9,
   "id": "ae1b1b15-607d-42ff-8289-b95d0bb9a911",
   "metadata": {},
   "outputs": [
    {
     "data": {
      "text/plain": [
       "['Dhruv', 'Mohit', 'Divyanshu', 'Simarjeet']"
      ]
     },
     "execution_count": 9,
     "metadata": {},
     "output_type": "execute_result"
    }
   ],
   "source": [
    "a[1:5]"
   ]
  },
  {
   "cell_type": "code",
   "execution_count": 10,
   "id": "7102ae68-e944-4513-baa4-cbe157938b60",
   "metadata": {},
   "outputs": [],
   "source": [
    "b=[10,10.0,'10',[10]]"
   ]
  },
  {
   "cell_type": "code",
   "execution_count": 11,
   "id": "049968e5-3178-43e9-b70a-e1601b9ed719",
   "metadata": {},
   "outputs": [
    {
     "name": "stdout",
     "output_type": "stream",
     "text": [
      "[10, 10.0, '10', [10]]\n"
     ]
    }
   ],
   "source": [
    "print(b)"
   ]
  },
  {
   "cell_type": "code",
   "execution_count": 12,
   "id": "b2d7446d-7fbc-4f2e-a304-24252f30d087",
   "metadata": {},
   "outputs": [
    {
     "name": "stdout",
     "output_type": "stream",
     "text": [
      "[]\n"
     ]
    }
   ],
   "source": [
    "a=list()\n",
    "print(a)"
   ]
  },
  {
   "cell_type": "code",
   "execution_count": 13,
   "id": "d51db24e-d816-474e-8348-1edb131b3e2c",
   "metadata": {},
   "outputs": [
    {
     "data": {
      "text/plain": [
       "0"
      ]
     },
     "execution_count": 13,
     "metadata": {},
     "output_type": "execute_result"
    }
   ],
   "source": [
    "len(a)"
   ]
  },
  {
   "cell_type": "code",
   "execution_count": 14,
   "id": "6cc1806b-3c02-498b-abb0-c337a7598f5d",
   "metadata": {},
   "outputs": [
    {
     "data": {
      "text/plain": [
       "4"
      ]
     },
     "execution_count": 14,
     "metadata": {},
     "output_type": "execute_result"
    }
   ],
   "source": [
    "len(b)"
   ]
  },
  {
   "cell_type": "code",
   "execution_count": 20,
   "id": "747ee834-2bdf-47b9-805f-9b4510569f55",
   "metadata": {},
   "outputs": [
    {
     "name": "stdout",
     "output_type": "stream",
     "text": [
      "<class 'list'>\n",
      "[]\n"
     ]
    }
   ],
   "source": [
    "b=[]\n",
    "print(type(b))\n",
    "print(b)"
   ]
  },
  {
   "cell_type": "code",
   "execution_count": 22,
   "id": "c03d1dd5-25da-469a-b654-b098871fa85e",
   "metadata": {},
   "outputs": [
    {
     "name": "stdout",
     "output_type": "stream",
     "text": [
      "[]\n",
      "<class 'str'>\n"
     ]
    }
   ],
   "source": [
    "c='[]'\n",
    "print(c)\n",
    "print(type(c))"
   ]
  },
  {
   "cell_type": "code",
   "execution_count": 25,
   "id": "12729f51-db6c-4ef5-80a2-45f5390fb690",
   "metadata": {},
   "outputs": [],
   "source": [
    "z=[1,2,3,4,5,6,[7,8,9,0],2,3,4]"
   ]
  },
  {
   "cell_type": "code",
   "execution_count": 26,
   "id": "5c7bc238-62ad-4298-ad4e-f50965cce349",
   "metadata": {},
   "outputs": [
    {
     "data": {
      "text/plain": [
       "10"
      ]
     },
     "execution_count": 26,
     "metadata": {},
     "output_type": "execute_result"
    }
   ],
   "source": [
    "len(z)"
   ]
  },
  {
   "cell_type": "code",
   "execution_count": 27,
   "id": "f0d6ad62-9ff5-4a07-9bcd-b0f06044baa3",
   "metadata": {},
   "outputs": [
    {
     "data": {
      "text/plain": [
       "[7, 8, 9, 0]"
      ]
     },
     "execution_count": 27,
     "metadata": {},
     "output_type": "execute_result"
    }
   ],
   "source": [
    "z[6]"
   ]
  },
  {
   "cell_type": "code",
   "execution_count": 28,
   "id": "74beda17-7200-4b11-a35b-5f732b370684",
   "metadata": {},
   "outputs": [
    {
     "data": {
      "text/plain": [
       "8"
      ]
     },
     "execution_count": 28,
     "metadata": {},
     "output_type": "execute_result"
    }
   ],
   "source": [
    "z[6][1]"
   ]
  },
  {
   "cell_type": "code",
   "execution_count": 29,
   "id": "d8be6c5b-f1cf-4e29-8af1-123a05154d66",
   "metadata": {},
   "outputs": [
    {
     "data": {
      "text/plain": [
       "[8, 9]"
      ]
     },
     "execution_count": 29,
     "metadata": {},
     "output_type": "execute_result"
    }
   ],
   "source": [
    "z[6][1:3]"
   ]
  },
  {
   "cell_type": "markdown",
   "id": "81a42657-4980-41a8-9369-13abfe6d42b6",
   "metadata": {},
   "source": [
    "# concatination"
   ]
  },
  {
   "cell_type": "code",
   "execution_count": 30,
   "id": "8816bb83-f376-497a-a1ff-609d0cc3fd9a",
   "metadata": {},
   "outputs": [
    {
     "data": {
      "text/plain": [
       "'krishnakumar'"
      ]
     },
     "execution_count": 30,
     "metadata": {},
     "output_type": "execute_result"
    }
   ],
   "source": [
    "\"krishna\"+\"kumar\"\n"
   ]
  },
  {
   "cell_type": "code",
   "execution_count": 32,
   "id": "01be8a31-1ba5-4b28-be2e-d2212c2ba389",
   "metadata": {},
   "outputs": [
    {
     "name": "stdout",
     "output_type": "stream",
     "text": [
      "krishnakumar\n"
     ]
    }
   ],
   "source": [
    "print(\"krishna\",\"kumar\",sep=\"\")"
   ]
  },
  {
   "cell_type": "code",
   "execution_count": 33,
   "id": "7fd463a2-51fd-440b-9e0a-0b1a6b3596c2",
   "metadata": {},
   "outputs": [
    {
     "name": "stdout",
     "output_type": "stream",
     "text": [
      "krishnakumar\n"
     ]
    }
   ],
   "source": [
    "print(\"krishna\"\"kumar\")"
   ]
  },
  {
   "cell_type": "markdown",
   "id": "90887231-4422-4eef-96a3-6e516bdaf7d2",
   "metadata": {},
   "source": [
    "# list concatination "
   ]
  },
  {
   "cell_type": "code",
   "execution_count": 37,
   "id": "9f96bd58-cf51-41db-9517-f05efc2e031b",
   "metadata": {},
   "outputs": [],
   "source": [
    "a=[1,2,3]\n",
    "b=[5,6,7]\n",
    "c=a+b"
   ]
  },
  {
   "cell_type": "code",
   "execution_count": 38,
   "id": "29e77592-5232-443e-85c4-adf93c5c4ba0",
   "metadata": {},
   "outputs": [
    {
     "data": {
      "text/plain": [
       "[1, 2, 3, 5, 6, 7]"
      ]
     },
     "execution_count": 38,
     "metadata": {},
     "output_type": "execute_result"
    }
   ],
   "source": [
    "c"
   ]
  },
  {
   "cell_type": "markdown",
   "id": "779fe45e-482b-4150-adc5-8ac07d37b2bb",
   "metadata": {},
   "source": [
    "# list methods."
   ]
  },
  {
   "cell_type": "code",
   "execution_count": 54,
   "id": "66454a81-7075-4782-9359-469dadaf11d2",
   "metadata": {},
   "outputs": [
    {
     "data": {
      "text/plain": [
       "2869957997632"
      ]
     },
     "execution_count": 54,
     "metadata": {},
     "output_type": "execute_result"
    }
   ],
   "source": [
    "a=[]\n",
    "id(a)"
   ]
  },
  {
   "cell_type": "code",
   "execution_count": 55,
   "id": "bc1077de-cc1b-433e-a3cf-61c99fd69416",
   "metadata": {},
   "outputs": [],
   "source": [
    "a.append(10)"
   ]
  },
  {
   "cell_type": "code",
   "execution_count": 56,
   "id": "c1d69254-7bb7-423e-a309-065bcc4fb254",
   "metadata": {},
   "outputs": [
    {
     "name": "stdout",
     "output_type": "stream",
     "text": [
      "[10]\n"
     ]
    }
   ],
   "source": [
    "print(a)"
   ]
  },
  {
   "cell_type": "code",
   "execution_count": 57,
   "id": "759d7974-8bbb-4f9b-b51b-5a8f6efd78b4",
   "metadata": {},
   "outputs": [
    {
     "data": {
      "text/plain": [
       "2869957997632"
      ]
     },
     "execution_count": 57,
     "metadata": {},
     "output_type": "execute_result"
    }
   ],
   "source": [
    "id(a)"
   ]
  },
  {
   "cell_type": "code",
   "execution_count": 58,
   "id": "7e87d010-2b73-4eb9-8b34-18fc148342be",
   "metadata": {},
   "outputs": [],
   "source": [
    "a.append(10.05)"
   ]
  },
  {
   "cell_type": "code",
   "execution_count": 59,
   "id": "410ef367-c78a-4eaa-a9dc-ab370ab631d3",
   "metadata": {},
   "outputs": [
    {
     "name": "stdout",
     "output_type": "stream",
     "text": [
      "[10, 10.05]\n"
     ]
    }
   ],
   "source": [
    "print(a)"
   ]
  },
  {
   "cell_type": "code",
   "execution_count": 60,
   "id": "2493549d-a685-4ba6-beef-09d60877b161",
   "metadata": {},
   "outputs": [
    {
     "data": {
      "text/plain": [
       "2869957997632"
      ]
     },
     "execution_count": 60,
     "metadata": {},
     "output_type": "execute_result"
    }
   ],
   "source": [
    "id(a)"
   ]
  },
  {
   "cell_type": "code",
   "execution_count": 61,
   "id": "1814c2e7-fdb3-485f-abd2-b64899f32a2f",
   "metadata": {},
   "outputs": [],
   "source": [
    "a.append([1,2,3,4])"
   ]
  },
  {
   "cell_type": "code",
   "execution_count": 62,
   "id": "388a1899-f8ef-470d-bbd3-2da27b5d2f63",
   "metadata": {},
   "outputs": [
    {
     "name": "stdout",
     "output_type": "stream",
     "text": [
      "[10, 10.05, [1, 2, 3, 4]]\n"
     ]
    }
   ],
   "source": [
    "print(a)"
   ]
  },
  {
   "cell_type": "code",
   "execution_count": 63,
   "id": "7a2bdf04-e81c-40c7-9d22-00a2afb3b798",
   "metadata": {},
   "outputs": [],
   "source": [
    "a.append(\"krishna\")"
   ]
  },
  {
   "cell_type": "code",
   "execution_count": 64,
   "id": "74125b90-14be-4213-8ea7-bde2c5f027ce",
   "metadata": {},
   "outputs": [
    {
     "name": "stdout",
     "output_type": "stream",
     "text": [
      "[10, 10.05, [1, 2, 3, 4], 'krishna']\n"
     ]
    }
   ],
   "source": [
    "print(a)"
   ]
  },
  {
   "cell_type": "code",
   "execution_count": 65,
   "id": "6a48b6f4-b9e1-4d7d-a1d7-19494ded50d6",
   "metadata": {},
   "outputs": [
    {
     "ename": "TypeError",
     "evalue": "'int' object is not iterable",
     "output_type": "error",
     "traceback": [
      "\u001b[1;31m---------------------------------------------------------------------------\u001b[0m",
      "\u001b[1;31mTypeError\u001b[0m                                 Traceback (most recent call last)",
      "Cell \u001b[1;32mIn[65], line 1\u001b[0m\n\u001b[1;32m----> 1\u001b[0m \u001b[43ma\u001b[49m\u001b[38;5;241;43m.\u001b[39;49m\u001b[43mextend\u001b[49m\u001b[43m(\u001b[49m\u001b[38;5;241;43m10\u001b[39;49m\u001b[43m)\u001b[49m\n",
      "\u001b[1;31mTypeError\u001b[0m: 'int' object is not iterable"
     ]
    }
   ],
   "source": [
    "a.extend(10)"
   ]
  },
  {
   "cell_type": "code",
   "execution_count": 66,
   "id": "0ebf8994-8906-4d18-bb56-5216d35bb5fc",
   "metadata": {},
   "outputs": [
    {
     "ename": "TypeError",
     "evalue": "'float' object is not iterable",
     "output_type": "error",
     "traceback": [
      "\u001b[1;31m---------------------------------------------------------------------------\u001b[0m",
      "\u001b[1;31mTypeError\u001b[0m                                 Traceback (most recent call last)",
      "Cell \u001b[1;32mIn[66], line 1\u001b[0m\n\u001b[1;32m----> 1\u001b[0m \u001b[43ma\u001b[49m\u001b[38;5;241;43m.\u001b[39;49m\u001b[43mextend\u001b[49m\u001b[43m(\u001b[49m\u001b[38;5;241;43m10.0\u001b[39;49m\u001b[43m)\u001b[49m\n",
      "\u001b[1;31mTypeError\u001b[0m: 'float' object is not iterable"
     ]
    }
   ],
   "source": [
    "a.extend(10.0)"
   ]
  },
  {
   "cell_type": "code",
   "execution_count": 67,
   "id": "85b3e840-fd8f-4f3b-a5ad-3d62d4cd914b",
   "metadata": {},
   "outputs": [
    {
     "name": "stdout",
     "output_type": "stream",
     "text": [
      "[10, 10.05, [1, 2, 3, 4], 'krishna']\n"
     ]
    }
   ],
   "source": [
    "print(a)"
   ]
  },
  {
   "cell_type": "code",
   "execution_count": 68,
   "id": "f6a8097e-d9ea-49b9-81ed-772f249fc0e8",
   "metadata": {},
   "outputs": [],
   "source": [
    "a.extend([1,2,3,4])"
   ]
  },
  {
   "cell_type": "code",
   "execution_count": 69,
   "id": "ea478816-0cd6-4758-b740-bbfa829d5730",
   "metadata": {},
   "outputs": [
    {
     "name": "stdout",
     "output_type": "stream",
     "text": [
      "[10, 10.05, [1, 2, 3, 4], 'krishna', 1, 2, 3, 4]\n"
     ]
    }
   ],
   "source": [
    "print(a)"
   ]
  },
  {
   "cell_type": "code",
   "execution_count": 70,
   "id": "2c1a4679-1793-430d-ba45-55a28a5e961f",
   "metadata": {},
   "outputs": [],
   "source": [
    "a.extend(\"krishna\")"
   ]
  },
  {
   "cell_type": "code",
   "execution_count": 71,
   "id": "791698ef-9a3b-4fad-8d52-976e4e90cdba",
   "metadata": {},
   "outputs": [
    {
     "name": "stdout",
     "output_type": "stream",
     "text": [
      "[10, 10.05, [1, 2, 3, 4], 'krishna', 1, 2, 3, 4, 'k', 'r', 'i', 's', 'h', 'n', 'a']\n"
     ]
    }
   ],
   "source": [
    "print(a)"
   ]
  },
  {
   "cell_type": "code",
   "execution_count": 72,
   "id": "d5e81b6f-2875-4ce2-b148-f865d5db3227",
   "metadata": {},
   "outputs": [],
   "source": [
    "a.insert(2,2000)  #index values, values"
   ]
  },
  {
   "cell_type": "code",
   "execution_count": 73,
   "id": "eb5d5407-c2d9-47d7-b381-e9d4a1496e24",
   "metadata": {},
   "outputs": [
    {
     "name": "stdout",
     "output_type": "stream",
     "text": [
      "[10, 10.05, 2000, [1, 2, 3, 4], 'krishna', 1, 2, 3, 4, 'k', 'r', 'i', 's', 'h', 'n', 'a']\n"
     ]
    }
   ],
   "source": [
    "print(a)"
   ]
  },
  {
   "cell_type": "code",
   "execution_count": 74,
   "id": "d2cbfa5a-ad21-4014-8768-a5cdd3ca265a",
   "metadata": {},
   "outputs": [
    {
     "data": {
      "text/plain": [
       "'a'"
      ]
     },
     "execution_count": 74,
     "metadata": {},
     "output_type": "execute_result"
    }
   ],
   "source": [
    "a.pop()"
   ]
  },
  {
   "cell_type": "code",
   "execution_count": 75,
   "id": "33fd57e0-9b12-4c82-8e71-f536f4ceaa36",
   "metadata": {},
   "outputs": [
    {
     "name": "stdout",
     "output_type": "stream",
     "text": [
      "[10, 10.05, 2000, [1, 2, 3, 4], 'krishna', 1, 2, 3, 4, 'k', 'r', 'i', 's', 'h', 'n']\n"
     ]
    }
   ],
   "source": [
    "print(a)"
   ]
  },
  {
   "cell_type": "code",
   "execution_count": 76,
   "id": "76df26b1-c87b-4ac0-a062-e7e9cbd836e3",
   "metadata": {},
   "outputs": [
    {
     "data": {
      "text/plain": [
       "2000"
      ]
     },
     "execution_count": 76,
     "metadata": {},
     "output_type": "execute_result"
    }
   ],
   "source": [
    "a.pop(2)"
   ]
  },
  {
   "cell_type": "code",
   "execution_count": 77,
   "id": "74731c6f-0e48-4940-ac2b-25d1551770a5",
   "metadata": {},
   "outputs": [
    {
     "name": "stdout",
     "output_type": "stream",
     "text": [
      "[10, 10.05, [1, 2, 3, 4], 'krishna', 1, 2, 3, 4, 'k', 'r', 'i', 's', 'h', 'n']\n"
     ]
    }
   ],
   "source": [
    "print(a)"
   ]
  },
  {
   "cell_type": "code",
   "execution_count": 78,
   "id": "695ad84d-b61a-4375-8281-116202278339",
   "metadata": {},
   "outputs": [],
   "source": [
    "a.remove([1,2,3,4])"
   ]
  },
  {
   "cell_type": "code",
   "execution_count": 79,
   "id": "61bccd41-66b8-4a1f-90c8-962689ed3fe0",
   "metadata": {},
   "outputs": [
    {
     "name": "stdout",
     "output_type": "stream",
     "text": [
      "[10, 10.05, 'krishna', 1, 2, 3, 4, 'k', 'r', 'i', 's', 'h', 'n']\n"
     ]
    }
   ],
   "source": [
    "print(a)"
   ]
  },
  {
   "cell_type": "code",
   "execution_count": 80,
   "id": "7200cb21-4cea-4123-b8c1-c13d02e8070f",
   "metadata": {},
   "outputs": [],
   "source": [
    "a.clear()"
   ]
  },
  {
   "cell_type": "code",
   "execution_count": 81,
   "id": "be363109-7757-4e73-83d0-0df728dd69c0",
   "metadata": {},
   "outputs": [
    {
     "name": "stdout",
     "output_type": "stream",
     "text": [
      "[]\n"
     ]
    }
   ],
   "source": [
    "print(a)"
   ]
  },
  {
   "cell_type": "code",
   "execution_count": 82,
   "id": "d6431715-24d1-44a1-9daf-e4ba452a4f71",
   "metadata": {},
   "outputs": [],
   "source": [
    "a.extend([3,423,2,34,5,65,76])"
   ]
  },
  {
   "cell_type": "code",
   "execution_count": 83,
   "id": "04cb64e1-7814-46cc-b973-9a1b9dcc0b21",
   "metadata": {},
   "outputs": [
    {
     "name": "stdout",
     "output_type": "stream",
     "text": [
      "[3, 423, 2, 34, 5, 65, 76]\n"
     ]
    }
   ],
   "source": [
    "print(a)"
   ]
  },
  {
   "cell_type": "code",
   "execution_count": 84,
   "id": "94f630e3-dd92-4c92-bee2-0cc1f8c64a2f",
   "metadata": {},
   "outputs": [],
   "source": [
    "a.sort()"
   ]
  },
  {
   "cell_type": "code",
   "execution_count": 85,
   "id": "9c08aa40-5324-4aeb-be53-42c976363ccc",
   "metadata": {},
   "outputs": [
    {
     "name": "stdout",
     "output_type": "stream",
     "text": [
      "[2, 3, 5, 34, 65, 76, 423]\n"
     ]
    }
   ],
   "source": [
    "print(a)"
   ]
  },
  {
   "cell_type": "code",
   "execution_count": 86,
   "id": "772f7e7c-c896-48e3-b92b-5076df1bf995",
   "metadata": {},
   "outputs": [],
   "source": [
    "a.sort(reverse=True)"
   ]
  },
  {
   "cell_type": "code",
   "execution_count": 87,
   "id": "78fdbe89-36bf-4ea2-94e4-779113bf9825",
   "metadata": {},
   "outputs": [
    {
     "name": "stdout",
     "output_type": "stream",
     "text": [
      "[423, 76, 65, 34, 5, 3, 2]\n"
     ]
    }
   ],
   "source": [
    "print(a)"
   ]
  },
  {
   "cell_type": "code",
   "execution_count": 88,
   "id": "ffb2f376-11c6-4fa0-90ae-e7fcf3441b83",
   "metadata": {},
   "outputs": [],
   "source": [
    "a.reverse()"
   ]
  },
  {
   "cell_type": "code",
   "execution_count": 89,
   "id": "8725d420-4454-49a0-a909-441c0e0a0113",
   "metadata": {},
   "outputs": [
    {
     "name": "stdout",
     "output_type": "stream",
     "text": [
      "[2, 3, 5, 34, 65, 76, 423]\n"
     ]
    }
   ],
   "source": [
    "print(a)"
   ]
  },
  {
   "cell_type": "code",
   "execution_count": 90,
   "id": "1a3ecb46-e1b5-44ab-a359-c2f20ea33919",
   "metadata": {},
   "outputs": [
    {
     "data": {
      "text/plain": [
       "1"
      ]
     },
     "execution_count": 90,
     "metadata": {},
     "output_type": "execute_result"
    }
   ],
   "source": [
    "a.count(3)"
   ]
  },
  {
   "cell_type": "code",
   "execution_count": 91,
   "id": "51305831-8c84-4455-b5a1-94d15aeef249",
   "metadata": {},
   "outputs": [
    {
     "data": {
      "text/plain": [
       "1"
      ]
     },
     "execution_count": 91,
     "metadata": {},
     "output_type": "execute_result"
    }
   ],
   "source": [
    "a.index(3)"
   ]
  },
  {
   "cell_type": "code",
   "execution_count": 92,
   "id": "89941bc1-52ba-42c6-ad83-72eba3f344a8",
   "metadata": {},
   "outputs": [],
   "source": [
    "a=[3,423,343,546,43232,54,32,545]"
   ]
  },
  {
   "cell_type": "code",
   "execution_count": 94,
   "id": "69b9ee8f-c473-48dd-8737-8c66d11e59ef",
   "metadata": {},
   "outputs": [],
   "source": [
    "a.sort(reverse=True)"
   ]
  },
  {
   "cell_type": "code",
   "execution_count": 95,
   "id": "b8865280-4795-438b-bc8f-89b02b5cff44",
   "metadata": {},
   "outputs": [
    {
     "name": "stdout",
     "output_type": "stream",
     "text": [
      "[43232, 546, 545, 423, 343, 54, 32, 3]\n"
     ]
    }
   ],
   "source": [
    "print(a)"
   ]
  },
  {
   "cell_type": "code",
   "execution_count": null,
   "id": "ab5b7454-8c8a-4dd1-bba7-1c38c5bd9aa8",
   "metadata": {},
   "outputs": [],
   "source": []
  }
 ],
 "metadata": {
  "kernelspec": {
   "display_name": "Python 3 (ipykernel)",
   "language": "python",
   "name": "python3"
  },
  "language_info": {
   "codemirror_mode": {
    "name": "ipython",
    "version": 3
   },
   "file_extension": ".py",
   "mimetype": "text/x-python",
   "name": "python",
   "nbconvert_exporter": "python",
   "pygments_lexer": "ipython3",
   "version": "3.10.9"
  }
 },
 "nbformat": 4,
 "nbformat_minor": 5
}
