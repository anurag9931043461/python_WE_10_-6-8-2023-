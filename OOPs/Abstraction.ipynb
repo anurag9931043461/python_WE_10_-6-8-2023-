{
 "cells": [
  {
   "cell_type": "raw",
   "id": "45de0fc1-69c2-4d61-ab5e-996c9f556bd7",
   "metadata": {},
   "source": [
    "Concrete class\n",
    "    \n",
    "    > we can create object of a class called concrete class.\n",
    "        \n",
    "Abstraction class:\n",
    "\n",
    "    > we cannot create object of a class called abstract class\n",
    "\n",
    "    > HOw to create abstract class:\n",
    "        \n",
    "        > inherite ABC as a parent class in child class\n",
    "\n",
    "        > at least on methods of child class must be abstract methods.\n",
    "        "
   ]
  },
  {
   "cell_type": "code",
   "execution_count": 7,
   "id": "045d1fea-931c-4dd9-aebd-c01577624ff7",
   "metadata": {},
   "outputs": [],
   "source": [
    "from abc import ABC,abstractmethod\n",
    "class Gomato(ABC):\n",
    "    @abstractmethod\n",
    "    def login(self):   #krishna\n",
    "        pass\n",
    "    @abstractmethod\n",
    "    def registration(self): #Sanjeev\n",
    "        pass\n",
    "    @abstractmethod\n",
    "    def delivery(self):   #Mohan\n",
    "        pass\n",
    "    @abstractmethod\n",
    "    def payment(self):    # Sohan\n",
    "        pass"
   ]
  },
  {
   "cell_type": "code",
   "execution_count": 8,
   "id": "7bc57470-138f-4cc9-b1ac-66d8dcafdba0",
   "metadata": {},
   "outputs": [
    {
     "ename": "TypeError",
     "evalue": "Can't instantiate abstract class Gomato with abstract methods delivery, login, payment, registration",
     "output_type": "error",
     "traceback": [
      "\u001b[1;31m---------------------------------------------------------------------------\u001b[0m",
      "\u001b[1;31mTypeError\u001b[0m                                 Traceback (most recent call last)",
      "Cell \u001b[1;32mIn[8], line 1\u001b[0m\n\u001b[1;32m----> 1\u001b[0m krishna\u001b[38;5;241m=\u001b[39m\u001b[43mGomato\u001b[49m\u001b[43m(\u001b[49m\u001b[43m)\u001b[49m\n",
      "\u001b[1;31mTypeError\u001b[0m: Can't instantiate abstract class Gomato with abstract methods delivery, login, payment, registration"
     ]
    }
   ],
   "source": [
    "krishna=Gomato()"
   ]
  },
  {
   "cell_type": "code",
   "execution_count": 9,
   "id": "6fdd7d83-47f6-4d3d-994c-8ab3ab7383e9",
   "metadata": {},
   "outputs": [],
   "source": [
    "from abc import ABC,abstractmethod\n",
    "class Gomato(ABC):\n",
    "    @abstractmethod\n",
    "    def login(self):   #krishna\n",
    "        pass\n",
    "    @abstractmethod\n",
    "    def registration(self): #Sanjeev\n",
    "        \\\n",
    "        \n",
    "    @abstractmethod\n",
    "    def delivery(self):   #Mohan\n",
    "        pass\n",
    "    @abstractmethod\n",
    "    def payment(self):    # Sohan\n",
    "        pass"
   ]
  },
  {
   "cell_type": "code",
   "execution_count": 12,
   "id": "6939f49b-d1bc-4ce3-84d0-a8a373789c69",
   "metadata": {},
   "outputs": [],
   "source": [
    "class GomatoLogin(Gomato):\n",
    "    \n",
    "    def login(self):   #krishna\n",
    "        print(\"Welcome to login system\")\n",
    "    def registration(self): #Sanjeev\n",
    "        pass\n",
    "    def delivery(self):   #Mohan\n",
    "        pass\n",
    "    def payment(self):    # Sohan\n",
    "        pass"
   ]
  },
  {
   "cell_type": "code",
   "execution_count": 14,
   "id": "ab480d80-5f0e-4800-8ec9-3be0abd7fab1",
   "metadata": {},
   "outputs": [],
   "source": [
    "krishna=GomatoLogin()"
   ]
  },
  {
   "cell_type": "code",
   "execution_count": 15,
   "id": "83c301f1-aa60-4ede-8372-9575f547bc03",
   "metadata": {},
   "outputs": [
    {
     "name": "stdout",
     "output_type": "stream",
     "text": [
      "Welcome to login system\n"
     ]
    }
   ],
   "source": [
    "krishna.login()"
   ]
  },
  {
   "cell_type": "code",
   "execution_count": null,
   "id": "6246db6a-c023-49ee-8d92-0a8e1ed1f3b3",
   "metadata": {},
   "outputs": [],
   "source": []
  }
 ],
 "metadata": {
  "kernelspec": {
   "display_name": "Python 3 (ipykernel)",
   "language": "python",
   "name": "python3"
  },
  "language_info": {
   "codemirror_mode": {
    "name": "ipython",
    "version": 3
   },
   "file_extension": ".py",
   "mimetype": "text/x-python",
   "name": "python",
   "nbconvert_exporter": "python",
   "pygments_lexer": "ipython3",
   "version": "3.11.5"
  }
 },
 "nbformat": 4,
 "nbformat_minor": 5
}
