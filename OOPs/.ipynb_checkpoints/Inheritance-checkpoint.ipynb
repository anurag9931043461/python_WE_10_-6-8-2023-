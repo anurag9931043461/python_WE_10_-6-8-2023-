{
 "cells": [
  {
   "cell_type": "code",
   "execution_count": 8,
   "id": "0cf08dfb-b7e6-4dfe-8d8b-792b398a552d",
   "metadata": {},
   "outputs": [],
   "source": [
    "class Login_reg:\n",
    "    def registration(self):\n",
    "        print(\"Welcome to registration system\")\n",
    "    def login(self):\n",
    "        print(\"Welcome to login system\")"
   ]
  },
  {
   "cell_type": "code",
   "execution_count": 9,
   "id": "a8fa4830-c64e-4658-b716-4e2feedf1770",
   "metadata": {},
   "outputs": [],
   "source": [
    "class Employer(Login_reg):\n",
    "    def advertise(self):\n",
    "        print(\"Welcome to advertisement section\")"
   ]
  },
  {
   "cell_type": "code",
   "execution_count": 13,
   "id": "c2b9abdd-67c4-4db3-b35f-c523a979bcd3",
   "metadata": {},
   "outputs": [],
   "source": [
    "class Employee(Login_reg):\n",
    "    def apply(self):\n",
    "        print(\"Welcome to advertisement section\")"
   ]
  },
  {
   "cell_type": "code",
   "execution_count": 14,
   "id": "15509513-fa5d-497c-899c-997ea3ae656a",
   "metadata": {},
   "outputs": [],
   "source": [
    "krishna=Employer()"
   ]
  },
  {
   "cell_type": "code",
   "execution_count": 15,
   "id": "e02f8a48-638c-4c5e-a8ee-953b1ebf69f8",
   "metadata": {},
   "outputs": [],
   "source": [
    "Tarun=Employee()"
   ]
  },
  {
   "cell_type": "code",
   "execution_count": 16,
   "id": "2184ab52-fd2e-426c-89eb-ca815fbf2d2e",
   "metadata": {},
   "outputs": [
    {
     "name": "stdout",
     "output_type": "stream",
     "text": [
      "Welcome to login system\n"
     ]
    }
   ],
   "source": [
    "Tarun.login()"
   ]
  },
  {
   "cell_type": "markdown",
   "id": "bb878417-5159-470b-b202-7fcd4451800e",
   "metadata": {},
   "source": [
    "# Single level Inheritance\n",
    "\n",
    "> only class inherite another class."
   ]
  },
  {
   "cell_type": "code",
   "execution_count": 1,
   "id": "ba5f218c-2855-4bad-a718-c95cc92458ce",
   "metadata": {},
   "outputs": [],
   "source": [
    "class A:\n",
    "    def __init__(self):\n",
    "        pass\n",
    "    def add(self,a,b):\n",
    "        print(a+b)"
   ]
  },
  {
   "cell_type": "code",
   "execution_count": 4,
   "id": "3de86c12-d7ac-410e-be2e-3138d4ff97ff",
   "metadata": {},
   "outputs": [],
   "source": [
    "class B(A):\n",
    "    def sub(self,a,b):\n",
    "        print(a-b)"
   ]
  },
  {
   "cell_type": "code",
   "execution_count": 5,
   "id": "16bd3cbf-85dd-4da9-937a-b38c64eedad6",
   "metadata": {},
   "outputs": [],
   "source": [
    "calc=B()"
   ]
  },
  {
   "cell_type": "code",
   "execution_count": 6,
   "id": "297dc9a4-e46b-46ac-aa60-cf9187b2b11e",
   "metadata": {},
   "outputs": [
    {
     "name": "stdout",
     "output_type": "stream",
     "text": [
      "30\n"
     ]
    }
   ],
   "source": [
    "calc.add(10,20)"
   ]
  },
  {
   "cell_type": "code",
   "execution_count": 7,
   "id": "88f3ff54-909a-4165-8c51-6d7ab5f2a916",
   "metadata": {},
   "outputs": [
    {
     "name": "stdout",
     "output_type": "stream",
     "text": [
      "-10\n"
     ]
    }
   ],
   "source": [
    "calc.sub(10,20)"
   ]
  },
  {
   "cell_type": "markdown",
   "id": "13200e48-5b4a-41bc-9699-f4a1a2317448",
   "metadata": {},
   "source": [
    "# multi level inheritance\n",
    "\n",
    "> more then two class inheriting level wise"
   ]
  },
  {
   "cell_type": "code",
   "execution_count": 13,
   "id": "cee397c4-96d7-4ca0-97d2-aa740635a489",
   "metadata": {},
   "outputs": [],
   "source": [
    "class A:\n",
    "    def add(self,a,b):\n",
    "        print(a+b)\n",
    "class B(A):\n",
    "    def sub(self,a,b):\n",
    "        print(a-b)\n",
    "class C(B):\n",
    "    def div(self,a,b):\n",
    "        print(a/b)"
   ]
  },
  {
   "cell_type": "code",
   "execution_count": 14,
   "id": "1e983d06-d6e6-45a9-8517-f679fda553d7",
   "metadata": {},
   "outputs": [],
   "source": [
    "calc=C()"
   ]
  },
  {
   "cell_type": "code",
   "execution_count": 15,
   "id": "dc189a29-99df-4bf3-be10-9ef0ddd3e120",
   "metadata": {},
   "outputs": [
    {
     "name": "stdout",
     "output_type": "stream",
     "text": [
      "30\n"
     ]
    }
   ],
   "source": [
    "calc.add(10,20)"
   ]
  },
  {
   "cell_type": "code",
   "execution_count": 16,
   "id": "59c9e666-0a58-447b-959c-9ab8e9e21b75",
   "metadata": {},
   "outputs": [
    {
     "name": "stdout",
     "output_type": "stream",
     "text": [
      "0.5\n"
     ]
    }
   ],
   "source": [
    "calc.div(10,20)"
   ]
  },
  {
   "cell_type": "code",
   "execution_count": 17,
   "id": "0bdfb5fa-7852-42f0-a526-e6bf3b9b920c",
   "metadata": {},
   "outputs": [
    {
     "name": "stdout",
     "output_type": "stream",
     "text": [
      "-10\n"
     ]
    }
   ],
   "source": [
    "calc.sub(10,20)"
   ]
  },
  {
   "cell_type": "markdown",
   "id": "9ccd4e9a-f4d7-4be5-b093-d9e109fe08ec",
   "metadata": {},
   "source": [
    "# Multiple inheritance\n",
    "\n",
    "> One child class and multiple parent class"
   ]
  },
  {
   "cell_type": "code",
   "execution_count": 31,
   "id": "383319e9-586f-48fe-90ba-6c01b45888a6",
   "metadata": {},
   "outputs": [],
   "source": [
    "class Mom:\n",
    "    def jewellery(self):\n",
    "        print(\"Mom has jewellery\")\n",
    "class Dad:\n",
    "    def house(self):\n",
    "        print(\"Dad has a house\")"
   ]
  },
  {
   "cell_type": "code",
   "execution_count": 32,
   "id": "dafd76da-3592-46b7-97f4-9ea965aac946",
   "metadata": {},
   "outputs": [],
   "source": [
    "class Child(Dad,Mom):\n",
    "    def toy(self):\n",
    "        print(\"Child has a toy car\")\n",
    "    "
   ]
  },
  {
   "cell_type": "code",
   "execution_count": 33,
   "id": "8c2df415-91a7-4bd4-b37c-367eee1098ff",
   "metadata": {},
   "outputs": [],
   "source": [
    "krishna=Child()"
   ]
  },
  {
   "cell_type": "code",
   "execution_count": 34,
   "id": "a1b85492-b152-4595-97b2-d31a77ee7305",
   "metadata": {},
   "outputs": [
    {
     "name": "stdout",
     "output_type": "stream",
     "text": [
      "Child has a toy car\n"
     ]
    }
   ],
   "source": [
    "krishna.toy()"
   ]
  },
  {
   "cell_type": "code",
   "execution_count": 35,
   "id": "8d4865d3-d532-4885-a0c6-6d4ff3d9124e",
   "metadata": {},
   "outputs": [
    {
     "name": "stdout",
     "output_type": "stream",
     "text": [
      "Dad has a house\n"
     ]
    }
   ],
   "source": [
    "krishna.house()"
   ]
  },
  {
   "cell_type": "code",
   "execution_count": 36,
   "id": "cb9376a7-5aa7-4235-9132-fd567d72320d",
   "metadata": {},
   "outputs": [
    {
     "name": "stdout",
     "output_type": "stream",
     "text": [
      "Mom has jewellery\n"
     ]
    }
   ],
   "source": [
    "krishna.jewellery()"
   ]
  },
  {
   "cell_type": "markdown",
   "id": "a39104d0-7548-4434-a535-73812f3fb158",
   "metadata": {},
   "source": [
    "# Hirarchichal inheritance\n",
    "\n",
    "> one parent class and multiple child class"
   ]
  },
  {
   "cell_type": "code",
   "execution_count": 37,
   "id": "af59778f-c863-405a-be2e-1dd5c6428e79",
   "metadata": {},
   "outputs": [],
   "source": [
    "class Papa:\n",
    "    def house(self):\n",
    "        print(\"Father has a house\")"
   ]
  },
  {
   "cell_type": "code",
   "execution_count": 42,
   "id": "0de6fce0-6cff-449c-9cc8-9d57ef161680",
   "metadata": {},
   "outputs": [],
   "source": [
    "class Chintu(Papa):\n",
    "    pass"
   ]
  },
  {
   "cell_type": "code",
   "execution_count": 48,
   "id": "f4fd8d2e-0ef4-40f0-8af3-40ca5e33859e",
   "metadata": {},
   "outputs": [],
   "source": [
    "class Pintu(Papa):\n",
    "    pass"
   ]
  },
  {
   "cell_type": "code",
   "execution_count": 52,
   "id": "5bbaab3e-d453-4a92-9aac-792032c412c1",
   "metadata": {},
   "outputs": [],
   "source": [
    "class Mintu(Papa):\n",
    "    pass"
   ]
  },
  {
   "cell_type": "code",
   "execution_count": 53,
   "id": "31f1301b-e441-44f7-bb45-67300aa4c3c3",
   "metadata": {},
   "outputs": [],
   "source": [
    "son=Chintu()"
   ]
  },
  {
   "cell_type": "code",
   "execution_count": 54,
   "id": "71f9d5cf-ced6-4804-995e-8a73ee7cdcb4",
   "metadata": {},
   "outputs": [
    {
     "name": "stdout",
     "output_type": "stream",
     "text": [
      "Father has a house\n"
     ]
    }
   ],
   "source": [
    "son.house()"
   ]
  },
  {
   "cell_type": "code",
   "execution_count": 55,
   "id": "2f018b33-ebbe-4a88-ad09-abd52f06d42b",
   "metadata": {},
   "outputs": [],
   "source": [
    "son1=Pintu()"
   ]
  },
  {
   "cell_type": "code",
   "execution_count": 56,
   "id": "9449220d-958c-47d7-8ae9-9f1606bebaeb",
   "metadata": {},
   "outputs": [
    {
     "name": "stdout",
     "output_type": "stream",
     "text": [
      "Father has a house\n"
     ]
    }
   ],
   "source": [
    "son1.house()"
   ]
  },
  {
   "cell_type": "code",
   "execution_count": 57,
   "id": "8423c3a2-1145-4862-af6d-32f816592a9b",
   "metadata": {},
   "outputs": [],
   "source": [
    "son2=Mintu()"
   ]
  },
  {
   "cell_type": "code",
   "execution_count": 59,
   "id": "eb44ebe0-86b5-4a2a-8559-b6b9b87910c3",
   "metadata": {},
   "outputs": [
    {
     "name": "stdout",
     "output_type": "stream",
     "text": [
      "Father has a house\n"
     ]
    }
   ],
   "source": [
    "son2.house()"
   ]
  },
  {
   "cell_type": "markdown",
   "id": "ae87a4bd-32b4-4fad-b2df-ba66065dc1bb",
   "metadata": {},
   "source": [
    "# hybrid inheritance"
   ]
  },
  {
   "cell_type": "code",
   "execution_count": 64,
   "id": "869cd993-0c4e-4982-92af-6cf34b3e8db4",
   "metadata": {},
   "outputs": [],
   "source": [
    "class C:\n",
    "    def Rajdoot(self):\n",
    "        print(\"Rajdoot bike\")\n",
    "class B(C):\n",
    "    def RX100(self):\n",
    "        print(\"Yamaha RX100\")\n",
    "class D:\n",
    "    def MH(self):\n",
    "        print(\"Ambassador car\")\n",
    "class A(B,D):\n",
    "    def Harley(self):\n",
    "        print(\"Roadset Harley\")"
   ]
  },
  {
   "cell_type": "code",
   "execution_count": 65,
   "id": "bbaa8d97-538c-40d9-b558-519f664e4d45",
   "metadata": {},
   "outputs": [],
   "source": [
    "krishna=A()"
   ]
  },
  {
   "cell_type": "code",
   "execution_count": 67,
   "id": "b13a89b6-230e-4384-a23a-0cb0935fb984",
   "metadata": {},
   "outputs": [
    {
     "name": "stdout",
     "output_type": "stream",
     "text": [
      "Roadset Harley\n"
     ]
    }
   ],
   "source": [
    "krishna.Harley()"
   ]
  },
  {
   "cell_type": "markdown",
   "id": "b9207375-333b-4c84-a47e-59409a6a689d",
   "metadata": {},
   "source": [
    "# Overriding in inheritiance"
   ]
  },
  {
   "cell_type": "code",
   "execution_count": 71,
   "id": "a3b24d8f-6807-491f-b761-fb6580275ae4",
   "metadata": {},
   "outputs": [],
   "source": [
    "class Grandfather:\n",
    "    def money(self):\n",
    "        print(\"Grandfather give money\")\n",
    "class Mom:\n",
    "    def money(self):\n",
    "        print(\"Mom give money\")\n",
    "\n",
    "class Father:\n",
    "    def money(self):\n",
    "        print(\"Father give money\")"
   ]
  },
  {
   "cell_type": "code",
   "execution_count": 81,
   "id": "c4a321e7-2893-4bf1-b359-967cba35ff80",
   "metadata": {},
   "outputs": [],
   "source": [
    "class Child(Grandfather,Mom,Father):\n",
    "    def girlfriend_expense(self):\n",
    "        print(\"Had a girlfriend\")\n",
    "    "
   ]
  },
  {
   "cell_type": "code",
   "execution_count": 82,
   "id": "b3745e40-4a03-473f-9b39-7ce91026f8c6",
   "metadata": {},
   "outputs": [],
   "source": [
    "Sanjeev=Child()"
   ]
  },
  {
   "cell_type": "code",
   "execution_count": 83,
   "id": "d9b6f9fd-90c1-4c6c-91f6-2df8e85aa7b4",
   "metadata": {},
   "outputs": [
    {
     "name": "stdout",
     "output_type": "stream",
     "text": [
      "Grandfather give money\n"
     ]
    }
   ],
   "source": [
    "Sanjeev.money()"
   ]
  },
  {
   "cell_type": "code",
   "execution_count": null,
   "id": "9d724732-1f63-44ce-b915-20780d694f65",
   "metadata": {},
   "outputs": [],
   "source": []
  },
  {
   "cell_type": "code",
   "execution_count": null,
   "id": "893f3369-0105-418a-ba75-25775e0f5f9c",
   "metadata": {},
   "outputs": [],
   "source": []
  }
 ],
 "metadata": {
  "kernelspec": {
   "display_name": "Python 3 (ipykernel)",
   "language": "python",
   "name": "python3"
  },
  "language_info": {
   "codemirror_mode": {
    "name": "ipython",
    "version": 3
   },
   "file_extension": ".py",
   "mimetype": "text/x-python",
   "name": "python",
   "nbconvert_exporter": "python",
   "pygments_lexer": "ipython3",
   "version": "3.11.5"
  }
 },
 "nbformat": 4,
 "nbformat_minor": 5
}
