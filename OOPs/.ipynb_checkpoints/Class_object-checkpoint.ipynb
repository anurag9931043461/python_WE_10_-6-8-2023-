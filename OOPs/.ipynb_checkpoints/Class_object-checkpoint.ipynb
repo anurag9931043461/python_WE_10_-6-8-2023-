{
 "cells": [
  {
   "cell_type": "code",
   "execution_count": 14,
   "id": "0be32c06-ab0e-44c6-98e7-351f570cf650",
   "metadata": {},
   "outputs": [],
   "source": [
    "class TajMahal:\n",
    "    def __init__(self):  #constructor\n",
    "        self.piller=4\n",
    "        self.tomb=1\n",
    "        self.marble=\"red shine stone\"\n",
    "        self.base=\"Wood\"\n",
    "        print(\"id of self\",id(self))\n",
    "    "
   ]
  },
  {
   "cell_type": "code",
   "execution_count": 16,
   "id": "ac1f34e6-7a0a-4dc2-8964-7528ae8d7698",
   "metadata": {},
   "outputs": [
    {
     "name": "stdout",
     "output_type": "stream",
     "text": [
      "id of self 1843710352272\n",
      "1843710352272\n"
     ]
    }
   ],
   "source": [
    "Agra=TajMahal()\n",
    "print(id(Agra))"
   ]
  },
  {
   "cell_type": "code",
   "execution_count": 18,
   "id": "3a11e2d9-d5f6-4c91-afdb-e00083a6c4e7",
   "metadata": {},
   "outputs": [
    {
     "name": "stdout",
     "output_type": "stream",
     "text": [
      "id of self 1843706786512\n",
      "1843706786512\n"
     ]
    }
   ],
   "source": [
    "Mehtab=TajMahal()\n",
    "print(id(Mehtab))"
   ]
  },
  {
   "cell_type": "code",
   "execution_count": 10,
   "id": "563aa081-8c61-4b9c-9c70-854df91faef0",
   "metadata": {},
   "outputs": [
    {
     "data": {
      "text/plain": [
       "'Wood'"
      ]
     },
     "execution_count": 10,
     "metadata": {},
     "output_type": "execute_result"
    }
   ],
   "source": [
    "Mehtab.base"
   ]
  },
  {
   "cell_type": "code",
   "execution_count": 11,
   "id": "d9fe7bd5-c1f2-422a-a260-d05205e273b4",
   "metadata": {},
   "outputs": [
    {
     "data": {
      "text/plain": [
       "'red shine stone'"
      ]
     },
     "execution_count": 11,
     "metadata": {},
     "output_type": "execute_result"
    }
   ],
   "source": [
    "Mehtab.marble"
   ]
  },
  {
   "cell_type": "code",
   "execution_count": 12,
   "id": "cd29f123-fed1-429d-b552-76562306c66a",
   "metadata": {},
   "outputs": [
    {
     "data": {
      "text/plain": [
       "4"
      ]
     },
     "execution_count": 12,
     "metadata": {},
     "output_type": "execute_result"
    }
   ],
   "source": [
    "Mehtab.piller"
   ]
  },
  {
   "cell_type": "code",
   "execution_count": 13,
   "id": "eb8f8326-7cec-471b-8d0d-9c6c023c497c",
   "metadata": {},
   "outputs": [
    {
     "data": {
      "text/plain": [
       "1"
      ]
     },
     "execution_count": 13,
     "metadata": {},
     "output_type": "execute_result"
    }
   ],
   "source": [
    "Mehtab.tomb"
   ]
  },
  {
   "cell_type": "code",
   "execution_count": 22,
   "id": "5d52005d-42d7-4d92-8ff5-3e31875ba7c3",
   "metadata": {},
   "outputs": [
    {
     "name": "stdout",
     "output_type": "stream",
     "text": [
      "id of self 1843710586768\n"
     ]
    }
   ],
   "source": [
    "veronica=TajMahal()"
   ]
  },
  {
   "cell_type": "code",
   "execution_count": 25,
   "id": "dacd354e-1cac-4fb9-975e-2afc0c79c6c0",
   "metadata": {},
   "outputs": [],
   "source": [
    "veronica.piller=2"
   ]
  },
  {
   "cell_type": "code",
   "execution_count": 26,
   "id": "062b0603-bf04-497b-bab3-70b6093909c9",
   "metadata": {},
   "outputs": [
    {
     "data": {
      "text/plain": [
       "2"
      ]
     },
     "execution_count": 26,
     "metadata": {},
     "output_type": "execute_result"
    }
   ],
   "source": [
    "veronica.piller"
   ]
  },
  {
   "cell_type": "code",
   "execution_count": 28,
   "id": "cb133c60-0d42-4eb8-b8e8-d24edfd06b2e",
   "metadata": {},
   "outputs": [],
   "source": [
    "veronica.tomb=0"
   ]
  },
  {
   "cell_type": "code",
   "execution_count": 29,
   "id": "28e31210-7d56-418a-9048-44fabab96933",
   "metadata": {},
   "outputs": [
    {
     "data": {
      "text/plain": [
       "0"
      ]
     },
     "execution_count": 29,
     "metadata": {},
     "output_type": "execute_result"
    }
   ],
   "source": [
    "veronica.tomb"
   ]
  },
  {
   "cell_type": "code",
   "execution_count": 32,
   "id": "f0a0f541-c3c5-49e8-986b-d8ebe64c7890",
   "metadata": {},
   "outputs": [],
   "source": [
    "veronica.base=\"steel\""
   ]
  },
  {
   "cell_type": "code",
   "execution_count": 33,
   "id": "b7c5e4d6-4be2-4560-acbf-bc0829476372",
   "metadata": {},
   "outputs": [],
   "source": [
    "veronica.marble=\"PoP\""
   ]
  },
  {
   "cell_type": "code",
   "execution_count": 34,
   "id": "111ca87c-ded8-45b6-a921-5bd1cbd05d9b",
   "metadata": {},
   "outputs": [
    {
     "name": "stdout",
     "output_type": "stream",
     "text": [
      "id of self 1843681484176\n"
     ]
    }
   ],
   "source": [
    "Tom=TajMahal()"
   ]
  },
  {
   "cell_type": "code",
   "execution_count": 39,
   "id": "f98a19b2-a531-46cc-9f40-6ba8e503d20f",
   "metadata": {},
   "outputs": [],
   "source": [
    "Tom.base=\"concrete\""
   ]
  },
  {
   "cell_type": "code",
   "execution_count": 40,
   "id": "57099d2f-83a5-4f1e-8618-9e0d50ee8168",
   "metadata": {},
   "outputs": [],
   "source": [
    "Tom.marble=\"white wash\""
   ]
  },
  {
   "cell_type": "code",
   "execution_count": 41,
   "id": "75b0ea35-be01-4220-9b66-73a182a9386f",
   "metadata": {},
   "outputs": [],
   "source": [
    "Tom.piller=0"
   ]
  },
  {
   "cell_type": "code",
   "execution_count": 42,
   "id": "f0e77644-81d9-44c2-af27-2252136fa2a7",
   "metadata": {},
   "outputs": [],
   "source": [
    "Tom.tomb=\"tomb without metal\""
   ]
  },
  {
   "cell_type": "code",
   "execution_count": 43,
   "id": "619683bf-bb0a-4200-9c53-1beeba113a2a",
   "metadata": {},
   "outputs": [
    {
     "data": {
      "text/plain": [
       "'steel'"
      ]
     },
     "execution_count": 43,
     "metadata": {},
     "output_type": "execute_result"
    }
   ],
   "source": [
    "veronica.base"
   ]
  },
  {
   "cell_type": "code",
   "execution_count": 44,
   "id": "12867679-8e81-4cd7-9374-e90c1e384fbe",
   "metadata": {},
   "outputs": [
    {
     "data": {
      "text/plain": [
       "'concrete'"
      ]
     },
     "execution_count": 44,
     "metadata": {},
     "output_type": "execute_result"
    }
   ],
   "source": [
    "Tom.base"
   ]
  },
  {
   "cell_type": "code",
   "execution_count": null,
   "id": "050e564b-7d55-4d57-8e1a-fc8392d524b3",
   "metadata": {},
   "outputs": [],
   "source": []
  }
 ],
 "metadata": {
  "kernelspec": {
   "display_name": "Python 3 (ipykernel)",
   "language": "python",
   "name": "python3"
  },
  "language_info": {
   "codemirror_mode": {
    "name": "ipython",
    "version": 3
   },
   "file_extension": ".py",
   "mimetype": "text/x-python",
   "name": "python",
   "nbconvert_exporter": "python",
   "pygments_lexer": "ipython3",
   "version": "3.11.5"
  }
 },
 "nbformat": 4,
 "nbformat_minor": 5
}
