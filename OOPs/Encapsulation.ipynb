{
 "cells": [
  {
   "cell_type": "code",
   "execution_count": 27,
   "id": "a279b035-adb8-4956-aea9-4760d11e3412",
   "metadata": {},
   "outputs": [],
   "source": [
    "class Email:\n",
    "    def __init__(self):\n",
    "        self.__first_name=\"name\"\n",
    "        self.__last_name=\"last name\"\n",
    "        self.__user_name=\"abc@gmail.com\"\n",
    "        self.__password=\"123@\"\n",
    "    def __registration(self):\n",
    "        fname=input(\"Enter your first name:\")\n",
    "        self.__first_name=fname\n",
    "        lname=input(\"Enter your last name:\")\n",
    "        self.__last_name=lname\n",
    "        user_name=input(\"Enter kindly enter a unique username:\")\n",
    "        self.__user_name=user_name\n",
    "        password=input(\"Enter your password:\")\n",
    "        self.__password=password\n",
    "        \n",
    "    def login(self):\n",
    "        user_id=input(\"Enter your user name:\")\n",
    "        user_password=input(\"Enter you password:\")\n",
    "        if user_id==self.__user_name and user_password==self.__password:\n",
    "            print(f\"hi {self.__first_name}\")\n",
    "            print(\"Login successful\")\n",
    "        else:\n",
    "            print(\"Invalid credential\")"
   ]
  },
  {
   "cell_type": "code",
   "execution_count": 28,
   "id": "d47ae5e1-f2cb-41c6-b817-094778f5b1ea",
   "metadata": {},
   "outputs": [],
   "source": [
    "krishna=Email()"
   ]
  },
  {
   "cell_type": "code",
   "execution_count": 30,
   "id": "34689e28-a89f-4ddb-9418-94f58b2bde2a",
   "metadata": {},
   "outputs": [
    {
     "name": "stdin",
     "output_type": "stream",
     "text": [
      "Enter your first name: Krishna\n",
      "Enter your last name: Kumar\n",
      "Enter kindly enter a unique username: nnkrishna714@gmail.com\n",
      "Enter your password: Krishna123@\n"
     ]
    }
   ],
   "source": [
    "krishna._Email__registration()"
   ]
  },
  {
   "cell_type": "code",
   "execution_count": 31,
   "id": "d4eb3cd4-499e-461f-8476-537466cd9731",
   "metadata": {},
   "outputs": [
    {
     "name": "stdin",
     "output_type": "stream",
     "text": [
      "Enter your user name: nnkrishna714@gmail.com\n",
      "Enter you password: Krishna123@\n"
     ]
    },
    {
     "name": "stdout",
     "output_type": "stream",
     "text": [
      "hi Krishna\n",
      "Login successful\n"
     ]
    }
   ],
   "source": [
    "krishna.login()"
   ]
  },
  {
   "cell_type": "code",
   "execution_count": 14,
   "id": "0d7221dc-be47-4948-a67d-8d93e09ce130",
   "metadata": {},
   "outputs": [
    {
     "name": "stdin",
     "output_type": "stream",
     "text": [
      "Enter your first name: Krishna\n",
      "Enter your last name: Kumar\n",
      "Enter kindly enter a unique username: nnkrishna714@gmail.com\n",
      "Enter your password: Krishna123@\n"
     ]
    }
   ],
   "source": [
    "krishna.registration()"
   ]
  },
  {
   "cell_type": "code",
   "execution_count": 16,
   "id": "d86d0dea-1fc0-4c66-a0e1-1640363e224d",
   "metadata": {},
   "outputs": [
    {
     "name": "stdin",
     "output_type": "stream",
     "text": [
      "Enter your user name: nnkrishna714@gmail.com\n",
      "Enter you password: Krishna123@\n"
     ]
    },
    {
     "name": "stdout",
     "output_type": "stream",
     "text": [
      "hi Krishna\n",
      "Login successful\n"
     ]
    }
   ],
   "source": [
    "krishna.login()"
   ]
  },
  {
   "cell_type": "code",
   "execution_count": 17,
   "id": "1fd0d94b-55e0-4740-8ffb-003be3bdd254",
   "metadata": {},
   "outputs": [
    {
     "data": {
      "text/plain": [
       "'Krishna123@'"
      ]
     },
     "execution_count": 17,
     "metadata": {},
     "output_type": "execute_result"
    }
   ],
   "source": [
    "krishna.password"
   ]
  },
  {
   "cell_type": "code",
   "execution_count": 25,
   "id": "a4ac421c-58cf-4dc9-a54b-12dd194dea1e",
   "metadata": {},
   "outputs": [
    {
     "data": {
      "text/plain": [
       "'name'"
      ]
     },
     "execution_count": 25,
     "metadata": {},
     "output_type": "execute_result"
    }
   ],
   "source": [
    "krishna._Email__first_name"
   ]
  },
  {
   "cell_type": "code",
   "execution_count": 26,
   "id": "e4db4840-289b-4d6a-a110-7ae4d049fe6b",
   "metadata": {},
   "outputs": [
    {
     "ename": "AttributeError",
     "evalue": "'Email' object has no attribute '__first_name'",
     "output_type": "error",
     "traceback": [
      "\u001b[1;31m---------------------------------------------------------------------------\u001b[0m",
      "\u001b[1;31mAttributeError\u001b[0m                            Traceback (most recent call last)",
      "Cell \u001b[1;32mIn[26], line 1\u001b[0m\n\u001b[1;32m----> 1\u001b[0m \u001b[43mkrishna\u001b[49m\u001b[38;5;241;43m.\u001b[39;49m\u001b[43m__first_name\u001b[49m\n",
      "\u001b[1;31mAttributeError\u001b[0m: 'Email' object has no attribute '__first_name'"
     ]
    }
   ],
   "source": [
    "krishna.__first_name"
   ]
  },
  {
   "cell_type": "code",
   "execution_count": null,
   "id": "dd516536-ccef-41fb-b3b4-d0c01366c16c",
   "metadata": {},
   "outputs": [],
   "source": []
  }
 ],
 "metadata": {
  "kernelspec": {
   "display_name": "Python 3 (ipykernel)",
   "language": "python",
   "name": "python3"
  },
  "language_info": {
   "codemirror_mode": {
    "name": "ipython",
    "version": 3
   },
   "file_extension": ".py",
   "mimetype": "text/x-python",
   "name": "python",
   "nbconvert_exporter": "python",
   "pygments_lexer": "ipython3",
   "version": "3.11.5"
  }
 },
 "nbformat": 4,
 "nbformat_minor": 5
}
