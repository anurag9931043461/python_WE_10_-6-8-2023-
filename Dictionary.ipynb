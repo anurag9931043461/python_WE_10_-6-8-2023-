{
 "cells": [
  {
   "cell_type": "markdown",
   "id": "4c1a600d-6242-4c5d-8075-4468dc6141a5",
   "metadata": {},
   "source": [
    "# dictonary\n",
    "\n",
    "> dictionary constructor is dict()\n",
    "\n",
    "> dictionary literal is {}\n",
    "\n",
    "> dictionary is a combination of key and value pair called item\n",
    "\n",
    "> dictionary key must be immutable datatype \n",
    "\n",
    "> dictionary value may or may not be immutable datatype.\n",
    "\n",
    "> dictionary support indexing \n",
    "\n",
    "> dictionary doesnot support slicing\n",
    "\n",
    "> dictionary doesnot support concatination\n",
    "\n",
    "> dictionary key must be unique\n",
    "\n",
    "> dictionary support nested dictionary\n",
    "\n",
    "> dictionary methods."
   ]
  },
  {
   "cell_type": "code",
   "execution_count": 1,
   "id": "8c607b21-3af5-4cab-83e7-c0e635168d2c",
   "metadata": {},
   "outputs": [],
   "source": [
    "a={1:\"krishna\",3:\"Mohan\",5:\"Shyam\",2:'abc'}"
   ]
  },
  {
   "cell_type": "code",
   "execution_count": 2,
   "id": "3c35b0d5-cac6-4d7d-a11c-c774226b5ff9",
   "metadata": {},
   "outputs": [
    {
     "name": "stdout",
     "output_type": "stream",
     "text": [
      "{1: 'krishna', 3: 'Mohan', 5: 'Shyam', 2: 'abc'}\n"
     ]
    }
   ],
   "source": [
    "print(a)"
   ]
  },
  {
   "cell_type": "code",
   "execution_count": 4,
   "id": "7a009d4b-4b6e-4485-9218-22a57b48aa1a",
   "metadata": {},
   "outputs": [
    {
     "name": "stdout",
     "output_type": "stream",
     "text": [
      "<class 'dict'>\n"
     ]
    }
   ],
   "source": [
    "print(type(a))"
   ]
  },
  {
   "cell_type": "code",
   "execution_count": 5,
   "id": "74f6aebb-edf7-44fd-89ce-ba887b68d131",
   "metadata": {},
   "outputs": [
    {
     "data": {
      "text/plain": [
       "dict_keys([1, 3, 5, 2])"
      ]
     },
     "execution_count": 5,
     "metadata": {},
     "output_type": "execute_result"
    }
   ],
   "source": [
    "a.keys()"
   ]
  },
  {
   "cell_type": "code",
   "execution_count": 6,
   "id": "259f334c-4490-44d2-b85e-22a60d4e57bb",
   "metadata": {},
   "outputs": [
    {
     "data": {
      "text/plain": [
       "dict_values(['krishna', 'Mohan', 'Shyam', 'abc'])"
      ]
     },
     "execution_count": 6,
     "metadata": {},
     "output_type": "execute_result"
    }
   ],
   "source": [
    "a.values()"
   ]
  },
  {
   "cell_type": "code",
   "execution_count": 7,
   "id": "739dfbc7-2ef1-438a-864c-b020adab6461",
   "metadata": {},
   "outputs": [
    {
     "data": {
      "text/plain": [
       "dict_items([(1, 'krishna'), (3, 'Mohan'), (5, 'Shyam'), (2, 'abc')])"
      ]
     },
     "execution_count": 7,
     "metadata": {},
     "output_type": "execute_result"
    }
   ],
   "source": [
    "a.items()"
   ]
  },
  {
   "cell_type": "code",
   "execution_count": 8,
   "id": "19a5bbb6-21bd-4711-9a16-fa445054e698",
   "metadata": {},
   "outputs": [
    {
     "data": {
      "text/plain": [
       "{1: 'krishna', 3: 'Mohan', 5: 'Shyam', 2: 'abc'}"
      ]
     },
     "execution_count": 8,
     "metadata": {},
     "output_type": "execute_result"
    }
   ],
   "source": [
    "a"
   ]
  },
  {
   "cell_type": "code",
   "execution_count": 9,
   "id": "001e6767-fbad-4f41-a8ae-d987141b0b76",
   "metadata": {},
   "outputs": [
    {
     "data": {
      "text/plain": [
       "'Mohan'"
      ]
     },
     "execution_count": 9,
     "metadata": {},
     "output_type": "execute_result"
    }
   ],
   "source": [
    "a[3]"
   ]
  },
  {
   "cell_type": "code",
   "execution_count": 10,
   "id": "f56ef5b7-e284-467a-94cb-ff2ccbb945f6",
   "metadata": {},
   "outputs": [
    {
     "data": {
      "text/plain": [
       "'abc'"
      ]
     },
     "execution_count": 10,
     "metadata": {},
     "output_type": "execute_result"
    }
   ],
   "source": [
    "a[2]"
   ]
  },
  {
   "cell_type": "code",
   "execution_count": 15,
   "id": "4c9a8593-b682-4f86-8b57-3dd1dddee656",
   "metadata": {},
   "outputs": [],
   "source": [
    "b={1: 'krishna', 3: 'Mohan', 5: 'Shyam', 2: 'abc',1:\"Vicky\"}"
   ]
  },
  {
   "cell_type": "code",
   "execution_count": 16,
   "id": "d3bbe867-837c-4ee8-9669-1ff9bbd776c5",
   "metadata": {},
   "outputs": [
    {
     "name": "stdout",
     "output_type": "stream",
     "text": [
      "{1: 'Vicky', 3: 'Mohan', 5: 'Shyam', 2: 'abc'}\n"
     ]
    }
   ],
   "source": [
    "print(b)"
   ]
  },
  {
   "cell_type": "code",
   "execution_count": 32,
   "id": "82447c86-e6df-4915-8987-2543de0ea2dc",
   "metadata": {},
   "outputs": [],
   "source": [
    "c={1:\"abc\",10.99:\"xyz\",\"10\":\"sky\",(10,):\"xyk\",frozenset({1,2,3}):\"dfdfd\"}"
   ]
  },
  {
   "cell_type": "code",
   "execution_count": 33,
   "id": "86abbddc-1451-49f2-a13b-eecd6c6744ec",
   "metadata": {},
   "outputs": [
    {
     "name": "stdout",
     "output_type": "stream",
     "text": [
      "{1: 'abc', 10.99: 'xyz', '10': 'sky', (10,): 'xyk', frozenset({1, 2, 3}): 'dfdfd'}\n"
     ]
    }
   ],
   "source": [
    "print(c)"
   ]
  },
  {
   "cell_type": "code",
   "execution_count": 34,
   "id": "38561ba1-a78a-4ef8-9d41-21470571cfad",
   "metadata": {},
   "outputs": [
    {
     "name": "stdout",
     "output_type": "stream",
     "text": [
      "{1: 'abc', 10.99: 'xyz', '10': 'sky', (10,): 'xyk', frozenset({1, 2, 3}): 'dfdfd'}\n"
     ]
    }
   ],
   "source": [
    "print(c)"
   ]
  },
  {
   "cell_type": "code",
   "execution_count": 35,
   "id": "c1dd93d2-00e5-462a-a73f-ce6a4504113a",
   "metadata": {},
   "outputs": [
    {
     "data": {
      "text/plain": [
       "dict_keys([1, 10.99, '10', (10,), frozenset({1, 2, 3})])"
      ]
     },
     "execution_count": 35,
     "metadata": {},
     "output_type": "execute_result"
    }
   ],
   "source": [
    "c.keys()"
   ]
  },
  {
   "cell_type": "code",
   "execution_count": 36,
   "id": "29b90246-2b8f-4e81-ad90-84b1fce7639a",
   "metadata": {},
   "outputs": [
    {
     "data": {
      "text/plain": [
       "'abc'"
      ]
     },
     "execution_count": 36,
     "metadata": {},
     "output_type": "execute_result"
    }
   ],
   "source": [
    "c[1]"
   ]
  },
  {
   "cell_type": "code",
   "execution_count": 37,
   "id": "8105c122-f31b-49a1-b87a-044a7325dd80",
   "metadata": {},
   "outputs": [
    {
     "ename": "KeyError",
     "evalue": "10",
     "output_type": "error",
     "traceback": [
      "\u001b[1;31m---------------------------------------------------------------------------\u001b[0m",
      "\u001b[1;31mKeyError\u001b[0m                                  Traceback (most recent call last)",
      "Cell \u001b[1;32mIn[37], line 1\u001b[0m\n\u001b[1;32m----> 1\u001b[0m \u001b[43mc\u001b[49m\u001b[43m[\u001b[49m\u001b[38;5;241;43m10\u001b[39;49m\u001b[43m]\u001b[49m\n",
      "\u001b[1;31mKeyError\u001b[0m: 10"
     ]
    }
   ],
   "source": [
    "c[10]"
   ]
  },
  {
   "cell_type": "code",
   "execution_count": 38,
   "id": "b75db0d0-d3b6-4844-93c8-d139e42752ae",
   "metadata": {},
   "outputs": [
    {
     "data": {
      "text/plain": [
       "'abc'"
      ]
     },
     "execution_count": 38,
     "metadata": {},
     "output_type": "execute_result"
    }
   ],
   "source": [
    "c.get(1)"
   ]
  },
  {
   "cell_type": "code",
   "execution_count": 39,
   "id": "cddab419-0d85-47b2-9cf4-e051385e3704",
   "metadata": {},
   "outputs": [],
   "source": [
    "c.get(10)"
   ]
  },
  {
   "cell_type": "code",
   "execution_count": 40,
   "id": "f9101cd9-cac6-4271-ba19-53effae1bbd2",
   "metadata": {},
   "outputs": [
    {
     "data": {
      "text/plain": [
       "'key is not available'"
      ]
     },
     "execution_count": 40,
     "metadata": {},
     "output_type": "execute_result"
    }
   ],
   "source": [
    "c.get(10,\"key is not available\")"
   ]
  },
  {
   "cell_type": "code",
   "execution_count": 41,
   "id": "107f3580-86ab-4c1c-824e-fe4f40d3e906",
   "metadata": {},
   "outputs": [
    {
     "data": {
      "text/plain": [
       "'abc'"
      ]
     },
     "execution_count": 41,
     "metadata": {},
     "output_type": "execute_result"
    }
   ],
   "source": [
    "c.get(1,\"key is not available\")"
   ]
  },
  {
   "cell_type": "code",
   "execution_count": 42,
   "id": "e47baded-f984-44e3-8370-a95a829c3b9b",
   "metadata": {},
   "outputs": [
    {
     "data": {
      "text/plain": [
       "'abc'"
      ]
     },
     "execution_count": 42,
     "metadata": {},
     "output_type": "execute_result"
    }
   ],
   "source": [
    "c.pop(1)"
   ]
  },
  {
   "cell_type": "code",
   "execution_count": 43,
   "id": "6b4478af-d939-49f0-98ab-51fb23593c1d",
   "metadata": {},
   "outputs": [
    {
     "name": "stdout",
     "output_type": "stream",
     "text": [
      "{10.99: 'xyz', '10': 'sky', (10,): 'xyk', frozenset({1, 2, 3}): 'dfdfd'}\n"
     ]
    }
   ],
   "source": [
    "print(c)"
   ]
  },
  {
   "cell_type": "code",
   "execution_count": 44,
   "id": "d962d1b3-f1e1-46fa-b42a-ce6832d00bd8",
   "metadata": {},
   "outputs": [
    {
     "ename": "TypeError",
     "evalue": "pop expected at least 1 argument, got 0",
     "output_type": "error",
     "traceback": [
      "\u001b[1;31m---------------------------------------------------------------------------\u001b[0m",
      "\u001b[1;31mTypeError\u001b[0m                                 Traceback (most recent call last)",
      "Cell \u001b[1;32mIn[44], line 1\u001b[0m\n\u001b[1;32m----> 1\u001b[0m \u001b[43mc\u001b[49m\u001b[38;5;241;43m.\u001b[39;49m\u001b[43mpop\u001b[49m\u001b[43m(\u001b[49m\u001b[43m)\u001b[49m\n",
      "\u001b[1;31mTypeError\u001b[0m: pop expected at least 1 argument, got 0"
     ]
    }
   ],
   "source": [
    "c.pop()"
   ]
  },
  {
   "cell_type": "code",
   "execution_count": 45,
   "id": "4018650a-9f18-4948-85df-0e64fb9a477c",
   "metadata": {},
   "outputs": [
    {
     "data": {
      "text/plain": [
       "(frozenset({1, 2, 3}), 'dfdfd')"
      ]
     },
     "execution_count": 45,
     "metadata": {},
     "output_type": "execute_result"
    }
   ],
   "source": [
    "c.popitem()"
   ]
  },
  {
   "cell_type": "code",
   "execution_count": 46,
   "id": "40b39d6d-893d-40ad-9475-488dbd98e8bc",
   "metadata": {},
   "outputs": [
    {
     "name": "stdout",
     "output_type": "stream",
     "text": [
      "{10.99: 'xyz', '10': 'sky', (10,): 'xyk'}\n"
     ]
    }
   ],
   "source": [
    "print(c)"
   ]
  },
  {
   "cell_type": "code",
   "execution_count": 47,
   "id": "32aefd70-a58b-4656-9174-f33a0629e706",
   "metadata": {},
   "outputs": [],
   "source": [
    "c.clear()"
   ]
  },
  {
   "cell_type": "code",
   "execution_count": 48,
   "id": "59d7cb50-6560-499f-a4a4-28d89283338a",
   "metadata": {},
   "outputs": [
    {
     "name": "stdout",
     "output_type": "stream",
     "text": [
      "{}\n"
     ]
    }
   ],
   "source": [
    "print(c)"
   ]
  },
  {
   "cell_type": "code",
   "execution_count": 49,
   "id": "f65cf024-5da8-4be9-b329-12313086845f",
   "metadata": {},
   "outputs": [],
   "source": [
    "c.update({1: 'krishna', 3: 'Mohan', 5: 'Shyam', 2: 'abc',1:\"Vicky\"})"
   ]
  },
  {
   "cell_type": "code",
   "execution_count": 50,
   "id": "e82c9dd5-4721-49eb-b950-bc9b5d3827c0",
   "metadata": {},
   "outputs": [
    {
     "name": "stdout",
     "output_type": "stream",
     "text": [
      "{1: 'Vicky', 3: 'Mohan', 5: 'Shyam', 2: 'abc'}\n"
     ]
    }
   ],
   "source": [
    "print(c)"
   ]
  },
  {
   "cell_type": "code",
   "execution_count": 51,
   "id": "975e864f-16ca-4781-84ee-3daf7337f95e",
   "metadata": {},
   "outputs": [],
   "source": [
    "c.update({10:\"Vicky\"})"
   ]
  },
  {
   "cell_type": "code",
   "execution_count": 52,
   "id": "2d21ab18-13fc-4bba-864c-e36cb592df31",
   "metadata": {},
   "outputs": [
    {
     "name": "stdout",
     "output_type": "stream",
     "text": [
      "{1: 'Vicky', 3: 'Mohan', 5: 'Shyam', 2: 'abc', 10: 'Vicky'}\n"
     ]
    }
   ],
   "source": [
    "print(c)"
   ]
  },
  {
   "cell_type": "code",
   "execution_count": 53,
   "id": "3ea5a471-4192-4f1e-84db-96c56b1b5f10",
   "metadata": {},
   "outputs": [],
   "source": [
    "d=c.copy()"
   ]
  },
  {
   "cell_type": "code",
   "execution_count": 54,
   "id": "58c03d81-2cbe-4655-bee1-b08a4028d76e",
   "metadata": {},
   "outputs": [
    {
     "name": "stdout",
     "output_type": "stream",
     "text": [
      "{1: 'Vicky', 3: 'Mohan', 5: 'Shyam', 2: 'abc', 10: 'Vicky'}\n"
     ]
    }
   ],
   "source": [
    "print(d)"
   ]
  },
  {
   "cell_type": "code",
   "execution_count": 55,
   "id": "e48b20b8-4f51-4c7e-9987-d1b5f1c22c3a",
   "metadata": {},
   "outputs": [
    {
     "name": "stdout",
     "output_type": "stream",
     "text": [
      "2178219018048\n"
     ]
    }
   ],
   "source": [
    "print(id(c))"
   ]
  },
  {
   "cell_type": "code",
   "execution_count": 56,
   "id": "9cc52bc9-d4ad-4d17-9051-22872a276387",
   "metadata": {},
   "outputs": [
    {
     "name": "stdout",
     "output_type": "stream",
     "text": [
      "2178244686848\n"
     ]
    }
   ],
   "source": [
    "print(id(d))"
   ]
  },
  {
   "cell_type": "code",
   "execution_count": 57,
   "id": "a9584f8c-6a56-4efa-9412-530b65df9a4a",
   "metadata": {},
   "outputs": [],
   "source": [
    "d.update({11:\"krishna\"})"
   ]
  },
  {
   "cell_type": "code",
   "execution_count": 58,
   "id": "728b5887-dc8d-4c4b-9d18-a8201455c446",
   "metadata": {},
   "outputs": [
    {
     "name": "stdout",
     "output_type": "stream",
     "text": [
      "{1: 'Vicky', 3: 'Mohan', 5: 'Shyam', 2: 'abc', 10: 'Vicky', 11: 'krishna'}\n"
     ]
    }
   ],
   "source": [
    "print(d)"
   ]
  },
  {
   "cell_type": "code",
   "execution_count": 59,
   "id": "bad1fd3b-d834-4449-a74c-971a22911b21",
   "metadata": {},
   "outputs": [
    {
     "name": "stdout",
     "output_type": "stream",
     "text": [
      "{1: 'Vicky', 3: 'Mohan', 5: 'Shyam', 2: 'abc', 10: 'Vicky'}\n"
     ]
    }
   ],
   "source": [
    "print(c)"
   ]
  },
  {
   "cell_type": "code",
   "execution_count": 60,
   "id": "468fa8cb-2f30-4e10-9a32-1691e3642615",
   "metadata": {},
   "outputs": [],
   "source": [
    "c.setdefault(12)"
   ]
  },
  {
   "cell_type": "code",
   "execution_count": 61,
   "id": "3444e7fa-ecd8-4538-b398-73cf2b90fc0a",
   "metadata": {},
   "outputs": [
    {
     "name": "stdout",
     "output_type": "stream",
     "text": [
      "{1: 'Vicky', 3: 'Mohan', 5: 'Shyam', 2: 'abc', 10: 'Vicky', 12: None}\n"
     ]
    }
   ],
   "source": [
    "print(c)"
   ]
  },
  {
   "cell_type": "code",
   "execution_count": 62,
   "id": "fcb43064-4d6b-484e-80ba-9d25bbd236c3",
   "metadata": {},
   "outputs": [],
   "source": [
    "d={}"
   ]
  },
  {
   "cell_type": "code",
   "execution_count": 64,
   "id": "ae9aed58-356c-4521-8446-1457e0bf43ad",
   "metadata": {},
   "outputs": [],
   "source": [
    "e=d.fromkeys([1,2,3,4,5,6,7,8,9,10],\"available\")"
   ]
  },
  {
   "cell_type": "code",
   "execution_count": 65,
   "id": "50200df9-79cc-44ad-9efb-bf5e5d545ece",
   "metadata": {},
   "outputs": [
    {
     "data": {
      "text/plain": [
       "{1: 'available',\n",
       " 2: 'available',\n",
       " 3: 'available',\n",
       " 4: 'available',\n",
       " 5: 'available',\n",
       " 6: 'available',\n",
       " 7: 'available',\n",
       " 8: 'available',\n",
       " 9: 'available',\n",
       " 10: 'available'}"
      ]
     },
     "execution_count": 65,
     "metadata": {},
     "output_type": "execute_result"
    }
   ],
   "source": [
    "e"
   ]
  },
  {
   "cell_type": "code",
   "execution_count": 67,
   "id": "b655fb3e-8ff1-4006-ad74-2e74da4b4117",
   "metadata": {},
   "outputs": [],
   "source": [
    "e.update({4:\"krishna\"})"
   ]
  },
  {
   "cell_type": "code",
   "execution_count": 68,
   "id": "053e8bd5-ad26-495a-9452-024b0d8748b8",
   "metadata": {},
   "outputs": [
    {
     "name": "stdout",
     "output_type": "stream",
     "text": [
      "{1: 'available', 2: 'available', 3: 'available', 4: 'krishna', 5: 'available', 6: 'available', 7: 'available', 8: 'available', 9: 'available', 10: 'available'}\n"
     ]
    }
   ],
   "source": [
    "print(e)"
   ]
  },
  {
   "cell_type": "code",
   "execution_count": 69,
   "id": "627487b7-a4df-4397-b36b-96c04f502f3c",
   "metadata": {},
   "outputs": [],
   "source": [
    "e[2]=\"Mohan\""
   ]
  },
  {
   "cell_type": "code",
   "execution_count": 70,
   "id": "9f1c8dbd-1453-4bd2-bce8-12be0f5de440",
   "metadata": {},
   "outputs": [
    {
     "name": "stdout",
     "output_type": "stream",
     "text": [
      "{1: 'available', 2: 'Mohan', 3: 'available', 4: 'krishna', 5: 'available', 6: 'available', 7: 'available', 8: 'available', 9: 'available', 10: 'available'}\n"
     ]
    }
   ],
   "source": [
    "print(e)"
   ]
  },
  {
   "cell_type": "code",
   "execution_count": null,
   "id": "ae5319d1-9f07-4359-8671-5bbf88300b68",
   "metadata": {},
   "outputs": [],
   "source": []
  }
 ],
 "metadata": {
  "kernelspec": {
   "display_name": "Python 3 (ipykernel)",
   "language": "python",
   "name": "python3"
  },
  "language_info": {
   "codemirror_mode": {
    "name": "ipython",
    "version": 3
   },
   "file_extension": ".py",
   "mimetype": "text/x-python",
   "name": "python",
   "nbconvert_exporter": "python",
   "pygments_lexer": "ipython3",
   "version": "3.11.4"
  }
 },
 "nbformat": 4,
 "nbformat_minor": 5
}
