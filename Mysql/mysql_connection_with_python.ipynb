{
 "cells": [
  {
   "cell_type": "code",
   "execution_count": 1,
   "id": "2453101e-c332-456c-9091-6bab12f8f6bb",
   "metadata": {
    "tags": []
   },
   "outputs": [],
   "source": [
    "#pip install mysql-connector-python"
   ]
  },
  {
   "cell_type": "code",
   "execution_count": 2,
   "id": "e6425bfc-121a-487b-9314-2b7fa7d0c606",
   "metadata": {
    "tags": []
   },
   "outputs": [],
   "source": [
    "import mysql.connector as sql"
   ]
  },
  {
   "cell_type": "code",
   "execution_count": 3,
   "id": "675b6d7a-da9b-4a86-8abd-dd8329e63d95",
   "metadata": {
    "tags": []
   },
   "outputs": [],
   "source": [
    "krishna=sql.connect(host=\"localhost\",port=3306,user=\"root\",password=\"root\",db=\"we10\")"
   ]
  },
  {
   "cell_type": "code",
   "execution_count": 4,
   "id": "ede80256-d8ab-4e5e-9deb-f0d9d696ba12",
   "metadata": {
    "tags": []
   },
   "outputs": [],
   "source": [
    "car=krishna.cursor()"
   ]
  },
  {
   "cell_type": "code",
   "execution_count": 5,
   "id": "01b172aa-af8a-4d30-a8c7-95a959da8c84",
   "metadata": {
    "tags": []
   },
   "outputs": [],
   "source": [
    "car.execute(\"show tables\")"
   ]
  },
  {
   "cell_type": "code",
   "execution_count": 6,
   "id": "f7965d20-9e0e-417c-a8ee-5444486b8702",
   "metadata": {
    "tags": []
   },
   "outputs": [
    {
     "name": "stdout",
     "output_type": "stream",
     "text": [
      "('college',)\n",
      "('counting',)\n",
      "('eb',)\n",
      "('hostel',)\n",
      "('library',)\n",
      "('pg',)\n",
      "('timetable',)\n"
     ]
    }
   ],
   "source": [
    "for i in car:\n",
    "    print(i)"
   ]
  },
  {
   "cell_type": "code",
   "execution_count": 7,
   "id": "75fb9b95-634d-4b74-9ab3-0bc8b107acae",
   "metadata": {
    "tags": []
   },
   "outputs": [],
   "source": [
    "car.execute(\"select * from counting\")"
   ]
  },
  {
   "cell_type": "code",
   "execution_count": 8,
   "id": "e4b57e37-3e30-411d-a7b8-0cecea675559",
   "metadata": {
    "tags": []
   },
   "outputs": [
    {
     "name": "stdout",
     "output_type": "stream",
     "text": [
      "('Krishna', 'Ram', 'Sita', 'Ballia,UP')\n",
      "('Krishna', 'Sunil', 'Suman', 'Ballia,UP')\n",
      "('Vishnu', 'Sunil', 'Suman', 'Ballia,UP')\n"
     ]
    }
   ],
   "source": [
    "for i in car:\n",
    "    print(i)"
   ]
  },
  {
   "cell_type": "code",
   "execution_count": 9,
   "id": "d6f3c0ce-a65f-4195-9fbf-c089c27d8b27",
   "metadata": {
    "tags": []
   },
   "outputs": [],
   "source": [
    "car.execute(\"select * from eb\")"
   ]
  },
  {
   "cell_type": "code",
   "execution_count": 10,
   "id": "f2c9c44c-7fba-4614-85a0-92a22c186684",
   "metadata": {
    "tags": []
   },
   "outputs": [
    {
     "name": "stdout",
     "output_type": "stream",
     "text": [
      "(8700103696, 'Krishna', 5000.78, 1234567890321, 'EVCPK3245K')\n",
      "(32423, 'a', 342.0, 2314234, 'EVCPK3245K')\n",
      "(46556, 'b', 4324.54, 123143, 'EVCPK3245K')\n",
      "(3247623, 'c', 2000.0, 234314234, 'DFS65345h')\n",
      "(4655326, 'd', 2000.0, 123143, 'DSF32454J')\n"
     ]
    }
   ],
   "source": [
    "for i in car:\n",
    "    print(i)"
   ]
  },
  {
   "cell_type": "code",
   "execution_count": 11,
   "id": "4b6207f1-739c-4985-9f5e-712fcc900528",
   "metadata": {
    "tags": []
   },
   "outputs": [],
   "source": [
    "car.execute(\"desc eb\")"
   ]
  },
  {
   "cell_type": "code",
   "execution_count": 12,
   "id": "d95b1c73-d1ac-43b9-83ea-a3f63f2f4a81",
   "metadata": {
    "tags": []
   },
   "outputs": [
    {
     "name": "stdout",
     "output_type": "stream",
     "text": [
      "('ac_no', b'bigint', 'YES', '', None, '')\n",
      "('name', b'varchar(100)', 'YES', '', None, '')\n",
      "('bill', b'float', 'YES', '', None, '')\n",
      "('aadhar_card', b'bigint', 'YES', '', None, '')\n",
      "('pencard', b'char(10)', 'YES', '', None, '')\n"
     ]
    }
   ],
   "source": [
    "for i in car:\n",
    "    print(i)"
   ]
  },
  {
   "cell_type": "code",
   "execution_count": 13,
   "id": "a8ff68bf-329c-4820-86de-986a5d9e5dc4",
   "metadata": {
    "tags": []
   },
   "outputs": [],
   "source": [
    "car.execute(\"select * from eb order by bill desc limit 1,1\")"
   ]
  },
  {
   "cell_type": "code",
   "execution_count": 14,
   "id": "6a07167e-23d2-4215-817a-ffdcdf2c8598",
   "metadata": {
    "tags": []
   },
   "outputs": [
    {
     "name": "stdout",
     "output_type": "stream",
     "text": [
      "(46556, 'b', 4324.54, 123143, 'EVCPK3245K')\n"
     ]
    }
   ],
   "source": [
    "for i in car:\n",
    "    print(i)"
   ]
  },
  {
   "cell_type": "code",
   "execution_count": 15,
   "id": "50e0d28f-c6b2-4ee5-a2d5-ad0ab3f70199",
   "metadata": {
    "tags": []
   },
   "outputs": [
    {
     "data": {
      "text/plain": [
       "<mysql.connector.cursor_cext.CMySQLCursor at 0x1787ed6d910>"
      ]
     },
     "execution_count": 15,
     "metadata": {},
     "output_type": "execute_result"
    }
   ],
   "source": [
    "car"
   ]
  },
  {
   "cell_type": "code",
   "execution_count": null,
   "id": "a5ef1a83-26a0-4eea-8202-f4bd150bf1e8",
   "metadata": {},
   "outputs": [],
   "source": []
  }
 ],
 "metadata": {
  "kernelspec": {
   "display_name": "Python 3 (ipykernel)",
   "language": "python",
   "name": "python3"
  },
  "language_info": {
   "codemirror_mode": {
    "name": "ipython",
    "version": 3
   },
   "file_extension": ".py",
   "mimetype": "text/x-python",
   "name": "python",
   "nbconvert_exporter": "python",
   "pygments_lexer": "ipython3",
   "version": "3.11.5"
  }
 },
 "nbformat": 4,
 "nbformat_minor": 5
}
